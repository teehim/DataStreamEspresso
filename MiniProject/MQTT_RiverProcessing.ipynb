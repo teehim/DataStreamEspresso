{
  "cells": [
    {
      "cell_type": "code",
      "execution_count": 1,
      "metadata": {
        "colab": {
          "base_uri": "https://localhost:8080/"
        },
        "id": "PllVswL2nWQj",
        "outputId": "10dd13fc-8e82-4361-976a-549fd1dfe8f3"
      },
      "outputs": [
        {
          "name": "stdout",
          "output_type": "stream",
          "text": [
            "Requirement already satisfied: paho-mqtt in c:\\users\\boomt\\appdata\\local\\programs\\python\\python38\\lib\\site-packages (1.2.3)\n"
          ]
        },
        {
          "name": "stderr",
          "output_type": "stream",
          "text": [
            "WARNING: You are using pip version 20.2.3; however, version 21.3.1 is available.\n",
            "You should consider upgrading via the 'c:\\users\\boomt\\appdata\\local\\programs\\python\\python38\\python.exe -m pip install --upgrade pip' command.\n"
          ]
        }
      ],
      "source": [
        "!pip install paho-mqtt"
      ]
    },
    {
      "cell_type": "code",
      "execution_count": 2,
      "metadata": {
        "id": "sXOu8YUKnt7R"
      },
      "outputs": [
        {
          "name": "stdout",
          "output_type": "stream",
          "text": [
            "Requirement already satisfied: river in c:\\users\\boomt\\appdata\\local\\programs\\python\\python38\\lib\\site-packages (0.8.0)\n",
            "Requirement already satisfied: scipy>=1.4.1 in c:\\users\\boomt\\appdata\\local\\programs\\python\\python38\\lib\\site-packages (from river) (1.7.2)\n",
            "Requirement already satisfied: numpy>=1.18.1 in c:\\users\\boomt\\appdata\\local\\programs\\python\\python38\\lib\\site-packages (from river) (1.21.4)\n",
            "Requirement already satisfied: pandas>=1.0.1 in c:\\users\\boomt\\appdata\\local\\programs\\python\\python38\\lib\\site-packages (from river) (1.3.4)\n",
            "Requirement already satisfied: pytz>=2017.3 in c:\\users\\boomt\\appdata\\local\\programs\\python\\python38\\lib\\site-packages (from pandas>=1.0.1->river) (2021.3)\n",
            "Requirement already satisfied: python-dateutil>=2.7.3 in c:\\users\\boomt\\appdata\\local\\programs\\python\\python38\\lib\\site-packages (from pandas>=1.0.1->river) (2.8.2)\n",
            "Requirement already satisfied: six>=1.5 in c:\\users\\boomt\\appdata\\local\\programs\\python\\python38\\lib\\site-packages (from python-dateutil>=2.7.3->pandas>=1.0.1->river) (1.16.0)\n"
          ]
        },
        {
          "name": "stderr",
          "output_type": "stream",
          "text": [
            "WARNING: You are using pip version 20.2.3; however, version 21.3.1 is available.\n",
            "You should consider upgrading via the 'c:\\users\\boomt\\appdata\\local\\programs\\python\\python38\\python.exe -m pip install --upgrade pip' command.\n"
          ]
        }
      ],
      "source": [
        "!pip install river"
      ]
    },
    {
      "cell_type": "code",
      "execution_count": 3,
      "metadata": {
        "colab": {
          "base_uri": "https://localhost:8080/",
          "height": 346
        },
        "id": "eCaeoM-6wFCo",
        "outputId": "2c438e4d-a48a-41a8-d908-e7275f4392c5"
      },
      "outputs": [
        {
          "name": "stdout",
          "output_type": "stream",
          "text": [
            "Requirement already up-to-date: numpy in c:\\users\\boomt\\appdata\\local\\programs\\python\\python38\\lib\\site-packages (1.21.4)\n"
          ]
        },
        {
          "name": "stderr",
          "output_type": "stream",
          "text": [
            "WARNING: You are using pip version 20.2.3; however, version 21.3.1 is available.\n",
            "You should consider upgrading via the 'c:\\users\\boomt\\appdata\\local\\programs\\python\\python38\\python.exe -m pip install --upgrade pip' command.\n"
          ]
        }
      ],
      "source": [
        "!pip install -U numpy"
      ]
    },
    {
      "cell_type": "markdown",
      "metadata": {
        "id": "6WxvDssQvsdw"
      },
      "source": [
        "# Import Library"
      ]
    },
    {
      "cell_type": "code",
      "execution_count": 1,
      "metadata": {
        "id": "pKZSUcdhvwAV"
      },
      "outputs": [],
      "source": [
        "import joblib\n",
        "from river import tree\n",
        "from river import evaluate\n",
        "from river import metrics\n",
        "import paho.mqtt.client as mqtt\n"
      ]
    },
    {
      "cell_type": "markdown",
      "metadata": {},
      "source": [
        "# Activity Prediction"
      ]
    },
    {
      "cell_type": "code",
      "execution_count": 2,
      "metadata": {},
      "outputs": [],
      "source": [
        "currentActivity = ''\n",
        "currentActivityTimeStamp = 0\n",
        "idleTime = 15"
      ]
    },
    {
      "cell_type": "code",
      "execution_count": 3,
      "metadata": {
        "id": "NREdTL4ztYAu"
      },
      "outputs": [],
      "source": [
        "hoeffding_tree = joblib.load('./model.h5')\n",
        "decision_tree = joblib.load('./decisionTreeModel.h5')\n",
        "LABELS = {0: 'Sit', 1: 'Sleep with turning face up', 2: 'Sleep Left side'}\n",
        "\n",
        "def predictionByDecisionTree(timeStamp, accX, accY, accZ, pitch, yaw, roll):\n",
        "  global currentActivity\n",
        "  global currentActivityTimeStamp\n",
        "  \n",
        "  X = [[accX,accY,accZ,pitch, yaw, roll]]\n",
        "  y = decision_tree.predict(X)\n",
        "  \n",
        "  activityClass = LABELS[y[0]]\n",
        "\n",
        "  diffTimeStamp = timeStamp - currentActivityTimeStamp\n",
        "  \n",
        "  if currentActivity == activityClass and diffTimeStamp > idleTime:\n",
        "    alertMoveToMobile()\n",
        "    currentActivity = ''\n",
        "    currentActivityTimeStamp = 0\n",
        "  elif currentActivity == '':\n",
        "    currentActivity = activityClass\n",
        "    currentActivityTimeStamp = timeStamp\n",
        "  elif currentActivity != activityClass:\n",
        "    currentActivity = activityClass\n",
        "    currentActivityTimeStamp = timeStamp\n",
        "\n",
        "  publishActivityToMobile(activityClass)\n",
        "\n",
        "\n",
        "def predictByHoeffding(accX, accY, accZ, pitch, yaw, roll):\n",
        "  X = {0:accX, 1:accY, 2:accZ, 3:pitch, 4:yaw, 5:roll}\n",
        "  print(X)\n",
        "  y = hoeffding_tree.predict_one(X)\n",
        "  publishActivityToMobile(LABELS[y])\n",
        "  "
      ]
    },
    {
      "cell_type": "markdown",
      "metadata": {},
      "source": [
        "# Fall detection"
      ]
    },
    {
      "cell_type": "code",
      "execution_count": 4,
      "metadata": {},
      "outputs": [],
      "source": [
        "currentSensor = {}\n",
        "threshold = 3"
      ]
    },
    {
      "cell_type": "code",
      "execution_count": 5,
      "metadata": {},
      "outputs": [],
      "source": [
        "def fallDetection(accX, accY, accZ, gyroX, gyroY, gyroZ):\n",
        "    global currentSensor\n",
        "    X = {0:accX, 1:accY, 2:accZ, 3:gyroX, 4:gyroY, 5:gyroZ}\n",
        "\n",
        "    has_items = bool(currentSensor)\n",
        "    if has_items == False:\n",
        "        currentSensor = X\n",
        "    else:\n",
        "        \n",
        "        diffAccX = abs(accX) - abs(currentSensor[0])\n",
        "        diffAccY = abs(accY) - abs(currentSensor[1])\n",
        "        diffAccZ = abs(accZ) - abs(currentSensor[2])\n",
        "        diffGyroX = abs(gyroX) - abs(currentSensor[3])\n",
        "        diffGyroY = abs(gyroY) - abs(currentSensor[4])\n",
        "        diffGyroZ = abs(gyroZ) - abs(currentSensor[5])\n",
        "\n",
        "        print(f'{diffAccX}, {diffAccY}, {diffAccZ}, {diffGyroX}, {diffGyroY}, {diffGyroZ}')\n",
        "        if diffAccX > threshold or diffAccY > threshold or diffAccZ > threshold or diffGyroX > threshold or diffGyroY > threshold or diffGyroZ > threshold:\n",
        "            alertFallingToMobile()\n",
        "\n",
        "    currentSensor = X\n"
      ]
    },
    {
      "cell_type": "markdown",
      "metadata": {},
      "source": [
        "# Handle MQTT event"
      ]
    },
    {
      "cell_type": "code",
      "execution_count": 6,
      "metadata": {},
      "outputs": [],
      "source": [
        "def write_file(message):\n",
        "    \"\"\"\n",
        "    this function write chat message to file\n",
        "    \"\"\"\n",
        "    \n",
        "    file_name = \"D:\\\\BADS7205_RealTime\\\\Patient\\\\sleep-left-dataset.csv\"\n",
        "    with open(file_name, 'a') as x_file:\n",
        "        x_file.write('{}\\n'.format(message.encode('utf-8')))\n",
        "\n",
        "def delivery_report(err, msg):\n",
        "    \"\"\" Called once for each message produced to indicate delivery result. \n",
        "        Triggered by poll() or flush(). \"\"\"\n",
        "    if err is not None:\n",
        "        print('Message delivery failed: {}'.format(err))\n",
        "    else:\n",
        "        print('Message delivered to {} [{}]'.format(msg.topic(), msg.partition()))\n",
        "\n",
        "def on_connect(client, userdata, flags, rc):\n",
        "    print(\"rc: \" + str(rc))\n",
        " \n",
        "def on_message(client, obj, msg):\n",
        "    datas = msg.payload.decode(\"utf-8\").split(',')\n",
        "\n",
        "    if len(datas) >= 11:\n",
        "        timestamp = float(datas[0])\n",
        "        accX = float(datas[1])\n",
        "        accY = float(datas[2])\n",
        "        accZ = float(datas[3])\n",
        "        gyroX = float(datas[4])\n",
        "        gyroY = float(datas[5])\n",
        "        gyroZ = float(datas[6])\n",
        "        pitch = float(datas[7])\n",
        "        yaw = float(datas[8])\n",
        "        roll = float(datas[9])\n",
        "        predictionByDecisionTree(timestamp, accX, accY, accZ, pitch, yaw, roll)\n",
        "        fallDetection(accX, accY, accZ, gyroX, gyroY, gyroZ)\n",
        " \n",
        "def on_publish(client, obj, mid):\n",
        "    print(\"mid: \" + str(mid))\n",
        " \n",
        "def on_subscribe(client, obj, mid, granted_qos):\n",
        "    print(\"Subscribed: \" + str(mid) + \" \" + str(granted_qos))\n",
        " \n",
        "def on_log(client, obj, level, string):\n",
        "    print(string)"
      ]
    },
    {
      "cell_type": "markdown",
      "metadata": {},
      "source": [
        "# Publish MQTT to mobile"
      ]
    },
    {
      "cell_type": "code",
      "execution_count": 7,
      "metadata": {},
      "outputs": [],
      "source": [
        "import paho.mqtt.publish as publish\n",
        "\n",
        "def alertMoveToMobile():\n",
        "    mqttc.publish(\"alertMove\", \"move\")\n",
        "\n",
        "def alertFallingToMobile():\n",
        "    mqttc.publish(\"alertFalling\", \"fall\")\n",
        "\n",
        "def publishActivityToMobile(activity):\n",
        "    mqttc.publish(\"activity\", activity)"
      ]
    },
    {
      "cell_type": "markdown",
      "metadata": {},
      "source": [
        "# Conect MQTT"
      ]
    },
    {
      "cell_type": "code",
      "execution_count": 8,
      "metadata": {},
      "outputs": [
        {
          "name": "stdout",
          "output_type": "stream",
          "text": [
            "rc: 0\n",
            "Subscribed: 1 (0,)\n"
          ]
        },
        {
          "name": "stderr",
          "output_type": "stream",
          "text": [
            "C:\\Users\\boomt\\AppData\\Local\\Programs\\Python\\Python38\\lib\\site-packages\\sklearn\\base.py:445: UserWarning: X does not have valid feature names, but DecisionTreeClassifier was fitted with feature names\n",
            "  warnings.warn(\n",
            "C:\\Users\\boomt\\AppData\\Local\\Programs\\Python\\Python38\\lib\\site-packages\\sklearn\\base.py:445: UserWarning: X does not have valid feature names, but DecisionTreeClassifier was fitted with feature names\n",
            "  warnings.warn(\n"
          ]
        },
        {
          "name": "stdout",
          "output_type": "stream",
          "text": [
            "mid: 2\n",
            "-0.2880401611328125, 0.1988983154296875, 0.0827789306640625, -0.21956404975547372, 0.5240874656583283, 1.9284458117031968\n",
            "mid: 3\n",
            "0.0379791259765625, 0.2067413330078125, -0.206695556640625, -0.7465303925521779, -0.797387714624985, -2.441334152345524\n",
            "mid: 4\n",
            "0.0, 0.0, 0.0, 0.21783512557579435, 0.061842062621057015, 0.20957346724215054\n",
            "mid: 5\n"
          ]
        },
        {
          "name": "stderr",
          "output_type": "stream",
          "text": [
            "C:\\Users\\boomt\\AppData\\Local\\Programs\\Python\\Python38\\lib\\site-packages\\sklearn\\base.py:445: UserWarning: X does not have valid feature names, but DecisionTreeClassifier was fitted with feature names\n",
            "  warnings.warn(\n",
            "C:\\Users\\boomt\\AppData\\Local\\Programs\\Python\\Python38\\lib\\site-packages\\sklearn\\base.py:445: UserWarning: X does not have valid feature names, but DecisionTreeClassifier was fitted with feature names\n",
            "  warnings.warn(\n",
            "C:\\Users\\boomt\\AppData\\Local\\Programs\\Python\\Python38\\lib\\site-packages\\sklearn\\base.py:445: UserWarning: X does not have valid feature names, but DecisionTreeClassifier was fitted with feature names\n",
            "  warnings.warn(\n",
            "C:\\Users\\boomt\\AppData\\Local\\Programs\\Python\\Python38\\lib\\site-packages\\sklearn\\base.py:445: UserWarning: X does not have valid feature names, but DecisionTreeClassifier was fitted with feature names\n",
            "  warnings.warn(\n"
          ]
        },
        {
          "name": "stdout",
          "output_type": "stream",
          "text": [
            "0.0011444091796875, -0.0033416748046875, 0.00299072265625, -0.2040841596032792, -0.06818837549871584, -0.2096123493940657\n",
            "mid: 6\n",
            "0.0, 0.0, 0.0, 0.055231297847153325, 0.09608019422733372, 0.17626690938518355\n",
            "mid: 7\n"
          ]
        },
        {
          "name": "stderr",
          "output_type": "stream",
          "text": [
            "C:\\Users\\boomt\\AppData\\Local\\Programs\\Python\\Python38\\lib\\site-packages\\sklearn\\base.py:445: UserWarning: X does not have valid feature names, but DecisionTreeClassifier was fitted with feature names\n",
            "  warnings.warn(\n",
            "C:\\Users\\boomt\\AppData\\Local\\Programs\\Python\\Python38\\lib\\site-packages\\sklearn\\base.py:445: UserWarning: X does not have valid feature names, but DecisionTreeClassifier was fitted with feature names\n",
            "  warnings.warn(\n"
          ]
        },
        {
          "name": "stdout",
          "output_type": "stream",
          "text": [
            "-0.042938232421875, 0.0062103271484375, 0.1016998291015625, 0.25020904441901554, 1.2055754749075012, 0.1724772311540008\n",
            "mid: 8\n",
            "0.06915283203125, -0.017730712890625, 0.092559814453125, 0.3127467247168013, -0.7115612232266745, -0.16313006836004068\n",
            "mid: 9\n"
          ]
        },
        {
          "name": "stderr",
          "output_type": "stream",
          "text": [
            "C:\\Users\\boomt\\AppData\\Local\\Programs\\Python\\Python38\\lib\\site-packages\\sklearn\\base.py:445: UserWarning: X does not have valid feature names, but DecisionTreeClassifier was fitted with feature names\n",
            "  warnings.warn(\n",
            "C:\\Users\\boomt\\AppData\\Local\\Programs\\Python\\Python38\\lib\\site-packages\\sklearn\\base.py:445: UserWarning: X does not have valid feature names, but DecisionTreeClassifier was fitted with feature names\n",
            "  warnings.warn(\n"
          ]
        },
        {
          "name": "stdout",
          "output_type": "stream",
          "text": [
            "-0.031890869140625, -0.124053955078125, 0.0278778076171875, 0.3052331483333607, 0.6099903897799243, 0.3678254234334931\n",
            "mid: 10\n",
            "0.0, 0.0, 0.0, -0.7291777675214395, -0.7103553438850865, -0.12565726129375376\n",
            "mid: 11\n"
          ]
        },
        {
          "name": "stderr",
          "output_type": "stream",
          "text": [
            "C:\\Users\\boomt\\AppData\\Local\\Programs\\Python\\Python38\\lib\\site-packages\\sklearn\\base.py:445: UserWarning: X does not have valid feature names, but DecisionTreeClassifier was fitted with feature names\n",
            "  warnings.warn(\n",
            "C:\\Users\\boomt\\AppData\\Local\\Programs\\Python\\Python38\\lib\\site-packages\\sklearn\\base.py:445: UserWarning: X does not have valid feature names, but DecisionTreeClassifier was fitted with feature names\n",
            "  warnings.warn(\n"
          ]
        },
        {
          "name": "stdout",
          "output_type": "stream",
          "text": [
            "0.1240234375, 0.1207733154296875, -0.24053955078125, -0.14577078542657718, -0.33725313306771043, -0.3158114904992645\n",
            "mid: 12\n",
            "-0.0186767578125, 0.0189208984375, 0.09893798828125, 0.4216537680183926, 0.23983443407650287, 0.5237146231057174\n",
            "mid: 13\n"
          ]
        },
        {
          "name": "stderr",
          "output_type": "stream",
          "text": [
            "C:\\Users\\boomt\\AppData\\Local\\Programs\\Python\\Python38\\lib\\site-packages\\sklearn\\base.py:445: UserWarning: X does not have valid feature names, but DecisionTreeClassifier was fitted with feature names\n",
            "  warnings.warn(\n",
            "C:\\Users\\boomt\\AppData\\Local\\Programs\\Python\\Python38\\lib\\site-packages\\sklearn\\base.py:445: UserWarning: X does not have valid feature names, but DecisionTreeClassifier was fitted with feature names\n",
            "  warnings.warn(\n"
          ]
        },
        {
          "name": "stdout",
          "output_type": "stream",
          "text": [
            "-0.08233642578125, 0.0474395751953125, -0.01983642578125, -0.4432916855591774, -0.3424641403726685, -0.633738862484597\n",
            "mid: 14\n",
            "0.0, 0.0, 0.0, 0.4239472823491689, 0.2100022361776533, 0.06381653025324176\n",
            "mid: 15\n"
          ]
        },
        {
          "name": "stderr",
          "output_type": "stream",
          "text": [
            "C:\\Users\\boomt\\AppData\\Local\\Programs\\Python\\Python38\\lib\\site-packages\\sklearn\\base.py:445: UserWarning: X does not have valid feature names, but DecisionTreeClassifier was fitted with feature names\n",
            "  warnings.warn(\n",
            "C:\\Users\\boomt\\AppData\\Local\\Programs\\Python\\Python38\\lib\\site-packages\\sklearn\\base.py:445: UserWarning: X does not have valid feature names, but DecisionTreeClassifier was fitted with feature names\n",
            "  warnings.warn(\n"
          ]
        },
        {
          "name": "stdout",
          "output_type": "stream",
          "text": [
            "-0.055816650390625, -0.02972412109375, -0.06396484375, -0.38498203980800155, -0.23121431426013442, 0.4321327742756364\n",
            "mid: 16\n",
            "0.0, 0.0, 0.0, 0.018066085886770528, 0.40245903446164655, -0.3329446710561802\n",
            "mid: 17\n"
          ]
        },
        {
          "name": "stderr",
          "output_type": "stream",
          "text": [
            "C:\\Users\\boomt\\AppData\\Local\\Programs\\Python\\Python38\\lib\\site-packages\\sklearn\\base.py:445: UserWarning: X does not have valid feature names, but DecisionTreeClassifier was fitted with feature names\n",
            "  warnings.warn(\n",
            "C:\\Users\\boomt\\AppData\\Local\\Programs\\Python\\Python38\\lib\\site-packages\\sklearn\\base.py:445: UserWarning: X does not have valid feature names, but DecisionTreeClassifier was fitted with feature names\n",
            "  warnings.warn(\n"
          ]
        },
        {
          "name": "stdout",
          "output_type": "stream",
          "text": [
            "0.003631591796875, -0.255340576171875, -0.0655670166015625, 0.042760247094530274, 0.6653287467028989, 0.9430953831337273\n",
            "mid: 18\n",
            "0.07049560546875, 0.20758056640625, 0.0426177978515625, 0.04692889314883128, -0.4415102971060235, -0.004387025263687505\n",
            "mid: 19\n"
          ]
        },
        {
          "name": "stderr",
          "output_type": "stream",
          "text": [
            "C:\\Users\\boomt\\AppData\\Local\\Programs\\Python\\Python38\\lib\\site-packages\\sklearn\\base.py:445: UserWarning: X does not have valid feature names, but DecisionTreeClassifier was fitted with feature names\n",
            "  warnings.warn(\n",
            "C:\\Users\\boomt\\AppData\\Local\\Programs\\Python\\Python38\\lib\\site-packages\\sklearn\\base.py:445: UserWarning: X does not have valid feature names, but DecisionTreeClassifier was fitted with feature names\n",
            "  warnings.warn(\n"
          ]
        },
        {
          "name": "stdout",
          "output_type": "stream",
          "text": [
            "-0.0528411865234375, -0.0041046142578125, 0.180023193359375, 0.09645117256718175, -0.502363261698225, -1.0841553029080635\n",
            "mid: 20\n",
            "0.0, 0.0, 0.0, -0.15843518167433998, -0.15949005978212039, 0.3107309780877203\n",
            "mid: 21\n"
          ]
        },
        {
          "name": "stderr",
          "output_type": "stream",
          "text": [
            "C:\\Users\\boomt\\AppData\\Local\\Programs\\Python\\Python38\\lib\\site-packages\\sklearn\\base.py:445: UserWarning: X does not have valid feature names, but DecisionTreeClassifier was fitted with feature names\n",
            "  warnings.warn(\n",
            "C:\\Users\\boomt\\AppData\\Local\\Programs\\Python\\Python38\\lib\\site-packages\\sklearn\\base.py:445: UserWarning: X does not have valid feature names, but DecisionTreeClassifier was fitted with feature names\n",
            "  warnings.warn(\n"
          ]
        },
        {
          "name": "stdout",
          "output_type": "stream",
          "text": [
            "0.0824127197265625, 0.004913330078125, -0.0554351806640625, -0.11902439228280239, 0.00902545293427854, -0.3238089632527724\n",
            "mid: 22\n",
            "0.0037689208984375, 7.62939453125e-05, 0.0139617919921875, 0.01703704044156391, 0.0021204088599210864, 0.009580988337669068\n",
            "mid: 23\n"
          ]
        },
        {
          "name": "stderr",
          "output_type": "stream",
          "text": [
            "C:\\Users\\boomt\\AppData\\Local\\Programs\\Python\\Python38\\lib\\site-packages\\sklearn\\base.py:445: UserWarning: X does not have valid feature names, but DecisionTreeClassifier was fitted with feature names\n",
            "  warnings.warn(\n",
            "C:\\Users\\boomt\\AppData\\Local\\Programs\\Python\\Python38\\lib\\site-packages\\sklearn\\base.py:445: UserWarning: X does not have valid feature names, but DecisionTreeClassifier was fitted with feature names\n",
            "  warnings.warn(\n"
          ]
        },
        {
          "name": "stdout",
          "output_type": "stream",
          "text": [
            "-0.0048675537109375, 0.0001983642578125, 0.031341552734375, -0.0170231920038955, -0.013708089078964862, -0.0021153488538499417\n",
            "mid: 24\n",
            "0.0, 0.0, 0.0, 0.09250649836055638, 0.0521417646665524, -0.007580155410692534\n",
            "mid: 25\n"
          ]
        },
        {
          "name": "stderr",
          "output_type": "stream",
          "text": [
            "C:\\Users\\boomt\\AppData\\Local\\Programs\\Python\\Python38\\lib\\site-packages\\sklearn\\base.py:445: UserWarning: X does not have valid feature names, but DecisionTreeClassifier was fitted with feature names\n",
            "  warnings.warn(\n",
            "C:\\Users\\boomt\\AppData\\Local\\Programs\\Python\\Python38\\lib\\site-packages\\sklearn\\base.py:445: UserWarning: X does not have valid feature names, but DecisionTreeClassifier was fitted with feature names\n",
            "  warnings.warn(\n"
          ]
        },
        {
          "name": "stdout",
          "output_type": "stream",
          "text": [
            "0.0084991455078125, 0.001068115234375, -0.022857666015625, -0.06277097320927666, -0.018176873388117826, -0.002041845607763752\n",
            "mid: 26\n",
            "0.0, 0.0, 0.0, -0.021252558131050335, -0.013874270330985806, 0.00535801379713042\n",
            "mid: 27\n"
          ]
        },
        {
          "name": "stderr",
          "output_type": "stream",
          "text": [
            "C:\\Users\\boomt\\AppData\\Local\\Programs\\Python\\Python38\\lib\\site-packages\\sklearn\\base.py:445: UserWarning: X does not have valid feature names, but DecisionTreeClassifier was fitted with feature names\n",
            "  warnings.warn(\n",
            "C:\\Users\\boomt\\AppData\\Local\\Programs\\Python\\Python38\\lib\\site-packages\\sklearn\\base.py:445: UserWarning: X does not have valid feature names, but DecisionTreeClassifier was fitted with feature names\n",
            "  warnings.warn(\n"
          ]
        },
        {
          "name": "stdout",
          "output_type": "stream",
          "text": [
            "-0.002227783203125, -0.0003814697265625, -0.0035858154296875, -0.0031973912047491334, 1.0652644360318458e-05, -0.004265318801870909\n",
            "mid: 28\n",
            "0.0005645751953125, -0.001861572265625, 0.001190185546875, 0.00960149467806268, -0.004268514595179004, 0.009584716763195177\n",
            "mid: 29\n"
          ]
        },
        {
          "name": "stderr",
          "output_type": "stream",
          "text": [
            "C:\\Users\\boomt\\AppData\\Local\\Programs\\Python\\Python38\\lib\\site-packages\\sklearn\\base.py:445: UserWarning: X does not have valid feature names, but DecisionTreeClassifier was fitted with feature names\n",
            "  warnings.warn(\n",
            "C:\\Users\\boomt\\AppData\\Local\\Programs\\Python\\Python38\\lib\\site-packages\\sklearn\\base.py:445: UserWarning: X does not have valid feature names, but DecisionTreeClassifier was fitted with feature names\n",
            "  warnings.warn(\n"
          ]
        },
        {
          "name": "stdout",
          "output_type": "stream",
          "text": [
            "0.0137786865234375, 0.0020294189453125, -0.0071868896484375, -0.019126290316731076, -0.013852965042265172, 0.001082042350899197\n",
            "mid: 30\n",
            "0.0, 0.0, 0.0, 0.011697402455955038, 0.002194977370443308, -0.011766910960406107\n",
            "mid: 31\n"
          ]
        },
        {
          "name": "stderr",
          "output_type": "stream",
          "text": [
            "C:\\Users\\boomt\\AppData\\Local\\Programs\\Python\\Python38\\lib\\site-packages\\sklearn\\base.py:445: UserWarning: X does not have valid feature names, but DecisionTreeClassifier was fitted with feature names\n",
            "  warnings.warn(\n",
            "C:\\Users\\boomt\\AppData\\Local\\Programs\\Python\\Python38\\lib\\site-packages\\sklearn\\base.py:445: UserWarning: X does not have valid feature names, but DecisionTreeClassifier was fitted with feature names\n",
            "  warnings.warn(\n"
          ]
        },
        {
          "name": "stdout",
          "output_type": "stream",
          "text": [
            "-0.0014801025390625, 0.0015869140625, -0.019287109375, -0.011706457203661308, -0.007527957453326982, 0.014969894803444406\n",
            "mid: 32\n",
            "0.00146484375, 0.000579833984375, 0.0136871337890625, 0.009553025146223236, 0.01707192785184395, -0.011745073039467457\n",
            "mid: 33\n",
            "mid: 34\n"
          ]
        },
        {
          "name": "stderr",
          "output_type": "stream",
          "text": [
            "C:\\Users\\boomt\\AppData\\Local\\Programs\\Python\\Python38\\lib\\site-packages\\sklearn\\base.py:445: UserWarning: X does not have valid feature names, but DecisionTreeClassifier was fitted with feature names\n",
            "  warnings.warn(\n",
            "C:\\Users\\boomt\\AppData\\Local\\Programs\\Python\\Python38\\lib\\site-packages\\sklearn\\base.py:445: UserWarning: X does not have valid feature names, but DecisionTreeClassifier was fitted with feature names\n",
            "  warnings.warn(\n"
          ]
        },
        {
          "name": "stdout",
          "output_type": "stream",
          "text": [
            "-0.021331787109375, 0.00189208984375, 0.00469970703125, 0.0319323667344861, 0.006395315041716282, 0.010626545381634179\n",
            "mid: 35\n",
            "0.01800537109375, -0.0016937255859375, -0.0089569091796875, -0.0022186795041450116, 0.026639334067953612, -0.01918461354460381\n",
            "mid: 36\n"
          ]
        },
        {
          "name": "stderr",
          "output_type": "stream",
          "text": [
            "C:\\Users\\boomt\\AppData\\Local\\Programs\\Python\\Python38\\lib\\site-packages\\sklearn\\base.py:445: UserWarning: X does not have valid feature names, but DecisionTreeClassifier was fitted with feature names\n",
            "  warnings.warn(\n",
            "C:\\Users\\boomt\\AppData\\Local\\Programs\\Python\\Python38\\lib\\site-packages\\sklearn\\base.py:445: UserWarning: X does not have valid feature names, but DecisionTreeClassifier was fitted with feature names\n",
            "  warnings.warn(\n"
          ]
        },
        {
          "name": "stdout",
          "output_type": "stream",
          "text": [
            "-0.0015411376953125, 0.0015411376953125, -0.0037078857421875, -0.035008317793527616, -0.041573808828899966, 0.016029300285077926\n",
            "mid: 37\n",
            "0.0, 0.0, 0.0, -0.0010783139253730837, 0.0032104406940905213, -0.006399842415569417\n",
            "mid: 38\n"
          ]
        },
        {
          "name": "stderr",
          "output_type": "stream",
          "text": [
            "C:\\Users\\boomt\\AppData\\Local\\Programs\\Python\\Python38\\lib\\site-packages\\sklearn\\base.py:445: UserWarning: X does not have valid feature names, but DecisionTreeClassifier was fitted with feature names\n",
            "  warnings.warn(\n",
            "C:\\Users\\boomt\\AppData\\Local\\Programs\\Python\\Python38\\lib\\site-packages\\sklearn\\base.py:445: UserWarning: X does not have valid feature names, but DecisionTreeClassifier was fitted with feature names\n",
            "  warnings.warn(\n"
          ]
        },
        {
          "name": "stdout",
          "output_type": "stream",
          "text": [
            "0.0166778564453125, -0.002655029296875, 0.0020599365234375, 0.005314604271362127, 0.005292500034314472, 0.007474161599307383\n",
            "mid: 39\n",
            "-0.0167694091796875, 0.004638671875, -0.0078582763671875, 0.005357214848803395, -0.01700801198568205, -0.01065584015362505\n",
            "mid: 40\n"
          ]
        },
        {
          "name": "stderr",
          "output_type": "stream",
          "text": [
            "C:\\Users\\boomt\\AppData\\Local\\Programs\\Python\\Python38\\lib\\site-packages\\sklearn\\base.py:445: UserWarning: X does not have valid feature names, but DecisionTreeClassifier was fitted with feature names\n",
            "  warnings.warn(\n",
            "C:\\Users\\boomt\\AppData\\Local\\Programs\\Python\\Python38\\lib\\site-packages\\sklearn\\base.py:445: UserWarning: X does not have valid feature names, but DecisionTreeClassifier was fitted with feature names\n",
            "  warnings.warn(\n"
          ]
        },
        {
          "name": "stdout",
          "output_type": "stream",
          "text": [
            "0.0008392333984375, -0.00335693359375, 0.0051422119140625, -0.0032325449311381774, 0.017037839389890935, 0.0042440135131502745\n",
            "mid: 41\n",
            "0.0, 0.0, 0.0, -0.007461112109965994, 2.7696875336824522e-05, -0.010664362269113301\n",
            "mid: 42\n"
          ]
        },
        {
          "name": "stderr",
          "output_type": "stream",
          "text": [
            "C:\\Users\\boomt\\AppData\\Local\\Programs\\Python\\Python38\\lib\\site-packages\\sklearn\\base.py:445: UserWarning: X does not have valid feature names, but DecisionTreeClassifier was fitted with feature names\n",
            "  warnings.warn(\n",
            "C:\\Users\\boomt\\AppData\\Local\\Programs\\Python\\Python38\\lib\\site-packages\\sklearn\\base.py:445: UserWarning: X does not have valid feature names, but DecisionTreeClassifier was fitted with feature names\n",
            "  warnings.warn(\n"
          ]
        },
        {
          "name": "stdout",
          "output_type": "stream",
          "text": [
            "0.000335693359375, 0.0021514892578125, -0.007110595703125, 0.007427556280230996, 0.00957166727385379, 0.0010697918098848298\n",
            "mid: 43\n",
            "0.0125885009765625, -0.0072479248046875, -0.0243377685546875, 0.06171423088873321, 0.021272265523116927, 0.024476048314482246\n",
            "mid: 44\n"
          ]
        },
        {
          "name": "stderr",
          "output_type": "stream",
          "text": [
            "C:\\Users\\boomt\\AppData\\Local\\Programs\\Python\\Python38\\lib\\site-packages\\sklearn\\base.py:445: UserWarning: X does not have valid feature names, but DecisionTreeClassifier was fitted with feature names\n",
            "  warnings.warn(\n",
            "C:\\Users\\boomt\\AppData\\Local\\Programs\\Python\\Python38\\lib\\site-packages\\sklearn\\base.py:445: UserWarning: X does not have valid feature names, but DecisionTreeClassifier was fitted with feature names\n",
            "  warnings.warn(\n"
          ]
        },
        {
          "name": "stdout",
          "output_type": "stream",
          "text": [
            "0.0006561279296875, 0.0026702880859375, 0.0359039306640625, 0.021226991784585578, 0.00459022445486057, 0.021520472136712307\n",
            "mid: 45\n",
            "0.02008056640625, 0.0099029541015625, 0.0080413818359375, -0.007407582572055399, -0.009678193717456957, -0.02562839811815953\n",
            "mid: 46\n"
          ]
        },
        {
          "name": "stderr",
          "output_type": "stream",
          "text": [
            "C:\\Users\\boomt\\AppData\\Local\\Programs\\Python\\Python38\\lib\\site-packages\\sklearn\\base.py:445: UserWarning: X does not have valid feature names, but DecisionTreeClassifier was fitted with feature names\n",
            "  warnings.warn(\n",
            "C:\\Users\\boomt\\AppData\\Local\\Programs\\Python\\Python38\\lib\\site-packages\\sklearn\\base.py:445: UserWarning: X does not have valid feature names, but DecisionTreeClassifier was fitted with feature names\n",
            "  warnings.warn(\n"
          ]
        },
        {
          "name": "stdout",
          "output_type": "stream",
          "text": [
            "-0.0230255126953125, -0.0882568359375, 0.0123291015625, 0.8868014840116324, 0.052740443279602214, 0.7026145998606621\n",
            "mid: 47\n",
            "0.0, 0.0, 0.0, -0.8847782805314992, -0.05216946154188923, -0.560575968385722\n",
            "mid: 48\n"
          ]
        },
        {
          "name": "stderr",
          "output_type": "stream",
          "text": [
            "C:\\Users\\boomt\\AppData\\Local\\Programs\\Python\\Python38\\lib\\site-packages\\sklearn\\base.py:445: UserWarning: X does not have valid feature names, but DecisionTreeClassifier was fitted with feature names\n",
            "  warnings.warn(\n",
            "C:\\Users\\boomt\\AppData\\Local\\Programs\\Python\\Python38\\lib\\site-packages\\sklearn\\base.py:445: UserWarning: X does not have valid feature names, but DecisionTreeClassifier was fitted with feature names\n",
            "  warnings.warn(\n"
          ]
        },
        {
          "name": "stdout",
          "output_type": "stream",
          "text": [
            "-0.0547027587890625, 0.0726318359375, -0.161346435546875, 0.13878611283562636, 0.03747413864683198, -0.02940316264723783\n",
            "mid: 49\n",
            "-0.0809173583984375, 0.041778564453125, -0.0203704833984375, -0.05540307173746345, 0.011153052329142848, 0.3345444319229908\n",
            "mid: 50\n"
          ]
        },
        {
          "name": "stderr",
          "output_type": "stream",
          "text": [
            "C:\\Users\\boomt\\AppData\\Local\\Programs\\Python\\Python38\\lib\\site-packages\\sklearn\\base.py:445: UserWarning: X does not have valid feature names, but DecisionTreeClassifier was fitted with feature names\n",
            "  warnings.warn(\n",
            "C:\\Users\\boomt\\AppData\\Local\\Programs\\Python\\Python38\\lib\\site-packages\\sklearn\\base.py:445: UserWarning: X does not have valid feature names, but DecisionTreeClassifier was fitted with feature names\n",
            "  warnings.warn(\n"
          ]
        },
        {
          "name": "stdout",
          "output_type": "stream",
          "text": [
            "0.03631591796875, -0.0258636474609375, 0.12939453125, 1.960678050376426, 0.21721780483511394, 0.6040882921720907\n",
            "mid: 51\n",
            "0.0, 0.0, 0.0, -1.2365427120629424, 0.15877287050056205, -0.4884770071423339\n",
            "mid: 52\n"
          ]
        },
        {
          "name": "stderr",
          "output_type": "stream",
          "text": [
            "C:\\Users\\boomt\\AppData\\Local\\Programs\\Python\\Python38\\lib\\site-packages\\sklearn\\base.py:445: UserWarning: X does not have valid feature names, but DecisionTreeClassifier was fitted with feature names\n",
            "  warnings.warn(\n",
            "C:\\Users\\boomt\\AppData\\Local\\Programs\\Python\\Python38\\lib\\site-packages\\sklearn\\base.py:445: UserWarning: X does not have valid feature names, but DecisionTreeClassifier was fitted with feature names\n",
            "  warnings.warn(\n"
          ]
        },
        {
          "name": "stdout",
          "output_type": "stream",
          "text": [
            "0.1559600830078125, 0.1254425048828125, 0.1859283447265625, -0.47657800339185985, 1.0599492991281152, 0.06322504217513514\n",
            "mid: 53\n",
            "0.0, 0.0, 0.0, -0.1286104406265426, 0.24707530276431933, 0.21716906898716548\n",
            "mid: 54\n"
          ]
        },
        {
          "name": "stderr",
          "output_type": "stream",
          "text": [
            "C:\\Users\\boomt\\AppData\\Local\\Programs\\Python\\Python38\\lib\\site-packages\\sklearn\\base.py:445: UserWarning: X does not have valid feature names, but DecisionTreeClassifier was fitted with feature names\n",
            "  warnings.warn(\n",
            "C:\\Users\\boomt\\AppData\\Local\\Programs\\Python\\Python38\\lib\\site-packages\\sklearn\\base.py:445: UserWarning: X does not have valid feature names, but DecisionTreeClassifier was fitted with feature names\n",
            "  warnings.warn(\n"
          ]
        },
        {
          "name": "stdout",
          "output_type": "stream",
          "text": [
            "-0.116119384765625, -0.1339263916015625, -0.2069091796875, 0.6588308999592145, -0.6774133727813514, 0.18024061204769082\n",
            "mid: 55\n",
            "-0.04437255859375, -0.001800537109375, -0.0861053466796875, 0.21063234009156595, 0.9105739251661158, 0.6729208863384968\n",
            "mid: 56\n"
          ]
        },
        {
          "name": "stderr",
          "output_type": "stream",
          "text": [
            "C:\\Users\\boomt\\AppData\\Local\\Programs\\Python\\Python38\\lib\\site-packages\\sklearn\\base.py:445: UserWarning: X does not have valid feature names, but DecisionTreeClassifier was fitted with feature names\n",
            "  warnings.warn(\n",
            "C:\\Users\\boomt\\AppData\\Local\\Programs\\Python\\Python38\\lib\\site-packages\\sklearn\\base.py:445: UserWarning: X does not have valid feature names, but DecisionTreeClassifier was fitted with feature names\n",
            "  warnings.warn(\n"
          ]
        },
        {
          "name": "stdout",
          "output_type": "stream",
          "text": [
            "0.0067138671875, 0.0342559814453125, 0.1075592041015625, -0.6178837329348101, -0.7658494957318309, -1.2810033875134883\n",
            "mid: 57\n",
            "0.0, 0.0, 0.0, -0.07941786055114392, -0.5084991848497675, 0.1348976313280017\n",
            "mid: 58\n"
          ]
        },
        {
          "name": "stderr",
          "output_type": "stream",
          "text": [
            "C:\\Users\\boomt\\AppData\\Local\\Programs\\Python\\Python38\\lib\\site-packages\\sklearn\\base.py:445: UserWarning: X does not have valid feature names, but DecisionTreeClassifier was fitted with feature names\n",
            "  warnings.warn(\n",
            "C:\\Users\\boomt\\AppData\\Local\\Programs\\Python\\Python38\\lib\\site-packages\\sklearn\\base.py:445: UserWarning: X does not have valid feature names, but DecisionTreeClassifier was fitted with feature names\n",
            "  warnings.warn(\n"
          ]
        },
        {
          "name": "stdout",
          "output_type": "stream",
          "text": [
            "-0.006134033203125, 0.002838134765625, -0.0513916015625, -0.030806382225600615, 0.1947106315145274, -0.35526888520987854\n",
            "mid: 59\n",
            "0.22479248046875, 0.0576324462890625, 0.2746429443359375, -0.3888074043977914, 0.2881087562080421, 0.12522396498439783\n",
            "mid: 60\n"
          ]
        },
        {
          "name": "stderr",
          "output_type": "stream",
          "text": [
            "C:\\Users\\boomt\\AppData\\Local\\Programs\\Python\\Python38\\lib\\site-packages\\sklearn\\base.py:445: UserWarning: X does not have valid feature names, but DecisionTreeClassifier was fitted with feature names\n",
            "  warnings.warn(\n",
            "C:\\Users\\boomt\\AppData\\Local\\Programs\\Python\\Python38\\lib\\site-packages\\sklearn\\base.py:445: UserWarning: X does not have valid feature names, but DecisionTreeClassifier was fitted with feature names\n",
            "  warnings.warn(\n"
          ]
        },
        {
          "name": "stdout",
          "output_type": "stream",
          "text": [
            "-0.240753173828125, -0.0510711669921875, -0.37103271484375, 0.07183184618605323, -0.5563005295717088, 0.27789366921482533\n",
            "mid: 61\n",
            "0.0, 0.0, 0.0, -0.055218514673920936, 0.12680108898194287, -0.5659648748514975\n",
            "mid: 62\n"
          ]
        },
        {
          "name": "stderr",
          "output_type": "stream",
          "text": [
            "C:\\Users\\boomt\\AppData\\Local\\Programs\\Python\\Python38\\lib\\site-packages\\sklearn\\base.py:445: UserWarning: X does not have valid feature names, but DecisionTreeClassifier was fitted with feature names\n",
            "  warnings.warn(\n",
            "C:\\Users\\boomt\\AppData\\Local\\Programs\\Python\\Python38\\lib\\site-packages\\sklearn\\base.py:445: UserWarning: X does not have valid feature names, but DecisionTreeClassifier was fitted with feature names\n",
            "  warnings.warn(\n"
          ]
        },
        {
          "name": "stdout",
          "output_type": "stream",
          "text": [
            "0.0904693603515625, -0.021087646484375, 0.0231475830078125, 0.20000073470386073, -0.27837250557882154, 0.6462631764590216\n",
            "mid: 63\n",
            "0.0, 0.0, 0.0, -0.1448764959325286, -0.09953697732225664, -0.27492424459938697\n",
            "mid: 64\n"
          ]
        },
        {
          "name": "stderr",
          "output_type": "stream",
          "text": [
            "C:\\Users\\boomt\\AppData\\Local\\Programs\\Python\\Python38\\lib\\site-packages\\sklearn\\base.py:445: UserWarning: X does not have valid feature names, but DecisionTreeClassifier was fitted with feature names\n",
            "  warnings.warn(\n",
            "C:\\Users\\boomt\\AppData\\Local\\Programs\\Python\\Python38\\lib\\site-packages\\sklearn\\base.py:445: UserWarning: X does not have valid feature names, but DecisionTreeClassifier was fitted with feature names\n",
            "  warnings.warn(\n"
          ]
        },
        {
          "name": "stdout",
          "output_type": "stream",
          "text": [
            "-0.0611724853515625, -0.00360107421875, 0.0145416259765625, -0.10401588164355183, -0.029218339267586324, -0.33350739699451404\n",
            "mid: 65\n",
            "-0.04486083984375, 0.031280517578125, 0.0022735595703125, 0.08906809107715508, 0.7552916599063205, 0.21834245776345446\n",
            "mid: 66\n",
            "mid: 67\n"
          ]
        },
        {
          "name": "stderr",
          "output_type": "stream",
          "text": [
            "C:\\Users\\boomt\\AppData\\Local\\Programs\\Python\\Python38\\lib\\site-packages\\sklearn\\base.py:445: UserWarning: X does not have valid feature names, but DecisionTreeClassifier was fitted with feature names\n",
            "  warnings.warn(\n",
            "C:\\Users\\boomt\\AppData\\Local\\Programs\\Python\\Python38\\lib\\site-packages\\sklearn\\base.py:445: UserWarning: X does not have valid feature names, but DecisionTreeClassifier was fitted with feature names\n",
            "  warnings.warn(\n"
          ]
        },
        {
          "name": "stdout",
          "output_type": "stream",
          "text": [
            "0.01190185546875, -0.0079193115234375, -0.0045623779296875, 0.017692710701941422, -0.22725366108696854, -0.29724845875308514\n",
            "mid: 68\n",
            "0.0, 0.0, 0.0, -0.0007800398832842059, -0.2606044274180309, 0.08284162044854981\n",
            "mid: 69\n"
          ]
        },
        {
          "name": "stderr",
          "output_type": "stream",
          "text": [
            "C:\\Users\\boomt\\AppData\\Local\\Programs\\Python\\Python38\\lib\\site-packages\\sklearn\\base.py:445: UserWarning: X does not have valid feature names, but DecisionTreeClassifier was fitted with feature names\n",
            "  warnings.warn(\n",
            "C:\\Users\\boomt\\AppData\\Local\\Programs\\Python\\Python38\\lib\\site-packages\\sklearn\\base.py:445: UserWarning: X does not have valid feature names, but DecisionTreeClassifier was fitted with feature names\n",
            "  warnings.warn(\n"
          ]
        },
        {
          "name": "stdout",
          "output_type": "stream",
          "text": [
            "0.08367919921875, -0.034149169921875, -0.02996826171875, -0.11451113318344511, -0.64392545365415, -0.019544140291764503\n",
            "mid: 70\n",
            "-0.006011962890625, -0.015350341796875, -0.001556396484375, 0.48744929327767234, 0.07562605179108914, 0.04402444966399088\n",
            "mid: 71\n"
          ]
        },
        {
          "name": "stderr",
          "output_type": "stream",
          "text": [
            "C:\\Users\\boomt\\AppData\\Local\\Programs\\Python\\Python38\\lib\\site-packages\\sklearn\\base.py:445: UserWarning: X does not have valid feature names, but DecisionTreeClassifier was fitted with feature names\n",
            "  warnings.warn(\n",
            "C:\\Users\\boomt\\AppData\\Local\\Programs\\Python\\Python38\\lib\\site-packages\\sklearn\\base.py:445: UserWarning: X does not have valid feature names, but DecisionTreeClassifier was fitted with feature names\n",
            "  warnings.warn(\n"
          ]
        },
        {
          "name": "stdout",
          "output_type": "stream",
          "text": [
            "0.0795745849609375, 0.0163421630859375, 0.160064697265625, -0.25964915153501944, 0.24333222985221295, 0.13330639257667934\n",
            "mid: 72\n",
            "0.0, 0.0, 0.0, 0.25237419438525, -0.23173682646600796, 0.15186756011009556\n",
            "mid: 73\n"
          ]
        },
        {
          "name": "stderr",
          "output_type": "stream",
          "text": [
            "C:\\Users\\boomt\\AppData\\Local\\Programs\\Python\\Python38\\lib\\site-packages\\sklearn\\base.py:445: UserWarning: X does not have valid feature names, but DecisionTreeClassifier was fitted with feature names\n",
            "  warnings.warn(\n",
            "C:\\Users\\boomt\\AppData\\Local\\Programs\\Python\\Python38\\lib\\site-packages\\sklearn\\base.py:445: UserWarning: X does not have valid feature names, but DecisionTreeClassifier was fitted with feature names\n",
            "  warnings.warn(\n"
          ]
        },
        {
          "name": "stdout",
          "output_type": "stream",
          "text": [
            "-0.1310882568359375, -0.009521484375, -0.0475921630859375, -0.43750809861985235, -0.05968170634478474, -0.32826416544036596\n",
            "mid: 74\n",
            "0.0, 0.0, 0.0, -0.021240307590035975, 0.025453428434541327, -0.021360682471307554\n",
            "mid: 75\n"
          ]
        },
        {
          "name": "stderr",
          "output_type": "stream",
          "text": [
            "C:\\Users\\boomt\\AppData\\Local\\Programs\\Python\\Python38\\lib\\site-packages\\sklearn\\base.py:445: UserWarning: X does not have valid feature names, but DecisionTreeClassifier was fitted with feature names\n",
            "  warnings.warn(\n",
            "C:\\Users\\boomt\\AppData\\Local\\Programs\\Python\\Python38\\lib\\site-packages\\sklearn\\base.py:445: UserWarning: X does not have valid feature names, but DecisionTreeClassifier was fitted with feature names\n",
            "  warnings.warn(\n"
          ]
        },
        {
          "name": "stdout",
          "output_type": "stream",
          "text": [
            "0.0072021484375, 0.013671875, -0.0071868896484375, -0.018283133515611984, -0.05029406350225542, -0.005189702016237412\n",
            "mid: 76\n",
            "-0.0041656494140625, 0.0048828125, 0.005706787109375, 0.004261856692453805, -0.007159375958460016, -0.023515978741508684\n",
            "mid: 77\n"
          ]
        },
        {
          "name": "stderr",
          "output_type": "stream",
          "text": [
            "C:\\Users\\boomt\\AppData\\Local\\Programs\\Python\\Python38\\lib\\site-packages\\sklearn\\base.py:445: UserWarning: X does not have valid feature names, but DecisionTreeClassifier was fitted with feature names\n",
            "  warnings.warn(\n",
            "C:\\Users\\boomt\\AppData\\Local\\Programs\\Python\\Python38\\lib\\site-packages\\sklearn\\base.py:445: UserWarning: X does not have valid feature names, but DecisionTreeClassifier was fitted with feature names\n",
            "  warnings.warn(\n"
          ]
        },
        {
          "name": "stdout",
          "output_type": "stream",
          "text": [
            "0.0139923095703125, -0.0016021728515625, -7.62939453125e-05, 0.009666742124769617, 0.04020467771249023, -0.01908581026816187\n",
            "mid: 78\n",
            "0.0, 0.0, 0.0, -0.007427822596340002, 0.004336691519085029, 0.0008484831232992464\n",
            "mid: 79\n"
          ]
        },
        {
          "name": "stderr",
          "output_type": "stream",
          "text": [
            "C:\\Users\\boomt\\AppData\\Local\\Programs\\Python\\Python38\\lib\\site-packages\\sklearn\\base.py:445: UserWarning: X does not have valid feature names, but DecisionTreeClassifier was fitted with feature names\n",
            "  warnings.warn(\n",
            "C:\\Users\\boomt\\AppData\\Local\\Programs\\Python\\Python38\\lib\\site-packages\\sklearn\\base.py:445: UserWarning: X does not have valid feature names, but DecisionTreeClassifier was fitted with feature names\n",
            "  warnings.warn(\n"
          ]
        },
        {
          "name": "stdout",
          "output_type": "stream",
          "text": [
            "0.1590423583984375, -0.1684417724609375, 0.44940185546875, 2.665401873820431, 5.708413891235415, 2.233746071696028\n",
            "mid: 80\n",
            "mid: 81\n",
            "0.5059356689453125, -0.0521697998046875, -0.5402984619140625, -1.1332528081325461, -3.272053458541723, -1.7862109052559179\n",
            "mid: 82\n"
          ]
        },
        {
          "name": "stderr",
          "output_type": "stream",
          "text": [
            "C:\\Users\\boomt\\AppData\\Local\\Programs\\Python\\Python38\\lib\\site-packages\\sklearn\\base.py:445: UserWarning: X does not have valid feature names, but DecisionTreeClassifier was fitted with feature names\n",
            "  warnings.warn(\n",
            "C:\\Users\\boomt\\AppData\\Local\\Programs\\Python\\Python38\\lib\\site-packages\\sklearn\\base.py:445: UserWarning: X does not have valid feature names, but DecisionTreeClassifier was fitted with feature names\n",
            "  warnings.warn(\n"
          ]
        },
        {
          "name": "stdout",
          "output_type": "stream",
          "text": [
            "-0.303619384765625, -0.0988006591796875, 0.5852508544921875, -0.894417325780932, -2.4116960988901415, -0.3103735818694317\n",
            "mid: 83\n",
            "0.047943115234375, 0.0372161865234375, -0.0396881103515625, 0.008559133427405663, 0.026370887430073625, 0.04278075343492388\n",
            "mid: 84\n"
          ]
        },
        {
          "name": "stderr",
          "output_type": "stream",
          "text": [
            "C:\\Users\\boomt\\AppData\\Local\\Programs\\Python\\Python38\\lib\\site-packages\\sklearn\\base.py:445: UserWarning: X does not have valid feature names, but DecisionTreeClassifier was fitted with feature names\n",
            "  warnings.warn(\n",
            "C:\\Users\\boomt\\AppData\\Local\\Programs\\Python\\Python38\\lib\\site-packages\\sklearn\\base.py:445: UserWarning: X does not have valid feature names, but DecisionTreeClassifier was fitted with feature names\n",
            "  warnings.warn(\n"
          ]
        },
        {
          "name": "stdout",
          "output_type": "stream",
          "text": [
            "-0.171661376953125, 0.150726318359375, -0.1534576416015625, -0.6080931538193519, -0.09240662981967843, -0.18100307506778046\n",
            "mid: 85\n",
            "0.0, 0.0, 0.0, -0.010715761278151832, 0.020231235853004948, 0.0001408812216651921\n",
            "mid: 86\n"
          ]
        },
        {
          "name": "stderr",
          "output_type": "stream",
          "text": [
            "C:\\Users\\boomt\\AppData\\Local\\Programs\\Python\\Python38\\lib\\site-packages\\sklearn\\base.py:445: UserWarning: X does not have valid feature names, but DecisionTreeClassifier was fitted with feature names\n",
            "  warnings.warn(\n",
            "C:\\Users\\boomt\\AppData\\Local\\Programs\\Python\\Python38\\lib\\site-packages\\sklearn\\base.py:445: UserWarning: X does not have valid feature names, but DecisionTreeClassifier was fitted with feature names\n",
            "  warnings.warn(\n"
          ]
        },
        {
          "name": "stdout",
          "output_type": "stream",
          "text": [
            "0.152740478515625, -0.0099334716796875, -0.1288299560546875, 2.5735710194284276, 6.086071439097371, 3.1590044007967313\n",
            "mid: 87\n",
            "mid: 88\n",
            "-0.410369873046875, -0.0506439208984375, -0.23980712890625, -1.5800998137469795, -5.595230077539266, -2.6892611340264505\n",
            "mid: 89\n"
          ]
        },
        {
          "name": "stderr",
          "output_type": "stream",
          "text": [
            "C:\\Users\\boomt\\AppData\\Local\\Programs\\Python\\Python38\\lib\\site-packages\\sklearn\\base.py:445: UserWarning: X does not have valid feature names, but DecisionTreeClassifier was fitted with feature names\n",
            "  warnings.warn(\n",
            "C:\\Users\\boomt\\AppData\\Local\\Programs\\Python\\Python38\\lib\\site-packages\\sklearn\\base.py:445: UserWarning: X does not have valid feature names, but DecisionTreeClassifier was fitted with feature names\n",
            "  warnings.warn(\n"
          ]
        },
        {
          "name": "stdout",
          "output_type": "stream",
          "text": [
            "0.4097442626953125, 0.252349853515625, -0.0156097412109375, -0.004627242394012576, 2.613270229166021, 0.3140194494017502\n",
            "mid: 90\n",
            "0.0, 0.0, 0.0, 0.7256954180800519, -2.2542806415971928, 0.7088786210606376\n",
            "mid: 91\n"
          ]
        },
        {
          "name": "stderr",
          "output_type": "stream",
          "text": [
            "C:\\Users\\boomt\\AppData\\Local\\Programs\\Python\\Python38\\lib\\site-packages\\sklearn\\base.py:445: UserWarning: X does not have valid feature names, but DecisionTreeClassifier was fitted with feature names\n",
            "  warnings.warn(\n",
            "C:\\Users\\boomt\\AppData\\Local\\Programs\\Python\\Python38\\lib\\site-packages\\sklearn\\base.py:445: UserWarning: X does not have valid feature names, but DecisionTreeClassifier was fitted with feature names\n",
            "  warnings.warn(\n"
          ]
        },
        {
          "name": "stdout",
          "output_type": "stream",
          "text": [
            "-0.2806854248046875, -0.140655517578125, -0.00885009765625, -1.2188060592030148, -0.7062764463595211, -1.4395698630295692\n",
            "mid: 92\n",
            "-0.0924530029296875, 0.1004638671875, 0.0400848388671875, -0.5303272520923841, 0.036426717390103835, 0.060457485170324815\n",
            "mid: 93\n"
          ]
        },
        {
          "name": "stderr",
          "output_type": "stream",
          "text": [
            "C:\\Users\\boomt\\AppData\\Local\\Programs\\Python\\Python38\\lib\\site-packages\\sklearn\\base.py:445: UserWarning: X does not have valid feature names, but DecisionTreeClassifier was fitted with feature names\n",
            "  warnings.warn(\n",
            "C:\\Users\\boomt\\AppData\\Local\\Programs\\Python\\Python38\\lib\\site-packages\\sklearn\\base.py:445: UserWarning: X does not have valid feature names, but DecisionTreeClassifier was fitted with feature names\n",
            "  warnings.warn(\n"
          ]
        },
        {
          "name": "stdout",
          "output_type": "stream",
          "text": [
            "-0.0380401611328125, -0.0056304931640625, -0.04193115234375, 0.020856812393064562, -0.1750849984934064, -0.06113685756440403\n",
            "mid: 94\n",
            "-0.023529052734375, -0.003753662109375, -0.00738525390625, -0.021397966726568664, -0.016486032412026515, -0.010792726633655117\n",
            "mid: 95\n"
          ]
        },
        {
          "name": "stderr",
          "output_type": "stream",
          "text": [
            "C:\\Users\\boomt\\AppData\\Local\\Programs\\Python\\Python38\\lib\\site-packages\\sklearn\\base.py:445: UserWarning: X does not have valid feature names, but DecisionTreeClassifier was fitted with feature names\n",
            "  warnings.warn(\n",
            "C:\\Users\\boomt\\AppData\\Local\\Programs\\Python\\Python38\\lib\\site-packages\\sklearn\\base.py:445: UserWarning: X does not have valid feature names, but DecisionTreeClassifier was fitted with feature names\n",
            "  warnings.warn(\n"
          ]
        },
        {
          "name": "stdout",
          "output_type": "stream",
          "text": [
            "0.0162353515625, -0.009979248046875, 0.010467529296875, -0.0011677961379997458, 0.047649544539806736, -0.038531413599593445\n",
            "mid: 96\n",
            "0.0, 0.0, 0.0, 0.012873987025552047, -0.036081039080611534, 0.0032927323717739706\n",
            "mid: 97\n"
          ]
        },
        {
          "name": "stderr",
          "output_type": "stream",
          "text": [
            "C:\\Users\\boomt\\AppData\\Local\\Programs\\Python\\Python38\\lib\\site-packages\\sklearn\\base.py:445: UserWarning: X does not have valid feature names, but DecisionTreeClassifier was fitted with feature names\n",
            "  warnings.warn(\n",
            "C:\\Users\\boomt\\AppData\\Local\\Programs\\Python\\Python38\\lib\\site-packages\\sklearn\\base.py:445: UserWarning: X does not have valid feature names, but DecisionTreeClassifier was fitted with feature names\n",
            "  warnings.warn(\n"
          ]
        },
        {
          "name": "stdout",
          "output_type": "stream",
          "text": [
            "0.017852783203125, 0.01531982421875, 0.0006256103515625, -0.010603375880150487, -0.008997223426723698, 0.082276231349126\n",
            "mid: 98\n",
            "-0.009521484375, -0.0080413818359375, 0.0019683837890625, 0.015969645476660153, -0.009013468709373182, -0.07262253871369777\n",
            "mid: 99\n"
          ]
        },
        {
          "name": "stderr",
          "output_type": "stream",
          "text": [
            "C:\\Users\\boomt\\AppData\\Local\\Programs\\Python\\Python38\\lib\\site-packages\\sklearn\\base.py:445: UserWarning: X does not have valid feature names, but DecisionTreeClassifier was fitted with feature names\n",
            "  warnings.warn(\n",
            "C:\\Users\\boomt\\AppData\\Local\\Programs\\Python\\Python38\\lib\\site-packages\\sklearn\\base.py:445: UserWarning: X does not have valid feature names, but DecisionTreeClassifier was fitted with feature names\n",
            "  warnings.warn(\n"
          ]
        },
        {
          "name": "stdout",
          "output_type": "stream",
          "text": [
            "-0.024139404296875, 0.002227783203125, -0.0005950927734375, -0.022299713071669492, -0.0032232238673229018, 0.0031603732655970315\n",
            "mid: 100\n",
            "0.0, 0.0, 0.0, 0.005327653760703517, 0.0031507858856727466, -0.006423810865380131\n",
            "mid: 101\n"
          ]
        },
        {
          "name": "stderr",
          "output_type": "stream",
          "text": [
            "C:\\Users\\boomt\\AppData\\Local\\Programs\\Python\\Python38\\lib\\site-packages\\sklearn\\base.py:445: UserWarning: X does not have valid feature names, but DecisionTreeClassifier was fitted with feature names\n",
            "  warnings.warn(\n",
            "C:\\Users\\boomt\\AppData\\Local\\Programs\\Python\\Python38\\lib\\site-packages\\sklearn\\base.py:445: UserWarning: X does not have valid feature names, but DecisionTreeClassifier was fitted with feature names\n",
            "  warnings.warn(\n"
          ]
        },
        {
          "name": "stdout",
          "output_type": "stream",
          "text": [
            "0.0605010986328125, -0.0124359130859375, 0.074127197265625, 0.246122423726289, 0.06635399013986926, -0.020900221918832854\n",
            "mid: 102\n",
            "-0.0409088134765625, -0.0241851806640625, 0.1022491455078125, 0.5627355257136673, 0.09814387775603613, 0.38315750814518823\n",
            "mid: 103\n"
          ]
        },
        {
          "name": "stderr",
          "output_type": "stream",
          "text": [
            "C:\\Users\\boomt\\AppData\\Local\\Programs\\Python\\Python38\\lib\\site-packages\\sklearn\\base.py:445: UserWarning: X does not have valid feature names, but DecisionTreeClassifier was fitted with feature names\n",
            "  warnings.warn(\n",
            "C:\\Users\\boomt\\AppData\\Local\\Programs\\Python\\Python38\\lib\\site-packages\\sklearn\\base.py:445: UserWarning: X does not have valid feature names, but DecisionTreeClassifier was fitted with feature names\n",
            "  warnings.warn(\n"
          ]
        },
        {
          "name": "stdout",
          "output_type": "stream",
          "text": [
            "0.061981201171875, -0.3422698974609375, 0.4949493408203125, 1.1638381479876703, 0.3565538604358417, 0.21597038018052084\n",
            "mid: 104\n",
            "0.0411529541015625, -0.352752685546875, 0.1373443603515625, -1.8525736838273845, -0.37250033641101815, -0.24392558214308258\n",
            "mid: 105\n"
          ]
        },
        {
          "name": "stderr",
          "output_type": "stream",
          "text": [
            "C:\\Users\\boomt\\AppData\\Local\\Programs\\Python\\Python38\\lib\\site-packages\\sklearn\\base.py:445: UserWarning: X does not have valid feature names, but DecisionTreeClassifier was fitted with feature names\n",
            "  warnings.warn(\n",
            "C:\\Users\\boomt\\AppData\\Local\\Programs\\Python\\Python38\\lib\\site-packages\\sklearn\\base.py:445: UserWarning: X does not have valid feature names, but DecisionTreeClassifier was fitted with feature names\n",
            "  warnings.warn(\n"
          ]
        },
        {
          "name": "stdout",
          "output_type": "stream",
          "text": [
            "0.3528289794921875, -0.156402587890625, 0.090545654296875, 0.10153115234650789, 0.36116405859887785, -0.16845932001739827\n",
            "mid: 106\n",
            "0.0, 0.0, 0.0, 0.035256258091014014, 0.20255097776372066, 0.06878518989900262\n",
            "mid: 107\n"
          ]
        },
        {
          "name": "stderr",
          "output_type": "stream",
          "text": [
            "C:\\Users\\boomt\\AppData\\Local\\Programs\\Python\\Python38\\lib\\site-packages\\sklearn\\base.py:445: UserWarning: X does not have valid feature names, but DecisionTreeClassifier was fitted with feature names\n",
            "  warnings.warn(\n",
            "C:\\Users\\boomt\\AppData\\Local\\Programs\\Python\\Python38\\lib\\site-packages\\sklearn\\base.py:445: UserWarning: X does not have valid feature names, but DecisionTreeClassifier was fitted with feature names\n",
            "  warnings.warn(\n"
          ]
        },
        {
          "name": "stdout",
          "output_type": "stream",
          "text": [
            "-0.2071075439453125, 0.092987060546875, 0.0524749755859375, -0.060676663328038366, -0.06508712440931863, -0.22532686403829627\n",
            "mid: 108\n",
            "0.0424041748046875, -0.0334014892578125, -0.041656494140625, -0.10486276687019702, -0.0257700782881517, 0.28631511721387387\n",
            "mid: 109\n"
          ]
        },
        {
          "name": "stderr",
          "output_type": "stream",
          "text": [
            "C:\\Users\\boomt\\AppData\\Local\\Programs\\Python\\Python38\\lib\\site-packages\\sklearn\\base.py:445: UserWarning: X does not have valid feature names, but DecisionTreeClassifier was fitted with feature names\n",
            "  warnings.warn(\n",
            "C:\\Users\\boomt\\AppData\\Local\\Programs\\Python\\Python38\\lib\\site-packages\\sklearn\\base.py:445: UserWarning: X does not have valid feature names, but DecisionTreeClassifier was fitted with feature names\n",
            "  warnings.warn(\n"
          ]
        },
        {
          "name": "stdout",
          "output_type": "stream",
          "text": [
            "-0.0981903076171875, -0.013885498046875, 0.0389862060546875, 0.027697674285151103, -0.5639792219427343, -0.2882600237579587\n",
            "mid: 110\n",
            "0.0, 0.0, 0.0, -0.11698068246227557, -0.05750244162477289, -0.024428644047078837\n",
            "mid: 111\n"
          ]
        },
        {
          "name": "stderr",
          "output_type": "stream",
          "text": [
            "C:\\Users\\boomt\\AppData\\Local\\Programs\\Python\\Python38\\lib\\site-packages\\sklearn\\base.py:445: UserWarning: X does not have valid feature names, but DecisionTreeClassifier was fitted with feature names\n",
            "  warnings.warn(\n",
            "C:\\Users\\boomt\\AppData\\Local\\Programs\\Python\\Python38\\lib\\site-packages\\sklearn\\base.py:445: UserWarning: X does not have valid feature names, but DecisionTreeClassifier was fitted with feature names\n",
            "  warnings.warn(\n"
          ]
        },
        {
          "name": "stdout",
          "output_type": "stream",
          "text": [
            "-0.0703277587890625, -0.0305023193359375, -0.0034332275390625, 0.0010634002232686405, 0.010476343096153709, 0.0373939774980206\n",
            "mid: 112\n",
            "0.0, 0.0, 0.0, -0.008578041871145227, 0.014957910578539048, -0.025587119121263307\n",
            "mid: 113\n"
          ]
        },
        {
          "name": "stderr",
          "output_type": "stream",
          "text": [
            "C:\\Users\\boomt\\AppData\\Local\\Programs\\Python\\Python38\\lib\\site-packages\\sklearn\\base.py:445: UserWarning: X does not have valid feature names, but DecisionTreeClassifier was fitted with feature names\n",
            "  warnings.warn(\n",
            "C:\\Users\\boomt\\AppData\\Local\\Programs\\Python\\Python38\\lib\\site-packages\\sklearn\\base.py:445: UserWarning: X does not have valid feature names, but DecisionTreeClassifier was fitted with feature names\n",
            "  warnings.warn(\n"
          ]
        },
        {
          "name": "stdout",
          "output_type": "stream",
          "text": [
            "0.0031585693359375, 0.009613037109375, 0.001861572265625, 0.014997325362672221, -0.02335432486334087, -0.0128220553842955\n",
            "mid: 114\n",
            "-0.0119171142578125, -0.001007080078125, -0.00079345703125, 0.08825955537020702, 0.03414598623255996, 0.022245384585431877\n",
            "mid: 115\n"
          ]
        },
        {
          "name": "stderr",
          "output_type": "stream",
          "text": [
            "C:\\Users\\boomt\\AppData\\Local\\Programs\\Python\\Python38\\lib\\site-packages\\sklearn\\base.py:445: UserWarning: X does not have valid feature names, but DecisionTreeClassifier was fitted with feature names\n",
            "  warnings.warn(\n",
            "C:\\Users\\boomt\\AppData\\Local\\Programs\\Python\\Python38\\lib\\site-packages\\sklearn\\base.py:445: UserWarning: X does not have valid feature names, but DecisionTreeClassifier was fitted with feature names\n",
            "  warnings.warn(\n"
          ]
        },
        {
          "name": "stdout",
          "output_type": "stream",
          "text": [
            "0.69256591796875, 0.1507720947265625, -0.454742431640625, 0.4054393780375542, 1.7758738454847753, 0.5618926352286572\n",
            "mid: 116\n",
            "0.0, 0.0, 0.0, 0.6245341788089561, -1.8162036917684994, 0.4796174691439674\n",
            "mid: 117\n"
          ]
        },
        {
          "name": "stderr",
          "output_type": "stream",
          "text": [
            "C:\\Users\\boomt\\AppData\\Local\\Programs\\Python\\Python38\\lib\\site-packages\\sklearn\\base.py:445: UserWarning: X does not have valid feature names, but DecisionTreeClassifier was fitted with feature names\n",
            "  warnings.warn(\n",
            "C:\\Users\\boomt\\AppData\\Local\\Programs\\Python\\Python38\\lib\\site-packages\\sklearn\\base.py:445: UserWarning: X does not have valid feature names, but DecisionTreeClassifier was fitted with feature names\n",
            "  warnings.warn(\n"
          ]
        },
        {
          "name": "stdout",
          "output_type": "stream",
          "text": [
            "0.08636474609375, -0.237884521484375, -0.2099151611328125, -1.1177699885031525, 0.18301935432907945, -0.9647716501942094\n",
            "mid: 118\n",
            "0.027557373046875, -0.005279541015625, -0.1045989990234375, 0.015533952322323193, -0.16940128009495928, -0.09805093343399235\n",
            "mid: 119\n"
          ]
        },
        {
          "name": "stderr",
          "output_type": "stream",
          "text": [
            "C:\\Users\\boomt\\AppData\\Local\\Programs\\Python\\Python38\\lib\\site-packages\\sklearn\\base.py:445: UserWarning: X does not have valid feature names, but DecisionTreeClassifier was fitted with feature names\n",
            "  warnings.warn(\n",
            "C:\\Users\\boomt\\AppData\\Local\\Programs\\Python\\Python38\\lib\\site-packages\\sklearn\\base.py:445: UserWarning: X does not have valid feature names, but DecisionTreeClassifier was fitted with feature names\n",
            "  warnings.warn(\n"
          ]
        },
        {
          "name": "stdout",
          "output_type": "stream",
          "text": [
            "-0.0039520263671875, 0.0381927490234375, 0.0459747314453125, -0.03194541622382749, -0.011468370602208225, 0.03852981570293939\n",
            "mid: 120\n",
            "0.0, 0.0, 0.0, 0.020045347208917416, 0.03513162215199829, 0.008522381804362572\n",
            "mid: 121\n"
          ]
        },
        {
          "name": "stderr",
          "output_type": "stream",
          "text": [
            "C:\\Users\\boomt\\AppData\\Local\\Programs\\Python\\Python38\\lib\\site-packages\\sklearn\\base.py:445: UserWarning: X does not have valid feature names, but DecisionTreeClassifier was fitted with feature names\n",
            "  warnings.warn(\n",
            "C:\\Users\\boomt\\AppData\\Local\\Programs\\Python\\Python38\\lib\\site-packages\\sklearn\\base.py:445: UserWarning: X does not have valid feature names, but DecisionTreeClassifier was fitted with feature names\n",
            "  warnings.warn(\n"
          ]
        },
        {
          "name": "stdout",
          "output_type": "stream",
          "text": [
            "-0.0434112548828125, -0.0090179443359375, 0.003143310546875, 0.3729421548358623, 2.9953443633797647, -0.039734097147873224\n",
            "mid: 122\n",
            "0.0, 0.0, 0.0, 1.38434548940125, 8.951594156186825, 0.34736062835288817\n",
            "mid: 123\n",
            "mid: 124\n"
          ]
        },
        {
          "name": "stderr",
          "output_type": "stream",
          "text": [
            "C:\\Users\\boomt\\AppData\\Local\\Programs\\Python\\Python38\\lib\\site-packages\\sklearn\\base.py:445: UserWarning: X does not have valid feature names, but DecisionTreeClassifier was fitted with feature names\n",
            "  warnings.warn(\n",
            "C:\\Users\\boomt\\AppData\\Local\\Programs\\Python\\Python38\\lib\\site-packages\\sklearn\\base.py:445: UserWarning: X does not have valid feature names, but DecisionTreeClassifier was fitted with feature names\n",
            "  warnings.warn(\n"
          ]
        },
        {
          "name": "stdout",
          "output_type": "stream",
          "text": [
            "-0.505523681640625, 0.264556884765625, -0.0556488037109375, -1.0389542686744755, -4.4715481377322455, -0.28377792364335536\n",
            "mid: 125\n",
            "-0.0589141845703125, -0.2443084716796875, 0.3194732666015625, 0.30156863867341177, -0.2576555091429862, 0.5668181516647588\n",
            "mid: 126\n"
          ]
        },
        {
          "name": "stderr",
          "output_type": "stream",
          "text": [
            "C:\\Users\\boomt\\AppData\\Local\\Programs\\Python\\Python38\\lib\\site-packages\\sklearn\\base.py:445: UserWarning: X does not have valid feature names, but DecisionTreeClassifier was fitted with feature names\n",
            "  warnings.warn(\n",
            "C:\\Users\\boomt\\AppData\\Local\\Programs\\Python\\Python38\\lib\\site-packages\\sklearn\\base.py:445: UserWarning: X does not have valid feature names, but DecisionTreeClassifier was fitted with feature names\n",
            "  warnings.warn(\n"
          ]
        },
        {
          "name": "stdout",
          "output_type": "stream",
          "text": [
            "-0.326171875, -0.0359954833984375, 0.47052001953125, -1.0346932109303486, -7.2434993583412215, -0.6333455135915922\n",
            "mid: 127\n",
            "0.0, 0.0, 0.0, 0.0010634002232686396, 0.0010559433722164176, 0.0021355888781345415\n",
            "mid: 128\n"
          ]
        },
        {
          "name": "stderr",
          "output_type": "stream",
          "text": [
            "C:\\Users\\boomt\\AppData\\Local\\Programs\\Python\\Python38\\lib\\site-packages\\sklearn\\base.py:445: UserWarning: X does not have valid feature names, but DecisionTreeClassifier was fitted with feature names\n",
            "  warnings.warn(\n",
            "C:\\Users\\boomt\\AppData\\Local\\Programs\\Python\\Python38\\lib\\site-packages\\sklearn\\base.py:445: UserWarning: X does not have valid feature names, but DecisionTreeClassifier was fitted with feature names\n",
            "  warnings.warn(\n"
          ]
        },
        {
          "name": "stdout",
          "output_type": "stream",
          "text": [
            "0.0009613037109375, -0.0009918212890625, 0.0042877197265625, -0.0010676612810127661, 0.001060204429960545, 3.994741635118121e-06\n",
            "mid: 129\n",
            "-0.000152587890625, 0.000885009765625, -0.0018157958984375, -1.5978966540477688e-06, 8.522115488254767e-06, -0.002135855194243549\n",
            "mid: 130\n"
          ]
        },
        {
          "name": "stderr",
          "output_type": "stream",
          "text": [
            "C:\\Users\\boomt\\AppData\\Local\\Programs\\Python\\Python38\\lib\\site-packages\\sklearn\\base.py:445: UserWarning: X does not have valid feature names, but DecisionTreeClassifier was fitted with feature names\n",
            "  warnings.warn(\n",
            "C:\\Users\\boomt\\AppData\\Local\\Programs\\Python\\Python38\\lib\\site-packages\\sklearn\\base.py:445: UserWarning: X does not have valid feature names, but DecisionTreeClassifier was fitted with feature names\n",
            "  warnings.warn(\n"
          ]
        },
        {
          "name": "stdout",
          "output_type": "stream",
          "text": [
            "-0.001373291015625, -0.00177001953125, 0.0015106201171875, 0.0010684602293397905, -0.0010644654877046723, 0.0010639328554866555\n",
            "mid: 131\n",
            "0.0024871826171875, 0.0037384033203125, -0.004974365234375, 0.010147975333746936, 0.1753917946509835, 0.0018266621916853496\n",
            "mid: 132\n"
          ]
        },
        {
          "name": "stderr",
          "output_type": "stream",
          "text": [
            "C:\\Users\\boomt\\AppData\\Local\\Programs\\Python\\Python38\\lib\\site-packages\\sklearn\\base.py:445: UserWarning: X does not have valid feature names, but DecisionTreeClassifier was fitted with feature names\n",
            "  warnings.warn(\n",
            "C:\\Users\\boomt\\AppData\\Local\\Programs\\Python\\Python38\\lib\\site-packages\\sklearn\\base.py:445: UserWarning: X does not have valid feature names, but DecisionTreeClassifier was fitted with feature names\n",
            "  warnings.warn(\n"
          ]
        },
        {
          "name": "stdout",
          "output_type": "stream",
          "text": [
            "0.1015777587890625, 0.1464996337890625, 0.096435546875, 0.33505469358785006, 0.8528387232620699, 1.2658529303881365\n",
            "mid: 133\n",
            "0.0, 0.0, 0.0, -0.06930876736931219, -0.061354704141572514, -0.36627066998910485\n",
            "mid: 134\n"
          ]
        },
        {
          "name": "stderr",
          "output_type": "stream",
          "text": [
            "C:\\Users\\boomt\\AppData\\Local\\Programs\\Python\\Python38\\lib\\site-packages\\sklearn\\base.py:445: UserWarning: X does not have valid feature names, but DecisionTreeClassifier was fitted with feature names\n",
            "  warnings.warn(\n",
            "C:\\Users\\boomt\\AppData\\Local\\Programs\\Python\\Python38\\lib\\site-packages\\sklearn\\base.py:445: UserWarning: X does not have valid feature names, but DecisionTreeClassifier was fitted with feature names\n",
            "  warnings.warn(\n"
          ]
        },
        {
          "name": "stdout",
          "output_type": "stream",
          "text": [
            "0.373504638671875, 0.418182373046875, -0.6476287841796875, 0.46003391406806954, 0.8848666974796897, 0.5132353505323645\n",
            "mid: 135\n",
            "-0.1057586669921875, 0.2492218017578125, -0.349273681640625, -0.7149519599265632, -0.29429234994309716, -0.35150077858352535\n",
            "mid: 136\n"
          ]
        },
        {
          "name": "stderr",
          "output_type": "stream",
          "text": [
            "C:\\Users\\boomt\\AppData\\Local\\Programs\\Python\\Python38\\lib\\site-packages\\sklearn\\base.py:445: UserWarning: X does not have valid feature names, but DecisionTreeClassifier was fitted with feature names\n",
            "  warnings.warn(\n",
            "C:\\Users\\boomt\\AppData\\Local\\Programs\\Python\\Python38\\lib\\site-packages\\sklearn\\base.py:445: UserWarning: X does not have valid feature names, but DecisionTreeClassifier was fitted with feature names\n",
            "  warnings.warn(\n"
          ]
        },
        {
          "name": "stdout",
          "output_type": "stream",
          "text": [
            "-0.383209228515625, 0.1085357666015625, 0.0398101806640625, 0.3153712699710744, -0.415751936726668, -0.8895767641836039\n",
            "mid: 137\n",
            "0.0, 0.0, 0.0, 0.005655488890892235, -0.7366830881055009, 0.19809817242110808\n",
            "mid: 138\n"
          ]
        },
        {
          "name": "stderr",
          "output_type": "stream",
          "text": [
            "C:\\Users\\boomt\\AppData\\Local\\Programs\\Python\\Python38\\lib\\site-packages\\sklearn\\base.py:445: UserWarning: X does not have valid feature names, but DecisionTreeClassifier was fitted with feature names\n",
            "  warnings.warn(\n",
            "C:\\Users\\boomt\\AppData\\Local\\Programs\\Python\\Python38\\lib\\site-packages\\sklearn\\base.py:445: UserWarning: X does not have valid feature names, but DecisionTreeClassifier was fitted with feature names\n",
            "  warnings.warn(\n"
          ]
        },
        {
          "name": "stdout",
          "output_type": "stream",
          "text": [
            "0.2113037109375, -0.13037109375, -0.0281219482421875, 0.7477698277235008, -0.08922468494925173, 0.1040707427620075\n",
            "mid: 139\n",
            "-0.0427703857421875, 0.1440582275390625, 0.0647735595703125, -0.8770878702516773, 0.08632263830939241, -0.19837194538116826\n",
            "mid: 140\n"
          ]
        },
        {
          "name": "stderr",
          "output_type": "stream",
          "text": [
            "C:\\Users\\boomt\\AppData\\Local\\Programs\\Python\\Python38\\lib\\site-packages\\sklearn\\base.py:445: UserWarning: X does not have valid feature names, but DecisionTreeClassifier was fitted with feature names\n",
            "  warnings.warn(\n",
            "C:\\Users\\boomt\\AppData\\Local\\Programs\\Python\\Python38\\lib\\site-packages\\sklearn\\base.py:445: UserWarning: X does not have valid feature names, but DecisionTreeClassifier was fitted with feature names\n",
            "  warnings.warn(\n"
          ]
        },
        {
          "name": "stdout",
          "output_type": "stream",
          "text": [
            "-0.0865325927734375, 0.084716796875, 0.03265380859375, 0.17676678472179141, -0.14868588155577794, -0.2145597037511059\n",
            "mid: 141\n",
            "0.0661773681640625, -0.098419189453125, 0.006622314453125, 0.12797421144212268, 0.04131628115148933, 0.31040474085418557\n",
            "mid: 142\n"
          ]
        },
        {
          "name": "stderr",
          "output_type": "stream",
          "text": [
            "C:\\Users\\boomt\\AppData\\Local\\Programs\\Python\\Python38\\lib\\site-packages\\sklearn\\base.py:445: UserWarning: X does not have valid feature names, but DecisionTreeClassifier was fitted with feature names\n",
            "  warnings.warn(\n",
            "C:\\Users\\boomt\\AppData\\Local\\Programs\\Python\\Python38\\lib\\site-packages\\sklearn\\base.py:445: UserWarning: X does not have valid feature names, but DecisionTreeClassifier was fitted with feature names\n",
            "  warnings.warn(\n"
          ]
        },
        {
          "name": "stdout",
          "output_type": "stream",
          "text": [
            "-0.0890045166015625, 0.020660400390625, -0.13861083984375, -0.48869778319670143, -0.29143930546729535, -0.37745141919358444\n",
            "mid: 143\n",
            "0.0, 0.0, 0.0, 0.009544236714625974, 0.047241814576915606, 0.35685240079403957\n",
            "mid: 144\n"
          ]
        },
        {
          "name": "stderr",
          "output_type": "stream",
          "text": [
            "C:\\Users\\boomt\\AppData\\Local\\Programs\\Python\\Python38\\lib\\site-packages\\sklearn\\base.py:445: UserWarning: X does not have valid feature names, but DecisionTreeClassifier was fitted with feature names\n",
            "  warnings.warn(\n",
            "C:\\Users\\boomt\\AppData\\Local\\Programs\\Python\\Python38\\lib\\site-packages\\sklearn\\base.py:445: UserWarning: X does not have valid feature names, but DecisionTreeClassifier was fitted with feature names\n",
            "  warnings.warn(\n"
          ]
        },
        {
          "name": "stdout",
          "output_type": "stream",
          "text": [
            "-0.024932861328125, 0.0047149658203125, 0.00439453125, -0.023284816358889803, -0.06246178020671845, -0.2875164691816086\n",
            "mid: 145\n",
            "-0.00048828125, -0.012603759765625, -0.0009613037109375, -0.010612963260074772, 0.021776401917468925, 0.12821176541135776\n",
            "mid: 146\n"
          ]
        },
        {
          "name": "stderr",
          "output_type": "stream",
          "text": [
            "C:\\Users\\boomt\\AppData\\Local\\Programs\\Python\\Python38\\lib\\site-packages\\sklearn\\base.py:445: UserWarning: X does not have valid feature names, but DecisionTreeClassifier was fitted with feature names\n",
            "  warnings.warn(\n",
            "C:\\Users\\boomt\\AppData\\Local\\Programs\\Python\\Python38\\lib\\site-packages\\sklearn\\base.py:445: UserWarning: X does not have valid feature names, but DecisionTreeClassifier was fitted with feature names\n",
            "  warnings.warn(\n"
          ]
        },
        {
          "name": "stdout",
          "output_type": "stream",
          "text": [
            "0.0900115966796875, -0.09765625, 0.2997589111328125, 0.8165843123944942, -0.021046962094896222, -0.1746793990593873\n",
            "mid: 147\n",
            "0.0, 0.0, 0.0, 0.21962184035112853, 0.1706961090169558, 0.2144390625537253\n",
            "mid: 148\n"
          ]
        },
        {
          "name": "stderr",
          "output_type": "stream",
          "text": [
            "C:\\Users\\boomt\\AppData\\Local\\Programs\\Python\\Python38\\lib\\site-packages\\sklearn\\base.py:445: UserWarning: X does not have valid feature names, but DecisionTreeClassifier was fitted with feature names\n",
            "  warnings.warn(\n",
            "C:\\Users\\boomt\\AppData\\Local\\Programs\\Python\\Python38\\lib\\site-packages\\sklearn\\base.py:445: UserWarning: X does not have valid feature names, but DecisionTreeClassifier was fitted with feature names\n",
            "  warnings.warn(\n"
          ]
        },
        {
          "name": "stdout",
          "output_type": "stream",
          "text": [
            "0.1251983642578125, -0.4133758544921875, 0.459991455078125, 1.368575048374128, -0.006374808701322676, -0.13403609871536104\n",
            "mid: 149\n",
            "0.00335693359375, -0.18402099609375, 0.1731414794921875, -1.9664312772793242, -0.09359013860810964, -0.059822321250340926\n",
            "mid: 150\n"
          ]
        },
        {
          "name": "stderr",
          "output_type": "stream",
          "text": [
            "C:\\Users\\boomt\\AppData\\Local\\Programs\\Python\\Python38\\lib\\site-packages\\sklearn\\base.py:445: UserWarning: X does not have valid feature names, but DecisionTreeClassifier was fitted with feature names\n",
            "  warnings.warn(\n",
            "C:\\Users\\boomt\\AppData\\Local\\Programs\\Python\\Python38\\lib\\site-packages\\sklearn\\base.py:445: UserWarning: X does not have valid feature names, but DecisionTreeClassifier was fitted with feature names\n",
            "  warnings.warn(\n"
          ]
        },
        {
          "name": "stdout",
          "output_type": "stream",
          "text": [
            "-0.139617919921875, -0.134857177734375, 0.0685272216796875, -0.37043825077896986, 0.06682323912394122, 0.2759112120993703\n",
            "mid: 151\n",
            "-0.0977325439453125, 0.135223388671875, -0.0766143798828125, 0.2074176383397314, 1.6725370699191937, -0.28255020638082884\n",
            "mid: 152\n"
          ]
        },
        {
          "name": "stderr",
          "output_type": "stream",
          "text": [
            "C:\\Users\\boomt\\AppData\\Local\\Programs\\Python\\Python38\\lib\\site-packages\\sklearn\\base.py:445: UserWarning: X does not have valid feature names, but DecisionTreeClassifier was fitted with feature names\n",
            "  warnings.warn(\n",
            "C:\\Users\\boomt\\AppData\\Local\\Programs\\Python\\Python38\\lib\\site-packages\\sklearn\\base.py:445: UserWarning: X does not have valid feature names, but DecisionTreeClassifier was fitted with feature names\n",
            "  warnings.warn(\n"
          ]
        },
        {
          "name": "stdout",
          "output_type": "stream",
          "text": [
            "0.1594696044921875, -0.063812255859375, -0.029083251953125, -0.23400743761140952, -1.7679930191870128, -0.03580859770109643\n",
            "mid: 153\n",
            "0.0, 0.0, 0.0, -0.039343411415958596, -0.029662288221302555, 0.027791683871630897\n",
            "mid: 154\n"
          ]
        },
        {
          "name": "stderr",
          "output_type": "stream",
          "text": [
            "C:\\Users\\boomt\\AppData\\Local\\Programs\\Python\\Python38\\lib\\site-packages\\sklearn\\base.py:445: UserWarning: X does not have valid feature names, but DecisionTreeClassifier was fitted with feature names\n",
            "  warnings.warn(\n",
            "C:\\Users\\boomt\\AppData\\Local\\Programs\\Python\\Python38\\lib\\site-packages\\sklearn\\base.py:445: UserWarning: X does not have valid feature names, but DecisionTreeClassifier was fitted with feature names\n",
            "  warnings.warn(\n"
          ]
        },
        {
          "name": "stdout",
          "output_type": "stream",
          "text": [
            "-0.018463134765625, 0.0047149658203125, -0.006683349609375, 0.028871862009767036, 0.013450295085445192, -0.005205680982777884\n",
            "mid: 155\n",
            "-0.0004730224609375, -0.0061187744140625, 0.0045166015625, -0.032958749018602636, 0.019162509307556152, 0.006375075017431682\n",
            "mid: 156\n"
          ]
        },
        {
          "name": "stderr",
          "output_type": "stream",
          "text": [
            "C:\\Users\\boomt\\AppData\\Local\\Programs\\Python\\Python38\\lib\\site-packages\\sklearn\\base.py:445: UserWarning: X does not have valid feature names, but DecisionTreeClassifier was fitted with feature names\n",
            "  warnings.warn(\n",
            "C:\\Users\\boomt\\AppData\\Local\\Programs\\Python\\Python38\\lib\\site-packages\\sklearn\\base.py:445: UserWarning: X does not have valid feature names, but DecisionTreeClassifier was fitted with feature names\n",
            "  warnings.warn(\n"
          ]
        },
        {
          "name": "stdout",
          "output_type": "stream",
          "text": [
            "-0.0109100341796875, 0.0140838623046875, 0.000457763671875, -0.008621717713022526, -0.0350783589301967, 0.009532785121938628\n",
            "mid: 157\n",
            "0.0, 0.0, 0.0, 0.018185395503606077, 0.018210961850070838, -0.04282975559898133\n",
            "mid: 158\n"
          ]
        },
        {
          "name": "stderr",
          "output_type": "stream",
          "text": [
            "C:\\Users\\boomt\\AppData\\Local\\Programs\\Python\\Python38\\lib\\site-packages\\sklearn\\base.py:445: UserWarning: X does not have valid feature names, but DecisionTreeClassifier was fitted with feature names\n",
            "  warnings.warn(\n",
            "C:\\Users\\boomt\\AppData\\Local\\Programs\\Python\\Python38\\lib\\site-packages\\sklearn\\base.py:445: UserWarning: X does not have valid feature names, but DecisionTreeClassifier was fitted with feature names\n",
            "  warnings.warn(\n"
          ]
        },
        {
          "name": "stdout",
          "output_type": "stream",
          "text": [
            "-0.0388336181640625, 0.00897216796875, 0.0096893310546875, 0.014884141016343857, -0.010614827472837828, 0.009600163097517638\n",
            "mid: 159\n",
            "0.0, 0.0, 0.0, -0.027828169178564986, 0.005396895949045577, 0.002203233169822554\n",
            "mid: 160\n"
          ]
        },
        {
          "name": "stderr",
          "output_type": "stream",
          "text": [
            "C:\\Users\\boomt\\AppData\\Local\\Programs\\Python\\Python38\\lib\\site-packages\\sklearn\\base.py:445: UserWarning: X does not have valid feature names, but DecisionTreeClassifier was fitted with feature names\n",
            "  warnings.warn(\n",
            "C:\\Users\\boomt\\AppData\\Local\\Programs\\Python\\Python38\\lib\\site-packages\\sklearn\\base.py:445: UserWarning: X does not have valid feature names, but DecisionTreeClassifier was fitted with feature names\n",
            "  warnings.warn(\n"
          ]
        },
        {
          "name": "stdout",
          "output_type": "stream",
          "text": [
            "0.008056640625, -0.0088043212890625, -0.0094451904296875, 0.005371063286471808, -0.011755991999936783, -0.00743847524070032\n",
            "mid: 161\n",
            "0.0105438232421875, -0.00347900390625, -0.004547119140625, -0.0073596456724339746, 0.013723002781069308, 0.015002918000961388\n",
            "mid: 162\n"
          ]
        },
        {
          "name": "stderr",
          "output_type": "stream",
          "text": [
            "C:\\Users\\boomt\\AppData\\Local\\Programs\\Python\\Python38\\lib\\site-packages\\sklearn\\base.py:445: UserWarning: X does not have valid feature names, but DecisionTreeClassifier was fitted with feature names\n",
            "  warnings.warn(\n",
            "C:\\Users\\boomt\\AppData\\Local\\Programs\\Python\\Python38\\lib\\site-packages\\sklearn\\base.py:445: UserWarning: X does not have valid feature names, but DecisionTreeClassifier was fitted with feature names\n",
            "  warnings.warn(\n"
          ]
        },
        {
          "name": "stdout",
          "output_type": "stream",
          "text": [
            "-0.007110595703125, 0.00811767578125, -0.00115966796875, -0.001093227627477527, -0.013757091243022322, -0.012841496460253078\n",
            "mid: 163\n",
            "0.0, 0.0, 0.0, 0.006442719309119693, 0.01597763495993039, -0.003301520803371231\n",
            "mid: 164\n"
          ]
        },
        {
          "name": "stderr",
          "output_type": "stream",
          "text": [
            "C:\\Users\\boomt\\AppData\\Local\\Programs\\Python\\Python38\\lib\\site-packages\\sklearn\\base.py:445: UserWarning: X does not have valid feature names, but DecisionTreeClassifier was fitted with feature names\n",
            "  warnings.warn(\n",
            "C:\\Users\\boomt\\AppData\\Local\\Programs\\Python\\Python38\\lib\\site-packages\\sklearn\\base.py:445: UserWarning: X does not have valid feature names, but DecisionTreeClassifier was fitted with feature names\n",
            "  warnings.warn(\n"
          ]
        },
        {
          "name": "stdout",
          "output_type": "stream",
          "text": [
            "0.01739501953125, 0.0006103515625, 0.000762939453125, 0.0031968585725311166, 0.005241367341384945, 0.005493835012724461\n",
            "mid: 165\n",
            "0.0018463134765625, 0.0003814697265625, 0.003570556640625, 0.02101580311014229, 0.022611569235317777, 0.031918251980708676\n",
            "mid: 166\n"
          ]
        },
        {
          "name": "stderr",
          "output_type": "stream",
          "text": [
            "C:\\Users\\boomt\\AppData\\Local\\Programs\\Python\\Python38\\lib\\site-packages\\sklearn\\base.py:445: UserWarning: X does not have valid feature names, but DecisionTreeClassifier was fitted with feature names\n",
            "  warnings.warn(\n",
            "C:\\Users\\boomt\\AppData\\Local\\Programs\\Python\\Python38\\lib\\site-packages\\sklearn\\base.py:445: UserWarning: X does not have valid feature names, but DecisionTreeClassifier was fitted with feature names\n",
            "  warnings.warn(\n"
          ]
        },
        {
          "name": "stdout",
          "output_type": "stream",
          "text": [
            "-0.036773681640625, 0.00689697265625, 0.010040283203125, 0.0011483550620421668, -0.014051104227367071, -0.024519457840250537\n",
            "mid: 167\n",
            "0.0, 0.0, 0.0, -0.0339153564821591, -0.024446487226382367, -0.013857758732227318\n",
            "mid: 168\n"
          ]
        },
        {
          "name": "stderr",
          "output_type": "stream",
          "text": [
            "C:\\Users\\boomt\\AppData\\Local\\Programs\\Python\\Python38\\lib\\site-packages\\sklearn\\base.py:445: UserWarning: X does not have valid feature names, but DecisionTreeClassifier was fitted with feature names\n",
            "  warnings.warn(\n",
            "C:\\Users\\boomt\\AppData\\Local\\Programs\\Python\\Python38\\lib\\site-packages\\sklearn\\base.py:445: UserWarning: X does not have valid feature names, but DecisionTreeClassifier was fitted with feature names\n",
            "  warnings.warn(\n"
          ]
        },
        {
          "name": "stdout",
          "output_type": "stream",
          "text": [
            "-0.0050506591796875, -0.032257080078125, -0.003692626953125, 0.010520551570249023, 0.010636132761558462, 0.0021331920331534703\n",
            "mid: 169\n",
            "0.0, 0.0, 0.0, -0.008483499652447412, -0.019041069161848535, 0.011701929829808173\n",
            "mid: 170\n"
          ]
        },
        {
          "name": "stderr",
          "output_type": "stream",
          "text": [
            "C:\\Users\\boomt\\AppData\\Local\\Programs\\Python\\Python38\\lib\\site-packages\\sklearn\\base.py:445: UserWarning: X does not have valid feature names, but DecisionTreeClassifier was fitted with feature names\n",
            "  warnings.warn(\n",
            "C:\\Users\\boomt\\AppData\\Local\\Programs\\Python\\Python38\\lib\\site-packages\\sklearn\\base.py:445: UserWarning: X does not have valid feature names, but DecisionTreeClassifier was fitted with feature names\n",
            "  warnings.warn(\n"
          ]
        },
        {
          "name": "stdout",
          "output_type": "stream",
          "text": [
            "-0.0021209716796875, 0.0050048828125, -0.000244140625, 0.008695220959108713, 0.04547161140033994, 0.00974583800914497\n",
            "mid: 171\n",
            "0.0088043212890625, -0.0023193359375, -0.0021209716796875, -0.005540706647909855, -0.02536607675078673, -0.024639033773195096\n",
            "mid: 172\n"
          ]
        },
        {
          "name": "stderr",
          "output_type": "stream",
          "text": [
            "C:\\Users\\boomt\\AppData\\Local\\Programs\\Python\\Python38\\lib\\site-packages\\sklearn\\base.py:445: UserWarning: X does not have valid feature names, but DecisionTreeClassifier was fitted with feature names\n",
            "  warnings.warn(\n",
            "C:\\Users\\boomt\\AppData\\Local\\Programs\\Python\\Python38\\lib\\site-packages\\sklearn\\base.py:445: UserWarning: X does not have valid feature names, but DecisionTreeClassifier was fitted with feature names\n",
            "  warnings.warn(\n"
          ]
        },
        {
          "name": "stdout",
          "output_type": "stream",
          "text": [
            "0.01727294921875, 0.0126190185546875, 0.0040130615234375, 0.028677983882409268, 0.02450401150592808, -0.0032184301773607593\n",
            "mid: 173\n",
            "0.0, 0.0, 0.0, -0.01269209312309963, -0.03501870412177893, 0.015997342351996978\n",
            "mid: 174\n"
          ]
        },
        {
          "name": "stderr",
          "output_type": "stream",
          "text": [
            "C:\\Users\\boomt\\AppData\\Local\\Programs\\Python\\Python38\\lib\\site-packages\\sklearn\\base.py:445: UserWarning: X does not have valid feature names, but DecisionTreeClassifier was fitted with feature names\n",
            "  warnings.warn(\n",
            "C:\\Users\\boomt\\AppData\\Local\\Programs\\Python\\Python38\\lib\\site-packages\\sklearn\\base.py:445: UserWarning: X does not have valid feature names, but DecisionTreeClassifier was fitted with feature names\n",
            "  warnings.warn(\n"
          ]
        },
        {
          "name": "stdout",
          "output_type": "stream",
          "text": [
            "-0.0372467041015625, -0.02911376953125, 0.00653076171875, 0.008489624922954592, 0.024241956454664284, 0.020302075938001055\n",
            "mid: 175\n",
            "0.01654052734375, 0.0221710205078125, 0.00164794921875, -0.007390005708860878, -0.02861273643570233, -0.021393971984933542\n",
            "mid: 176\n"
          ]
        },
        {
          "name": "stderr",
          "output_type": "stream",
          "text": [
            "C:\\Users\\boomt\\AppData\\Local\\Programs\\Python\\Python38\\lib\\site-packages\\sklearn\\base.py:445: UserWarning: X does not have valid feature names, but DecisionTreeClassifier was fitted with feature names\n",
            "  warnings.warn(\n",
            "C:\\Users\\boomt\\AppData\\Local\\Programs\\Python\\Python38\\lib\\site-packages\\sklearn\\base.py:445: UserWarning: X does not have valid feature names, but DecisionTreeClassifier was fitted with feature names\n",
            "  warnings.warn(\n"
          ]
        },
        {
          "name": "stdout",
          "output_type": "stream",
          "text": [
            "0.0048828125, -0.0107269287109375, -0.009002685546875, -0.009592706246465415, 0.0010815097186811784, -0.009590309401484344\n",
            "mid: 177\n",
            "0.0, 0.0, 0.0, -0.006273608579899661, 0.011630290796485043, 0.00433056624857785\n",
            "mid: 178\n"
          ]
        },
        {
          "name": "stderr",
          "output_type": "stream",
          "text": [
            "C:\\Users\\boomt\\AppData\\Local\\Programs\\Python\\Python38\\lib\\site-packages\\sklearn\\base.py:445: UserWarning: X does not have valid feature names, but DecisionTreeClassifier was fitted with feature names\n",
            "  warnings.warn(\n",
            "C:\\Users\\boomt\\AppData\\Local\\Programs\\Python\\Python38\\lib\\site-packages\\sklearn\\base.py:445: UserWarning: X does not have valid feature names, but DecisionTreeClassifier was fitted with feature names\n",
            "  warnings.warn(\n"
          ]
        },
        {
          "name": "stdout",
          "output_type": "stream",
          "text": [
            "0.0056304931640625, -0.0027923583984375, -0.0063018798828125, -0.00010546117916713799, -0.012739497390503045, 0.00422377348886567\n",
            "mid: 179\n",
            "0.0, 0.0, 0.0, 0.007513842699549563, -7.45685105222188e-05, 0.008583900825543401\n",
            "mid: 180\n",
            "mid: 181\n"
          ]
        },
        {
          "name": "stderr",
          "output_type": "stream",
          "text": [
            "C:\\Users\\boomt\\AppData\\Local\\Programs\\Python\\Python38\\lib\\site-packages\\sklearn\\base.py:445: UserWarning: X does not have valid feature names, but DecisionTreeClassifier was fitted with feature names\n",
            "  warnings.warn(\n",
            "C:\\Users\\boomt\\AppData\\Local\\Programs\\Python\\Python38\\lib\\site-packages\\sklearn\\base.py:445: UserWarning: X does not have valid feature names, but DecisionTreeClassifier was fitted with feature names\n",
            "  warnings.warn(\n"
          ]
        },
        {
          "name": "stdout",
          "output_type": "stream",
          "text": [
            "0.007659912109375, 0.0068511962890625, 0.0047454833984375, 0.0031774174965735393, -0.01265640676449257, -0.020385965512338552\n",
            "mid: 182\n",
            "0.000579833984375, -0.004150390625, 0.0048828125, -0.005385444356358236, 0.018070346944514655, 0.007529022717763014\n",
            "mid: 183\n"
          ]
        },
        {
          "name": "stderr",
          "output_type": "stream",
          "text": [
            "C:\\Users\\boomt\\AppData\\Local\\Programs\\Python\\Python38\\lib\\site-packages\\sklearn\\base.py:445: UserWarning: X does not have valid feature names, but DecisionTreeClassifier was fitted with feature names\n",
            "  warnings.warn(\n",
            "C:\\Users\\boomt\\AppData\\Local\\Programs\\Python\\Python38\\lib\\site-packages\\sklearn\\base.py:445: UserWarning: X does not have valid feature names, but DecisionTreeClassifier was fitted with feature names\n",
            "  warnings.warn(\n"
          ]
        },
        {
          "name": "stdout",
          "output_type": "stream",
          "text": [
            "0.0564727783203125, -0.0043182373046875, -0.0052947998046875, 0.017249028064334218, 0.037143374039444135, -0.00871732519615637\n",
            "mid: 184\n",
            "0.0, 0.0, 0.0, -0.02217587608098081, 0.07115300642419206, 0.015351259471543753\n",
            "mid: 185\n"
          ]
        },
        {
          "name": "stderr",
          "output_type": "stream",
          "text": [
            "C:\\Users\\boomt\\AppData\\Local\\Programs\\Python\\Python38\\lib\\site-packages\\sklearn\\base.py:445: UserWarning: X does not have valid feature names, but DecisionTreeClassifier was fitted with feature names\n",
            "  warnings.warn(\n",
            "C:\\Users\\boomt\\AppData\\Local\\Programs\\Python\\Python38\\lib\\site-packages\\sklearn\\base.py:445: UserWarning: X does not have valid feature names, but DecisionTreeClassifier was fitted with feature names\n",
            "  warnings.warn(\n"
          ]
        },
        {
          "name": "stdout",
          "output_type": "stream",
          "text": [
            "-0.0741119384765625, -0.003173828125, 9.1552734375e-05, 0.20072617978479831, -0.10207710036997415, 0.10371760760146295\n",
            "mid: 186\n",
            "-0.009124755859375, -0.0650787353515625, 0.006591796875, 0.09721683138057954, 0.2919801934846904, -0.09002256801183948\n",
            "mid: 187\n"
          ]
        },
        {
          "name": "stderr",
          "output_type": "stream",
          "text": [
            "C:\\Users\\boomt\\AppData\\Local\\Programs\\Python\\Python38\\lib\\site-packages\\sklearn\\base.py:445: UserWarning: X does not have valid feature names, but DecisionTreeClassifier was fitted with feature names\n",
            "  warnings.warn(\n",
            "C:\\Users\\boomt\\AppData\\Local\\Programs\\Python\\Python38\\lib\\site-packages\\sklearn\\base.py:445: UserWarning: X does not have valid feature names, but DecisionTreeClassifier was fitted with feature names\n",
            "  warnings.warn(\n"
          ]
        },
        {
          "name": "stdout",
          "output_type": "stream",
          "text": [
            "0.045257568359375, -0.0794677734375, 0.00396728515625, -0.1348174701791903, -0.1876902725649694, 0.1538409624778443\n",
            "mid: 188\n",
            "-0.1015777587890625, 0.0374603271484375, 0.0048370361328125, 0.12279542838635457, 1.5528386315644922, 0.5448673126958896\n",
            "mid: 189\n"
          ]
        },
        {
          "name": "stderr",
          "output_type": "stream",
          "text": [
            "C:\\Users\\boomt\\AppData\\Local\\Programs\\Python\\Python38\\lib\\site-packages\\sklearn\\base.py:445: UserWarning: X does not have valid feature names, but DecisionTreeClassifier was fitted with feature names\n",
            "  warnings.warn(\n",
            "C:\\Users\\boomt\\AppData\\Local\\Programs\\Python\\Python38\\lib\\site-packages\\sklearn\\base.py:445: UserWarning: X does not have valid feature names, but DecisionTreeClassifier was fitted with feature names\n",
            "  warnings.warn(\n"
          ]
        },
        {
          "name": "stdout",
          "output_type": "stream",
          "text": [
            "0.9744110107421875, -0.035858154296875, -0.8696136474609375, -0.17919345710707163, -1.1350413871206433, -0.7091055223855123\n",
            "mid: 190\n",
            "0.0, 0.0, 0.0, 0.16596606860486607, -0.23910712478280227, 0.32964128604004594\n",
            "mid: 191\n"
          ]
        },
        {
          "name": "stderr",
          "output_type": "stream",
          "text": [
            "C:\\Users\\boomt\\AppData\\Local\\Programs\\Python\\Python38\\lib\\site-packages\\sklearn\\base.py:445: UserWarning: X does not have valid feature names, but DecisionTreeClassifier was fitted with feature names\n",
            "  warnings.warn(\n",
            "C:\\Users\\boomt\\AppData\\Local\\Programs\\Python\\Python38\\lib\\site-packages\\sklearn\\base.py:445: UserWarning: X does not have valid feature names, but DecisionTreeClassifier was fitted with feature names\n",
            "  warnings.warn(\n"
          ]
        },
        {
          "name": "stdout",
          "output_type": "stream",
          "text": [
            "-0.013031005859375, 0.02398681640625, 0.045440673828125, -0.2042359597854137, -0.06317550737885969, -0.31871273819079676\n",
            "mid: 192\n",
            "-0.007659912109375, -0.0666046142578125, -0.06134033203125, 0.028310201335869326, -0.14160373726893022, 0.0638852398093658\n",
            "mid: 193\n"
          ]
        },
        {
          "name": "stderr",
          "output_type": "stream",
          "text": [
            "C:\\Users\\boomt\\AppData\\Local\\Programs\\Python\\Python38\\lib\\site-packages\\sklearn\\base.py:445: UserWarning: X does not have valid feature names, but DecisionTreeClassifier was fitted with feature names\n",
            "  warnings.warn(\n",
            "C:\\Users\\boomt\\AppData\\Local\\Programs\\Python\\Python38\\lib\\site-packages\\sklearn\\base.py:445: UserWarning: X does not have valid feature names, but DecisionTreeClassifier was fitted with feature names\n",
            "  warnings.warn(\n"
          ]
        },
        {
          "name": "stdout",
          "output_type": "stream",
          "text": [
            "-0.024200439453125, 0.025970458984375, 0.0293731689453125, -0.10273756432031379, 0.01109206594018003, -0.0653337331262599\n",
            "mid: 194\n",
            "0.0, 0.0, 0.0, 0.04741172425446266, -0.03065431572735708, 0.004889830077494488\n",
            "mid: 195\n"
          ]
        },
        {
          "name": "stderr",
          "output_type": "stream",
          "text": [
            "C:\\Users\\boomt\\AppData\\Local\\Programs\\Python\\Python38\\lib\\site-packages\\sklearn\\base.py:445: UserWarning: X does not have valid feature names, but DecisionTreeClassifier was fitted with feature names\n",
            "  warnings.warn(\n",
            "C:\\Users\\boomt\\AppData\\Local\\Programs\\Python\\Python38\\lib\\site-packages\\sklearn\\base.py:445: UserWarning: X does not have valid feature names, but DecisionTreeClassifier was fitted with feature names\n",
            "  warnings.warn(\n"
          ]
        },
        {
          "name": "stdout",
          "output_type": "stream",
          "text": [
            "0.012847900390625, 0.0367584228515625, -0.02606201171875, -0.03428313902869904, -0.08270446765241074, 0.02264006505898162\n",
            "mid: 196\n",
            "-0.0077056884765625, 0.00146484375, 0.0011138916015625, -0.008611597700880226, 0.014646853363217796, -0.046934485787120464\n",
            "mid: 197\n"
          ]
        },
        {
          "name": "stderr",
          "output_type": "stream",
          "text": [
            "C:\\Users\\boomt\\AppData\\Local\\Programs\\Python\\Python38\\lib\\site-packages\\sklearn\\base.py:445: UserWarning: X does not have valid feature names, but DecisionTreeClassifier was fitted with feature names\n",
            "  warnings.warn(\n",
            "C:\\Users\\boomt\\AppData\\Local\\Programs\\Python\\Python38\\lib\\site-packages\\sklearn\\base.py:445: UserWarning: X does not have valid feature names, but DecisionTreeClassifier was fitted with feature names\n",
            "  warnings.warn(\n"
          ]
        },
        {
          "name": "stdout",
          "output_type": "stream",
          "text": [
            "0.0009918212890625, 0.0072174072265625, -0.0072784423828125, 0.01171364773860452, 1.4913702104442372e-05, 0.002112419376650852\n",
            "mid: 198\n",
            "-0.0005645751953125, 0.0050201416015625, -0.0025787353515625, -0.012704609980223006, -0.008468852266451977, -0.005362541170983553\n",
            "mid: 199\n"
          ]
        },
        {
          "name": "stderr",
          "output_type": "stream",
          "text": [
            "C:\\Users\\boomt\\AppData\\Local\\Programs\\Python\\Python38\\lib\\site-packages\\sklearn\\base.py:445: UserWarning: X does not have valid feature names, but DecisionTreeClassifier was fitted with feature names\n",
            "  warnings.warn(\n",
            "C:\\Users\\boomt\\AppData\\Local\\Programs\\Python\\Python38\\lib\\site-packages\\sklearn\\base.py:445: UserWarning: X does not have valid feature names, but DecisionTreeClassifier was fitted with feature names\n",
            "  warnings.warn(\n"
          ]
        },
        {
          "name": "stdout",
          "output_type": "stream",
          "text": [
            "0.0027008056640625, 0.0151214599609375, -0.042144775390625, 0.2237590611045666, 0.1228998243010857, 0.22498091941269496\n",
            "mid: 200\n",
            "0.0, 0.0, 0.0, 1.6825140703109576, 0.40897818649405154, 0.05986226866669209\n",
            "mid: 201\n"
          ]
        },
        {
          "name": "stderr",
          "output_type": "stream",
          "text": [
            "C:\\Users\\boomt\\AppData\\Local\\Programs\\Python\\Python38\\lib\\site-packages\\sklearn\\base.py:445: UserWarning: X does not have valid feature names, but DecisionTreeClassifier was fitted with feature names\n",
            "  warnings.warn(\n",
            "C:\\Users\\boomt\\AppData\\Local\\Programs\\Python\\Python38\\lib\\site-packages\\sklearn\\base.py:445: UserWarning: X does not have valid feature names, but DecisionTreeClassifier was fitted with feature names\n",
            "  warnings.warn(\n"
          ]
        },
        {
          "name": "stdout",
          "output_type": "stream",
          "text": [
            "-0.39990234375, 0.14093017578125, 0.591217041015625, -1.1143017538155422, -0.4720306558305496, -0.25318645851772414\n",
            "mid: 202\n",
            "-0.2298431396484375, 0.517822265625, -0.27093505859375, -0.510795096025525, 0.22882758929120545, 1.235958947151997\n",
            "mid: 203\n"
          ]
        },
        {
          "name": "stderr",
          "output_type": "stream",
          "text": [
            "C:\\Users\\boomt\\AppData\\Local\\Programs\\Python\\Python38\\lib\\site-packages\\sklearn\\base.py:445: UserWarning: X does not have valid feature names, but DecisionTreeClassifier was fitted with feature names\n",
            "  warnings.warn(\n",
            "C:\\Users\\boomt\\AppData\\Local\\Programs\\Python\\Python38\\lib\\site-packages\\sklearn\\base.py:445: UserWarning: X does not have valid feature names, but DecisionTreeClassifier was fitted with feature names\n",
            "  warnings.warn(\n"
          ]
        },
        {
          "name": "stdout",
          "output_type": "stream",
          "text": [
            "-0.2662811279296875, 0.2542266845703125, -0.2962799072265625, -0.07876858187738264, 0.5288286913469964, -1.2550498174262301\n",
            "mid: 204\n",
            "0.0, 0.0, 0.0, -0.13246003998225214, -0.3845434171764655, 0.5917666447566211\n",
            "mid: 205\n"
          ]
        },
        {
          "name": "stderr",
          "output_type": "stream",
          "text": [
            "C:\\Users\\boomt\\AppData\\Local\\Programs\\Python\\Python38\\lib\\site-packages\\sklearn\\base.py:445: UserWarning: X does not have valid feature names, but DecisionTreeClassifier was fitted with feature names\n",
            "  warnings.warn(\n",
            "C:\\Users\\boomt\\AppData\\Local\\Programs\\Python\\Python38\\lib\\site-packages\\sklearn\\base.py:445: UserWarning: X does not have valid feature names, but DecisionTreeClassifier was fitted with feature names\n",
            "  warnings.warn(\n"
          ]
        },
        {
          "name": "stdout",
          "output_type": "stream",
          "text": [
            "-0.0804443359375, -0.04248046875, 0.0101165771484375, 0.43849772928092584, -0.3238917875626739, -0.4187338781992298\n",
            "mid: 206\n",
            "-0.002166748046875, -0.0785675048828125, -0.0234222412109375, -0.0524192660521387, 0.2983022715964295, 0.16519375188874308\n",
            "mid: 207\n"
          ]
        },
        {
          "name": "stderr",
          "output_type": "stream",
          "text": [
            "C:\\Users\\boomt\\AppData\\Local\\Programs\\Python\\Python38\\lib\\site-packages\\sklearn\\base.py:445: UserWarning: X does not have valid feature names, but DecisionTreeClassifier was fitted with feature names\n",
            "  warnings.warn(\n",
            "C:\\Users\\boomt\\AppData\\Local\\Programs\\Python\\Python38\\lib\\site-packages\\sklearn\\base.py:445: UserWarning: X does not have valid feature names, but DecisionTreeClassifier was fitted with feature names\n",
            "  warnings.warn(\n"
          ]
        },
        {
          "name": "stdout",
          "output_type": "stream",
          "text": [
            "0.037445068359375, -0.0498046875, 0.497406005859375, 0.08368184777246984, -0.012939234472258976, -0.17596410796924153\n",
            "mid: 208\n",
            "0.0825042724609375, -0.1496734619140625, 0.085906982421875, 0.05851843758063813, -0.252474861874455, 0.21511923389613155\n",
            "mid: 209\n"
          ]
        },
        {
          "name": "stderr",
          "output_type": "stream",
          "text": [
            "C:\\Users\\boomt\\AppData\\Local\\Programs\\Python\\Python38\\lib\\site-packages\\sklearn\\base.py:445: UserWarning: X does not have valid feature names, but DecisionTreeClassifier was fitted with feature names\n",
            "  warnings.warn(\n",
            "C:\\Users\\boomt\\AppData\\Local\\Programs\\Python\\Python38\\lib\\site-packages\\sklearn\\base.py:445: UserWarning: X does not have valid feature names, but DecisionTreeClassifier was fitted with feature names\n",
            "  warnings.warn(\n"
          ]
        },
        {
          "name": "stdout",
          "output_type": "stream",
          "text": [
            "-0.108673095703125, -0.407318115234375, 0.310546875, -0.24433544263484586, 0.3790852685223481, -0.35632642647874896\n",
            "mid: 210\n",
            "0.0, 0.0, 0.0, -0.25977565168679817, -0.3536147958568302, 0.012832441712546806\n",
            "mid: 211\n"
          ]
        },
        {
          "name": "stderr",
          "output_type": "stream",
          "text": [
            "C:\\Users\\boomt\\AppData\\Local\\Programs\\Python\\Python38\\lib\\site-packages\\sklearn\\base.py:445: UserWarning: X does not have valid feature names, but DecisionTreeClassifier was fitted with feature names\n",
            "  warnings.warn(\n",
            "C:\\Users\\boomt\\AppData\\Local\\Programs\\Python\\Python38\\lib\\site-packages\\sklearn\\base.py:445: UserWarning: X does not have valid feature names, but DecisionTreeClassifier was fitted with feature names\n",
            "  warnings.warn(\n"
          ]
        },
        {
          "name": "stdout",
          "output_type": "stream",
          "text": [
            "0.050018310546875, 0.005462646484375, 0.0224456787109375, 0.04692010471723404, 0.0512243056710201, 0.06367724692823062\n",
            "mid: 212\n",
            "0.1600341796875, -0.0391082763671875, -0.0255889892578125, -0.06955377818959947, -0.1709208798129585, -0.09327055927730012\n",
            "mid: 213\n"
          ]
        },
        {
          "name": "stderr",
          "output_type": "stream",
          "text": [
            "C:\\Users\\boomt\\AppData\\Local\\Programs\\Python\\Python38\\lib\\site-packages\\sklearn\\base.py:445: UserWarning: X does not have valid feature names, but DecisionTreeClassifier was fitted with feature names\n",
            "  warnings.warn(\n",
            "C:\\Users\\boomt\\AppData\\Local\\Programs\\Python\\Python38\\lib\\site-packages\\sklearn\\base.py:445: UserWarning: X does not have valid feature names, but DecisionTreeClassifier was fitted with feature names\n",
            "  warnings.warn(\n"
          ]
        },
        {
          "name": "stdout",
          "output_type": "stream",
          "text": [
            "0.5036163330078125, -0.1620025634765625, -0.2502288818359375, 0.019327891611250078, 1.0812388751983175, 0.36301575450481\n",
            "mid: 214\n",
            "0.0, 0.0, 0.0, 0.19252417625957227, 1.5743130310143463, -0.1482110399334168\n",
            "mid: 215\n"
          ]
        },
        {
          "name": "stderr",
          "output_type": "stream",
          "text": [
            "C:\\Users\\boomt\\AppData\\Local\\Programs\\Python\\Python38\\lib\\site-packages\\sklearn\\base.py:445: UserWarning: X does not have valid feature names, but DecisionTreeClassifier was fitted with feature names\n",
            "  warnings.warn(\n",
            "C:\\Users\\boomt\\AppData\\Local\\Programs\\Python\\Python38\\lib\\site-packages\\sklearn\\base.py:445: UserWarning: X does not have valid feature names, but DecisionTreeClassifier was fitted with feature names\n",
            "  warnings.warn(\n"
          ]
        },
        {
          "name": "stdout",
          "output_type": "stream",
          "text": [
            "0.205352783203125, 0.04071044921875, -0.5153656005859375, -0.21580686208959002, -1.794723965996465, -0.13513944635498087\n",
            "mid: 216\n",
            "0.0, 0.0, 0.0, -0.011553591757090753, -0.7200061070433157, 0.05964442208952363\n",
            "mid: 217\n"
          ]
        },
        {
          "name": "stderr",
          "output_type": "stream",
          "text": [
            "C:\\Users\\boomt\\AppData\\Local\\Programs\\Python\\Python38\\lib\\site-packages\\sklearn\\base.py:445: UserWarning: X does not have valid feature names, but DecisionTreeClassifier was fitted with feature names\n",
            "  warnings.warn(\n",
            "C:\\Users\\boomt\\AppData\\Local\\Programs\\Python\\Python38\\lib\\site-packages\\sklearn\\base.py:445: UserWarning: X does not have valid feature names, but DecisionTreeClassifier was fitted with feature names\n",
            "  warnings.warn(\n"
          ]
        },
        {
          "name": "stdout",
          "output_type": "stream",
          "text": [
            "0.0526123046875, -0.1046905517578125, -0.154144287109375, -0.045419946075192404, -0.18729825525250976, -0.11768801804780063\n",
            "mid: 218\n",
            "-0.0087890625, -0.01812744140625, -0.0150299072265625, -0.008425176424574679, 0.0039681100242180654, -0.029874275844072866\n",
            "mid: 219\n"
          ]
        },
        {
          "name": "stderr",
          "output_type": "stream",
          "text": [
            "C:\\Users\\boomt\\AppData\\Local\\Programs\\Python\\Python38\\lib\\site-packages\\sklearn\\base.py:445: UserWarning: X does not have valid feature names, but DecisionTreeClassifier was fitted with feature names\n",
            "  warnings.warn(\n",
            "C:\\Users\\boomt\\AppData\\Local\\Programs\\Python\\Python38\\lib\\site-packages\\sklearn\\base.py:445: UserWarning: X does not have valid feature names, but DecisionTreeClassifier was fitted with feature names\n",
            "  warnings.warn(\n"
          ]
        },
        {
          "name": "stdout",
          "output_type": "stream",
          "text": [
            "-0.008148193359375, 0.00518798828125, 0.050933837890625, 0.2039395499560879, 0.2360804422039272, 0.1044116273815376\n",
            "mid: 220\n",
            "0.0, 0.0, 0.0, 0.0007640609167437473, 0.9760016678788555, 0.5508498377686436\n",
            "mid: 221\n"
          ]
        },
        {
          "name": "stderr",
          "output_type": "stream",
          "text": [
            "C:\\Users\\boomt\\AppData\\Local\\Programs\\Python\\Python38\\lib\\site-packages\\sklearn\\base.py:445: UserWarning: X does not have valid feature names, but DecisionTreeClassifier was fitted with feature names\n",
            "  warnings.warn(\n",
            "C:\\Users\\boomt\\AppData\\Local\\Programs\\Python\\Python38\\lib\\site-packages\\sklearn\\base.py:445: UserWarning: X does not have valid feature names, but DecisionTreeClassifier was fitted with feature names\n",
            "  warnings.warn(\n"
          ]
        },
        {
          "name": "stdout",
          "output_type": "stream",
          "text": [
            "-0.4857940673828125, 0.10394287109375, 0.73870849609375, -0.12990526954853915, 0.7354681540162067, -0.14582830970612282\n",
            "mid: 222\n",
            "-0.44317626953125, -0.0140380859375, 0.200592041015625, 0.08907794477318838, -1.1101080740469946, -0.1370657107714352\n",
            "mid: 223\n"
          ]
        },
        {
          "name": "stderr",
          "output_type": "stream",
          "text": [
            "C:\\Users\\boomt\\AppData\\Local\\Programs\\Python\\Python38\\lib\\site-packages\\sklearn\\base.py:445: UserWarning: X does not have valid feature names, but DecisionTreeClassifier was fitted with feature names\n",
            "  warnings.warn(\n",
            "C:\\Users\\boomt\\AppData\\Local\\Programs\\Python\\Python38\\lib\\site-packages\\sklearn\\base.py:445: UserWarning: X does not have valid feature names, but DecisionTreeClassifier was fitted with feature names\n",
            "  warnings.warn(\n"
          ]
        },
        {
          "name": "stdout",
          "output_type": "stream",
          "text": [
            "-0.039642333984375, -0.0850372314453125, 0.021820068359375, 0.2532200143474591, -0.6048526194049435, -0.21029358600090794\n",
            "mid: 224\n",
            "0.0, 0.0, 0.0, -0.30462488234038665, 0.09945175616737406, 0.16658898198383557\n",
            "mid: 225\n"
          ]
        },
        {
          "name": "stderr",
          "output_type": "stream",
          "text": [
            "C:\\Users\\boomt\\AppData\\Local\\Programs\\Python\\Python38\\lib\\site-packages\\sklearn\\base.py:445: UserWarning: X does not have valid feature names, but DecisionTreeClassifier was fitted with feature names\n",
            "  warnings.warn(\n",
            "C:\\Users\\boomt\\AppData\\Local\\Programs\\Python\\Python38\\lib\\site-packages\\sklearn\\base.py:445: UserWarning: X does not have valid feature names, but DecisionTreeClassifier was fitted with feature names\n",
            "  warnings.warn(\n"
          ]
        },
        {
          "name": "stdout",
          "output_type": "stream",
          "text": [
            "0.0117034912109375, 0.101165771484375, -0.0421142578125, -0.00015872440096871554, -0.11179790466487238, -0.20310385000602102\n",
            "mid: 226\n",
            "0.0, 0.0, 0.0, -0.02786039342775494, 0.002270344829292531, -0.08311326287973791\n",
            "mid: 227\n"
          ]
        },
        {
          "name": "stderr",
          "output_type": "stream",
          "text": [
            "C:\\Users\\boomt\\AppData\\Local\\Programs\\Python\\Python38\\lib\\site-packages\\sklearn\\base.py:445: UserWarning: X does not have valid feature names, but DecisionTreeClassifier was fitted with feature names\n",
            "  warnings.warn(\n",
            "C:\\Users\\boomt\\AppData\\Local\\Programs\\Python\\Python38\\lib\\site-packages\\sklearn\\base.py:445: UserWarning: X does not have valid feature names, but DecisionTreeClassifier was fitted with feature names\n",
            "  warnings.warn(\n"
          ]
        },
        {
          "name": "stdout",
          "output_type": "stream",
          "text": [
            "0.030364990234375, 0.0144805908203125, 0.0096435546875, -0.060223925942724875, -0.1501918991522177, -0.044529385006669905\n",
            "mid: 228\n",
            "-0.0022125244140625, -0.0128173828125, -0.0129547119140625, 0.024620924277782556, -0.04985091349686623, -0.0076121133437734865\n",
            "mid: 229\n"
          ]
        },
        {
          "name": "stderr",
          "output_type": "stream",
          "text": [
            "C:\\Users\\boomt\\AppData\\Local\\Programs\\Python\\Python38\\lib\\site-packages\\sklearn\\base.py:445: UserWarning: X does not have valid feature names, but DecisionTreeClassifier was fitted with feature names\n",
            "  warnings.warn(\n",
            "C:\\Users\\boomt\\AppData\\Local\\Programs\\Python\\Python38\\lib\\site-packages\\sklearn\\base.py:445: UserWarning: X does not have valid feature names, but DecisionTreeClassifier was fitted with feature names\n",
            "  warnings.warn(\n"
          ]
        },
        {
          "name": "stdout",
          "output_type": "stream",
          "text": [
            "0.0052337646484375, 0.0111846923828125, 0.0059356689453125, -0.044603420884974106, -0.03720302884786192, 0.017111076319868114\n",
            "mid: 230\n",
            "0.0, 0.0, 0.0, 0.006354036044820053, 0.0031997880497302046, -0.010629474858833265\n",
            "mid: 231\n"
          ]
        },
        {
          "name": "stderr",
          "output_type": "stream",
          "text": [
            "C:\\Users\\boomt\\AppData\\Local\\Programs\\Python\\Python38\\lib\\site-packages\\sklearn\\base.py:445: UserWarning: X does not have valid feature names, but DecisionTreeClassifier was fitted with feature names\n",
            "  warnings.warn(\n",
            "C:\\Users\\boomt\\AppData\\Local\\Programs\\Python\\Python38\\lib\\site-packages\\sklearn\\base.py:445: UserWarning: X does not have valid feature names, but DecisionTreeClassifier was fitted with feature names\n",
            "  warnings.warn(\n"
          ]
        },
        {
          "name": "stdout",
          "output_type": "stream",
          "text": [
            "0.0065765380859375, -0.0074005126953125, -0.004486083984375, 0.00012463593901571035, 0.03809066043918533, -0.0020575582581952197\n",
            "mid: 232\n",
            "-0.00933837890625, 0.0074920654296875, 0.00384521484375, -0.01285800805901157, -0.029715551443104143, -0.001145691900952088\n",
            "mid: 233\n"
          ]
        },
        {
          "name": "stderr",
          "output_type": "stream",
          "text": [
            "C:\\Users\\boomt\\AppData\\Local\\Programs\\Python\\Python38\\lib\\site-packages\\sklearn\\base.py:445: UserWarning: X does not have valid feature names, but DecisionTreeClassifier was fitted with feature names\n",
            "  warnings.warn(\n",
            "C:\\Users\\boomt\\AppData\\Local\\Programs\\Python\\Python38\\lib\\site-packages\\sklearn\\base.py:445: UserWarning: X does not have valid feature names, but DecisionTreeClassifier was fitted with feature names\n",
            "  warnings.warn(\n"
          ]
        },
        {
          "name": "stdout",
          "output_type": "stream",
          "text": [
            "0.0029754638671875, 0.011871337890625, -0.003570556640625, -0.0009108010928070994, 0.0615323369862808, 0.021464545753820643\n",
            "mid: 234\n",
            "0.0, 0.0, 0.0, -0.00012223909403463696, -0.047753940454537847, -0.012899020739798789\n",
            "mid: 235\n"
          ]
        },
        {
          "name": "stderr",
          "output_type": "stream",
          "text": [
            "C:\\Users\\boomt\\AppData\\Local\\Programs\\Python\\Python38\\lib\\site-packages\\sklearn\\base.py:445: UserWarning: X does not have valid feature names, but DecisionTreeClassifier was fitted with feature names\n",
            "  warnings.warn(\n",
            "C:\\Users\\boomt\\AppData\\Local\\Programs\\Python\\Python38\\lib\\site-packages\\sklearn\\base.py:445: UserWarning: X does not have valid feature names, but DecisionTreeClassifier was fitted with feature names\n",
            "  warnings.warn(\n"
          ]
        },
        {
          "name": "stdout",
          "output_type": "stream",
          "text": [
            "-0.0021514892578125, 0.0020904541015625, 0.0019073486328125, 0.013807957619842832, -0.019047460748464726, -0.008639827208435065\n",
            "mid: 236\n",
            "0.0, 0.0, 0.0, -0.011836153148748165, 0.037085849759898426, 0.01826582296852647\n",
            "mid: 237\n"
          ]
        },
        {
          "name": "stderr",
          "output_type": "stream",
          "text": [
            "C:\\Users\\boomt\\AppData\\Local\\Programs\\Python\\Python38\\lib\\site-packages\\sklearn\\base.py:445: UserWarning: X does not have valid feature names, but DecisionTreeClassifier was fitted with feature names\n",
            "  warnings.warn(\n",
            "C:\\Users\\boomt\\AppData\\Local\\Programs\\Python\\Python38\\lib\\site-packages\\sklearn\\base.py:445: UserWarning: X does not have valid feature names, but DecisionTreeClassifier was fitted with feature names\n",
            "  warnings.warn(\n"
          ]
        },
        {
          "name": "stdout",
          "output_type": "stream",
          "text": [
            "0.001556396484375, 0.0150299072265625, -0.000701904296875, -0.0019451728601938756, -0.01266279835110876, -0.025635588653102746\n",
            "mid: 238\n",
            "-0.0046539306640625, -0.015716552734375, 0.001800537109375, 0.005280515809409113, -0.019081549210417742, 0.01058127164310283\n",
            "mid: 239\n"
          ]
        },
        {
          "name": "stderr",
          "output_type": "stream",
          "text": [
            "C:\\Users\\boomt\\AppData\\Local\\Programs\\Python\\Python38\\lib\\site-packages\\sklearn\\base.py:445: UserWarning: X does not have valid feature names, but DecisionTreeClassifier was fitted with feature names\n",
            "  warnings.warn(\n",
            "C:\\Users\\boomt\\AppData\\Local\\Programs\\Python\\Python38\\lib\\site-packages\\sklearn\\base.py:445: UserWarning: X does not have valid feature names, but DecisionTreeClassifier was fitted with feature names\n",
            "  warnings.warn(\n"
          ]
        },
        {
          "name": "stdout",
          "output_type": "stream",
          "text": [
            "-0.0216064453125, 0.171356201171875, 0.058013916015625, 0.19166504049191269, 0.4728700842061425, 0.9917044646142896\n",
            "mid: 240\n",
            "0.0, 0.0, 0.0, 0.22948911850598108, 0.565173117059417, -0.5624492358964838\n",
            "mid: 241\n"
          ]
        },
        {
          "name": "stderr",
          "output_type": "stream",
          "text": [
            "C:\\Users\\boomt\\AppData\\Local\\Programs\\Python\\Python38\\lib\\site-packages\\sklearn\\base.py:445: UserWarning: X does not have valid feature names, but DecisionTreeClassifier was fitted with feature names\n",
            "  warnings.warn(\n",
            "C:\\Users\\boomt\\AppData\\Local\\Programs\\Python\\Python38\\lib\\site-packages\\sklearn\\base.py:445: UserWarning: X does not have valid feature names, but DecisionTreeClassifier was fitted with feature names\n",
            "  warnings.warn(\n"
          ]
        },
        {
          "name": "stdout",
          "output_type": "stream",
          "text": [
            "0.054962158203125, -0.048736572265625, -0.055267333984375, -0.3490426808973822, -0.9634837454910471, -0.4249350487974793\n",
            "mid: 242\n",
            "-0.0371856689453125, -0.036895751953125, -0.0218658447265625, -0.04776379415057113, -0.052180114186249536, -0.007480020553705556\n",
            "mid: 243\n"
          ]
        },
        {
          "name": "stderr",
          "output_type": "stream",
          "text": [
            "C:\\Users\\boomt\\AppData\\Local\\Programs\\Python\\Python38\\lib\\site-packages\\sklearn\\base.py:445: UserWarning: X does not have valid feature names, but DecisionTreeClassifier was fitted with feature names\n",
            "  warnings.warn(\n",
            "C:\\Users\\boomt\\AppData\\Local\\Programs\\Python\\Python38\\lib\\site-packages\\sklearn\\base.py:445: UserWarning: X does not have valid feature names, but DecisionTreeClassifier was fitted with feature names\n",
            "  warnings.warn(\n"
          ]
        },
        {
          "name": "stdout",
          "output_type": "stream",
          "text": [
            "0.0323333740234375, -0.005035400390625, -0.0050811767578125, 0.5373958142576724, 0.1638360723650207, 0.19249328359092732\n",
            "mid: 244\n",
            "-0.0584564208984375, 0.0064239501953125, 0.035797119140625, 0.07576480248388229, -0.06564532297379919, -0.017353690295174334\n",
            "mid: 245\n"
          ]
        },
        {
          "name": "stderr",
          "output_type": "stream",
          "text": [
            "C:\\Users\\boomt\\AppData\\Local\\Programs\\Python\\Python38\\lib\\site-packages\\sklearn\\base.py:445: UserWarning: X does not have valid feature names, but DecisionTreeClassifier was fitted with feature names\n",
            "  warnings.warn(\n",
            "C:\\Users\\boomt\\AppData\\Local\\Programs\\Python\\Python38\\lib\\site-packages\\sklearn\\base.py:445: UserWarning: X does not have valid feature names, but DecisionTreeClassifier was fitted with feature names\n",
            "  warnings.warn(\n"
          ]
        },
        {
          "name": "stdout",
          "output_type": "stream",
          "text": [
            "0.0243072509765625, -0.046875, 0.0047454833984375, -0.5666064303580975, 0.02279612629886027, -0.13872406118222752\n",
            "mid: 246\n",
            "0.0, 0.0, 0.0, -0.06143193581318481, -0.13477592486618506, -0.023605993586353357\n",
            "mid: 247\n"
          ]
        },
        {
          "name": "stderr",
          "output_type": "stream",
          "text": [
            "C:\\Users\\boomt\\AppData\\Local\\Programs\\Python\\Python38\\lib\\site-packages\\sklearn\\base.py:445: UserWarning: X does not have valid feature names, but DecisionTreeClassifier was fitted with feature names\n",
            "  warnings.warn(\n",
            "C:\\Users\\boomt\\AppData\\Local\\Programs\\Python\\Python38\\lib\\site-packages\\sklearn\\base.py:445: UserWarning: X does not have valid feature names, but DecisionTreeClassifier was fitted with feature names\n",
            "  warnings.warn(\n"
          ]
        },
        {
          "name": "stdout",
          "output_type": "stream",
          "text": [
            "-0.0249176025390625, -0.0592803955078125, -0.0198211669921875, -0.0033214945115468252, 0.04986795772784275, -0.013977068349062868\n",
            "mid: 248\n",
            "0.004180908203125, 0.0093841552734375, 0.001007080078125, 0.012018313367309586, -0.026739468924940592, 0.009834254957335604\n",
            "mid: 249\n"
          ]
        },
        {
          "name": "stderr",
          "output_type": "stream",
          "text": [
            "C:\\Users\\boomt\\AppData\\Local\\Programs\\Python\\Python38\\lib\\site-packages\\sklearn\\base.py:445: UserWarning: X does not have valid feature names, but DecisionTreeClassifier was fitted with feature names\n",
            "  warnings.warn(\n",
            "C:\\Users\\boomt\\AppData\\Local\\Programs\\Python\\Python38\\lib\\site-packages\\sklearn\\base.py:445: UserWarning: X does not have valid feature names, but DecisionTreeClassifier was fitted with feature names\n",
            "  warnings.warn(\n"
          ]
        },
        {
          "name": "stdout",
          "output_type": "stream",
          "text": [
            "0.0214996337890625, 0.0110931396484375, 0.0052490234375, -0.008622782977458558, -0.04341085734883662, -0.014048973698495004\n",
            "mid: 250\n",
            "0.0, 0.0, 0.0, -0.016986973013070422, 0.019087940797033933, -0.0009960222476896353\n",
            "mid: 251\n"
          ]
        },
        {
          "name": "stderr",
          "output_type": "stream",
          "text": [
            "C:\\Users\\boomt\\AppData\\Local\\Programs\\Python\\Python38\\lib\\site-packages\\sklearn\\base.py:445: UserWarning: X does not have valid feature names, but DecisionTreeClassifier was fitted with feature names\n",
            "  warnings.warn(\n",
            "C:\\Users\\boomt\\AppData\\Local\\Programs\\Python\\Python38\\lib\\site-packages\\sklearn\\base.py:445: UserWarning: X does not have valid feature names, but DecisionTreeClassifier was fitted with feature names\n",
            "  warnings.warn(\n"
          ]
        },
        {
          "name": "stdout",
          "output_type": "stream",
          "text": [
            "0.00518798828125, -0.0043487548828125, -0.0043792724609375, 0.009546899875716053, -0.016956879292752525, 0.010618555898363937\n",
            "mid: 252\n",
            "-0.000823974609375, 0.00543212890625, 0.004791259765625, -0.003251453374877742, 0.015877500102943413, -0.0020940435651293048\n",
            "mid: 253\n",
            "mid: 254\n"
          ]
        },
        {
          "name": "stderr",
          "output_type": "stream",
          "text": [
            "C:\\Users\\boomt\\AppData\\Local\\Programs\\Python\\Python38\\lib\\site-packages\\sklearn\\base.py:445: UserWarning: X does not have valid feature names, but DecisionTreeClassifier was fitted with feature names\n",
            "  warnings.warn(\n",
            "C:\\Users\\boomt\\AppData\\Local\\Programs\\Python\\Python38\\lib\\site-packages\\sklearn\\base.py:445: UserWarning: X does not have valid feature names, but DecisionTreeClassifier was fitted with feature names\n",
            "  warnings.warn(\n"
          ]
        },
        {
          "name": "stdout",
          "output_type": "stream",
          "text": [
            "0.0014495849609375, -0.0028839111328125, -0.00335693359375, 0.00431645149480043, -0.0075045216357342865, 0.007500793210208176\n",
            "mid: 255\n",
            "-0.0018768310546875, 0.004486083984375, 0.0098114013671875, -0.006446447734645804, 0.005409679122277957, -0.016043681354964357\n",
            "mid: 256\n"
          ]
        },
        {
          "name": "stderr",
          "output_type": "stream",
          "text": [
            "C:\\Users\\boomt\\AppData\\Local\\Programs\\Python\\Python38\\lib\\site-packages\\sklearn\\base.py:445: UserWarning: X does not have valid feature names, but DecisionTreeClassifier was fitted with feature names\n",
            "  warnings.warn(\n",
            "C:\\Users\\boomt\\AppData\\Local\\Programs\\Python\\Python38\\lib\\site-packages\\sklearn\\base.py:445: UserWarning: X does not have valid feature names, but DecisionTreeClassifier was fitted with feature names\n",
            "  warnings.warn(\n"
          ]
        },
        {
          "name": "stdout",
          "output_type": "stream",
          "text": [
            "0.00152587890625, 0.0048980712890625, -0.0087890625, 0.035055455744822016, 0.03190200669805919, 0.009596967304209543\n",
            "mid: 257\n",
            "0.0, 0.0, 0.0, -0.016942231906757088, -0.047634630837702294, 0.027810059683152446\n",
            "mid: 258\n"
          ]
        },
        {
          "name": "stderr",
          "output_type": "stream",
          "text": [
            "C:\\Users\\boomt\\AppData\\Local\\Programs\\Python\\Python38\\lib\\site-packages\\sklearn\\base.py:445: UserWarning: X does not have valid feature names, but DecisionTreeClassifier was fitted with feature names\n",
            "  warnings.warn(\n",
            "C:\\Users\\boomt\\AppData\\Local\\Programs\\Python\\Python38\\lib\\site-packages\\sklearn\\base.py:445: UserWarning: X does not have valid feature names, but DecisionTreeClassifier was fitted with feature names\n",
            "  warnings.warn(\n"
          ]
        },
        {
          "name": "stdout",
          "output_type": "stream",
          "text": [
            "-0.0030059814453125, 0.0059356689453125, 0.0201416015625, 0.002494849309186229, 0.6101216836216652, 0.3449486033536034\n",
            "mid: 259\n",
            "0.1589202880859375, -0.058074951171875, -0.0487060546875, 0.056020925110361816, -0.21896803430351403, -0.2629831629036896\n",
            "mid: 260\n"
          ]
        },
        {
          "name": "stderr",
          "output_type": "stream",
          "text": [
            "C:\\Users\\boomt\\AppData\\Local\\Programs\\Python\\Python38\\lib\\site-packages\\sklearn\\base.py:445: UserWarning: X does not have valid feature names, but DecisionTreeClassifier was fitted with feature names\n",
            "  warnings.warn(\n",
            "C:\\Users\\boomt\\AppData\\Local\\Programs\\Python\\Python38\\lib\\site-packages\\sklearn\\base.py:445: UserWarning: X does not have valid feature names, but DecisionTreeClassifier was fitted with feature names\n",
            "  warnings.warn(\n"
          ]
        },
        {
          "name": "stdout",
          "output_type": "stream",
          "text": [
            "0.8102874755859375, -0.0465850830078125, -0.8601226806640625, 0.15369315703734493, 0.15763596703120714, 0.08708669922613614\n",
            "mid: 261\n",
            "0.0, 0.0, 0.0, 0.049703907004693876, -0.09557951994239877, -0.014026603145338351\n",
            "mid: 262\n"
          ]
        },
        {
          "name": "stderr",
          "output_type": "stream",
          "text": [
            "C:\\Users\\boomt\\AppData\\Local\\Programs\\Python\\Python38\\lib\\site-packages\\sklearn\\base.py:445: UserWarning: X does not have valid feature names, but DecisionTreeClassifier was fitted with feature names\n",
            "  warnings.warn(\n",
            "C:\\Users\\boomt\\AppData\\Local\\Programs\\Python\\Python38\\lib\\site-packages\\sklearn\\base.py:445: UserWarning: X does not have valid feature names, but DecisionTreeClassifier was fitted with feature names\n",
            "  warnings.warn(\n"
          ]
        },
        {
          "name": "stdout",
          "output_type": "stream",
          "text": [
            "-0.0575714111328125, -0.041412353515625, 0.0497589111328125, -0.14606453209481296, -0.160384881908387, -0.16974695840445156\n",
            "mid: 263\n",
            "0.0, 0.0, 0.0, 0.08263495914795968, -0.08925184919237053, 0.178870415666845\n",
            "mid: 264\n"
          ]
        },
        {
          "name": "stderr",
          "output_type": "stream",
          "text": [
            "C:\\Users\\boomt\\AppData\\Local\\Programs\\Python\\Python38\\lib\\site-packages\\sklearn\\base.py:445: UserWarning: X does not have valid feature names, but DecisionTreeClassifier was fitted with feature names\n",
            "  warnings.warn(\n",
            "C:\\Users\\boomt\\AppData\\Local\\Programs\\Python\\Python38\\lib\\site-packages\\sklearn\\base.py:445: UserWarning: X does not have valid feature names, but DecisionTreeClassifier was fitted with feature names\n",
            "  warnings.warn(\n"
          ]
        },
        {
          "name": "stdout",
          "output_type": "stream",
          "text": [
            "0.0122528076171875, 0.0352020263671875, -0.001373291015625, -0.14887150388375642, -0.05045012474213406, -0.15257010200565846\n",
            "mid: 265\n",
            "0.011138916015625, -0.0131683349609375, -0.0275726318359375, -0.062436480176362705, -0.14661287696326025, 0.02896560528013782\n",
            "mid: 266\n"
          ]
        },
        {
          "name": "stderr",
          "output_type": "stream",
          "text": [
            "C:\\Users\\boomt\\AppData\\Local\\Programs\\Python\\Python38\\lib\\site-packages\\sklearn\\base.py:445: UserWarning: X does not have valid feature names, but DecisionTreeClassifier was fitted with feature names\n",
            "  warnings.warn(\n",
            "C:\\Users\\boomt\\AppData\\Local\\Programs\\Python\\Python38\\lib\\site-packages\\sklearn\\base.py:445: UserWarning: X does not have valid feature names, but DecisionTreeClassifier was fitted with feature names\n",
            "  warnings.warn(\n"
          ]
        },
        {
          "name": "stdout",
          "output_type": "stream",
          "text": [
            "0.0086517333984375, -0.005279541015625, 0.0028076171875, -0.0006732471235720312, 0.10484519000700251, -0.07177618611927059\n",
            "mid: 267\n",
            "0.0, 0.0, 0.0, -0.003635481204067168, -0.08993415106364885, 0.08348876859343908\n",
            "mid: 268\n"
          ]
        },
        {
          "name": "stderr",
          "output_type": "stream",
          "text": [
            "C:\\Users\\boomt\\AppData\\Local\\Programs\\Python\\Python38\\lib\\site-packages\\sklearn\\base.py:445: UserWarning: X does not have valid feature names, but DecisionTreeClassifier was fitted with feature names\n",
            "  warnings.warn(\n",
            "C:\\Users\\boomt\\AppData\\Local\\Programs\\Python\\Python38\\lib\\site-packages\\sklearn\\base.py:445: UserWarning: X does not have valid feature names, but DecisionTreeClassifier was fitted with feature names\n",
            "  warnings.warn(\n"
          ]
        },
        {
          "name": "stdout",
          "output_type": "stream",
          "text": [
            "-0.02386474609375, 0.01739501953125, -0.122161865234375, 1.9480914184324933, 0.5019049316746224, 1.113376837968958\n",
            "mid: 269\n",
            "-0.031463623046875, 0.2312164306640625, 0.3714599609375, -1.1831141079576637, 0.10748092053785396, -0.7860490399678637\n",
            "mid: 270\n"
          ]
        },
        {
          "name": "stderr",
          "output_type": "stream",
          "text": [
            "C:\\Users\\boomt\\AppData\\Local\\Programs\\Python\\Python38\\lib\\site-packages\\sklearn\\base.py:445: UserWarning: X does not have valid feature names, but DecisionTreeClassifier was fitted with feature names\n",
            "  warnings.warn(\n",
            "C:\\Users\\boomt\\AppData\\Local\\Programs\\Python\\Python38\\lib\\site-packages\\sklearn\\base.py:445: UserWarning: X does not have valid feature names, but DecisionTreeClassifier was fitted with feature names\n",
            "  warnings.warn(\n"
          ]
        },
        {
          "name": "stdout",
          "output_type": "stream",
          "text": [
            "-0.501007080078125, 0.665802001953125, -0.3264617919921875, -0.6757515602611419, -0.3175044620042279, -0.22938046153350589\n",
            "mid: 271\n",
            "0.0, 0.0, 0.0, 0.31547167114417035, -0.2999752693932173, -0.18095327395539595\n",
            "mid: 272\n"
          ]
        },
        {
          "name": "stderr",
          "output_type": "stream",
          "text": [
            "C:\\Users\\boomt\\AppData\\Local\\Programs\\Python\\Python38\\lib\\site-packages\\sklearn\\base.py:445: UserWarning: X does not have valid feature names, but DecisionTreeClassifier was fitted with feature names\n",
            "  warnings.warn(\n",
            "C:\\Users\\boomt\\AppData\\Local\\Programs\\Python\\Python38\\lib\\site-packages\\sklearn\\base.py:445: UserWarning: X does not have valid feature names, but DecisionTreeClassifier was fitted with feature names\n",
            "  warnings.warn(\n"
          ]
        },
        {
          "name": "stdout",
          "output_type": "stream",
          "text": [
            "-0.041107177734375, -0.075103759765625, -0.0005340576171875, -0.1966337001376735, 0.4382457942418043, 0.1683141777379889\n",
            "mid: 273\n",
            "0.0, 0.0, 0.0, 0.12644289381532708, -0.19737618944958762, 0.38454900981475465\n",
            "mid: 274\n"
          ]
        },
        {
          "name": "stderr",
          "output_type": "stream",
          "text": [
            "C:\\Users\\boomt\\AppData\\Local\\Programs\\Python\\Python38\\lib\\site-packages\\sklearn\\base.py:445: UserWarning: X does not have valid feature names, but DecisionTreeClassifier was fitted with feature names\n",
            "  warnings.warn(\n",
            "C:\\Users\\boomt\\AppData\\Local\\Programs\\Python\\Python38\\lib\\site-packages\\sklearn\\base.py:445: UserWarning: X does not have valid feature names, but DecisionTreeClassifier was fitted with feature names\n",
            "  warnings.warn(\n"
          ]
        },
        {
          "name": "stdout",
          "output_type": "stream",
          "text": [
            "-0.1437530517578125, 0.0746917724609375, -0.0186767578125, -0.3259195184166602, -0.24322730130526385, -0.44094837011601673\n",
            "mid: 275\n",
            "0.001617431640625, -0.017730712890625, 0.0117645263671875, 0.026507507593994686, 0.06412572325579996, -0.0683484314802296\n",
            "mid: 276\n"
          ]
        },
        {
          "name": "stderr",
          "output_type": "stream",
          "text": [
            "C:\\Users\\boomt\\AppData\\Local\\Programs\\Python\\Python38\\lib\\site-packages\\sklearn\\base.py:445: UserWarning: X does not have valid feature names, but DecisionTreeClassifier was fitted with feature names\n",
            "  warnings.warn(\n",
            "C:\\Users\\boomt\\AppData\\Local\\Programs\\Python\\Python38\\lib\\site-packages\\sklearn\\base.py:445: UserWarning: X does not have valid feature names, but DecisionTreeClassifier was fitted with feature names\n",
            "  warnings.warn(\n"
          ]
        },
        {
          "name": "stdout",
          "output_type": "stream",
          "text": [
            "-0.0146331787109375, 0.0246124267578125, 0.0341949462890625, 0.0522160668609656, -0.03990640367040135, -0.014874287320310563\n",
            "mid: 277\n",
            "0.0, 0.0, 0.0, 0.24969052695477717, 0.09803868289297799, 0.02778715649777777\n",
            "mid: 278\n"
          ]
        },
        {
          "name": "stderr",
          "output_type": "stream",
          "text": [
            "C:\\Users\\boomt\\AppData\\Local\\Programs\\Python\\Python38\\lib\\site-packages\\sklearn\\base.py:445: UserWarning: X does not have valid feature names, but DecisionTreeClassifier was fitted with feature names\n",
            "  warnings.warn(\n",
            "C:\\Users\\boomt\\AppData\\Local\\Programs\\Python\\Python38\\lib\\site-packages\\sklearn\\base.py:445: UserWarning: X does not have valid feature names, but DecisionTreeClassifier was fitted with feature names\n",
            "  warnings.warn(\n"
          ]
        },
        {
          "name": "stdout",
          "output_type": "stream",
          "text": [
            "0.0362548828125, -0.1105499267578125, 0.299163818359375, 0.05879540633400637, 0.06006600049008318, 0.09763627925226702\n",
            "mid: 279\n",
            "0.097259521484375, -0.0805816650390625, 0.160064697265625, 0.35738236985096533, 0.10002007474399693, -0.12762586997154032\n",
            "mid: 280\n"
          ]
        },
        {
          "name": "stderr",
          "output_type": "stream",
          "text": [
            "C:\\Users\\boomt\\AppData\\Local\\Programs\\Python\\Python38\\lib\\site-packages\\sklearn\\base.py:445: UserWarning: X does not have valid feature names, but DecisionTreeClassifier was fitted with feature names\n",
            "  warnings.warn(\n",
            "C:\\Users\\boomt\\AppData\\Local\\Programs\\Python\\Python38\\lib\\site-packages\\sklearn\\base.py:445: UserWarning: X does not have valid feature names, but DecisionTreeClassifier was fitted with feature names\n",
            "  warnings.warn(\n"
          ]
        },
        {
          "name": "stdout",
          "output_type": "stream",
          "text": [
            "-0.0929412841796875, -0.32415771484375, 0.3885955810546875, -0.34036903154310316, -0.0879261276017291, 0.047866325852539186\n",
            "mid: 281\n",
            "0.0, 0.0, 0.0, -0.29335891198102443, 0.13489390290247558, -0.01195919119110983\n",
            "mid: 282\n"
          ]
        },
        {
          "name": "stderr",
          "output_type": "stream",
          "text": [
            "C:\\Users\\boomt\\AppData\\Local\\Programs\\Python\\Python38\\lib\\site-packages\\sklearn\\base.py:445: UserWarning: X does not have valid feature names, but DecisionTreeClassifier was fitted with feature names\n",
            "  warnings.warn(\n",
            "C:\\Users\\boomt\\AppData\\Local\\Programs\\Python\\Python38\\lib\\site-packages\\sklearn\\base.py:445: UserWarning: X does not have valid feature names, but DecisionTreeClassifier was fitted with feature names\n",
            "  warnings.warn(\n"
          ]
        },
        {
          "name": "stdout",
          "output_type": "stream",
          "text": [
            "-0.1933135986328125, -0.332000732421875, 0.063507080078125, -0.07288326218441651, -0.2638886376743166, 0.19574793275911317\n",
            "mid: 283\n",
            "0.0, 0.0, 0.0, 0.12891270941026658, 0.46606384340822693, -0.12647138963899096\n",
            "mid: 284\n"
          ]
        },
        {
          "name": "stderr",
          "output_type": "stream",
          "text": [
            "C:\\Users\\boomt\\AppData\\Local\\Programs\\Python\\Python38\\lib\\site-packages\\sklearn\\base.py:445: UserWarning: X does not have valid feature names, but DecisionTreeClassifier was fitted with feature names\n",
            "  warnings.warn(\n",
            "C:\\Users\\boomt\\AppData\\Local\\Programs\\Python\\Python38\\lib\\site-packages\\sklearn\\base.py:445: UserWarning: X does not have valid feature names, but DecisionTreeClassifier was fitted with feature names\n",
            "  warnings.warn(\n"
          ]
        },
        {
          "name": "stdout",
          "output_type": "stream",
          "text": [
            "0.0565185546875, -0.0887908935546875, 0.00628662109375, -0.08309568601654338, 0.9369828957997774, 0.1282176243657559\n",
            "mid: 285\n",
            "0.4424896240234375, -0.00164794921875, -0.1993560791015625, 0.08731679634431899, -0.09222926329107906, 0.09324659082748943\n",
            "mid: 286\n"
          ]
        },
        {
          "name": "stderr",
          "output_type": "stream",
          "text": [
            "C:\\Users\\boomt\\AppData\\Local\\Programs\\Python\\Python38\\lib\\site-packages\\sklearn\\base.py:445: UserWarning: X does not have valid feature names, but DecisionTreeClassifier was fitted with feature names\n",
            "  warnings.warn(\n",
            "C:\\Users\\boomt\\AppData\\Local\\Programs\\Python\\Python38\\lib\\site-packages\\sklearn\\base.py:445: UserWarning: X does not have valid feature names, but DecisionTreeClassifier was fitted with feature names\n",
            "  warnings.warn(\n"
          ]
        },
        {
          "name": "stdout",
          "output_type": "stream",
          "text": [
            "-0.534942626953125, 0.7293701171875, -0.28082275390625, 0.0693503126823174, 0.09612173954033887, 0.16780018764760363\n",
            "mid: 287\n",
            "0.0, 0.0, 0.0, 0.0740143066993732, 1.06955292433505, 7.68610075254585\n",
            "mid: 288\n",
            "mid: 289\n"
          ]
        },
        {
          "name": "stderr",
          "output_type": "stream",
          "text": [
            "C:\\Users\\boomt\\AppData\\Local\\Programs\\Python\\Python38\\lib\\site-packages\\sklearn\\base.py:445: UserWarning: X does not have valid feature names, but DecisionTreeClassifier was fitted with feature names\n",
            "  warnings.warn(\n",
            "C:\\Users\\boomt\\AppData\\Local\\Programs\\Python\\Python38\\lib\\site-packages\\sklearn\\base.py:445: UserWarning: X does not have valid feature names, but DecisionTreeClassifier was fitted with feature names\n",
            "  warnings.warn(\n"
          ]
        },
        {
          "name": "stdout",
          "output_type": "stream",
          "text": [
            "-0.0159912109375, -0.7208251953125, 0.3973846435546875, -0.3229610127616912, -2.542491929507203, -8.206232625037083\n",
            "mid: 290\n",
            "0.05560302734375, -4.57763671875e-05, 0.0845947265625, -0.002155828902419143, 0.009556753571749345, 2.103897261162592e-05\n",
            "mid: 291\n"
          ]
        },
        {
          "name": "stderr",
          "output_type": "stream",
          "text": [
            "C:\\Users\\boomt\\AppData\\Local\\Programs\\Python\\Python38\\lib\\site-packages\\sklearn\\base.py:445: UserWarning: X does not have valid feature names, but DecisionTreeClassifier was fitted with feature names\n",
            "  warnings.warn(\n",
            "C:\\Users\\boomt\\AppData\\Local\\Programs\\Python\\Python38\\lib\\site-packages\\sklearn\\base.py:445: UserWarning: X does not have valid feature names, but DecisionTreeClassifier was fitted with feature names\n",
            "  warnings.warn(\n"
          ]
        },
        {
          "name": "stdout",
          "output_type": "stream",
          "text": [
            "-0.003021240234375, -0.0001220703125, -0.0034027099609375, 0.0021507688963479923, -0.007436344711828255, 0.00105061705003626\n",
            "mid: 292\n",
            "-0.0005340576171875, 0.0012664794921875, 0.000152587890625, -0.0021361215103525566, 0.0021246699176652156, -0.0010599381138515374\n",
            "mid: 293\n"
          ]
        },
        {
          "name": "stderr",
          "output_type": "stream",
          "text": [
            "C:\\Users\\boomt\\AppData\\Local\\Programs\\Python\\Python38\\lib\\site-packages\\sklearn\\base.py:445: UserWarning: X does not have valid feature names, but DecisionTreeClassifier was fitted with feature names\n",
            "  warnings.warn(\n",
            "C:\\Users\\boomt\\AppData\\Local\\Programs\\Python\\Python38\\lib\\site-packages\\sklearn\\base.py:445: UserWarning: X does not have valid feature names, but DecisionTreeClassifier was fitted with feature names\n",
            "  warnings.warn(\n"
          ]
        },
        {
          "name": "stdout",
          "output_type": "stream",
          "text": [
            "0.002899169921875, -0.0003814697265625, 0.0005035400390625, 0.002132393084826446, -0.0010580739010884813, -6.1252705071818125e-06\n",
            "mid: 294\n",
            "0.0, 0.0, 0.0, -0.0010815097186811784, 0.006367618166379457, 0.0010812434025721709\n",
            "mid: 295\n"
          ]
        },
        {
          "name": "stderr",
          "output_type": "stream",
          "text": [
            "C:\\Users\\boomt\\AppData\\Local\\Programs\\Python\\Python38\\lib\\site-packages\\sklearn\\base.py:445: UserWarning: X does not have valid feature names, but DecisionTreeClassifier was fitted with feature names\n",
            "  warnings.warn(\n",
            "C:\\Users\\boomt\\AppData\\Local\\Programs\\Python\\Python38\\lib\\site-packages\\sklearn\\base.py:445: UserWarning: X does not have valid feature names, but DecisionTreeClassifier was fitted with feature names\n",
            "  warnings.warn(\n"
          ]
        },
        {
          "name": "stdout",
          "output_type": "stream",
          "text": [
            "0.038665771484375, 0.09820556640625, 0.1454620361328125, 0.3466530264512541, 0.9271989745870444, 0.09906666307374856\n",
            "mid: 296\n",
            "0.1546173095703125, -0.0955657958984375, -0.1753997802734375, 0.11740998402999636, -0.27965614922423976, -0.006153766330846092\n",
            "mid: 297\n"
          ]
        },
        {
          "name": "stderr",
          "output_type": "stream",
          "text": [
            "C:\\Users\\boomt\\AppData\\Local\\Programs\\Python\\Python38\\lib\\site-packages\\sklearn\\base.py:445: UserWarning: X does not have valid feature names, but DecisionTreeClassifier was fitted with feature names\n",
            "  warnings.warn(\n",
            "C:\\Users\\boomt\\AppData\\Local\\Programs\\Python\\Python38\\lib\\site-packages\\sklearn\\base.py:445: UserWarning: X does not have valid feature names, but DecisionTreeClassifier was fitted with feature names\n",
            "  warnings.warn(\n"
          ]
        },
        {
          "name": "stdout",
          "output_type": "stream",
          "text": [
            "0.636199951171875, 0.1681976318359375, -0.8476104736328125, -0.269112428152507, 0.4526769315567257, -0.0389633783284043\n",
            "mid: 298\n",
            "0.0, 0.0, 0.0, -0.028217789646043573, 0.26866128866384753, 0.15101881067068734\n",
            "mid: 299\n"
          ]
        },
        {
          "name": "stderr",
          "output_type": "stream",
          "text": [
            "C:\\Users\\boomt\\AppData\\Local\\Programs\\Python\\Python38\\lib\\site-packages\\sklearn\\base.py:445: UserWarning: X does not have valid feature names, but DecisionTreeClassifier was fitted with feature names\n",
            "  warnings.warn(\n",
            "C:\\Users\\boomt\\AppData\\Local\\Programs\\Python\\Python38\\lib\\site-packages\\sklearn\\base.py:445: UserWarning: X does not have valid feature names, but DecisionTreeClassifier was fitted with feature names\n",
            "  warnings.warn(\n"
          ]
        },
        {
          "name": "stdout",
          "output_type": "stream",
          "text": [
            "-0.1476287841796875, 0.0569610595703125, 0.4306488037109375, 0.09684159198298736, -0.19988328929978816, 0.6188693688542485\n",
            "mid: 300\n",
            "-0.2808074951171875, 0.108673095703125, 0.277069091796875, -0.030649255721285906, -0.4335546359816297, -0.48779896632879965\n",
            "mid: 301\n"
          ]
        },
        {
          "name": "stderr",
          "output_type": "stream",
          "text": [
            "C:\\Users\\boomt\\AppData\\Local\\Programs\\Python\\Python38\\lib\\site-packages\\sklearn\\base.py:445: UserWarning: X does not have valid feature names, but DecisionTreeClassifier was fitted with feature names\n",
            "  warnings.warn(\n",
            "C:\\Users\\boomt\\AppData\\Local\\Programs\\Python\\Python38\\lib\\site-packages\\sklearn\\base.py:445: UserWarning: X does not have valid feature names, but DecisionTreeClassifier was fitted with feature names\n",
            "  warnings.warn(\n"
          ]
        },
        {
          "name": "stdout",
          "output_type": "stream",
          "text": [
            "-0.122650146484375, -0.061370849609375, 0.035614013671875, -0.007500526894099163, -0.2106432590520354, -0.22343921545764808\n",
            "mid: 302\n",
            "-0.0638885498046875, -0.113311767578125, 0.0406341552734375, -0.014213557053861903, 0.15686977558559145, 0.08253402534264567\n",
            "mid: 303\n"
          ]
        },
        {
          "name": "stderr",
          "output_type": "stream",
          "text": [
            "C:\\Users\\boomt\\AppData\\Local\\Programs\\Python\\Python38\\lib\\site-packages\\sklearn\\base.py:445: UserWarning: X does not have valid feature names, but DecisionTreeClassifier was fitted with feature names\n",
            "  warnings.warn(\n",
            "C:\\Users\\boomt\\AppData\\Local\\Programs\\Python\\Python38\\lib\\site-packages\\sklearn\\base.py:445: UserWarning: X does not have valid feature names, but DecisionTreeClassifier was fitted with feature names\n",
            "  warnings.warn(\n"
          ]
        },
        {
          "name": "stdout",
          "output_type": "stream",
          "text": [
            "-0.0811767578125, -0.00238037109375, 0.053924560546875, -0.1494472793114316, -0.689600264245663, -0.10743165205768747\n",
            "mid: 304\n",
            "0.0, 0.0, 0.0, -0.028039624169117275, 0.111381918902602, -0.024856347718145558\n",
            "mid: 305\n"
          ]
        },
        {
          "name": "stderr",
          "output_type": "stream",
          "text": [
            "C:\\Users\\boomt\\AppData\\Local\\Programs\\Python\\Python38\\lib\\site-packages\\sklearn\\base.py:445: UserWarning: X does not have valid feature names, but DecisionTreeClassifier was fitted with feature names\n",
            "  warnings.warn(\n",
            "C:\\Users\\boomt\\AppData\\Local\\Programs\\Python\\Python38\\lib\\site-packages\\sklearn\\base.py:445: UserWarning: X does not have valid feature names, but DecisionTreeClassifier was fitted with feature names\n",
            "  warnings.warn(\n"
          ]
        },
        {
          "name": "stdout",
          "output_type": "stream",
          "text": [
            "-0.029296875, -0.01727294921875, 0.028900146484375, -0.010001501473792578, -0.03753965240964793, -0.05560334145143739\n",
            "mid: 306\n",
            "0.015167236328125, -0.009033203125, -0.0110015869140625, -0.001656486198029286, 0.03304104069628608, -0.0010128001625571356\n",
            "mid: 307\n"
          ]
        },
        {
          "name": "stderr",
          "output_type": "stream",
          "text": [
            "C:\\Users\\boomt\\AppData\\Local\\Programs\\Python\\Python38\\lib\\site-packages\\sklearn\\base.py:445: UserWarning: X does not have valid feature names, but DecisionTreeClassifier was fitted with feature names\n",
            "  warnings.warn(\n",
            "C:\\Users\\boomt\\AppData\\Local\\Programs\\Python\\Python38\\lib\\site-packages\\sklearn\\base.py:445: UserWarning: X does not have valid feature names, but DecisionTreeClassifier was fitted with feature names\n",
            "  warnings.warn(\n"
          ]
        },
        {
          "name": "stdout",
          "output_type": "stream",
          "text": [
            "-0.1557159423828125, 0.185455322265625, 0.0116119384765625, 0.2348228975371918, 0.2662463341873637, 0.3097235042473433\n",
            "mid: 308\n",
            "0.0, 0.0, 0.0, -0.19022746613548794, -0.2210977642272504, -0.1273843212606701\n",
            "mid: 309\n"
          ]
        },
        {
          "name": "stderr",
          "output_type": "stream",
          "text": [
            "C:\\Users\\boomt\\AppData\\Local\\Programs\\Python\\Python38\\lib\\site-packages\\sklearn\\base.py:445: UserWarning: X does not have valid feature names, but DecisionTreeClassifier was fitted with feature names\n",
            "  warnings.warn(\n",
            "C:\\Users\\boomt\\AppData\\Local\\Programs\\Python\\Python38\\lib\\site-packages\\sklearn\\base.py:445: UserWarning: X does not have valid feature names, but DecisionTreeClassifier was fitted with feature names\n",
            "  warnings.warn(\n"
          ]
        },
        {
          "name": "stdout",
          "output_type": "stream",
          "text": [
            "-0.0219573974609375, 0.368499755859375, -0.4124755859375, 0.7884394933623188, 0.20282368545934468, -0.177928455589284\n",
            "mid: 310\n",
            "0.1017303466796875, 0.1845550537109375, -0.3524322509765625, 0.11733115446173004, -0.0898595825531266, 0.008964999177533739\n",
            "mid: 311\n"
          ]
        },
        {
          "name": "stderr",
          "output_type": "stream",
          "text": [
            "C:\\Users\\boomt\\AppData\\Local\\Programs\\Python\\Python38\\lib\\site-packages\\sklearn\\base.py:445: UserWarning: X does not have valid feature names, but DecisionTreeClassifier was fitted with feature names\n",
            "  warnings.warn(\n",
            "C:\\Users\\boomt\\AppData\\Local\\Programs\\Python\\Python38\\lib\\site-packages\\sklearn\\base.py:445: UserWarning: X does not have valid feature names, but DecisionTreeClassifier was fitted with feature names\n",
            "  warnings.warn(\n"
          ]
        },
        {
          "name": "stdout",
          "output_type": "stream",
          "text": [
            "-0.1101837158203125, 0.0735931396484375, -0.197479248046875, -0.37134718765901387, 0.0031875375087158098, 0.2861430770074547\n",
            "mid: 312\n",
            "-0.0096435546875, 0.0347747802734375, 0.0361785888671875, -0.5694866390770181, -0.27719751890587857, 0.20263326944140397\n",
            "mid: 313\n"
          ]
        },
        {
          "name": "stderr",
          "output_type": "stream",
          "text": [
            "C:\\Users\\boomt\\AppData\\Local\\Programs\\Python\\Python38\\lib\\site-packages\\sklearn\\base.py:445: UserWarning: X does not have valid feature names, but DecisionTreeClassifier was fitted with feature names\n",
            "  warnings.warn(\n",
            "C:\\Users\\boomt\\AppData\\Local\\Programs\\Python\\Python38\\lib\\site-packages\\sklearn\\base.py:445: UserWarning: X does not have valid feature names, but DecisionTreeClassifier was fitted with feature names\n",
            "  warnings.warn(\n"
          ]
        },
        {
          "name": "stdout",
          "output_type": "stream",
          "text": [
            "0.21923828125, -0.1259613037109375, 0.128662109375, 0.24550270614062755, 0.10128480994567557, 0.2341930599393881\n",
            "mid: 314\n",
            "0.0, 0.0, 0.0, -0.2633339012192531, 0.06961929195241542, 0.0640357084109553\n",
            "mid: 315\n"
          ]
        },
        {
          "name": "stderr",
          "output_type": "stream",
          "text": [
            "C:\\Users\\boomt\\AppData\\Local\\Programs\\Python\\Python38\\lib\\site-packages\\sklearn\\base.py:445: UserWarning: X does not have valid feature names, but DecisionTreeClassifier was fitted with feature names\n",
            "  warnings.warn(\n",
            "C:\\Users\\boomt\\AppData\\Local\\Programs\\Python\\Python38\\lib\\site-packages\\sklearn\\base.py:445: UserWarning: X does not have valid feature names, but DecisionTreeClassifier was fitted with feature names\n",
            "  warnings.warn(\n"
          ]
        },
        {
          "name": "stdout",
          "output_type": "stream",
          "text": [
            "-0.10894775390625, 0.088592529296875, -0.1432647705078125, 0.026747192092101826, -0.16369945220109963, -0.787302057260746\n",
            "mid: 316\n",
            "0.013031005859375, -0.004852294921875, -0.005828857421875, 0.03402081766132623, -0.002692722178179117, 0.0011044129040558605\n",
            "mid: 317\n"
          ]
        },
        {
          "name": "stderr",
          "output_type": "stream",
          "text": [
            "C:\\Users\\boomt\\AppData\\Local\\Programs\\Python\\Python38\\lib\\site-packages\\sklearn\\base.py:445: UserWarning: X does not have valid feature names, but DecisionTreeClassifier was fitted with feature names\n",
            "  warnings.warn(\n",
            "C:\\Users\\boomt\\AppData\\Local\\Programs\\Python\\Python38\\lib\\site-packages\\sklearn\\base.py:445: UserWarning: X does not have valid feature names, but DecisionTreeClassifier was fitted with feature names\n",
            "  warnings.warn(\n"
          ]
        },
        {
          "name": "stdout",
          "output_type": "stream",
          "text": [
            "0.0185394287109375, -0.0017852783203125, -0.0084381103515625, -0.036214996083442516, 0.035591017440036954, 0.052170793122434264\n",
            "mid: 318\n",
            "0.0, 0.0, 0.0, -0.03209162376767284, 0.02794881037594557, -0.06843791369285626\n",
            "mid: 319\n"
          ]
        },
        {
          "name": "stderr",
          "output_type": "stream",
          "text": [
            "C:\\Users\\boomt\\AppData\\Local\\Programs\\Python\\Python38\\lib\\site-packages\\sklearn\\base.py:445: UserWarning: X does not have valid feature names, but DecisionTreeClassifier was fitted with feature names\n",
            "  warnings.warn(\n",
            "C:\\Users\\boomt\\AppData\\Local\\Programs\\Python\\Python38\\lib\\site-packages\\sklearn\\base.py:445: UserWarning: X does not have valid feature names, but DecisionTreeClassifier was fitted with feature names\n",
            "  warnings.warn(\n"
          ]
        },
        {
          "name": "stdout",
          "output_type": "stream",
          "text": [
            "0.00347900390625, 0.0150604248046875, 0.00433349609375, 0.15512726928435258, -0.010523747363557115, 0.4798329188761547\n",
            "mid: 320\n",
            "0.0, 0.0, 0.0, -0.026283269430210032, -0.004493285391181691, -0.016935041371813897\n",
            "mid: 321\n"
          ]
        },
        {
          "name": "stderr",
          "output_type": "stream",
          "text": [
            "C:\\Users\\boomt\\AppData\\Local\\Programs\\Python\\Python38\\lib\\site-packages\\sklearn\\base.py:445: UserWarning: X does not have valid feature names, but DecisionTreeClassifier was fitted with feature names\n",
            "  warnings.warn(\n",
            "C:\\Users\\boomt\\AppData\\Local\\Programs\\Python\\Python38\\lib\\site-packages\\sklearn\\base.py:445: UserWarning: X does not have valid feature names, but DecisionTreeClassifier was fitted with feature names\n",
            "  warnings.warn(\n"
          ]
        },
        {
          "name": "stdout",
          "output_type": "stream",
          "text": [
            "0.10406494140625, -0.6190948486328125, 0.0130767822265625, 1.7264724735799144, 0.30286906023369736, 2.0595801300948073\n",
            "mid: 322\n",
            "0.704559326171875, -0.006103515625, 0.1587982177734375, -1.5710101786304298, 2.2177982641403062, -0.8796508964847696\n",
            "mid: 323\n"
          ]
        },
        {
          "name": "stderr",
          "output_type": "stream",
          "text": [
            "C:\\Users\\boomt\\AppData\\Local\\Programs\\Python\\Python38\\lib\\site-packages\\sklearn\\base.py:445: UserWarning: X does not have valid feature names, but DecisionTreeClassifier was fitted with feature names\n",
            "  warnings.warn(\n",
            "C:\\Users\\boomt\\AppData\\Local\\Programs\\Python\\Python38\\lib\\site-packages\\sklearn\\base.py:445: UserWarning: X does not have valid feature names, but DecisionTreeClassifier was fitted with feature names\n",
            "  warnings.warn(\n"
          ]
        },
        {
          "name": "stdout",
          "output_type": "stream",
          "text": [
            "-0.0284881591796875, -0.29180908203125, 0.178985595703125, -0.2905013401313694, -2.5694969155928247, -1.6491308134145963\n",
            "mid: 324\n",
            "0.0, 0.0, 0.0, 0.0010420949345480062, 0.008496549141788802, 0.001080710770354154\n",
            "mid: 325\n"
          ]
        },
        {
          "name": "stderr",
          "output_type": "stream",
          "text": [
            "C:\\Users\\boomt\\AppData\\Local\\Programs\\Python\\Python38\\lib\\site-packages\\sklearn\\base.py:445: UserWarning: X does not have valid feature names, but DecisionTreeClassifier was fitted with feature names\n",
            "  warnings.warn(\n",
            "C:\\Users\\boomt\\AppData\\Local\\Programs\\Python\\Python38\\lib\\site-packages\\sklearn\\base.py:445: UserWarning: X does not have valid feature names, but DecisionTreeClassifier was fitted with feature names\n",
            "  warnings.warn(\n"
          ]
        },
        {
          "name": "stdout",
          "output_type": "stream",
          "text": [
            "0.0031280517578125, 0.0023040771484375, 0.0001983642578125, 6.6579027251977355e-06, -0.0021289309754093447, 0.0010641991715956648\n",
            "mid: 326\n",
            "-9.1552734375e-05, -0.00018310546875, 0.001068115234375, -1.5978966540469014e-06, 8.522115488254767e-06, -0.002135855194243549\n",
            "mid: 327\n"
          ]
        },
        {
          "name": "stderr",
          "output_type": "stream",
          "text": [
            "C:\\Users\\boomt\\AppData\\Local\\Programs\\Python\\Python38\\lib\\site-packages\\sklearn\\base.py:445: UserWarning: X does not have valid feature names, but DecisionTreeClassifier was fitted with feature names\n",
            "  warnings.warn(\n",
            "C:\\Users\\boomt\\AppData\\Local\\Programs\\Python\\Python38\\lib\\site-packages\\sklearn\\base.py:445: UserWarning: X does not have valid feature names, but DecisionTreeClassifier was fitted with feature names\n",
            "  warnings.warn(\n"
          ]
        },
        {
          "name": "stdout",
          "output_type": "stream",
          "text": [
            "0.0008392333984375, -0.000732421875, -0.0015716552734375, 4.527373853134044e-06, -0.0010708570743208617, 0.002133990981480493\n",
            "mid: 328\n",
            "0.0, 0.0, 0.0, 0.001060204429960545, 0.0010729876031929254, -0.0021361215103525566\n",
            "mid: 329\n"
          ]
        },
        {
          "name": "stderr",
          "output_type": "stream",
          "text": [
            "C:\\Users\\boomt\\AppData\\Local\\Programs\\Python\\Python38\\lib\\site-packages\\sklearn\\base.py:445: UserWarning: X does not have valid feature names, but DecisionTreeClassifier was fitted with feature names\n",
            "  warnings.warn(\n",
            "C:\\Users\\boomt\\AppData\\Local\\Programs\\Python\\Python38\\lib\\site-packages\\sklearn\\base.py:445: UserWarning: X does not have valid feature names, but DecisionTreeClassifier was fitted with feature names\n",
            "  warnings.warn(\n"
          ]
        },
        {
          "name": "stdout",
          "output_type": "stream",
          "text": [
            "-0.00250244140625, -1.52587890625e-05, 0.0012969970703125, -0.0010668623326857427, 0.0010559433722164176, 0.0010719223387568935\n",
            "mid: 330\n",
            "0.0, 0.0, 0.0, -0.0010618023266145919, -0.0010644654877046723, 2.663161090075278e-07\n",
            "mid: 331\n"
          ]
        },
        {
          "name": "stderr",
          "output_type": "stream",
          "text": [
            "C:\\Users\\boomt\\AppData\\Local\\Programs\\Python\\Python38\\lib\\site-packages\\sklearn\\base.py:445: UserWarning: X does not have valid feature names, but DecisionTreeClassifier was fitted with feature names\n",
            "  warnings.warn(\n",
            "C:\\Users\\boomt\\AppData\\Local\\Programs\\Python\\Python38\\lib\\site-packages\\sklearn\\base.py:445: UserWarning: X does not have valid feature names, but DecisionTreeClassifier was fitted with feature names\n",
            "  warnings.warn(\n"
          ]
        },
        {
          "name": "stdout",
          "output_type": "stream",
          "text": [
            "0.0021209716796875, 0.001312255859375, -0.00164794921875, -0.0010647318038136799, -2.1305288720636917e-06, 2.1305288720636917e-06\n",
            "mid: 332\n",
            "-0.002838134765625, -0.00091552734375, 0.00067138671875, 0.0010655307521407033, -2.130528872061957e-06, 0.0010657970682497117\n",
            "mid: 333\n"
          ]
        },
        {
          "name": "stderr",
          "output_type": "stream",
          "text": [
            "C:\\Users\\boomt\\AppData\\Local\\Programs\\Python\\Python38\\lib\\site-packages\\sklearn\\base.py:445: UserWarning: X does not have valid feature names, but DecisionTreeClassifier was fitted with feature names\n",
            "  warnings.warn(\n",
            "C:\\Users\\boomt\\AppData\\Local\\Programs\\Python\\Python38\\lib\\site-packages\\sklearn\\base.py:445: UserWarning: X does not have valid feature names, but DecisionTreeClassifier was fitted with feature names\n",
            "  warnings.warn(\n"
          ]
        },
        {
          "name": "stdout",
          "output_type": "stream",
          "text": [
            "0.00146484375, -0.0023956298828125, -0.0002288818359375, -0.0010663297004677268, 6.39158661618934e-06, -0.002133724665371487\n",
            "mid: 334\n",
            "0.0, 0.0, 0.0, 0.001072188654865901, -0.0021310615042814066, 0.002129996239845375\n",
            "mid: 335\n"
          ]
        },
        {
          "name": "stderr",
          "output_type": "stream",
          "text": [
            "C:\\Users\\boomt\\AppData\\Local\\Programs\\Python\\Python38\\lib\\site-packages\\sklearn\\base.py:445: UserWarning: X does not have valid feature names, but DecisionTreeClassifier was fitted with feature names\n",
            "  warnings.warn(\n",
            "C:\\Users\\boomt\\AppData\\Local\\Programs\\Python\\Python38\\lib\\site-packages\\sklearn\\base.py:445: UserWarning: X does not have valid feature names, but DecisionTreeClassifier was fitted with feature names\n",
            "  warnings.warn(\n"
          ]
        },
        {
          "name": "stdout",
          "output_type": "stream",
          "text": [
            "-0.2893829345703125, 0.08795166015625, 0.503875732421875, 1.3841382954684418, 0.6477827761770208, 0.34633477870098967\n",
            "mid: 336\n",
            "-0.5772705078125, 0.1682586669921875, -0.0065460205078125, -1.3536437694064896, 0.36633724901635667, 0.04090322486641801\n",
            "mid: 337\n"
          ]
        },
        {
          "name": "stderr",
          "output_type": "stream",
          "text": [
            "C:\\Users\\boomt\\AppData\\Local\\Programs\\Python\\Python38\\lib\\site-packages\\sklearn\\base.py:445: UserWarning: X does not have valid feature names, but DecisionTreeClassifier was fitted with feature names\n",
            "  warnings.warn(\n",
            "C:\\Users\\boomt\\AppData\\Local\\Programs\\Python\\Python38\\lib\\site-packages\\sklearn\\base.py:445: UserWarning: X does not have valid feature names, but DecisionTreeClassifier was fitted with feature names\n",
            "  warnings.warn(\n"
          ]
        },
        {
          "name": "stdout",
          "output_type": "stream",
          "text": [
            "1.1763458251953125, -0.1147308349609375, -0.179962158203125, 0.39243303190582524, 0.042849196674938916, 1.6540552645862616\n",
            "mid: 338\n",
            "-0.6011505126953125, 0.27337646484375, -0.250244140625, -0.08694901379777903, -0.8104694282155631, -0.8909027520903543\n",
            "mid: 339\n"
          ]
        },
        {
          "name": "stderr",
          "output_type": "stream",
          "text": [
            "C:\\Users\\boomt\\AppData\\Local\\Programs\\Python\\Python38\\lib\\site-packages\\sklearn\\base.py:445: UserWarning: X does not have valid feature names, but DecisionTreeClassifier was fitted with feature names\n",
            "  warnings.warn(\n",
            "C:\\Users\\boomt\\AppData\\Local\\Programs\\Python\\Python38\\lib\\site-packages\\sklearn\\base.py:445: UserWarning: X does not have valid feature names, but DecisionTreeClassifier was fitted with feature names\n",
            "  warnings.warn(\n"
          ]
        },
        {
          "name": "stdout",
          "output_type": "stream",
          "text": [
            "0.132781982421875, -0.37799072265625, 0.41595458984375, 1.5690935015938998, 0.04585217712011225, 0.9010166389621486\n",
            "mid: 340\n",
            "0.0, 0.0, 0.0, 1.1890143413527343, 0.9620296595358637, -1.1179241855302684\n",
            "mid: 341\n"
          ]
        },
        {
          "name": "stderr",
          "output_type": "stream",
          "text": [
            "C:\\Users\\boomt\\AppData\\Local\\Programs\\Python\\Python38\\lib\\site-packages\\sklearn\\base.py:445: UserWarning: X does not have valid feature names, but DecisionTreeClassifier was fitted with feature names\n",
            "  warnings.warn(\n",
            "C:\\Users\\boomt\\AppData\\Local\\Programs\\Python\\Python38\\lib\\site-packages\\sklearn\\base.py:445: UserWarning: X does not have valid feature names, but DecisionTreeClassifier was fitted with feature names\n",
            "  warnings.warn(\n"
          ]
        },
        {
          "name": "stdout",
          "output_type": "stream",
          "text": [
            "-0.5651397705078125, 0.972747802734375, -0.8185882568359375, -2.9541284834013717, -0.16105040586479769, 0.0836770540825077\n",
            "mid: 342\n",
            "0.518890380859375, -0.30584716796875, 0.5026092529296875, 0.3002567655204387, -0.9051117817703633, -0.946142572052996\n",
            "mid: 343\n"
          ]
        },
        {
          "name": "stderr",
          "output_type": "stream",
          "text": [
            "C:\\Users\\boomt\\AppData\\Local\\Programs\\Python\\Python38\\lib\\site-packages\\sklearn\\base.py:445: UserWarning: X does not have valid feature names, but DecisionTreeClassifier was fitted with feature names\n",
            "  warnings.warn(\n",
            "C:\\Users\\boomt\\AppData\\Local\\Programs\\Python\\Python38\\lib\\site-packages\\sklearn\\base.py:445: UserWarning: X does not have valid feature names, but DecisionTreeClassifier was fitted with feature names\n",
            "  warnings.warn(\n"
          ]
        },
        {
          "name": "stdout",
          "output_type": "stream",
          "text": [
            "-0.650115966796875, 0.2105255126953125, -0.4573822021484375, -0.30097821585974116, -0.11337236550132723, -0.04098658180853749\n",
            "mid: 344\n",
            "0.0, 0.0, 0.0, -0.05620388427725026, -0.06726585649711239, -0.024844363493240203\n",
            "mid: 345\n"
          ]
        },
        {
          "name": "stderr",
          "output_type": "stream",
          "text": [
            "C:\\Users\\boomt\\AppData\\Local\\Programs\\Python\\Python38\\lib\\site-packages\\sklearn\\base.py:445: UserWarning: X does not have valid feature names, but DecisionTreeClassifier was fitted with feature names\n",
            "  warnings.warn(\n",
            "C:\\Users\\boomt\\AppData\\Local\\Programs\\Python\\Python38\\lib\\site-packages\\sklearn\\base.py:445: UserWarning: X does not have valid feature names, but DecisionTreeClassifier was fitted with feature names\n",
            "  warnings.warn(\n"
          ]
        },
        {
          "name": "stdout",
          "output_type": "stream",
          "text": [
            "0.2043304443359375, -0.008331298828125, -0.0175323486328125, 0.10060889966101347, 0.18312002181828446, 0.017255153334841396\n",
            "mid: 346\n",
            "-0.21795654296875, 0.0017547607421875, 0.0346527099609375, -0.0645805911699855, 0.14211985788818757, 0.10228109850947423\n",
            "mid: 347\n"
          ]
        },
        {
          "name": "stderr",
          "output_type": "stream",
          "text": [
            "C:\\Users\\boomt\\AppData\\Local\\Programs\\Python\\Python38\\lib\\site-packages\\sklearn\\base.py:445: UserWarning: X does not have valid feature names, but DecisionTreeClassifier was fitted with feature names\n",
            "  warnings.warn(\n",
            "C:\\Users\\boomt\\AppData\\Local\\Programs\\Python\\Python38\\lib\\site-packages\\sklearn\\base.py:445: UserWarning: X does not have valid feature names, but DecisionTreeClassifier was fitted with feature names\n",
            "  warnings.warn(\n"
          ]
        },
        {
          "name": "stdout",
          "output_type": "stream",
          "text": [
            "0.2537078857421875, -0.3984832763671875, 0.53656005859375, -0.05187358434478141, 1.23753926694285, 0.12244708691577222\n",
            "mid: 348\n",
            "-0.2328643798828125, 0.38153076171875, -0.4128570556640625, 0.4368279272774461, -0.7631154945567553, 0.8616561833152132\n",
            "mid: 349\n"
          ]
        },
        {
          "name": "stderr",
          "output_type": "stream",
          "text": [
            "C:\\Users\\boomt\\AppData\\Local\\Programs\\Python\\Python38\\lib\\site-packages\\sklearn\\base.py:445: UserWarning: X does not have valid feature names, but DecisionTreeClassifier was fitted with feature names\n",
            "  warnings.warn(\n",
            "C:\\Users\\boomt\\AppData\\Local\\Programs\\Python\\Python38\\lib\\site-packages\\sklearn\\base.py:445: UserWarning: X does not have valid feature names, but DecisionTreeClassifier was fitted with feature names\n",
            "  warnings.warn(\n"
          ]
        },
        {
          "name": "stdout",
          "output_type": "stream",
          "text": [
            "-0.0447998046875, 0.0211944580078125, 0.0527191162109375, 0.8579919399713731, -0.6133670117260357, -0.5963297049683628\n",
            "mid: 350\n",
            "0.0, 0.0, 0.0, -0.9105494240840869, 0.930380120509144, -0.41959913923739656\n",
            "mid: 351\n"
          ]
        },
        {
          "name": "stderr",
          "output_type": "stream",
          "text": [
            "C:\\Users\\boomt\\AppData\\Local\\Programs\\Python\\Python38\\lib\\site-packages\\sklearn\\base.py:445: UserWarning: X does not have valid feature names, but DecisionTreeClassifier was fitted with feature names\n",
            "  warnings.warn(\n",
            "C:\\Users\\boomt\\AppData\\Local\\Programs\\Python\\Python38\\lib\\site-packages\\sklearn\\base.py:445: UserWarning: X does not have valid feature names, but DecisionTreeClassifier was fitted with feature names\n",
            "  warnings.warn(\n"
          ]
        },
        {
          "name": "stdout",
          "output_type": "stream",
          "text": [
            "0.08172607421875, -0.2410888671875, 0.3510284423828125, -0.14159681305009603, -1.1112052964161072, -0.014468155254073481\n",
            "mid: 352\n",
            "0.1285858154296875, 0.1411285400390625, -0.0595550537109375, -0.009301622739319726, 0.4505091184294012, 0.6432681854971185\n",
            "mid: 353\n"
          ]
        },
        {
          "name": "stderr",
          "output_type": "stream",
          "text": [
            "C:\\Users\\boomt\\AppData\\Local\\Programs\\Python\\Python38\\lib\\site-packages\\sklearn\\base.py:445: UserWarning: X does not have valid feature names, but DecisionTreeClassifier was fitted with feature names\n",
            "  warnings.warn(\n",
            "C:\\Users\\boomt\\AppData\\Local\\Programs\\Python\\Python38\\lib\\site-packages\\sklearn\\base.py:445: UserWarning: X does not have valid feature names, but DecisionTreeClassifier was fitted with feature names\n",
            "  warnings.warn(\n"
          ]
        },
        {
          "name": "stdout",
          "output_type": "stream",
          "text": [
            "-0.0298004150390625, -0.048309326171875, -0.104217529296875, 0.0443826448306065, 0.25413933755575446, -0.4948102705306513\n",
            "mid: 354\n",
            "0.0, 0.0, 0.0, 0.12199648005933084, -0.5613922272598313, -0.17925470981214345\n",
            "mid: 355\n"
          ]
        },
        {
          "name": "stderr",
          "output_type": "stream",
          "text": [
            "C:\\Users\\boomt\\AppData\\Local\\Programs\\Python\\Python38\\lib\\site-packages\\sklearn\\base.py:445: UserWarning: X does not have valid feature names, but DecisionTreeClassifier was fitted with feature names\n",
            "  warnings.warn(\n",
            "C:\\Users\\boomt\\AppData\\Local\\Programs\\Python\\Python38\\lib\\site-packages\\sklearn\\base.py:445: UserWarning: X does not have valid feature names, but DecisionTreeClassifier was fitted with feature names\n",
            "  warnings.warn(\n"
          ]
        },
        {
          "name": "stdout",
          "output_type": "stream",
          "text": [
            "0.0449371337890625, -0.1207275390625, -0.098236083984375, -0.2823938788248412, -0.028592762727526755, 0.4298624294463439\n",
            "mid: 356\n",
            "0.0, 0.0, 0.0, 1.1115781389687183, 0.7341799829969354, 1.5985770917060582\n",
            "mid: 357\n"
          ]
        },
        {
          "name": "stderr",
          "output_type": "stream",
          "text": [
            "C:\\Users\\boomt\\AppData\\Local\\Programs\\Python\\Python38\\lib\\site-packages\\sklearn\\base.py:445: UserWarning: X does not have valid feature names, but DecisionTreeClassifier was fitted with feature names\n",
            "  warnings.warn(\n",
            "C:\\Users\\boomt\\AppData\\Local\\Programs\\Python\\Python38\\lib\\site-packages\\sklearn\\base.py:445: UserWarning: X does not have valid feature names, but DecisionTreeClassifier was fitted with feature names\n",
            "  warnings.warn(\n"
          ]
        },
        {
          "name": "stdout",
          "output_type": "stream",
          "text": [
            "0.838470458984375, -0.1463165283203125, -0.3260040283203125, -0.9706891941363653, 1.5595002627152161, 0.3413064642468111\n",
            "mid: 358\n",
            "-0.1905364990234375, 1.7271270751953125, 0.4605560302734375, 0.37965198920231696, -1.149180109347874, -1.6796897879749286\n",
            "mid: 359\n"
          ]
        },
        {
          "name": "stderr",
          "output_type": "stream",
          "text": [
            "C:\\Users\\boomt\\AppData\\Local\\Programs\\Python\\Python38\\lib\\site-packages\\sklearn\\base.py:445: UserWarning: X does not have valid feature names, but DecisionTreeClassifier was fitted with feature names\n",
            "  warnings.warn(\n",
            "C:\\Users\\boomt\\AppData\\Local\\Programs\\Python\\Python38\\lib\\site-packages\\sklearn\\base.py:445: UserWarning: X does not have valid feature names, but DecisionTreeClassifier was fitted with feature names\n",
            "  warnings.warn(\n"
          ]
        },
        {
          "name": "stdout",
          "output_type": "stream",
          "text": [
            "-0.774810791015625, -1.3272552490234375, -0.4028167724609375, -0.46762445580701345, -1.2341051207171927, -0.5619829163896108\n",
            "mid: 360\n",
            "0.0, 0.0, 0.0, 0.3389098855818487, 1.5352303430691063, 0.09694172683997432\n",
            "mid: 361\n"
          ]
        },
        {
          "name": "stderr",
          "output_type": "stream",
          "text": [
            "C:\\Users\\boomt\\AppData\\Local\\Programs\\Python\\Python38\\lib\\site-packages\\sklearn\\base.py:445: UserWarning: X does not have valid feature names, but DecisionTreeClassifier was fitted with feature names\n",
            "  warnings.warn(\n",
            "C:\\Users\\boomt\\AppData\\Local\\Programs\\Python\\Python38\\lib\\site-packages\\sklearn\\base.py:445: UserWarning: X does not have valid feature names, but DecisionTreeClassifier was fitted with feature names\n",
            "  warnings.warn(\n"
          ]
        },
        {
          "name": "stdout",
          "output_type": "stream",
          "text": [
            "-0.134490966796875, 0.0284271240234375, -0.046600341796875, -0.4512649235467656, -1.4098377999877065, -0.2507981356521411\n",
            "mid: 362\n",
            "-0.000152587890625, 0.0038909912109375, -0.0195770263671875, -0.03180240447329023, -0.022008629564523846, -0.026060362846970386\n",
            "mid: 363\n"
          ]
        },
        {
          "name": "stderr",
          "output_type": "stream",
          "text": [
            "C:\\Users\\boomt\\AppData\\Local\\Programs\\Python\\Python38\\lib\\site-packages\\sklearn\\base.py:445: UserWarning: X does not have valid feature names, but DecisionTreeClassifier was fitted with feature names\n",
            "  warnings.warn(\n",
            "C:\\Users\\boomt\\AppData\\Local\\Programs\\Python\\Python38\\lib\\site-packages\\sklearn\\base.py:445: UserWarning: X does not have valid feature names, but DecisionTreeClassifier was fitted with feature names\n",
            "  warnings.warn(\n"
          ]
        },
        {
          "name": "stdout",
          "output_type": "stream",
          "text": [
            "0.0301513671875, 0.01177978515625, -0.0390472412109375, 0.03043673546629759, 1.588920203277322, 0.4157721767509527\n",
            "mid: 364\n",
            "0.0, 0.0, 0.0, 0.013756558610804326, -1.6694794946716738, -0.31504316852477665\n",
            "mid: 365\n"
          ]
        },
        {
          "name": "stderr",
          "output_type": "stream",
          "text": [
            "C:\\Users\\boomt\\AppData\\Local\\Programs\\Python\\Python38\\lib\\site-packages\\sklearn\\base.py:445: UserWarning: X does not have valid feature names, but DecisionTreeClassifier was fitted with feature names\n",
            "  warnings.warn(\n",
            "C:\\Users\\boomt\\AppData\\Local\\Programs\\Python\\Python38\\lib\\site-packages\\sklearn\\base.py:445: UserWarning: X does not have valid feature names, but DecisionTreeClassifier was fitted with feature names\n",
            "  warnings.warn(\n"
          ]
        },
        {
          "name": "stdout",
          "output_type": "stream",
          "text": [
            "0.0498046875, -0.0258331298828125, 0.2275543212890625, -0.043749877755603725, -0.06008650683047678, -0.09523916795508669\n",
            "mid: 366\n",
            "0.0, 0.0, 0.0, -0.03937883145845665, 0.4486049582499945, 0.21215726613174543\n",
            "mid: 367\n"
          ]
        },
        {
          "name": "stderr",
          "output_type": "stream",
          "text": [
            "C:\\Users\\boomt\\AppData\\Local\\Programs\\Python\\Python38\\lib\\site-packages\\sklearn\\base.py:445: UserWarning: X does not have valid feature names, but DecisionTreeClassifier was fitted with feature names\n",
            "  warnings.warn(\n",
            "C:\\Users\\boomt\\AppData\\Local\\Programs\\Python\\Python38\\lib\\site-packages\\sklearn\\base.py:445: UserWarning: X does not have valid feature names, but DecisionTreeClassifier was fitted with feature names\n",
            "  warnings.warn(\n"
          ]
        },
        {
          "name": "stdout",
          "output_type": "stream",
          "text": [
            "0.0010833740234375, -0.0214080810546875, -0.094512939453125, 0.1015242281276737, -0.16193803745612123, 0.33098058975224676\n",
            "mid: 368\n",
            "0.04473876953125, 0.036041259765625, 0.0303955078125, 0.41409278736754873, 0.3647326944595841, -0.5177195811758399\n",
            "mid: 369\n"
          ]
        },
        {
          "name": "stderr",
          "output_type": "stream",
          "text": [
            "C:\\Users\\boomt\\AppData\\Local\\Programs\\Python\\Python38\\lib\\site-packages\\sklearn\\base.py:445: UserWarning: X does not have valid feature names, but DecisionTreeClassifier was fitted with feature names\n",
            "  warnings.warn(\n",
            "C:\\Users\\boomt\\AppData\\Local\\Programs\\Python\\Python38\\lib\\site-packages\\sklearn\\base.py:445: UserWarning: X does not have valid feature names, but DecisionTreeClassifier was fitted with feature names\n",
            "  warnings.warn(\n"
          ]
        },
        {
          "name": "stdout",
          "output_type": "stream",
          "text": [
            "0.0137176513671875, -0.0114593505859375, -0.0728759765625, -0.5262851061898618, -0.31906906914464944, 0.14559767995572204\n",
            "mid: 370\n",
            "0.0, 0.0, 0.0, 0.14276727234918582, -0.2665603208798841, 0.26423431598380887\n",
            "mid: 371\n"
          ]
        },
        {
          "name": "stderr",
          "output_type": "stream",
          "text": [
            "C:\\Users\\boomt\\AppData\\Local\\Programs\\Python\\Python38\\lib\\site-packages\\sklearn\\base.py:445: UserWarning: X does not have valid feature names, but DecisionTreeClassifier was fitted with feature names\n",
            "  warnings.warn(\n",
            "C:\\Users\\boomt\\AppData\\Local\\Programs\\Python\\Python38\\lib\\site-packages\\sklearn\\base.py:445: UserWarning: X does not have valid feature names, but DecisionTreeClassifier was fitted with feature names\n",
            "  warnings.warn(\n"
          ]
        },
        {
          "name": "stdout",
          "output_type": "stream",
          "text": [
            "-0.0484466552734375, 0.0563812255859375, -0.0298919677734375, -0.10470830352697243, -0.011871573191246224, -0.35638501602273065\n",
            "mid: 372\n",
            "-0.0467681884765625, -0.0423126220703125, 0.006866455078125, -0.04568972429361743, -0.015245531976267601, -0.07054873517285307\n",
            "mid: 373\n"
          ]
        },
        {
          "name": "stderr",
          "output_type": "stream",
          "text": [
            "C:\\Users\\boomt\\AppData\\Local\\Programs\\Python\\Python38\\lib\\site-packages\\sklearn\\base.py:445: UserWarning: X does not have valid feature names, but DecisionTreeClassifier was fitted with feature names\n",
            "  warnings.warn(\n",
            "C:\\Users\\boomt\\AppData\\Local\\Programs\\Python\\Python38\\lib\\site-packages\\sklearn\\base.py:445: UserWarning: X does not have valid feature names, but DecisionTreeClassifier was fitted with feature names\n",
            "  warnings.warn(\n"
          ]
        },
        {
          "name": "stdout",
          "output_type": "stream",
          "text": [
            "-0.00225830078125, 0.0023193359375, 0.001251220703125, 0.049659698530598546, 1.646836500135493, 0.1153947700331334\n",
            "mid: 374\n",
            "0.0, 0.0, 0.0, 0.12721281368646903, -1.6879820726611081, -0.13205523949656012\n",
            "mid: 375\n"
          ]
        },
        {
          "name": "stderr",
          "output_type": "stream",
          "text": [
            "C:\\Users\\boomt\\AppData\\Local\\Programs\\Python\\Python38\\lib\\site-packages\\sklearn\\base.py:445: UserWarning: X does not have valid feature names, but DecisionTreeClassifier was fitted with feature names\n",
            "  warnings.warn(\n",
            "C:\\Users\\boomt\\AppData\\Local\\Programs\\Python\\Python38\\lib\\site-packages\\sklearn\\base.py:445: UserWarning: X does not have valid feature names, but DecisionTreeClassifier was fitted with feature names\n",
            "  warnings.warn(\n"
          ]
        },
        {
          "name": "stdout",
          "output_type": "stream",
          "text": [
            "-0.0244598388671875, -0.0171051025390625, 0.0189666748046875, 0.18891399508586085, 0.9584652847329017, 0.15587322070568377\n",
            "mid: 376\n",
            "0.0, 0.0, 0.0, -0.3684480704963536, -0.6946767819155721, -0.06832100092100178\n",
            "mid: 377\n"
          ]
        },
        {
          "name": "stderr",
          "output_type": "stream",
          "text": [
            "C:\\Users\\boomt\\AppData\\Local\\Programs\\Python\\Python38\\lib\\site-packages\\sklearn\\base.py:445: UserWarning: X does not have valid feature names, but DecisionTreeClassifier was fitted with feature names\n",
            "  warnings.warn(\n",
            "C:\\Users\\boomt\\AppData\\Local\\Programs\\Python\\Python38\\lib\\site-packages\\sklearn\\base.py:445: UserWarning: X does not have valid feature names, but DecisionTreeClassifier was fitted with feature names\n",
            "  warnings.warn(\n"
          ]
        },
        {
          "name": "stdout",
          "output_type": "stream",
          "text": [
            "0.009918212890625, 0.003631591796875, -0.0283966064453125, -0.016404007050452075, -0.25252040192909536, -0.08797965713963969\n",
            "mid: 378\n",
            "0.000885009765625, -0.04217529296875, -0.0007476806640625, -0.012766395317512844, -0.003221093338450838, 0.002155828902419143\n",
            "mid: 379\n"
          ]
        },
        {
          "name": "stderr",
          "output_type": "stream",
          "text": [
            "C:\\Users\\boomt\\AppData\\Local\\Programs\\Python\\Python38\\lib\\site-packages\\sklearn\\base.py:445: UserWarning: X does not have valid feature names, but DecisionTreeClassifier was fitted with feature names\n",
            "  warnings.warn(\n",
            "C:\\Users\\boomt\\AppData\\Local\\Programs\\Python\\Python38\\lib\\site-packages\\sklearn\\base.py:445: UserWarning: X does not have valid feature names, but DecisionTreeClassifier was fitted with feature names\n",
            "  warnings.warn(\n"
          ]
        },
        {
          "name": "stdout",
          "output_type": "stream",
          "text": [
            "-0.0070648193359375, 0.0300750732421875, 0.050445556640625, 0.02130768556561498, 0.00415985762270377, 0.033070601784385964\n",
            "mid: 380\n",
            "0.0, 0.0, 0.0, -0.008464058576489835, -0.02123817706116391, -0.006427805607015245\n",
            "mid: 381\n"
          ]
        },
        {
          "name": "stderr",
          "output_type": "stream",
          "text": [
            "C:\\Users\\boomt\\AppData\\Local\\Programs\\Python\\Python38\\lib\\site-packages\\sklearn\\base.py:445: UserWarning: X does not have valid feature names, but DecisionTreeClassifier was fitted with feature names\n",
            "  warnings.warn(\n",
            "C:\\Users\\boomt\\AppData\\Local\\Programs\\Python\\Python38\\lib\\site-packages\\sklearn\\base.py:445: UserWarning: X does not have valid feature names, but DecisionTreeClassifier was fitted with feature names\n",
            "  warnings.warn(\n"
          ]
        },
        {
          "name": "stdout",
          "output_type": "stream",
          "text": [
            "0.0145721435546875, 0.043243408203125, 0.0395355224609375, 0.007670969203864238, 0.07873848815706475, -0.006564159454827308\n",
            "mid: 382\n",
            "-0.014801025390625, -0.034149169921875, -0.0876312255859375, -0.014131265376178453, -0.065807243168076, -0.008336226844166031\n",
            "mid: 383\n"
          ]
        },
        {
          "name": "stderr",
          "output_type": "stream",
          "text": [
            "C:\\Users\\boomt\\AppData\\Local\\Programs\\Python\\Python38\\lib\\site-packages\\sklearn\\base.py:445: UserWarning: X does not have valid feature names, but DecisionTreeClassifier was fitted with feature names\n",
            "  warnings.warn(\n",
            "C:\\Users\\boomt\\AppData\\Local\\Programs\\Python\\Python38\\lib\\site-packages\\sklearn\\base.py:445: UserWarning: X does not have valid feature names, but DecisionTreeClassifier was fitted with feature names\n",
            "  warnings.warn(\n"
          ]
        },
        {
          "name": "stdout",
          "output_type": "stream",
          "text": [
            "0.015625, 0.0006256103515625, 0.0165252685546875, 0.011078483818620623, 0.5034935072648546, 0.006508765704153659\n",
            "mid: 384\n",
            "0.0, 0.0, 0.0, -0.016286827962488586, -0.49405393278106885, -0.023541012455755427\n",
            "mid: 385\n"
          ]
        },
        {
          "name": "stderr",
          "output_type": "stream",
          "text": [
            "C:\\Users\\boomt\\AppData\\Local\\Programs\\Python\\Python38\\lib\\site-packages\\sklearn\\base.py:445: UserWarning: X does not have valid feature names, but DecisionTreeClassifier was fitted with feature names\n",
            "  warnings.warn(\n",
            "C:\\Users\\boomt\\AppData\\Local\\Programs\\Python\\Python38\\lib\\site-packages\\sklearn\\base.py:445: UserWarning: X does not have valid feature names, but DecisionTreeClassifier was fitted with feature names\n",
            "  warnings.warn(\n"
          ]
        },
        {
          "name": "stdout",
          "output_type": "stream",
          "text": [
            "-0.0239715576171875, 0.0181884765625, -0.067230224609375, 0.2253894483239131, 0.03822142164870822, 0.1369991317441832\n",
            "mid: 386\n",
            "0.0, 0.0, 0.0, -0.19566963582306485, -0.0498261460987285, -0.13178226548482697\n",
            "mid: 387\n"
          ]
        },
        {
          "name": "stderr",
          "output_type": "stream",
          "text": [
            "C:\\Users\\boomt\\AppData\\Local\\Programs\\Python\\Python38\\lib\\site-packages\\sklearn\\base.py:445: UserWarning: X does not have valid feature names, but DecisionTreeClassifier was fitted with feature names\n",
            "  warnings.warn(\n",
            "C:\\Users\\boomt\\AppData\\Local\\Programs\\Python\\Python38\\lib\\site-packages\\sklearn\\base.py:445: UserWarning: X does not have valid feature names, but DecisionTreeClassifier was fitted with feature names\n",
            "  warnings.warn(\n"
          ]
        },
        {
          "name": "stdout",
          "output_type": "stream",
          "text": [
            "0.213287353515625, -0.0807342529296875, 0.04046630859375, 0.025434519990801763, 1.969350634466269, 1.0462446721585674\n",
            "mid: 388\n",
            "-0.2167205810546875, 0.0973663330078125, 0.1673583984375, 1.0174423186532513, 2.9328197325713203, 0.14348046688910898\n",
            "mid: 389\n"
          ]
        },
        {
          "name": "stderr",
          "output_type": "stream",
          "text": [
            "C:\\Users\\boomt\\AppData\\Local\\Programs\\Python\\Python38\\lib\\site-packages\\sklearn\\base.py:445: UserWarning: X does not have valid feature names, but DecisionTreeClassifier was fitted with feature names\n",
            "  warnings.warn(\n",
            "C:\\Users\\boomt\\AppData\\Local\\Programs\\Python\\Python38\\lib\\site-packages\\sklearn\\base.py:445: UserWarning: X does not have valid feature names, but DecisionTreeClassifier was fitted with feature names\n",
            "  warnings.warn(\n"
          ]
        },
        {
          "name": "stdout",
          "output_type": "stream",
          "text": [
            "0.038604736328125, -0.047637939453125, -0.1422119140625, -1.0215957846893389, -4.900655028377334, -1.0880637581238635\n",
            "mid: 390\n",
            "0.0, 0.0, 0.0, -0.04571822011728127, 0.0014863102043732226, -0.08338810110423409\n",
            "mid: 391\n",
            "mid: 392\n"
          ]
        },
        {
          "name": "stderr",
          "output_type": "stream",
          "text": [
            "C:\\Users\\boomt\\AppData\\Local\\Programs\\Python\\Python38\\lib\\site-packages\\sklearn\\base.py:445: UserWarning: X does not have valid feature names, but DecisionTreeClassifier was fitted with feature names\n",
            "  warnings.warn(\n",
            "C:\\Users\\boomt\\AppData\\Local\\Programs\\Python\\Python38\\lib\\site-packages\\sklearn\\base.py:445: UserWarning: X does not have valid feature names, but DecisionTreeClassifier was fitted with feature names\n",
            "  warnings.warn(\n"
          ]
        },
        {
          "name": "stdout",
          "output_type": "stream",
          "text": [
            "-0.02197265625, 0.015869140625, -0.0357513427734375, -0.006467486707257431, 0.00545655075746335, -0.023536218765793284\n",
            "mid: 393\n",
            "0.00299072265625, 0.0006103515625, -0.0070037841796875, 0.008525843913779672, -0.003165699587777189, 0.0010580739010884815\n",
            "mid: 394\n"
          ]
        },
        {
          "name": "stderr",
          "output_type": "stream",
          "text": [
            "C:\\Users\\boomt\\AppData\\Local\\Programs\\Python\\Python38\\lib\\site-packages\\sklearn\\base.py:445: UserWarning: X does not have valid feature names, but DecisionTreeClassifier was fitted with feature names\n",
            "  warnings.warn(\n",
            "C:\\Users\\boomt\\AppData\\Local\\Programs\\Python\\Python38\\lib\\site-packages\\sklearn\\base.py:445: UserWarning: X does not have valid feature names, but DecisionTreeClassifier was fitted with feature names\n",
            "  warnings.warn(\n"
          ]
        },
        {
          "name": "stdout",
          "output_type": "stream",
          "text": [
            "-9.1552734375e-05, 0.0009613037109375, -0.0026092529296875, -0.010625213801089134, -0.004326038874724715, 0.01174826883277555\n",
            "mid: 395\n",
            "-0.0003814697265625, -0.00250244140625, 0.01300048828125, 0.003188070140933855, 0.0010857707764253058, -0.004276237762340233\n",
            "mid: 396\n"
          ]
        },
        {
          "name": "stderr",
          "output_type": "stream",
          "text": [
            "C:\\Users\\boomt\\AppData\\Local\\Programs\\Python\\Python38\\lib\\site-packages\\sklearn\\base.py:445: UserWarning: X does not have valid feature names, but DecisionTreeClassifier was fitted with feature names\n",
            "  warnings.warn(\n",
            "C:\\Users\\boomt\\AppData\\Local\\Programs\\Python\\Python38\\lib\\site-packages\\sklearn\\base.py:445: UserWarning: X does not have valid feature names, but DecisionTreeClassifier was fitted with feature names\n",
            "  warnings.warn(\n"
          ]
        },
        {
          "name": "stdout",
          "output_type": "stream",
          "text": [
            "0.0030975341796875, -0.0005340576171875, -0.0085296630859375, -0.00426238932467182, 0.002103364628944582, 0.003216033332379688\n",
            "mid: 397\n",
            "0.0, 0.0, 0.0, -0.003116431107610725, 0.002114017273304899, -0.002112952008868867\n",
            "mid: 398\n"
          ]
        },
        {
          "name": "stderr",
          "output_type": "stream",
          "text": [
            "C:\\Users\\boomt\\AppData\\Local\\Programs\\Python\\Python38\\lib\\site-packages\\sklearn\\base.py:445: UserWarning: X does not have valid feature names, but DecisionTreeClassifier was fitted with feature names\n",
            "  warnings.warn(\n",
            "C:\\Users\\boomt\\AppData\\Local\\Programs\\Python\\Python38\\lib\\site-packages\\sklearn\\base.py:445: UserWarning: X does not have valid feature names, but DecisionTreeClassifier was fitted with feature names\n",
            "  warnings.warn(\n"
          ]
        },
        {
          "name": "stdout",
          "output_type": "stream",
          "text": [
            "-0.0006103515625, -0.003509521484375, 0.01373291015625, 0.13928998291386935, 0.0228310137091403, 0.038621961076656136\n",
            "mid: 399\n",
            "-0.01055908203125, -0.002960205078125, 0.0109710693359375, -0.07365930732606563, 0.059497149281242244, 0.0381939910894804\n",
            "mid: 400\n"
          ]
        },
        {
          "name": "stderr",
          "output_type": "stream",
          "text": [
            "C:\\Users\\boomt\\AppData\\Local\\Programs\\Python\\Python38\\lib\\site-packages\\sklearn\\base.py:445: UserWarning: X does not have valid feature names, but DecisionTreeClassifier was fitted with feature names\n",
            "  warnings.warn(\n",
            "C:\\Users\\boomt\\AppData\\Local\\Programs\\Python\\Python38\\lib\\site-packages\\sklearn\\base.py:445: UserWarning: X does not have valid feature names, but DecisionTreeClassifier was fitted with feature names\n",
            "  warnings.warn(\n"
          ]
        },
        {
          "name": "stdout",
          "output_type": "stream",
          "text": [
            "0.01177978515625, 0.00421142578125, -0.05731201171875, -0.018015752142168023, -0.028749090283514384, -0.007461378426074999\n",
            "mid: 401\n",
            "0.0, 0.0, 0.0, -0.012478507603675283, -0.05469467088750235, -0.0735578408885336\n",
            "mid: 402\n"
          ]
        },
        {
          "name": "stderr",
          "output_type": "stream",
          "text": [
            "C:\\Users\\boomt\\AppData\\Local\\Programs\\Python\\Python38\\lib\\site-packages\\sklearn\\base.py:445: UserWarning: X does not have valid feature names, but DecisionTreeClassifier was fitted with feature names\n",
            "  warnings.warn(\n",
            "C:\\Users\\boomt\\AppData\\Local\\Programs\\Python\\Python38\\lib\\site-packages\\sklearn\\base.py:445: UserWarning: X does not have valid feature names, but DecisionTreeClassifier was fitted with feature names\n",
            "  warnings.warn(\n"
          ]
        },
        {
          "name": "stdout",
          "output_type": "stream",
          "text": [
            "-0.006195068359375, 0.00396728515625, 0.0012359619140625, -0.008594553469903714, -0.002005360300829668, 0.00413162811514893\n",
            "mid: 403\n",
            "-0.011260986328125, -0.0004425048828125, 0.0083770751953125, -0.011658520304039882, -0.0043579968078056655, 0.003292199739555954\n",
            "mid: 404\n"
          ]
        },
        {
          "name": "stderr",
          "output_type": "stream",
          "text": [
            "C:\\Users\\boomt\\AppData\\Local\\Programs\\Python\\Python38\\lib\\site-packages\\sklearn\\base.py:445: UserWarning: X does not have valid feature names, but DecisionTreeClassifier was fitted with feature names\n",
            "  warnings.warn(\n",
            "C:\\Users\\boomt\\AppData\\Local\\Programs\\Python\\Python38\\lib\\site-packages\\sklearn\\base.py:445: UserWarning: X does not have valid feature names, but DecisionTreeClassifier was fitted with feature names\n",
            "  warnings.warn(\n"
          ]
        },
        {
          "name": "stdout",
          "output_type": "stream",
          "text": [
            "0.3420562744140625, 0.40533447265625, 0.7152099609375, 11.370402493084132, 5.460894905833489, 3.966703875162503\n",
            "mid: 405\n",
            "mid: 406\n",
            "-0.189697265625, -1.159149169921875, -0.3647308349609375, -8.928478983189374, 4.912593180595833, -3.441983376113063\n",
            "mid: 407\n",
            "mid: 408\n"
          ]
        },
        {
          "name": "stderr",
          "output_type": "stream",
          "text": [
            "C:\\Users\\boomt\\AppData\\Local\\Programs\\Python\\Python38\\lib\\site-packages\\sklearn\\base.py:445: UserWarning: X does not have valid feature names, but DecisionTreeClassifier was fitted with feature names\n",
            "  warnings.warn(\n",
            "C:\\Users\\boomt\\AppData\\Local\\Programs\\Python\\Python38\\lib\\site-packages\\sklearn\\base.py:445: UserWarning: X does not have valid feature names, but DecisionTreeClassifier was fitted with feature names\n",
            "  warnings.warn(\n"
          ]
        },
        {
          "name": "stdout",
          "output_type": "stream",
          "text": [
            "0.0362091064453125, -0.210113525390625, 0.6622161865234375, -2.448566765233961, -10.30214972399326, -0.5248954687330584\n",
            "mid: 409\n",
            "0.0, 0.0, 0.0, -0.007195328633176086, -0.076528597084517, -0.0020335898083845057\n",
            "mid: 410\n"
          ]
        },
        {
          "name": "stderr",
          "output_type": "stream",
          "text": [
            "C:\\Users\\boomt\\AppData\\Local\\Programs\\Python\\Python38\\lib\\site-packages\\sklearn\\base.py:445: UserWarning: X does not have valid feature names, but DecisionTreeClassifier was fitted with feature names\n",
            "  warnings.warn(\n",
            "C:\\Users\\boomt\\AppData\\Local\\Programs\\Python\\Python38\\lib\\site-packages\\sklearn\\base.py:445: UserWarning: X does not have valid feature names, but DecisionTreeClassifier was fitted with feature names\n",
            "  warnings.warn(\n"
          ]
        },
        {
          "name": "stdout",
          "output_type": "stream",
          "text": [
            "-0.15289306640625, 0.024749755859375, -0.03082275390625, 0.0010128001625571339, 0.008428372217882774, 0.0010993528979847088\n",
            "mid: 411\n",
            "-0.00152587890625, -7.62939453125e-05, 0.0002899169921875, -0.0010655307521407033, 2.1305288720636917e-06, -0.0010657970682497117\n",
            "mid: 412\n"
          ]
        },
        {
          "name": "stderr",
          "output_type": "stream",
          "text": [
            "C:\\Users\\boomt\\AppData\\Local\\Programs\\Python\\Python38\\lib\\site-packages\\sklearn\\base.py:445: UserWarning: X does not have valid feature names, but DecisionTreeClassifier was fitted with feature names\n",
            "  warnings.warn(\n",
            "C:\\Users\\boomt\\AppData\\Local\\Programs\\Python\\Python38\\lib\\site-packages\\sklearn\\base.py:445: UserWarning: X does not have valid feature names, but DecisionTreeClassifier was fitted with feature names\n",
            "  warnings.warn(\n"
          ]
        },
        {
          "name": "stdout",
          "output_type": "stream",
          "text": [
            "0.0619964599609375, 0.157623291015625, 0.067291259765625, 1.7376809196597311, 0.037212616227786204, 0.18511446315864477\n",
            "mid: 413\n",
            "0.0, 0.0, 0.0, 0.47030759060526806, 0.00790479474757319, 0.44628614388886256\n",
            "mid: 414\n"
          ]
        },
        {
          "name": "stderr",
          "output_type": "stream",
          "text": [
            "C:\\Users\\boomt\\AppData\\Local\\Programs\\Python\\Python38\\lib\\site-packages\\sklearn\\base.py:445: UserWarning: X does not have valid feature names, but DecisionTreeClassifier was fitted with feature names\n",
            "  warnings.warn(\n",
            "C:\\Users\\boomt\\AppData\\Local\\Programs\\Python\\Python38\\lib\\site-packages\\sklearn\\base.py:445: UserWarning: X does not have valid feature names, but DecisionTreeClassifier was fitted with feature names\n",
            "  warnings.warn(\n"
          ]
        },
        {
          "name": "stdout",
          "output_type": "stream",
          "text": [
            "-0.014007568359375, 0.6455535888671875, -0.946441650390625, -2.078524792825195, 0.06212595559325946, -0.46476182395128723\n",
            "mid: 415\n",
            "-0.056060791015625, 0.0985260009765625, -0.02545166015625, -0.09454861028442914, 0.13026666050846292, -0.014457502609713152\n",
            "mid: 416\n"
          ]
        },
        {
          "name": "stderr",
          "output_type": "stream",
          "text": [
            "C:\\Users\\boomt\\AppData\\Local\\Programs\\Python\\Python38\\lib\\site-packages\\sklearn\\base.py:445: UserWarning: X does not have valid feature names, but DecisionTreeClassifier was fitted with feature names\n",
            "  warnings.warn(\n",
            "C:\\Users\\boomt\\AppData\\Local\\Programs\\Python\\Python38\\lib\\site-packages\\sklearn\\base.py:445: UserWarning: X does not have valid feature names, but DecisionTreeClassifier was fitted with feature names\n",
            "  warnings.warn(\n"
          ]
        },
        {
          "name": "stdout",
          "output_type": "stream",
          "text": [
            "0.136505126953125, 0.025726318359375, 0.084442138671875, 0.09419440985944862, 0.1521482572889899, 0.10527076314919717\n",
            "mid: 417\n",
            "-0.11895751953125, 0.0109405517578125, 0.0513153076171875, 0.12878248083296173, 0.09891273236274206, -0.09694092789164735\n",
            "mid: 418\n"
          ]
        },
        {
          "name": "stderr",
          "output_type": "stream",
          "text": [
            "C:\\Users\\boomt\\AppData\\Local\\Programs\\Python\\Python38\\lib\\site-packages\\sklearn\\base.py:445: UserWarning: X does not have valid feature names, but DecisionTreeClassifier was fitted with feature names\n",
            "  warnings.warn(\n",
            "C:\\Users\\boomt\\AppData\\Local\\Programs\\Python\\Python38\\lib\\site-packages\\sklearn\\base.py:445: UserWarning: X does not have valid feature names, but DecisionTreeClassifier was fitted with feature names\n",
            "  warnings.warn(\n"
          ]
        },
        {
          "name": "stdout",
          "output_type": "stream",
          "text": [
            "-0.038543701171875, -0.00628662109375, -0.125396728515625, -0.24300519367035125, -0.48320394818397705, -0.16693918766718102\n",
            "mid: 419\n",
            "0.0, 0.0, 0.0, -0.0021417141486417234, 0.005294630563186534, 0.0032173649129247275\n",
            "mid: 420\n"
          ]
        },
        {
          "name": "stderr",
          "output_type": "stream",
          "text": [
            "C:\\Users\\boomt\\AppData\\Local\\Programs\\Python\\Python38\\lib\\site-packages\\sklearn\\base.py:445: UserWarning: X does not have valid feature names, but DecisionTreeClassifier was fitted with feature names\n",
            "  warnings.warn(\n",
            "C:\\Users\\boomt\\AppData\\Local\\Programs\\Python\\Python38\\lib\\site-packages\\sklearn\\base.py:445: UserWarning: X does not have valid feature names, but DecisionTreeClassifier was fitted with feature names\n",
            "  warnings.warn(\n"
          ]
        },
        {
          "name": "stdout",
          "output_type": "stream",
          "text": [
            "0.0446014404296875, -0.0751800537109375, 0.5842132568359375, 1.6608884033111873, 0.14348046688910904, 1.0346876182920595\n",
            "mid: 421\n",
            "-0.0606231689453125, -0.268157958984375, 0.027099609375, -0.06424210339543635, 0.23624582450762113, -0.39888240911767014\n",
            "mid: 422\n"
          ]
        },
        {
          "name": "stderr",
          "output_type": "stream",
          "text": [
            "C:\\Users\\boomt\\AppData\\Local\\Programs\\Python\\Python38\\lib\\site-packages\\sklearn\\base.py:445: UserWarning: X does not have valid feature names, but DecisionTreeClassifier was fitted with feature names\n",
            "  warnings.warn(\n",
            "C:\\Users\\boomt\\AppData\\Local\\Programs\\Python\\Python38\\lib\\site-packages\\sklearn\\base.py:445: UserWarning: X does not have valid feature names, but DecisionTreeClassifier was fitted with feature names\n",
            "  warnings.warn(\n"
          ]
        },
        {
          "name": "stdout",
          "output_type": "stream",
          "text": [
            "0.1468505859375, -0.4022216796875, 0.30938720703125, -1.5976100979142505, 0.38194017721091306, -0.642950204062963\n",
            "mid: 423\n",
            "0.0, 0.0, 0.0, 0.0990674620220756, 2.4604151689237237, 0.4786664543187\n",
            "mid: 424\n"
          ]
        },
        {
          "name": "stderr",
          "output_type": "stream",
          "text": [
            "C:\\Users\\boomt\\AppData\\Local\\Programs\\Python\\Python38\\lib\\site-packages\\sklearn\\base.py:445: UserWarning: X does not have valid feature names, but DecisionTreeClassifier was fitted with feature names\n",
            "  warnings.warn(\n",
            "C:\\Users\\boomt\\AppData\\Local\\Programs\\Python\\Python38\\lib\\site-packages\\sklearn\\base.py:445: UserWarning: X does not have valid feature names, but DecisionTreeClassifier was fitted with feature names\n",
            "  warnings.warn(\n"
          ]
        },
        {
          "name": "stdout",
          "output_type": "stream",
          "text": [
            "0.741455078125, -0.1516265869140625, -0.7039642333984375, 0.1606290937803473, -0.2994098802937937, -0.03618037498927146\n",
            "mid: 425\n",
            "-0.176544189453125, 0.05438232421875, 0.510040283203125, -0.17529059452956053, -2.139727963100742, -0.12726181585052648\n",
            "mid: 426\n"
          ]
        },
        {
          "name": "stderr",
          "output_type": "stream",
          "text": [
            "C:\\Users\\boomt\\AppData\\Local\\Programs\\Python\\Python38\\lib\\site-packages\\sklearn\\base.py:445: UserWarning: X does not have valid feature names, but DecisionTreeClassifier was fitted with feature names\n",
            "  warnings.warn(\n",
            "C:\\Users\\boomt\\AppData\\Local\\Programs\\Python\\Python38\\lib\\site-packages\\sklearn\\base.py:445: UserWarning: X does not have valid feature names, but DecisionTreeClassifier was fitted with feature names\n",
            "  warnings.warn(\n"
          ]
        },
        {
          "name": "stdout",
          "output_type": "stream",
          "text": [
            "0.24200439453125, 0.005615234375, -0.4216766357421875, 0.2303434605836785, -0.6096596251725365, -0.11900415225851779\n",
            "mid: 427\n",
            "0.0554351806640625, -0.079559326171875, -0.2234649658203125, -0.2931708928080648, 0.07217486133445544, -0.1929588041494732\n",
            "mid: 428\n"
          ]
        },
        {
          "name": "stderr",
          "output_type": "stream",
          "text": [
            "C:\\Users\\boomt\\AppData\\Local\\Programs\\Python\\Python38\\lib\\site-packages\\sklearn\\base.py:445: UserWarning: X does not have valid feature names, but DecisionTreeClassifier was fitted with feature names\n",
            "  warnings.warn(\n",
            "C:\\Users\\boomt\\AppData\\Local\\Programs\\Python\\Python38\\lib\\site-packages\\sklearn\\base.py:445: UserWarning: X does not have valid feature names, but DecisionTreeClassifier was fitted with feature names\n",
            "  warnings.warn(\n"
          ]
        },
        {
          "name": "stdout",
          "output_type": "stream",
          "text": [
            "-0.042999267578125, 0.08514404296875, -0.0644073486328125, 0.028250812843560562, -0.21126830295987695, 0.01351580884826114\n",
            "mid: 429\n",
            "0.0, 0.0, 0.0, 0.10334769452605094, 0.02810140950640711, 0.1631774726274441\n",
            "mid: 430\n"
          ]
        },
        {
          "name": "stderr",
          "output_type": "stream",
          "text": [
            "C:\\Users\\boomt\\AppData\\Local\\Programs\\Python\\Python38\\lib\\site-packages\\sklearn\\base.py:445: UserWarning: X does not have valid feature names, but DecisionTreeClassifier was fitted with feature names\n",
            "  warnings.warn(\n",
            "C:\\Users\\boomt\\AppData\\Local\\Programs\\Python\\Python38\\lib\\site-packages\\sklearn\\base.py:445: UserWarning: X does not have valid feature names, but DecisionTreeClassifier was fitted with feature names\n",
            "  warnings.warn(\n"
          ]
        },
        {
          "name": "stdout",
          "output_type": "stream",
          "text": [
            "0.00994873046875, -0.0409698486328125, -0.0264129638671875, 0.1741116131149824, 0.08991657420045433, -0.011180749204479673\n",
            "mid: 431\n",
            "0.07598876953125, 0.02899169921875, 0.0193023681640625, -0.18781464218787614, -0.1331508639690187, 1.0688610350838472\n",
            "mid: 432\n"
          ]
        },
        {
          "name": "stderr",
          "output_type": "stream",
          "text": [
            "C:\\Users\\boomt\\AppData\\Local\\Programs\\Python\\Python38\\lib\\site-packages\\sklearn\\base.py:445: UserWarning: X does not have valid feature names, but DecisionTreeClassifier was fitted with feature names\n",
            "  warnings.warn(\n",
            "C:\\Users\\boomt\\AppData\\Local\\Programs\\Python\\Python38\\lib\\site-packages\\sklearn\\base.py:445: UserWarning: X does not have valid feature names, but DecisionTreeClassifier was fitted with feature names\n",
            "  warnings.warn(\n"
          ]
        },
        {
          "name": "stdout",
          "output_type": "stream",
          "text": [
            "-0.1177520751953125, -0.0858154296875, -0.0445098876953125, -0.0960801942273337, 0.526557813885486, -0.7830814795651884\n",
            "mid: 433\n",
            "0.0, 0.0, 0.0, 0.1591542351686614, -0.3393833956236648, -0.26262949511092715\n",
            "mid: 434\n"
          ]
        },
        {
          "name": "stderr",
          "output_type": "stream",
          "text": [
            "C:\\Users\\boomt\\AppData\\Local\\Programs\\Python\\Python38\\lib\\site-packages\\sklearn\\base.py:445: UserWarning: X does not have valid feature names, but DecisionTreeClassifier was fitted with feature names\n",
            "  warnings.warn(\n",
            "C:\\Users\\boomt\\AppData\\Local\\Programs\\Python\\Python38\\lib\\site-packages\\sklearn\\base.py:445: UserWarning: X does not have valid feature names, but DecisionTreeClassifier was fitted with feature names\n",
            "  warnings.warn(\n"
          ]
        },
        {
          "name": "stdout",
          "output_type": "stream",
          "text": [
            "0.061431884765625, 0.0648040771484375, 0.1745758056640625, 2.0849818932042012, 0.47659291709396423, 0.319793448961151\n",
            "mid: 435\n",
            "0.0, 0.0, 0.0, 0.3281981190453318, -0.42781765436138103, -0.5073604171676497\n",
            "mid: 436\n"
          ]
        },
        {
          "name": "stderr",
          "output_type": "stream",
          "text": [
            "C:\\Users\\boomt\\AppData\\Local\\Programs\\Python\\Python38\\lib\\site-packages\\sklearn\\base.py:445: UserWarning: X does not have valid feature names, but DecisionTreeClassifier was fitted with feature names\n",
            "  warnings.warn(\n",
            "C:\\Users\\boomt\\AppData\\Local\\Programs\\Python\\Python38\\lib\\site-packages\\sklearn\\base.py:445: UserWarning: X does not have valid feature names, but DecisionTreeClassifier was fitted with feature names\n",
            "  warnings.warn(\n"
          ]
        },
        {
          "name": "stdout",
          "output_type": "stream",
          "text": [
            "-0.0431060791015625, 0.3574371337890625, -0.1320648193359375, -1.4254471197688787, 1.087266407693494, 0.8565977751407167\n",
            "mid: 437\n",
            "-0.0876922607421875, -0.124481201171875, 0.0936279296875, 0.010814830870702785, -0.3062613948302404, 0.07103769154899164\n",
            "mid: 438\n"
          ]
        },
        {
          "name": "stderr",
          "output_type": "stream",
          "text": [
            "C:\\Users\\boomt\\AppData\\Local\\Programs\\Python\\Python38\\lib\\site-packages\\sklearn\\base.py:445: UserWarning: X does not have valid feature names, but DecisionTreeClassifier was fitted with feature names\n",
            "  warnings.warn(\n",
            "C:\\Users\\boomt\\AppData\\Local\\Programs\\Python\\Python38\\lib\\site-packages\\sklearn\\base.py:445: UserWarning: X does not have valid feature names, but DecisionTreeClassifier was fitted with feature names\n",
            "  warnings.warn(\n"
          ]
        },
        {
          "name": "stdout",
          "output_type": "stream",
          "text": [
            "0.142913818359375, -0.2797088623046875, -0.116424560546875, -1.018364305022637, 0.11868324134716324, -0.5175006693342354\n",
            "mid: 439\n",
            "0.0, 0.0, 0.0, -0.10246299241192662, -0.34956199730994764, 0.6323231260491108\n",
            "mid: 440\n"
          ]
        },
        {
          "name": "stderr",
          "output_type": "stream",
          "text": [
            "C:\\Users\\boomt\\AppData\\Local\\Programs\\Python\\Python38\\lib\\site-packages\\sklearn\\base.py:445: UserWarning: X does not have valid feature names, but DecisionTreeClassifier was fitted with feature names\n",
            "  warnings.warn(\n",
            "C:\\Users\\boomt\\AppData\\Local\\Programs\\Python\\Python38\\lib\\site-packages\\sklearn\\base.py:445: UserWarning: X does not have valid feature names, but DecisionTreeClassifier was fitted with feature names\n",
            "  warnings.warn(\n"
          ]
        },
        {
          "name": "stdout",
          "output_type": "stream",
          "text": [
            "-0.087158203125, -0.032958984375, 0.2157440185546875, 0.6561480314770687, -0.3767725794317233, -0.8307147788223457\n",
            "mid: 441\n",
            "0.050506591796875, 0.009124755859375, -0.0791473388671875, -0.5976508991851511, -0.30444139054128017, 0.14564188842981735\n",
            "mid: 442\n"
          ]
        },
        {
          "name": "stderr",
          "output_type": "stream",
          "text": [
            "C:\\Users\\boomt\\AppData\\Local\\Programs\\Python\\Python38\\lib\\site-packages\\sklearn\\base.py:445: UserWarning: X does not have valid feature names, but DecisionTreeClassifier was fitted with feature names\n",
            "  warnings.warn(\n",
            "C:\\Users\\boomt\\AppData\\Local\\Programs\\Python\\Python38\\lib\\site-packages\\sklearn\\base.py:445: UserWarning: X does not have valid feature names, but DecisionTreeClassifier was fitted with feature names\n",
            "  warnings.warn(\n"
          ]
        },
        {
          "name": "stdout",
          "output_type": "stream",
          "text": [
            "-0.033355712890625, -0.008026123046875, 0.0963592529296875, -0.13481986702417134, -0.049511626773990125, -0.36007828782245255\n",
            "mid: 443\n",
            "0.0, 0.0, 0.0, -0.008321845774279604, -0.0659585107179925, 0.015118232876161819\n",
            "mid: 444\n"
          ]
        },
        {
          "name": "stderr",
          "output_type": "stream",
          "text": [
            "C:\\Users\\boomt\\AppData\\Local\\Programs\\Python\\Python38\\lib\\site-packages\\sklearn\\base.py:445: UserWarning: X does not have valid feature names, but DecisionTreeClassifier was fitted with feature names\n",
            "  warnings.warn(\n",
            "C:\\Users\\boomt\\AppData\\Local\\Programs\\Python\\Python38\\lib\\site-packages\\sklearn\\base.py:445: UserWarning: X does not have valid feature names, but DecisionTreeClassifier was fitted with feature names\n",
            "  warnings.warn(\n"
          ]
        },
        {
          "name": "stdout",
          "output_type": "stream",
          "text": [
            "-0.043121337890625, 0.0750732421875, 0.042266845703125, 0.07982559051403508, 0.3064028086841235, 0.3039175467548616\n",
            "mid: 445\n",
            "0.0, 0.0, 0.0, -0.032779251961131295, -0.28015123087088545, -0.26208115024247985\n",
            "mid: 446\n"
          ]
        },
        {
          "name": "stderr",
          "output_type": "stream",
          "text": [
            "C:\\Users\\boomt\\AppData\\Local\\Programs\\Python\\Python38\\lib\\site-packages\\sklearn\\base.py:445: UserWarning: X does not have valid feature names, but DecisionTreeClassifier was fitted with feature names\n",
            "  warnings.warn(\n",
            "C:\\Users\\boomt\\AppData\\Local\\Programs\\Python\\Python38\\lib\\site-packages\\sklearn\\base.py:445: UserWarning: X does not have valid feature names, but DecisionTreeClassifier was fitted with feature names\n",
            "  warnings.warn(\n"
          ]
        },
        {
          "name": "stdout",
          "output_type": "stream",
          "text": [
            "0.007781982421875, 0.058197021484375, 0.0148468017578125, 0.010486463108296012, -0.052503155626476145, -0.027860393427754943\n",
            "mid: 447\n",
            "-0.003204345703125, 0.007568359375, -0.03857421875, -0.03606266326908999, 0.04405986970648893, 0.0267264194355992\n",
            "mid: 448\n"
          ]
        },
        {
          "name": "stderr",
          "output_type": "stream",
          "text": [
            "C:\\Users\\boomt\\AppData\\Local\\Programs\\Python\\Python38\\lib\\site-packages\\sklearn\\base.py:445: UserWarning: X does not have valid feature names, but DecisionTreeClassifier was fitted with feature names\n",
            "  warnings.warn(\n",
            "C:\\Users\\boomt\\AppData\\Local\\Programs\\Python\\Python38\\lib\\site-packages\\sklearn\\base.py:445: UserWarning: X does not have valid feature names, but DecisionTreeClassifier was fitted with feature names\n",
            "  warnings.warn(\n"
          ]
        },
        {
          "name": "stdout",
          "output_type": "stream",
          "text": [
            "0.025909423828125, 0.0270233154296875, -0.005096435546875, 0.008411061670797255, -0.03617478235098233, 0.009565009371128592\n",
            "mid: 449\n",
            "0.0, 0.0, 0.0, -0.033082319693182316, 0.02258387235998095, -0.043846017870955566\n",
            "mid: 450\n"
          ]
        },
        {
          "name": "stderr",
          "output_type": "stream",
          "text": [
            "C:\\Users\\boomt\\AppData\\Local\\Programs\\Python\\Python38\\lib\\site-packages\\sklearn\\base.py:445: UserWarning: X does not have valid feature names, but DecisionTreeClassifier was fitted with feature names\n",
            "  warnings.warn(\n",
            "C:\\Users\\boomt\\AppData\\Local\\Programs\\Python\\Python38\\lib\\site-packages\\sklearn\\base.py:445: UserWarning: X does not have valid feature names, but DecisionTreeClassifier was fitted with feature names\n",
            "  warnings.warn(\n"
          ]
        },
        {
          "name": "stdout",
          "output_type": "stream",
          "text": [
            "-0.0095062255859375, -0.02081298828125, 0.00543212890625, 0.008497081774006817, 0.009548231456261089, 0.007475226863743412\n",
            "mid: 451\n",
            "-0.004791259765625, -0.004150390625, -0.00225830078125, -0.008509864947239197, -5.965480841776949e-05, 0.01069632020219425\n",
            "mid: 452\n"
          ]
        },
        {
          "name": "stderr",
          "output_type": "stream",
          "text": [
            "C:\\Users\\boomt\\AppData\\Local\\Programs\\Python\\Python38\\lib\\site-packages\\sklearn\\base.py:445: UserWarning: X does not have valid feature names, but DecisionTreeClassifier was fitted with feature names\n",
            "  warnings.warn(\n",
            "C:\\Users\\boomt\\AppData\\Local\\Programs\\Python\\Python38\\lib\\site-packages\\sklearn\\base.py:445: UserWarning: X does not have valid feature names, but DecisionTreeClassifier was fitted with feature names\n",
            "  warnings.warn(\n"
          ]
        },
        {
          "name": "stdout",
          "output_type": "stream",
          "text": [
            "-0.0006256103515625, 0.0072479248046875, 0.0077056884765625, -0.007309045611722469, -0.027507790899428453, -0.03313505028276588\n",
            "mid: 453\n",
            "-0.00213623046875, 0.0076751708984375, 0.0037841796875, 0.01695235191889939, -0.0010580739010884813, 0.008503207044513997\n",
            "mid: 454\n"
          ]
        },
        {
          "name": "stderr",
          "output_type": "stream",
          "text": [
            "C:\\Users\\boomt\\AppData\\Local\\Programs\\Python\\Python38\\lib\\site-packages\\sklearn\\base.py:445: UserWarning: X does not have valid feature names, but DecisionTreeClassifier was fitted with feature names\n",
            "  warnings.warn(\n",
            "C:\\Users\\boomt\\AppData\\Local\\Programs\\Python\\Python38\\lib\\site-packages\\sklearn\\base.py:445: UserWarning: X does not have valid feature names, but DecisionTreeClassifier was fitted with feature names\n",
            "  warnings.warn(\n"
          ]
        },
        {
          "name": "stdout",
          "output_type": "stream",
          "text": [
            "-0.002197265625, -0.0078125, 0.01336669921875, -0.011430021082511083, 0.477760979548073, 0.061757640414501505\n",
            "mid: 455\n",
            "0.0, 0.0, 0.0, 0.05574901636306472, 0.007165234912858254, 0.33451460451878196\n",
            "mid: 456\n"
          ]
        },
        {
          "name": "stderr",
          "output_type": "stream",
          "text": [
            "C:\\Users\\boomt\\AppData\\Local\\Programs\\Python\\Python38\\lib\\site-packages\\sklearn\\base.py:445: UserWarning: X does not have valid feature names, but DecisionTreeClassifier was fitted with feature names\n",
            "  warnings.warn(\n",
            "C:\\Users\\boomt\\AppData\\Local\\Programs\\Python\\Python38\\lib\\site-packages\\sklearn\\base.py:445: UserWarning: X does not have valid feature names, but DecisionTreeClassifier was fitted with feature names\n",
            "  warnings.warn(\n"
          ]
        },
        {
          "name": "stdout",
          "output_type": "stream",
          "text": [
            "-0.8746185302734375, -0.1617279052734375, 0.5075836181640625, 0.04937367502952404, -0.02790566716628634, -0.136151980201429\n",
            "mid: 457\n",
            "0.0723419189453125, 0.095489501953125, 0.0323944091796875, 0.08487521025693433, 1.2665099322290592, -0.005430185462671544\n",
            "mid: 458\n"
          ]
        },
        {
          "name": "stderr",
          "output_type": "stream",
          "text": [
            "C:\\Users\\boomt\\AppData\\Local\\Programs\\Python\\Python38\\lib\\site-packages\\sklearn\\base.py:445: UserWarning: X does not have valid feature names, but DecisionTreeClassifier was fitted with feature names\n",
            "  warnings.warn(\n",
            "C:\\Users\\boomt\\AppData\\Local\\Programs\\Python\\Python38\\lib\\site-packages\\sklearn\\base.py:445: UserWarning: X does not have valid feature names, but DecisionTreeClassifier was fitted with feature names\n",
            "  warnings.warn(\n"
          ]
        },
        {
          "name": "stdout",
          "output_type": "stream",
          "text": [
            "-0.024169921875, -0.0295257568359375, 0.11090087890625, 0.25179069579041363, -1.2407739424028603, -0.06815748283007092\n",
            "mid: 459\n",
            "0.0, 0.0, 0.0, -0.4417510468685666, -0.20456539281225655, -0.15612089468706114\n",
            "mid: 460\n"
          ]
        },
        {
          "name": "stderr",
          "output_type": "stream",
          "text": [
            "C:\\Users\\boomt\\AppData\\Local\\Programs\\Python\\Python38\\lib\\site-packages\\sklearn\\base.py:445: UserWarning: X does not have valid feature names, but DecisionTreeClassifier was fitted with feature names\n",
            "  warnings.warn(\n",
            "C:\\Users\\boomt\\AppData\\Local\\Programs\\Python\\Python38\\lib\\site-packages\\sklearn\\base.py:445: UserWarning: X does not have valid feature names, but DecisionTreeClassifier was fitted with feature names\n",
            "  warnings.warn(\n"
          ]
        },
        {
          "name": "stdout",
          "output_type": "stream",
          "text": [
            "-0.0626678466796875, 0.0047760009765625, -0.01373291015625, 0.0008777778952901169, -0.24129491161830235, 0.028440696229283205\n",
            "mid: 461\n",
            "-0.0058441162109375, 0.008941650390625, 0.0123138427734375, 0.07232133519440981, -0.05186266538431209, -0.06755667368814904\n",
            "mid: 462\n"
          ]
        },
        {
          "name": "stderr",
          "output_type": "stream",
          "text": [
            "C:\\Users\\boomt\\AppData\\Local\\Programs\\Python\\Python38\\lib\\site-packages\\sklearn\\base.py:445: UserWarning: X does not have valid feature names, but DecisionTreeClassifier was fitted with feature names\n",
            "  warnings.warn(\n",
            "C:\\Users\\boomt\\AppData\\Local\\Programs\\Python\\Python38\\lib\\site-packages\\sklearn\\base.py:445: UserWarning: X does not have valid feature names, but DecisionTreeClassifier was fitted with feature names\n",
            "  warnings.warn(\n"
          ]
        },
        {
          "name": "stdout",
          "output_type": "stream",
          "text": [
            "-0.0069427490234375, -0.0088348388671875, -0.0118560791015625, -0.06071368126719045, -0.0029760825181635486, 0.003407514614756385\n",
            "mid: 463\n",
            "0.008087158203125, 0.010894775390625, 0.0047607421875, -0.014848987289954808, 0.016912138186439194, -0.009688047413490252\n",
            "mid: 464\n"
          ]
        },
        {
          "name": "stderr",
          "output_type": "stream",
          "text": [
            "C:\\Users\\boomt\\AppData\\Local\\Programs\\Python\\Python38\\lib\\site-packages\\sklearn\\base.py:445: UserWarning: X does not have valid feature names, but DecisionTreeClassifier was fitted with feature names\n",
            "  warnings.warn(\n",
            "C:\\Users\\boomt\\AppData\\Local\\Programs\\Python\\Python38\\lib\\site-packages\\sklearn\\base.py:445: UserWarning: X does not have valid feature names, but DecisionTreeClassifier was fitted with feature names\n",
            "  warnings.warn(\n"
          ]
        },
        {
          "name": "stdout",
          "output_type": "stream",
          "text": [
            "-0.00018310546875, -0.0004730224609375, -0.0023956298828125, -4.846953183944205e-05, -0.013848703984521048, 0.009646768416594025\n",
            "mid: 465\n",
            "0.0, 0.0, 0.0, 0.013798902872136564, 0.014908908414481593, -0.002137453090897596\n",
            "mid: 466\n"
          ]
        },
        {
          "name": "stderr",
          "output_type": "stream",
          "text": [
            "C:\\Users\\boomt\\AppData\\Local\\Programs\\Python\\Python38\\lib\\site-packages\\sklearn\\base.py:445: UserWarning: X does not have valid feature names, but DecisionTreeClassifier was fitted with feature names\n",
            "  warnings.warn(\n",
            "C:\\Users\\boomt\\AppData\\Local\\Programs\\Python\\Python38\\lib\\site-packages\\sklearn\\base.py:445: UserWarning: X does not have valid feature names, but DecisionTreeClassifier was fitted with feature names\n",
            "  warnings.warn(\n"
          ]
        },
        {
          "name": "stdout",
          "output_type": "stream",
          "text": [
            "0.014068603515625, -0.0052490234375, -0.0048980712890625, -0.008411860619124282, 0.0031955269919860772, -0.0032557144326218696\n",
            "mid: 467\n",
            "0.0035247802734375, 0.0131072998046875, 0.0052337646484375, 0.0020991035712004565, -0.006446447734645805, 0.004377704199872251\n",
            "mid: 468\n"
          ]
        },
        {
          "name": "stderr",
          "output_type": "stream",
          "text": [
            "C:\\Users\\boomt\\AppData\\Local\\Programs\\Python\\Python38\\lib\\site-packages\\sklearn\\base.py:445: UserWarning: X does not have valid feature names, but DecisionTreeClassifier was fitted with feature names\n",
            "  warnings.warn(\n",
            "C:\\Users\\boomt\\AppData\\Local\\Programs\\Python\\Python38\\lib\\site-packages\\sklearn\\base.py:445: UserWarning: X does not have valid feature names, but DecisionTreeClassifier was fitted with feature names\n",
            "  warnings.warn(\n"
          ]
        },
        {
          "name": "stdout",
          "output_type": "stream",
          "text": [
            "0.018951416015625, -0.00457763671875, -0.013702392578125, 0.012712333147384234, 0.0032040491074743303, 0.01381621341922208\n",
            "mid: 469\n",
            "0.0, 0.0, 0.0, -0.004226170333846743, -0.016997359341321728, -0.02236682473113949\n",
            "mid: 470\n"
          ]
        },
        {
          "name": "stderr",
          "output_type": "stream",
          "text": [
            "C:\\Users\\boomt\\AppData\\Local\\Programs\\Python\\Python38\\lib\\site-packages\\sklearn\\base.py:445: UserWarning: X does not have valid feature names, but DecisionTreeClassifier was fitted with feature names\n",
            "  warnings.warn(\n",
            "C:\\Users\\boomt\\AppData\\Local\\Programs\\Python\\Python38\\lib\\site-packages\\sklearn\\base.py:445: UserWarning: X does not have valid feature names, but DecisionTreeClassifier was fitted with feature names\n",
            "  warnings.warn(\n"
          ]
        },
        {
          "name": "stdout",
          "output_type": "stream",
          "text": [
            "0.11981201171875, -0.0549163818359375, 0.014495849609375, 0.1103267744787126, 0.6778264290664227, 0.19897515136807117\n",
            "mid: 471\n",
            "-0.040008544921875, 0.0398101806640625, -0.0482635498046875, 0.2951187288293488, 0.4362915666339041, -0.06378936601012294\n",
            "mid: 472\n"
          ]
        },
        {
          "name": "stderr",
          "output_type": "stream",
          "text": [
            "C:\\Users\\boomt\\AppData\\Local\\Programs\\Python\\Python38\\lib\\site-packages\\sklearn\\base.py:445: UserWarning: X does not have valid feature names, but DecisionTreeClassifier was fitted with feature names\n",
            "  warnings.warn(\n",
            "C:\\Users\\boomt\\AppData\\Local\\Programs\\Python\\Python38\\lib\\site-packages\\sklearn\\base.py:445: UserWarning: X does not have valid feature names, but DecisionTreeClassifier was fitted with feature names\n",
            "  warnings.warn(\n"
          ]
        },
        {
          "name": "stdout",
          "output_type": "stream",
          "text": [
            "0.3187713623046875, -0.035675048828125, -0.113372802734375, 0.3280875978600937, -0.15882400319349144, 0.4565707393865305\n",
            "mid: 473\n",
            "-0.089996337890625, 0.1017303466796875, 0.001007080078125, -0.5393151544552925, -0.8298404630364726, -0.4749769109445041\n",
            "mid: 474\n"
          ]
        },
        {
          "name": "stderr",
          "output_type": "stream",
          "text": [
            "C:\\Users\\boomt\\AppData\\Local\\Programs\\Python\\Python38\\lib\\site-packages\\sklearn\\base.py:445: UserWarning: X does not have valid feature names, but DecisionTreeClassifier was fitted with feature names\n",
            "  warnings.warn(\n"
          ]
        },
        {
          "name": "stdout",
          "output_type": "stream",
          "text": [
            "-0.1756439208984375, 0.4712677001953125, -0.1347808837890625, 0.665472557401763, 0.9272082956508597, 0.09791271537341723\n",
            "mid: 475\n"
          ]
        },
        {
          "name": "stderr",
          "output_type": "stream",
          "text": [
            "C:\\Users\\boomt\\AppData\\Local\\Programs\\Python\\Python38\\lib\\site-packages\\sklearn\\base.py:445: UserWarning: X does not have valid feature names, but DecisionTreeClassifier was fitted with feature names\n",
            "  warnings.warn(\n"
          ]
        },
        {
          "name": "stdout",
          "output_type": "stream",
          "text": [
            "0.0, 0.0, 0.0, 0.911321474484101, -0.4639354450650357, -0.012471583384841056\n",
            "mid: 476\n"
          ]
        },
        {
          "name": "stderr",
          "output_type": "stream",
          "text": [
            "C:\\Users\\boomt\\AppData\\Local\\Programs\\Python\\Python38\\lib\\site-packages\\sklearn\\base.py:445: UserWarning: X does not have valid feature names, but DecisionTreeClassifier was fitted with feature names\n",
            "  warnings.warn(\n",
            "C:\\Users\\boomt\\AppData\\Local\\Programs\\Python\\Python38\\lib\\site-packages\\sklearn\\base.py:445: UserWarning: X does not have valid feature names, but DecisionTreeClassifier was fitted with feature names\n",
            "  warnings.warn(\n"
          ]
        },
        {
          "name": "stdout",
          "output_type": "stream",
          "text": [
            "-0.123443603515625, 0.386505126953125, -0.6289825439453125, -1.2667876999307541, -0.05886065378071337, 1.322873073539496\n",
            "mid: 477\n",
            "0.3553466796875, -0.0905609130859375, 0.0320892333984375, -0.30300701197816354, -0.4503549214022856, -0.36078216129856044\n",
            "mid: 478\n"
          ]
        },
        {
          "name": "stderr",
          "output_type": "stream",
          "text": [
            "C:\\Users\\boomt\\AppData\\Local\\Programs\\Python\\Python38\\lib\\site-packages\\sklearn\\base.py:445: UserWarning: X does not have valid feature names, but DecisionTreeClassifier was fitted with feature names\n",
            "  warnings.warn(\n",
            "C:\\Users\\boomt\\AppData\\Local\\Programs\\Python\\Python38\\lib\\site-packages\\sklearn\\base.py:445: UserWarning: X does not have valid feature names, but DecisionTreeClassifier was fitted with feature names\n",
            "  warnings.warn(\n"
          ]
        },
        {
          "name": "stdout",
          "output_type": "stream",
          "text": [
            "-0.0892181396484375, -0.1011505126953125, -0.0031890869140625, -0.0686344549813041, -0.04341724893545282, -0.2728682842378458\n",
            "mid: 479\n",
            "0.0, 0.0, 0.0, 0.05328825551583152, 0.046327018742473386, -0.38157106308382804\n",
            "mid: 480\n"
          ]
        },
        {
          "name": "stderr",
          "output_type": "stream",
          "text": [
            "C:\\Users\\boomt\\AppData\\Local\\Programs\\Python\\Python38\\lib\\site-packages\\sklearn\\base.py:445: UserWarning: X does not have valid feature names, but DecisionTreeClassifier was fitted with feature names\n",
            "  warnings.warn(\n",
            "C:\\Users\\boomt\\AppData\\Local\\Programs\\Python\\Python38\\lib\\site-packages\\sklearn\\base.py:445: UserWarning: X does not have valid feature names, but DecisionTreeClassifier was fitted with feature names\n",
            "  warnings.warn(\n"
          ]
        },
        {
          "name": "stdout",
          "output_type": "stream",
          "text": [
            "-0.1715240478515625, 0.207305908203125, -0.091796875, 0.25375770657154617, 0.31309906092901874, -0.40609664619458585\n",
            "mid: 481\n",
            "0.0, 0.0, 0.0, -0.3313105554113076, -0.08907368371544422, -0.014383733047517971\n",
            "mid: 482\n"
          ]
        },
        {
          "name": "stderr",
          "output_type": "stream",
          "text": [
            "C:\\Users\\boomt\\AppData\\Local\\Programs\\Python\\Python38\\lib\\site-packages\\sklearn\\base.py:445: UserWarning: X does not have valid feature names, but DecisionTreeClassifier was fitted with feature names\n",
            "  warnings.warn(\n",
            "C:\\Users\\boomt\\AppData\\Local\\Programs\\Python\\Python38\\lib\\site-packages\\sklearn\\base.py:445: UserWarning: X does not have valid feature names, but DecisionTreeClassifier was fitted with feature names\n",
            "  warnings.warn(\n"
          ]
        },
        {
          "name": "stdout",
          "output_type": "stream",
          "text": [
            "0.1775054931640625, -0.1281890869140625, 0.0242156982421875, 0.20643999190356327, -0.028317391870812558, 0.40590516491220907\n",
            "mid: 483\n",
            "0.0308990478515625, 0.013885498046875, 0.0200653076171875, 0.003238670201645366, -0.0640801832011596, -0.17953194488162066\n",
            "mid: 484\n"
          ]
        },
        {
          "name": "stderr",
          "output_type": "stream",
          "text": [
            "C:\\Users\\boomt\\AppData\\Local\\Programs\\Python\\Python38\\lib\\site-packages\\sklearn\\base.py:445: UserWarning: X does not have valid feature names, but DecisionTreeClassifier was fitted with feature names\n",
            "  warnings.warn(\n",
            "C:\\Users\\boomt\\AppData\\Local\\Programs\\Python\\Python38\\lib\\site-packages\\sklearn\\base.py:445: UserWarning: X does not have valid feature names, but DecisionTreeClassifier was fitted with feature names\n",
            "  warnings.warn(\n"
          ]
        },
        {
          "name": "stdout",
          "output_type": "stream",
          "text": [
            "-0.092529296875, 0.0595550537109375, -0.0115966796875, 0.06656011880824142, -0.20584584066436662, -0.029327795188388628\n",
            "mid: 485\n",
            "0.0, 0.0, 0.0, -0.40464602234881963, 0.005726328975888378, -0.03976046244266501\n",
            "mid: 486\n"
          ]
        },
        {
          "name": "stderr",
          "output_type": "stream",
          "text": [
            "C:\\Users\\boomt\\AppData\\Local\\Programs\\Python\\Python38\\lib\\site-packages\\sklearn\\base.py:445: UserWarning: X does not have valid feature names, but DecisionTreeClassifier was fitted with feature names\n",
            "  warnings.warn(\n",
            "C:\\Users\\boomt\\AppData\\Local\\Programs\\Python\\Python38\\lib\\site-packages\\sklearn\\base.py:445: UserWarning: X does not have valid feature names, but DecisionTreeClassifier was fitted with feature names\n",
            "  warnings.warn(\n"
          ]
        },
        {
          "name": "stdout",
          "output_type": "stream",
          "text": [
            "-0.1115264892578125, -0.0120697021484375, -0.0022430419921875, 0.08023118994805416, 1.3518226998530936, -0.16941166642321057\n",
            "mid: 487\n",
            "0.0045166015625, 0.0297393798828125, -0.0338287353515625, 0.029761091497744488, -0.01489745682179433, 0.005983324021081024\n",
            "mid: 488\n"
          ]
        },
        {
          "name": "stderr",
          "output_type": "stream",
          "text": [
            "C:\\Users\\boomt\\AppData\\Local\\Programs\\Python\\Python38\\lib\\site-packages\\sklearn\\base.py:445: UserWarning: X does not have valid feature names, but DecisionTreeClassifier was fitted with feature names\n",
            "  warnings.warn(\n",
            "C:\\Users\\boomt\\AppData\\Local\\Programs\\Python\\Python38\\lib\\site-packages\\sklearn\\base.py:445: UserWarning: X does not have valid feature names, but DecisionTreeClassifier was fitted with feature names\n",
            "  warnings.warn(\n"
          ]
        },
        {
          "name": "stdout",
          "output_type": "stream",
          "text": [
            "-0.0953369140625, -0.024566650390625, 0.04852294921875, 0.09971034910922073, -0.6600692698661014, 0.3379812413097381\n",
            "mid: 489\n",
            "0.0, 0.0, 0.0, -0.1703834539049805, -0.35194179806004244, -0.1613691862472803\n",
            "mid: 490\n"
          ]
        },
        {
          "name": "stderr",
          "output_type": "stream",
          "text": [
            "C:\\Users\\boomt\\AppData\\Local\\Programs\\Python\\Python38\\lib\\site-packages\\sklearn\\base.py:445: UserWarning: X does not have valid feature names, but DecisionTreeClassifier was fitted with feature names\n",
            "  warnings.warn(\n",
            "C:\\Users\\boomt\\AppData\\Local\\Programs\\Python\\Python38\\lib\\site-packages\\sklearn\\base.py:445: UserWarning: X does not have valid feature names, but DecisionTreeClassifier was fitted with feature names\n",
            "  warnings.warn(\n"
          ]
        },
        {
          "name": "stdout",
          "output_type": "stream",
          "text": [
            "-0.0386810302734375, 0.00677490234375, 0.02996826171875, 0.30399930580032697, 1.0514293141687336, 1.1423794611882476\n",
            "mid: 491\n",
            "0.0, 0.0, 0.0, -0.19525817743464757, -0.1959958730565996, -0.37672118042268465\n",
            "mid: 492\n"
          ]
        },
        {
          "name": "stderr",
          "output_type": "stream",
          "text": [
            "C:\\Users\\boomt\\AppData\\Local\\Programs\\Python\\Python38\\lib\\site-packages\\sklearn\\base.py:445: UserWarning: X does not have valid feature names, but DecisionTreeClassifier was fitted with feature names\n",
            "  warnings.warn(\n",
            "C:\\Users\\boomt\\AppData\\Local\\Programs\\Python\\Python38\\lib\\site-packages\\sklearn\\base.py:445: UserWarning: X does not have valid feature names, but DecisionTreeClassifier was fitted with feature names\n",
            "  warnings.warn(\n"
          ]
        },
        {
          "name": "stdout",
          "output_type": "stream",
          "text": [
            "0.3834686279296875, -0.2042694091796875, 0.4618682861328125, 0.29331630140358317, -0.7522668415402085, -0.26898619431683735\n",
            "mid: 493\n",
            "-0.057891845703125, -0.20343017578125, 0.1763916015625, 0.40437358096930454, 0.4757404392290299, -0.6445406438659582\n",
            "mid: 494\n"
          ]
        },
        {
          "name": "stderr",
          "output_type": "stream",
          "text": [
            "C:\\Users\\boomt\\AppData\\Local\\Programs\\Python\\Python38\\lib\\site-packages\\sklearn\\base.py:445: UserWarning: X does not have valid feature names, but DecisionTreeClassifier was fitted with feature names\n",
            "  warnings.warn(\n",
            "C:\\Users\\boomt\\AppData\\Local\\Programs\\Python\\Python38\\lib\\site-packages\\sklearn\\base.py:445: UserWarning: X does not have valid feature names, but DecisionTreeClassifier was fitted with feature names\n",
            "  warnings.warn(\n"
          ]
        },
        {
          "name": "stdout",
          "output_type": "stream",
          "text": [
            "-0.282806396484375, -0.43084716796875, 0.2241668701171875, -0.6716228616231921, -0.07641727695095168, 0.6213250696954106\n",
            "mid: 495\n",
            "0.0, 0.0, 0.0, -0.05440491896090173, -0.46034843339280795, -0.10904446241383947\n",
            "mid: 496\n"
          ]
        },
        {
          "name": "stderr",
          "output_type": "stream",
          "text": [
            "C:\\Users\\boomt\\AppData\\Local\\Programs\\Python\\Python38\\lib\\site-packages\\sklearn\\base.py:445: UserWarning: X does not have valid feature names, but DecisionTreeClassifier was fitted with feature names\n",
            "  warnings.warn(\n"
          ]
        },
        {
          "name": "stdout",
          "output_type": "stream",
          "text": [
            "-0.0058746337890625, 0.0888214111328125, 0.1019287109375, -0.0008775115791811172, -0.31127426295009647, -0.5334255737045823\n",
            "mid: 497\n"
          ]
        },
        {
          "name": "stderr",
          "output_type": "stream",
          "text": [
            "C:\\Users\\boomt\\AppData\\Local\\Programs\\Python\\Python38\\lib\\site-packages\\sklearn\\base.py:445: UserWarning: X does not have valid feature names, but DecisionTreeClassifier was fitted with feature names\n",
            "  warnings.warn(\n"
          ]
        },
        {
          "name": "stdout",
          "output_type": "stream",
          "text": [
            "-0.018218994140625, -0.0757598876953125, -0.0482635498046875, -0.0799270569515671, 0.06198107962995915, -0.051221908826039025\n",
            "mid: 498\n"
          ]
        },
        {
          "name": "stderr",
          "output_type": "stream",
          "text": [
            "C:\\Users\\boomt\\AppData\\Local\\Programs\\Python\\Python38\\lib\\site-packages\\sklearn\\base.py:445: UserWarning: X does not have valid feature names, but DecisionTreeClassifier was fitted with feature names\n",
            "  warnings.warn(\n",
            "C:\\Users\\boomt\\AppData\\Local\\Programs\\Python\\Python38\\lib\\site-packages\\sklearn\\base.py:445: UserWarning: X does not have valid feature names, but DecisionTreeClassifier was fitted with feature names\n",
            "  warnings.warn(\n"
          ]
        },
        {
          "name": "stdout",
          "output_type": "stream",
          "text": [
            "0.028228759765625, 0.06097412109375, -0.0425567626953125, 0.14176352693433497, -0.05078115566563092, 0.017781926598459077\n",
            "mid: 499\n",
            "0.0, 0.0, 0.0, -0.1554977149919826, 0.20301037305175923, 0.009281382715035147\n",
            "mid: 500\n"
          ]
        },
        {
          "name": "stderr",
          "output_type": "stream",
          "text": [
            "C:\\Users\\boomt\\AppData\\Local\\Programs\\Python\\Python38\\lib\\site-packages\\sklearn\\base.py:445: UserWarning: X does not have valid feature names, but DecisionTreeClassifier was fitted with feature names\n",
            "  warnings.warn(\n",
            "C:\\Users\\boomt\\AppData\\Local\\Programs\\Python\\Python38\\lib\\site-packages\\sklearn\\base.py:445: UserWarning: X does not have valid feature names, but DecisionTreeClassifier was fitted with feature names\n",
            "  warnings.warn(\n"
          ]
        },
        {
          "name": "stdout",
          "output_type": "stream",
          "text": [
            "0.027496337890625, 0.258697509765625, -0.0723114013671875, 0.14927630436944847, 0.08856581889556614, -0.0018900454256292332\n",
            "mid: 501\n",
            "0.0, 0.0, 0.0, -0.08530770761796319, 0.005962018732360408, 0.10366807280518747\n",
            "mid: 502\n"
          ]
        },
        {
          "name": "stderr",
          "output_type": "stream",
          "text": [
            "C:\\Users\\boomt\\AppData\\Local\\Programs\\Python\\Python38\\lib\\site-packages\\sklearn\\base.py:445: UserWarning: X does not have valid feature names, but DecisionTreeClassifier was fitted with feature names\n",
            "  warnings.warn(\n",
            "C:\\Users\\boomt\\AppData\\Local\\Programs\\Python\\Python38\\lib\\site-packages\\sklearn\\base.py:445: UserWarning: X does not have valid feature names, but DecisionTreeClassifier was fitted with feature names\n",
            "  warnings.warn(\n"
          ]
        },
        {
          "name": "stdout",
          "output_type": "stream",
          "text": [
            "-0.0315704345703125, -0.01611328125, -0.020904541015625, 0.8502911433633, -0.059466522928706356, 0.24132314112585723\n",
            "mid: 503\n",
            "-0.0718994140625, -0.0846710205078125, -0.028167724609375, -0.5562691042708459, 0.2695001844072226, 0.28466315838969763\n",
            "mid: 504\n"
          ]
        },
        {
          "name": "stderr",
          "output_type": "stream",
          "text": [
            "C:\\Users\\boomt\\AppData\\Local\\Programs\\Python\\Python38\\lib\\site-packages\\sklearn\\base.py:445: UserWarning: X does not have valid feature names, but DecisionTreeClassifier was fitted with feature names\n",
            "  warnings.warn(\n",
            "C:\\Users\\boomt\\AppData\\Local\\Programs\\Python\\Python38\\lib\\site-packages\\sklearn\\base.py:445: UserWarning: X does not have valid feature names, but DecisionTreeClassifier was fitted with feature names\n",
            "  warnings.warn(\n"
          ]
        },
        {
          "name": "stdout",
          "output_type": "stream",
          "text": [
            "0.1055755615234375, -0.3000640869140625, 0.1225738525390625, 0.528980225213022, 1.006071686063049, -0.6399248530646329\n",
            "mid: 505\n",
            "0.0, 0.0, 0.0, -0.7520189012427221, 0.30059924803662286, 0.5870515180466358\n",
            "mid: 506\n"
          ]
        },
        {
          "name": "stderr",
          "output_type": "stream",
          "text": [
            "C:\\Users\\boomt\\AppData\\Local\\Programs\\Python\\Python38\\lib\\site-packages\\sklearn\\base.py:445: UserWarning: X does not have valid feature names, but DecisionTreeClassifier was fitted with feature names\n",
            "  warnings.warn(\n",
            "C:\\Users\\boomt\\AppData\\Local\\Programs\\Python\\Python38\\lib\\site-packages\\sklearn\\base.py:445: UserWarning: X does not have valid feature names, but DecisionTreeClassifier was fitted with feature names\n",
            "  warnings.warn(\n"
          ]
        },
        {
          "name": "stdout",
          "output_type": "stream",
          "text": [
            "0.8531646728515625, -0.004486083984375, -0.7501373291015625, -0.012608203548762131, -1.7768885098600955, -0.6436703228217204\n",
            "mid: 507\n",
            "-0.00640869140625, 0.02154541015625, 0.0664215087890625, -0.144756919999584, -0.07171466709808975, 0.2038111855915461\n",
            "mid: 508\n"
          ]
        },
        {
          "name": "stderr",
          "output_type": "stream",
          "text": [
            "C:\\Users\\boomt\\AppData\\Local\\Programs\\Python\\Python38\\lib\\site-packages\\sklearn\\base.py:445: UserWarning: X does not have valid feature names, but DecisionTreeClassifier was fitted with feature names\n",
            "  warnings.warn(\n",
            "C:\\Users\\boomt\\AppData\\Local\\Programs\\Python\\Python38\\lib\\site-packages\\sklearn\\base.py:445: UserWarning: X does not have valid feature names, but DecisionTreeClassifier was fitted with feature names\n",
            "  warnings.warn(\n"
          ]
        },
        {
          "name": "stdout",
          "output_type": "stream",
          "text": [
            "0.0048980712890625, -0.07000732421875, -0.1129150390625, 0.0004000067957299013, 0.002258094288278188, -0.1781742653578983\n",
            "mid: 509\n",
            "0.0110015869140625, 0.030029296875, 0.011016845703125, 0.07944342689760872, 0.08483979021443627, 0.08007113396654039\n",
            "mid: 510\n"
          ]
        },
        {
          "name": "stderr",
          "output_type": "stream",
          "text": [
            "C:\\Users\\boomt\\AppData\\Local\\Programs\\Python\\Python38\\lib\\site-packages\\sklearn\\base.py:445: UserWarning: X does not have valid feature names, but DecisionTreeClassifier was fitted with feature names\n",
            "  warnings.warn(\n",
            "C:\\Users\\boomt\\AppData\\Local\\Programs\\Python\\Python38\\lib\\site-packages\\sklearn\\base.py:445: UserWarning: X does not have valid feature names, but DecisionTreeClassifier was fitted with feature names\n",
            "  warnings.warn(\n"
          ]
        },
        {
          "name": "stdout",
          "output_type": "stream",
          "text": [
            "0.0132293701171875, 0.042510986328125, -0.12200927734375, 0.013653494276618244, 0.4212087538002404, -0.08841961135172079\n",
            "mid: 511\n",
            "0.0, 0.0, 0.0, 0.058203651939790754, -0.436688643952435, 0.12197437582228315\n",
            "mid: 512\n"
          ]
        },
        {
          "name": "stderr",
          "output_type": "stream",
          "text": [
            "C:\\Users\\boomt\\AppData\\Local\\Programs\\Python\\Python38\\lib\\site-packages\\sklearn\\base.py:445: UserWarning: X does not have valid feature names, but DecisionTreeClassifier was fitted with feature names\n",
            "  warnings.warn(\n",
            "C:\\Users\\boomt\\AppData\\Local\\Programs\\Python\\Python38\\lib\\site-packages\\sklearn\\base.py:445: UserWarning: X does not have valid feature names, but DecisionTreeClassifier was fitted with feature names\n",
            "  warnings.warn(\n"
          ]
        },
        {
          "name": "stdout",
          "output_type": "stream",
          "text": [
            "-0.0164947509765625, 0.0690155029296875, 0.2097625732421875, -0.1421281136875668, 0.008005195920669186, -0.059057461385270155\n",
            "mid: 513\n",
            "-0.0157928466796875, -0.02679443359375, -0.00091552734375, 0.25019919072298225, 0.1851245831707871, 0.05961193152422464\n",
            "mid: 514\n"
          ]
        },
        {
          "name": "stderr",
          "output_type": "stream",
          "text": [
            "C:\\Users\\boomt\\AppData\\Local\\Programs\\Python\\Python38\\lib\\site-packages\\sklearn\\base.py:445: UserWarning: X does not have valid feature names, but DecisionTreeClassifier was fitted with feature names\n",
            "  warnings.warn(\n",
            "C:\\Users\\boomt\\AppData\\Local\\Programs\\Python\\Python38\\lib\\site-packages\\sklearn\\base.py:445: UserWarning: X does not have valid feature names, but DecisionTreeClassifier was fitted with feature names\n",
            "  warnings.warn(\n"
          ]
        },
        {
          "name": "stdout",
          "output_type": "stream",
          "text": [
            "-0.2633514404296875, 0.2620697021484375, 0.372955322265625, 0.6044020125485021, -0.18976913611188528, 0.31869596027592934\n",
            "mid: 515\n",
            "0.0, 0.0, 0.0, -0.6544670441970106, 0.2598781833887663, -0.026059031266425392\n",
            "mid: 516\n"
          ]
        },
        {
          "name": "stderr",
          "output_type": "stream",
          "text": [
            "C:\\Users\\boomt\\AppData\\Local\\Programs\\Python\\Python38\\lib\\site-packages\\sklearn\\base.py:445: UserWarning: X does not have valid feature names, but DecisionTreeClassifier was fitted with feature names\n",
            "  warnings.warn(\n",
            "C:\\Users\\boomt\\AppData\\Local\\Programs\\Python\\Python38\\lib\\site-packages\\sklearn\\base.py:445: UserWarning: X does not have valid feature names, but DecisionTreeClassifier was fitted with feature names\n",
            "  warnings.warn(\n"
          ]
        },
        {
          "name": "stdout",
          "output_type": "stream",
          "text": [
            "-0.4271087646484375, 0.409210205078125, -0.17315673828125, 0.5990972619731731, -0.18831664805335607, -0.22873491128527063\n",
            "mid: 517\n",
            "-0.0989837646484375, 0.203094482421875, -0.2945556640625, 0.2849933903648675, 0.1832521146083524, -0.13297749218205454\n",
            "mid: 518\n"
          ]
        },
        {
          "name": "stderr",
          "output_type": "stream",
          "text": [
            "C:\\Users\\boomt\\AppData\\Local\\Programs\\Python\\Python38\\lib\\site-packages\\sklearn\\base.py:445: UserWarning: X does not have valid feature names, but DecisionTreeClassifier was fitted with feature names\n",
            "  warnings.warn(\n",
            "C:\\Users\\boomt\\AppData\\Local\\Programs\\Python\\Python38\\lib\\site-packages\\sklearn\\base.py:445: UserWarning: X does not have valid feature names, but DecisionTreeClassifier was fitted with feature names\n",
            "  warnings.warn(\n"
          ]
        },
        {
          "name": "stdout",
          "output_type": "stream",
          "text": [
            "-0.05645751953125, -0.0329132080078125, -0.001373291015625, -1.0006159342539127, -0.22218673079698384, 0.42995430850395167\n",
            "mid: 519\n",
            "0.12982177734375, -0.0701141357421875, -0.0133056640625, 0.19697884581494782, 0.20097651692726573, -0.023558323002840942\n",
            "mid: 520\n"
          ]
        },
        {
          "name": "stderr",
          "output_type": "stream",
          "text": [
            "C:\\Users\\boomt\\AppData\\Local\\Programs\\Python\\Python38\\lib\\site-packages\\sklearn\\base.py:445: UserWarning: X does not have valid feature names, but DecisionTreeClassifier was fitted with feature names\n",
            "  warnings.warn(\n",
            "C:\\Users\\boomt\\AppData\\Local\\Programs\\Python\\Python38\\lib\\site-packages\\sklearn\\base.py:445: UserWarning: X does not have valid feature names, but DecisionTreeClassifier was fitted with feature names\n",
            "  warnings.warn(\n"
          ]
        },
        {
          "name": "stdout",
          "output_type": "stream",
          "text": [
            "-0.0960845947265625, 0.098602294921875, -0.0949554443359375, 0.3294279668367306, -0.285950530460642, -0.2358143924110283\n",
            "mid: 521\n",
            "0.0, 0.0, 0.0, -0.6022067688619497, -0.0097871170060412, 0.07155967112264716\n",
            "mid: 522\n"
          ]
        },
        {
          "name": "stderr",
          "output_type": "stream",
          "text": [
            "C:\\Users\\boomt\\AppData\\Local\\Programs\\Python\\Python38\\lib\\site-packages\\sklearn\\base.py:445: UserWarning: X does not have valid feature names, but DecisionTreeClassifier was fitted with feature names\n",
            "  warnings.warn(\n",
            "C:\\Users\\boomt\\AppData\\Local\\Programs\\Python\\Python38\\lib\\site-packages\\sklearn\\base.py:445: UserWarning: X does not have valid feature names, but DecisionTreeClassifier was fitted with feature names\n",
            "  warnings.warn(\n"
          ]
        },
        {
          "name": "stdout",
          "output_type": "stream",
          "text": [
            "-0.0979461669921875, -0.0391387939453125, 0.0742645263671875, 0.0703274264862675, 0.11961880983810808, 0.2966881296597325\n",
            "mid: 523\n",
            "0.16790771484375, -0.0292816162109375, -0.0691680908203125, 0.17228148881388, -0.0450636151213398, -0.22335639114774664\n",
            "mid: 524\n"
          ]
        },
        {
          "name": "stderr",
          "output_type": "stream",
          "text": [
            "C:\\Users\\boomt\\AppData\\Local\\Programs\\Python\\Python38\\lib\\site-packages\\sklearn\\base.py:445: UserWarning: X does not have valid feature names, but DecisionTreeClassifier was fitted with feature names\n",
            "  warnings.warn(\n",
            "C:\\Users\\boomt\\AppData\\Local\\Programs\\Python\\Python38\\lib\\site-packages\\sklearn\\base.py:445: UserWarning: X does not have valid feature names, but DecisionTreeClassifier was fitted with feature names\n",
            "  warnings.warn(\n"
          ]
        },
        {
          "name": "stdout",
          "output_type": "stream",
          "text": [
            "-0.162353515625, 0.0118560791015625, 0.0973358154296875, -0.20537472746753163, -0.10362093485389309, -0.22510422377116565\n",
            "mid: 525\n",
            "0.0, 0.0, 0.0, 0.0638010839189193, 0.01103667218950638, -0.07166033861185213\n",
            "mid: 526\n"
          ]
        },
        {
          "name": "stderr",
          "output_type": "stream",
          "text": [
            "C:\\Users\\boomt\\AppData\\Local\\Programs\\Python\\Python38\\lib\\site-packages\\sklearn\\base.py:445: UserWarning: X does not have valid feature names, but DecisionTreeClassifier was fitted with feature names\n",
            "  warnings.warn(\n",
            "C:\\Users\\boomt\\AppData\\Local\\Programs\\Python\\Python38\\lib\\site-packages\\sklearn\\base.py:445: UserWarning: X does not have valid feature names, but DecisionTreeClassifier was fitted with feature names\n",
            "  warnings.warn(\n"
          ]
        },
        {
          "name": "stdout",
          "output_type": "stream",
          "text": [
            "-0.0063934326171875, 0.0282135009765625, -0.0430908203125, 0.030929952900180288, -0.0033595777151349537, 0.0586686398661186\n",
            "mid: 527\n",
            "-0.0127410888671875, 0.037567138671875, 0.028167724609375, -0.11818363232666437, 0.04999712104071158, 0.19041708320510156\n",
            "mid: 528\n"
          ]
        },
        {
          "name": "stderr",
          "output_type": "stream",
          "text": [
            "C:\\Users\\boomt\\AppData\\Local\\Programs\\Python\\Python38\\lib\\site-packages\\sklearn\\base.py:445: UserWarning: X does not have valid feature names, but DecisionTreeClassifier was fitted with feature names\n",
            "  warnings.warn(\n",
            "C:\\Users\\boomt\\AppData\\Local\\Programs\\Python\\Python38\\lib\\site-packages\\sklearn\\base.py:445: UserWarning: X does not have valid feature names, but DecisionTreeClassifier was fitted with feature names\n",
            "  warnings.warn(\n"
          ]
        },
        {
          "name": "stdout",
          "output_type": "stream",
          "text": [
            "0.127532958984375, -0.1167449951171875, 0.3362884521484375, 1.1657332534193707, 0.16575408098209576, -0.05419905660863861\n",
            "mid: 529\n",
            "0.038848876953125, -0.3549346923828125, 0.2776641845703125, -0.48109232775565325, 0.007084274815719771, 0.2038599214394945\n",
            "mid: 530\n"
          ]
        },
        {
          "name": "stderr",
          "output_type": "stream",
          "text": [
            "C:\\Users\\boomt\\AppData\\Local\\Programs\\Python\\Python38\\lib\\site-packages\\sklearn\\base.py:445: UserWarning: X does not have valid feature names, but DecisionTreeClassifier was fitted with feature names\n",
            "  warnings.warn(\n",
            "C:\\Users\\boomt\\AppData\\Local\\Programs\\Python\\Python38\\lib\\site-packages\\sklearn\\base.py:445: UserWarning: X does not have valid feature names, but DecisionTreeClassifier was fitted with feature names\n",
            "  warnings.warn(\n"
          ]
        },
        {
          "name": "stdout",
          "output_type": "stream",
          "text": [
            "-0.1292572021484375, -0.1409759521484375, 0.1623992919921875, 0.17611004919697792, 0.5786758764183366, 0.6085469564691015\n",
            "mid: 531\n",
            "0.0, 0.0, 0.0, -0.619623842391068, -0.7375395607120703, -0.7162742194077877\n",
            "mid: 532\n"
          ]
        },
        {
          "name": "stderr",
          "output_type": "stream",
          "text": [
            "C:\\Users\\boomt\\AppData\\Local\\Programs\\Python\\Python38\\lib\\site-packages\\sklearn\\base.py:445: UserWarning: X does not have valid feature names, but DecisionTreeClassifier was fitted with feature names\n",
            "  warnings.warn(\n",
            "C:\\Users\\boomt\\AppData\\Local\\Programs\\Python\\Python38\\lib\\site-packages\\sklearn\\base.py:445: UserWarning: X does not have valid feature names, but DecisionTreeClassifier was fitted with feature names\n",
            "  warnings.warn(\n"
          ]
        },
        {
          "name": "stdout",
          "output_type": "stream",
          "text": [
            "0.113250732421875, -0.274139404296875, 0.044952392578125, -0.2172329848533274, 0.07945834059971316, -0.34060791709288324\n",
            "mid: 533\n",
            "-0.051300048828125, -0.00750732421875, 0.014862060546875, -0.036837376830194044, -0.11873863509783687, -0.021725002908430394\n",
            "mid: 534\n"
          ]
        },
        {
          "name": "stderr",
          "output_type": "stream",
          "text": [
            "C:\\Users\\boomt\\AppData\\Local\\Programs\\Python\\Python38\\lib\\site-packages\\sklearn\\base.py:445: UserWarning: X does not have valid feature names, but DecisionTreeClassifier was fitted with feature names\n",
            "  warnings.warn(\n",
            "C:\\Users\\boomt\\AppData\\Local\\Programs\\Python\\Python38\\lib\\site-packages\\sklearn\\base.py:445: UserWarning: X does not have valid feature names, but DecisionTreeClassifier was fitted with feature names\n",
            "  warnings.warn(\n"
          ]
        },
        {
          "name": "stdout",
          "output_type": "stream",
          "text": [
            "-0.0085906982421875, 0.0111236572265625, 0.0047149658203125, -0.006184126367272997, -0.0436281712937871, -3.994741635118121e-06\n",
            "mid: 535\n",
            "0.0, 0.0, 0.0, -0.006101302057371536, 0.10098147589751555, -0.01158288652908163\n",
            "mid: 536\n"
          ]
        },
        {
          "name": "stderr",
          "output_type": "stream",
          "text": [
            "C:\\Users\\boomt\\AppData\\Local\\Programs\\Python\\Python38\\lib\\site-packages\\sklearn\\base.py:445: UserWarning: X does not have valid feature names, but DecisionTreeClassifier was fitted with feature names\n",
            "  warnings.warn(\n",
            "C:\\Users\\boomt\\AppData\\Local\\Programs\\Python\\Python38\\lib\\site-packages\\sklearn\\base.py:445: UserWarning: X does not have valid feature names, but DecisionTreeClassifier was fitted with feature names\n",
            "  warnings.warn(\n"
          ]
        },
        {
          "name": "stdout",
          "output_type": "stream",
          "text": [
            "0.173248291015625, -0.0593719482421875, -0.0240325927734375, 0.31614332037108833, 0.9702825294379102, 0.07685163852474361\n",
            "mid: 537\n",
            "0.0, 0.0, 0.0, -0.2620007227775594, 1.2604198154482658, 0.2825294337243262\n",
            "mid: 538\n"
          ]
        },
        {
          "name": "stderr",
          "output_type": "stream",
          "text": [
            "C:\\Users\\boomt\\AppData\\Local\\Programs\\Python\\Python38\\lib\\site-packages\\sklearn\\base.py:445: UserWarning: X does not have valid feature names, but DecisionTreeClassifier was fitted with feature names\n",
            "  warnings.warn(\n",
            "C:\\Users\\boomt\\AppData\\Local\\Programs\\Python\\Python38\\lib\\site-packages\\sklearn\\base.py:445: UserWarning: X does not have valid feature names, but DecisionTreeClassifier was fitted with feature names\n",
            "  warnings.warn(\n"
          ]
        },
        {
          "name": "stdout",
          "output_type": "stream",
          "text": [
            "0.5547332763671875, 0.0444488525390625, -0.614715576171875, 0.06428498028898669, -2.199291691409236, -0.16256414662839883\n",
            "mid: 539\n",
            "0.1890106201171875, -0.0640411376953125, -0.32452392578125, -0.02568965082323134, 0.3807753105501124, -0.16507683911688859\n",
            "mid: 540\n",
            "-0.0390625, 0.0476531982421875, 0.082427978515625, -0.08030469319414035, -0.5268499626570676, -0.034136931484853694\n",
            "mid: 541\n",
            "0.0, 0.0, 0.0, 0.006538859424471556, 0.0466063843408227, 0.009791378063785328\n",
            "mid: 542\n"
          ]
        },
        {
          "name": "stderr",
          "output_type": "stream",
          "text": [
            "C:\\Users\\boomt\\AppData\\Local\\Programs\\Python\\Python38\\lib\\site-packages\\sklearn\\base.py:445: UserWarning: X does not have valid feature names, but DecisionTreeClassifier was fitted with feature names\n",
            "  warnings.warn(\n",
            "C:\\Users\\boomt\\AppData\\Local\\Programs\\Python\\Python38\\lib\\site-packages\\sklearn\\base.py:445: UserWarning: X does not have valid feature names, but DecisionTreeClassifier was fitted with feature names\n",
            "  warnings.warn(\n",
            "C:\\Users\\boomt\\AppData\\Local\\Programs\\Python\\Python38\\lib\\site-packages\\sklearn\\base.py:445: UserWarning: X does not have valid feature names, but DecisionTreeClassifier was fitted with feature names\n",
            "  warnings.warn(\n",
            "C:\\Users\\boomt\\AppData\\Local\\Programs\\Python\\Python38\\lib\\site-packages\\sklearn\\base.py:445: UserWarning: X does not have valid feature names, but DecisionTreeClassifier was fitted with feature names\n",
            "  warnings.warn(\n"
          ]
        },
        {
          "name": "stdout",
          "output_type": "stream",
          "text": [
            "-0.028289794921875, -0.046112060546875, 0.0177764892578125, -0.001975266580511774, 0.06676944326992162, 0.0406944330369558\n",
            "mid: 543\n",
            "0.000885009765625, 0.02496337890625, 0.02020263671875, -0.024690432782233623, -0.09418349089897929, -0.03021063308974987\n",
            "mid: 544\n"
          ]
        },
        {
          "name": "stderr",
          "output_type": "stream",
          "text": [
            "C:\\Users\\boomt\\AppData\\Local\\Programs\\Python\\Python38\\lib\\site-packages\\sklearn\\base.py:445: UserWarning: X does not have valid feature names, but DecisionTreeClassifier was fitted with feature names\n",
            "  warnings.warn(\n",
            "C:\\Users\\boomt\\AppData\\Local\\Programs\\Python\\Python38\\lib\\site-packages\\sklearn\\base.py:445: UserWarning: X does not have valid feature names, but DecisionTreeClassifier was fitted with feature names\n",
            "  warnings.warn(\n"
          ]
        },
        {
          "name": "stdout",
          "output_type": "stream",
          "text": [
            "0.0066070556640625, 0.0047454833984375, -0.008056640625, 0.017949972063243072, 0.0019904465987252255, -0.005282646338281176\n",
            "mid: 545\n",
            "0.0, 0.0, 0.0, -0.0159041317138442, -0.022328208895333344, -0.006401972944441482\n",
            "mid: 546\n"
          ]
        },
        {
          "name": "stderr",
          "output_type": "stream",
          "text": [
            "C:\\Users\\boomt\\AppData\\Local\\Programs\\Python\\Python38\\lib\\site-packages\\sklearn\\base.py:445: UserWarning: X does not have valid feature names, but DecisionTreeClassifier was fitted with feature names\n",
            "  warnings.warn(\n",
            "C:\\Users\\boomt\\AppData\\Local\\Programs\\Python\\Python38\\lib\\site-packages\\sklearn\\base.py:445: UserWarning: X does not have valid feature names, but DecisionTreeClassifier was fitted with feature names\n",
            "  warnings.warn(\n"
          ]
        },
        {
          "name": "stdout",
          "output_type": "stream",
          "text": [
            "0.0051116943359375, 0.0009918212890625, -0.0034027099609375, 0.009600962045844662, 0.012639362533516064, 0.0224680248525625\n",
            "mid: 547\n",
            "0.0, 0.0, 0.0, -0.00858283556110737, 0.0011773835179240306, -0.020322848594503673\n",
            "mid: 548\n"
          ]
        },
        {
          "name": "stderr",
          "output_type": "stream",
          "text": [
            "C:\\Users\\boomt\\AppData\\Local\\Programs\\Python\\Python38\\lib\\site-packages\\sklearn\\base.py:445: UserWarning: X does not have valid feature names, but DecisionTreeClassifier was fitted with feature names\n",
            "  warnings.warn(\n",
            "C:\\Users\\boomt\\AppData\\Local\\Programs\\Python\\Python38\\lib\\site-packages\\sklearn\\base.py:445: UserWarning: X does not have valid feature names, but DecisionTreeClassifier was fitted with feature names\n",
            "  warnings.warn(\n"
          ]
        },
        {
          "name": "stdout",
          "output_type": "stream",
          "text": [
            "-0.0083160400390625, 0.007720947265625, -0.0005950927734375, 0.0031957933080950856, -0.003142263770184492, -0.009623332599001326\n",
            "mid: 549\n",
            "0.0041656494140625, -0.0045623779296875, 0.000946044921875, -0.0010990865818757013, 0.012741627919375106, 0.0010924286791505035\n",
            "mid: 550\n"
          ]
        },
        {
          "name": "stderr",
          "output_type": "stream",
          "text": [
            "C:\\Users\\boomt\\AppData\\Local\\Programs\\Python\\Python38\\lib\\site-packages\\sklearn\\base.py:445: UserWarning: X does not have valid feature names, but DecisionTreeClassifier was fitted with feature names\n",
            "  warnings.warn(\n",
            "C:\\Users\\boomt\\AppData\\Local\\Programs\\Python\\Python38\\lib\\site-packages\\sklearn\\base.py:445: UserWarning: X does not have valid feature names, but DecisionTreeClassifier was fitted with feature names\n",
            "  warnings.warn(\n"
          ]
        },
        {
          "name": "stdout",
          "output_type": "stream",
          "text": [
            "0.0051422119140625, -0.000152587890625, -0.005859375, -0.003217631229033736, 0.00535215484273225, -0.001158741390293476\n",
            "mid: 551\n",
            "0.0, 0.0, 0.0, 0.006457366695115129, -0.021289309754093433, 0.0032602418064750036\n",
            "mid: 552\n"
          ]
        },
        {
          "name": "stderr",
          "output_type": "stream",
          "text": [
            "C:\\Users\\boomt\\AppData\\Local\\Programs\\Python\\Python38\\lib\\site-packages\\sklearn\\base.py:445: UserWarning: X does not have valid feature names, but DecisionTreeClassifier was fitted with feature names\n",
            "  warnings.warn(\n",
            "C:\\Users\\boomt\\AppData\\Local\\Programs\\Python\\Python38\\lib\\site-packages\\sklearn\\base.py:445: UserWarning: X does not have valid feature names, but DecisionTreeClassifier was fitted with feature names\n",
            "  warnings.warn(\n"
          ]
        },
        {
          "name": "stdout",
          "output_type": "stream",
          "text": [
            "-0.00128173828125, 0.0011749267578125, 0.0028228759765625, -0.008452606983802494, 0.007346862499201592, 0.01712119633201041\n",
            "mid: 553\n",
            "-0.001617431640625, -0.0052490234375, -0.0038299560546875, -0.0010777812931550676, -0.005301022149802723, -0.0021473067869308866\n",
            "mid: 554\n"
          ]
        },
        {
          "name": "stderr",
          "output_type": "stream",
          "text": [
            "C:\\Users\\boomt\\AppData\\Local\\Programs\\Python\\Python38\\lib\\site-packages\\sklearn\\base.py:445: UserWarning: X does not have valid feature names, but DecisionTreeClassifier was fitted with feature names\n",
            "  warnings.warn(\n",
            "C:\\Users\\boomt\\AppData\\Local\\Programs\\Python\\Python38\\lib\\site-packages\\sklearn\\base.py:445: UserWarning: X does not have valid feature names, but DecisionTreeClassifier was fitted with feature names\n",
            "  warnings.warn(\n"
          ]
        },
        {
          "name": "stdout",
          "output_type": "stream",
          "text": [
            "0.00286865234375, 0.016265869140625, 0.001312255859375, 0.0010391654573489186, -0.010578608482012749, -0.010700048627720365\n",
            "mid: 555\n",
            "0.0, 0.0, 0.0, 0.00427916723953932, 0.003212571222962585, -0.009592972562574423\n",
            "mid: 556\n"
          ]
        },
        {
          "name": "stderr",
          "output_type": "stream",
          "text": [
            "C:\\Users\\boomt\\AppData\\Local\\Programs\\Python\\Python38\\lib\\site-packages\\sklearn\\base.py:445: UserWarning: X does not have valid feature names, but DecisionTreeClassifier was fitted with feature names\n",
            "  warnings.warn(\n",
            "C:\\Users\\boomt\\AppData\\Local\\Programs\\Python\\Python38\\lib\\site-packages\\sklearn\\base.py:445: UserWarning: X does not have valid feature names, but DecisionTreeClassifier was fitted with feature names\n",
            "  warnings.warn(\n"
          ]
        },
        {
          "name": "stdout",
          "output_type": "stream",
          "text": [
            "-0.005706787109375, 0.002899169921875, 0.001190185546875, 0.0010175938525192763, 0.004268514595179003, 0.001051948630581299\n",
            "mid: 557\n",
            "0.0, 0.0, 0.0, -0.003179548025445602, -0.002177933139466801, 0.011749866729429598\n",
            "mid: 558\n"
          ]
        },
        {
          "name": "stderr",
          "output_type": "stream",
          "text": [
            "C:\\Users\\boomt\\AppData\\Local\\Programs\\Python\\Python38\\lib\\site-packages\\sklearn\\base.py:445: UserWarning: X does not have valid feature names, but DecisionTreeClassifier was fitted with feature names\n",
            "  warnings.warn(\n",
            "C:\\Users\\boomt\\AppData\\Local\\Programs\\Python\\Python38\\lib\\site-packages\\sklearn\\base.py:445: UserWarning: X does not have valid feature names, but DecisionTreeClassifier was fitted with feature names\n",
            "  warnings.warn(\n"
          ]
        },
        {
          "name": "stdout",
          "output_type": "stream",
          "text": [
            "-0.0008087158203125, -0.003173828125, -0.0044097900390625, 0.004250405099766464, 0.004240817719842178, 0.004270645124051068\n",
            "mid: 559\n",
            "0.004150390625, -0.001922607421875, -0.01092529296875, -0.006364955005289379, -0.006416620330436916, 0.0064134245371288215\n",
            "mid: 560\n"
          ]
        },
        {
          "name": "stderr",
          "output_type": "stream",
          "text": [
            "C:\\Users\\boomt\\AppData\\Local\\Programs\\Python\\Python38\\lib\\site-packages\\sklearn\\base.py:445: UserWarning: X does not have valid feature names, but DecisionTreeClassifier was fitted with feature names\n",
            "  warnings.warn(\n",
            "C:\\Users\\boomt\\AppData\\Local\\Programs\\Python\\Python38\\lib\\site-packages\\sklearn\\base.py:445: UserWarning: X does not have valid feature names, but DecisionTreeClassifier was fitted with feature names\n",
            "  warnings.warn(\n"
          ]
        },
        {
          "name": "stdout",
          "output_type": "stream",
          "text": [
            "-0.0081024169921875, 0.005157470703125, 0.0252227783203125, 0.007493336359155953, 0.005433114939870654, -0.019277291550538568\n",
            "mid: 561\n",
            "0.0, 0.0, 0.0, 0.006283728592041963, 0.012730975275014792, 0.0011222560833593917\n",
            "mid: 562\n"
          ]
        },
        {
          "name": "stderr",
          "output_type": "stream",
          "text": [
            "C:\\Users\\boomt\\AppData\\Local\\Programs\\Python\\Python38\\lib\\site-packages\\sklearn\\base.py:445: UserWarning: X does not have valid feature names, but DecisionTreeClassifier was fitted with feature names\n",
            "  warnings.warn(\n",
            "C:\\Users\\boomt\\AppData\\Local\\Programs\\Python\\Python38\\lib\\site-packages\\sklearn\\base.py:445: UserWarning: X does not have valid feature names, but DecisionTreeClassifier was fitted with feature names\n",
            "  warnings.warn(\n"
          ]
        },
        {
          "name": "stdout",
          "output_type": "stream",
          "text": [
            "0.00506591796875, 0.0014495849609375, -0.0241851806640625, -0.0021180120149400187, -0.005298891620930661, -0.004276770394558249\n",
            "mid: 563\n",
            "0.0028076171875, 0.002044677734375, 0.0019989013671875, -0.005347893784988118, 0.011632421325357103, 0.010710434955971671\n",
            "mid: 564\n"
          ]
        },
        {
          "name": "stderr",
          "output_type": "stream",
          "text": [
            "C:\\Users\\boomt\\AppData\\Local\\Programs\\Python\\Python38\\lib\\site-packages\\sklearn\\base.py:445: UserWarning: X does not have valid feature names, but DecisionTreeClassifier was fitted with feature names\n",
            "  warnings.warn(\n",
            "C:\\Users\\boomt\\AppData\\Local\\Programs\\Python\\Python38\\lib\\site-packages\\sklearn\\base.py:445: UserWarning: X does not have valid feature names, but DecisionTreeClassifier was fitted with feature names\n",
            "  warnings.warn(\n"
          ]
        },
        {
          "name": "stdout",
          "output_type": "stream",
          "text": [
            "0.0029296875, 0.0075836181640625, 0.005126953125, 0.0031944617275500463, -0.005228584168152566, -0.010745588682360717\n",
            "mid: 565\n",
            "-0.006988525390625, -0.0109710693359375, 0.001678466796875, -0.007414773106998615, -0.00963984419775982, 0.0075242290278008704\n",
            "mid: 566\n"
          ]
        },
        {
          "name": "stderr",
          "output_type": "stream",
          "text": [
            "C:\\Users\\boomt\\AppData\\Local\\Programs\\Python\\Python38\\lib\\site-packages\\sklearn\\base.py:445: UserWarning: X does not have valid feature names, but DecisionTreeClassifier was fitted with feature names\n",
            "  warnings.warn(\n",
            "C:\\Users\\boomt\\AppData\\Local\\Programs\\Python\\Python38\\lib\\site-packages\\sklearn\\base.py:445: UserWarning: X does not have valid feature names, but DecisionTreeClassifier was fitted with feature names\n",
            "  warnings.warn(\n"
          ]
        },
        {
          "name": "stdout",
          "output_type": "stream",
          "text": [
            "-0.0004119873046875, 0.0065765380859375, -0.0003814697265625, 0.0021257351821012483, 0.004210990315633292, 0.010682471764525841\n",
            "mid: 567\n",
            "0.0, 0.0, 0.0, 0.0031473237762556436, 0.01386361768662549, -0.011729360389035989\n",
            "mid: 568\n"
          ]
        },
        {
          "name": "stderr",
          "output_type": "stream",
          "text": [
            "C:\\Users\\boomt\\AppData\\Local\\Programs\\Python\\Python38\\lib\\site-packages\\sklearn\\base.py:445: UserWarning: X does not have valid feature names, but DecisionTreeClassifier was fitted with feature names\n",
            "  warnings.warn(\n",
            "C:\\Users\\boomt\\AppData\\Local\\Programs\\Python\\Python38\\lib\\site-packages\\sklearn\\base.py:445: UserWarning: X does not have valid feature names, but DecisionTreeClassifier was fitted with feature names\n",
            "  warnings.warn(\n"
          ]
        },
        {
          "name": "stdout",
          "output_type": "stream",
          "text": [
            "-0.0022735595703125, 0.0077362060546875, 0.0050811767578125, -0.005232046277569671, -0.032947297425915296, 0.0010207896458273719\n",
            "mid: 569\n",
            "mid: 570\n",
            "-0.0012359619140625, -0.006103515625, -0.0048675537109375, 0.0010578075849794733, 0.004225904017737736, 0.0064128919049108064\n",
            "mid: 571\n"
          ]
        },
        {
          "name": "stderr",
          "output_type": "stream",
          "text": [
            "C:\\Users\\boomt\\AppData\\Local\\Programs\\Python\\Python38\\lib\\site-packages\\sklearn\\base.py:445: UserWarning: X does not have valid feature names, but DecisionTreeClassifier was fitted with feature names\n",
            "  warnings.warn(\n",
            "C:\\Users\\boomt\\AppData\\Local\\Programs\\Python\\Python38\\lib\\site-packages\\sklearn\\base.py:445: UserWarning: X does not have valid feature names, but DecisionTreeClassifier was fitted with feature names\n",
            "  warnings.warn(\n"
          ]
        },
        {
          "name": "stdout",
          "output_type": "stream",
          "text": [
            "0.01019287109375, 0.008087158203125, -0.0045318603515625, 0.0031388016607673905, 0.011815646808354556, -0.005359079061566451\n",
            "mid: 572\n",
            "0.0, 0.0, 0.0, 0.007475493179852422, -0.003244529156043537, -0.007462443690511034\n",
            "mid: 573\n"
          ]
        },
        {
          "name": "stderr",
          "output_type": "stream",
          "text": [
            "C:\\Users\\boomt\\AppData\\Local\\Programs\\Python\\Python38\\lib\\site-packages\\sklearn\\base.py:445: UserWarning: X does not have valid feature names, but DecisionTreeClassifier was fitted with feature names\n",
            "  warnings.warn(\n",
            "C:\\Users\\boomt\\AppData\\Local\\Programs\\Python\\Python38\\lib\\site-packages\\sklearn\\base.py:445: UserWarning: X does not have valid feature names, but DecisionTreeClassifier was fitted with feature names\n",
            "  warnings.warn(\n"
          ]
        },
        {
          "name": "stdout",
          "output_type": "stream",
          "text": [
            "-0.0057830810546875, -0.007720947265625, 0.00189208984375, -0.014853248347698935, -0.005375590660324942, 0.008563927117367805\n",
            "mid: 574\n",
            "0.001190185546875, -0.0012664794921875, -0.008087158203125, 0.004213120844505355, 0.002175802610594737, -0.010684069661179888\n",
            "mid: 575\n"
          ]
        },
        {
          "name": "stderr",
          "output_type": "stream",
          "text": [
            "C:\\Users\\boomt\\AppData\\Local\\Programs\\Python\\Python38\\lib\\site-packages\\sklearn\\base.py:445: UserWarning: X does not have valid feature names, but DecisionTreeClassifier was fitted with feature names\n",
            "  warnings.warn(\n",
            "C:\\Users\\boomt\\AppData\\Local\\Programs\\Python\\Python38\\lib\\site-packages\\sklearn\\base.py:445: UserWarning: X does not have valid feature names, but DecisionTreeClassifier was fitted with feature names\n",
            "  warnings.warn(\n"
          ]
        },
        {
          "name": "stdout",
          "output_type": "stream",
          "text": [
            "0.002655029296875, 0.0052032470703125, 0.0011749267578125, -0.0042245724371926955, -0.004330299932468841, 0.018155834415506198\n",
            "mid: 576\n",
            "-0.0033416748046875, -0.0011138916015625, 0.0088348388671875, 0.010600180086842392, 0.010691526512232109, -0.0117498667294296\n",
            "mid: 577\n"
          ]
        },
        {
          "name": "stderr",
          "output_type": "stream",
          "text": [
            "C:\\Users\\boomt\\AppData\\Local\\Programs\\Python\\Python38\\lib\\site-packages\\sklearn\\base.py:445: UserWarning: X does not have valid feature names, but DecisionTreeClassifier was fitted with feature names\n",
            "  warnings.warn(\n",
            "C:\\Users\\boomt\\AppData\\Local\\Programs\\Python\\Python38\\lib\\site-packages\\sklearn\\base.py:445: UserWarning: X does not have valid feature names, but DecisionTreeClassifier was fitted with feature names\n",
            "  warnings.warn(\n"
          ]
        },
        {
          "name": "stdout",
          "output_type": "stream",
          "text": [
            "0.0001678466796875, 0.000701904296875, 0.00079345703125, -4.980111238448229e-05, 0.014919561058841908, -0.007522364815037815\n",
            "mid: 578\n",
            "0.0, 0.0, 0.0, -0.007379353064500561, -0.021342572975895015, 0.016069514017538124\n",
            "mid: 579\n"
          ]
        },
        {
          "name": "stderr",
          "output_type": "stream",
          "text": [
            "C:\\Users\\boomt\\AppData\\Local\\Programs\\Python\\Python38\\lib\\site-packages\\sklearn\\base.py:445: UserWarning: X does not have valid feature names, but DecisionTreeClassifier was fitted with feature names\n",
            "  warnings.warn(\n",
            "C:\\Users\\boomt\\AppData\\Local\\Programs\\Python\\Python38\\lib\\site-packages\\sklearn\\base.py:445: UserWarning: X does not have valid feature names, but DecisionTreeClassifier was fitted with feature names\n",
            "  warnings.warn(\n"
          ]
        },
        {
          "name": "stdout",
          "output_type": "stream",
          "text": [
            "0.000518798828125, -0.002166748046875, -0.0048980712890625, 0.004252801944747536, -0.0020522319360150604, -0.01603116449784098\n",
            "mid: 580\n",
            "-0.002532958984375, 0.00384521484375, 0.0083465576171875, 0.003219495441796791, -0.007455519471676828, 0.006388124506773069\n",
            "mid: 581\n"
          ]
        },
        {
          "name": "stderr",
          "output_type": "stream",
          "text": [
            "C:\\Users\\boomt\\AppData\\Local\\Programs\\Python\\Python38\\lib\\site-packages\\sklearn\\base.py:445: UserWarning: X does not have valid feature names, but DecisionTreeClassifier was fitted with feature names\n",
            "  warnings.warn(\n",
            "C:\\Users\\boomt\\AppData\\Local\\Programs\\Python\\Python38\\lib\\site-packages\\sklearn\\base.py:445: UserWarning: X does not have valid feature names, but DecisionTreeClassifier was fitted with feature names\n",
            "  warnings.warn(\n"
          ]
        },
        {
          "name": "stdout",
          "output_type": "stream",
          "text": [
            "-0.0005950927734375, -0.0044097900390625, -0.0035858154296875, -0.005359878009893475, 0.014836470432831438, 0.00644431720577374\n",
            "mid: 582\n",
            "0.0, 0.0, 0.0, 0.0010538128433443547, 0.004247209306458367, 0.0010732539193019346\n",
            "mid: 583\n"
          ]
        },
        {
          "name": "stderr",
          "output_type": "stream",
          "text": [
            "C:\\Users\\boomt\\AppData\\Local\\Programs\\Python\\Python38\\lib\\site-packages\\sklearn\\base.py:445: UserWarning: X does not have valid feature names, but DecisionTreeClassifier was fitted with feature names\n",
            "  warnings.warn(\n",
            "C:\\Users\\boomt\\AppData\\Local\\Programs\\Python\\Python38\\lib\\site-packages\\sklearn\\base.py:445: UserWarning: X does not have valid feature names, but DecisionTreeClassifier was fitted with feature names\n",
            "  warnings.warn(\n"
          ]
        },
        {
          "name": "stdout",
          "output_type": "stream",
          "text": [
            "0.000518798828125, 0.00238037109375, 0.002197265625, -0.0010905644663874482, 0.0053691990737087525, -0.014939534767017504\n",
            "mid: 584\n",
            "0.0, 0.0, 0.0, 4.4474790204323926e-05, -0.01384444292677692, 0.008519186011054475\n",
            "mid: 585\n"
          ]
        },
        {
          "name": "stderr",
          "output_type": "stream",
          "text": [
            "C:\\Users\\boomt\\AppData\\Local\\Programs\\Python\\Python38\\lib\\site-packages\\sklearn\\base.py:445: UserWarning: X does not have valid feature names, but DecisionTreeClassifier was fitted with feature names\n",
            "  warnings.warn(\n"
          ]
        },
        {
          "name": "stdout",
          "output_type": "stream",
          "text": [
            "-0.0001220703125, -0.0019073486328125, -0.0082244873046875, -0.0021457088902768428, -0.0009643306307176927, 0.006381732920156881\n",
            "mid: 586\n"
          ]
        },
        {
          "name": "stderr",
          "output_type": "stream",
          "text": [
            "C:\\Users\\boomt\\AppData\\Local\\Programs\\Python\\Python38\\lib\\site-packages\\sklearn\\base.py:445: UserWarning: X does not have valid feature names, but DecisionTreeClassifier was fitted with feature names\n",
            "  warnings.warn(\n"
          ]
        },
        {
          "name": "stdout",
          "output_type": "stream",
          "text": [
            "0.0054931640625, -3.0517578125e-05, -0.0012969970703125, 0.0033270871498359924, 0.01696540140824078, -0.0032527849554227824\n",
            "mid: 587\n"
          ]
        },
        {
          "name": "stderr",
          "output_type": "stream",
          "text": [
            "C:\\Users\\boomt\\AppData\\Local\\Programs\\Python\\Python38\\lib\\site-packages\\sklearn\\base.py:445: UserWarning: X does not have valid feature names, but DecisionTreeClassifier was fitted with feature names\n",
            "  warnings.warn(\n",
            "C:\\Users\\boomt\\AppData\\Local\\Programs\\Python\\Python38\\lib\\site-packages\\sklearn\\base.py:445: UserWarning: X does not have valid feature names, but DecisionTreeClassifier was fitted with feature names\n",
            "  warnings.warn(\n"
          ]
        },
        {
          "name": "stdout",
          "output_type": "stream",
          "text": [
            "-0.005615234375, -0.0058441162109375, -0.00555419921875, -0.0012080098704599423, -0.020045879841135435, 0.028892900982378664\n",
            "mid: 588\n",
            "0.0, 0.0, 0.0, 0.02121660545633427, 0.029766684136033665, -0.005349225365533158\n",
            "mid: 589\n"
          ]
        },
        {
          "name": "stderr",
          "output_type": "stream",
          "text": [
            "C:\\Users\\boomt\\AppData\\Local\\Programs\\Python\\Python38\\lib\\site-packages\\sklearn\\base.py:445: UserWarning: X does not have valid feature names, but DecisionTreeClassifier was fitted with feature names\n",
            "  warnings.warn(\n",
            "C:\\Users\\boomt\\AppData\\Local\\Programs\\Python\\Python38\\lib\\site-packages\\sklearn\\base.py:445: UserWarning: X does not have valid feature names, but DecisionTreeClassifier was fitted with feature names\n",
            "  warnings.warn(\n"
          ]
        },
        {
          "name": "stdout",
          "output_type": "stream",
          "text": [
            "0.010040283203125, 0.00787353515625, 0.001007080078125, -0.013839116604596764, 0.012520052916680513, -0.022348715235726953\n",
            "mid: 590\n",
            "0.003814697265625, 0.008544921875, 0.00537109375, -0.009471798732975819, -0.045618617892512314, -0.00754233852321341\n",
            "mid: 591\n"
          ]
        },
        {
          "name": "stderr",
          "output_type": "stream",
          "text": [
            "C:\\Users\\boomt\\AppData\\Local\\Programs\\Python\\Python38\\lib\\site-packages\\sklearn\\base.py:445: UserWarning: X does not have valid feature names, but DecisionTreeClassifier was fitted with feature names\n",
            "  warnings.warn(\n",
            "C:\\Users\\boomt\\AppData\\Local\\Programs\\Python\\Python38\\lib\\site-packages\\sklearn\\base.py:445: UserWarning: X does not have valid feature names, but DecisionTreeClassifier was fitted with feature names\n",
            "  warnings.warn(\n"
          ]
        },
        {
          "name": "stdout",
          "output_type": "stream",
          "text": [
            "-0.0226287841796875, -0.0102386474609375, 0.0238189697265625, 0.009535448283028714, 0.00969097689068934, 0.027768514370147206\n",
            "mid: 592\n",
            "0.0, 0.0, 0.0, 0.008582302928889354, -0.009855027613838222, -0.011694739294864958\n",
            "mid: 593\n"
          ]
        },
        {
          "name": "stderr",
          "output_type": "stream",
          "text": [
            "C:\\Users\\boomt\\AppData\\Local\\Programs\\Python\\Python38\\lib\\site-packages\\sklearn\\base.py:445: UserWarning: X does not have valid feature names, but DecisionTreeClassifier was fitted with feature names\n",
            "  warnings.warn(\n",
            "C:\\Users\\boomt\\AppData\\Local\\Programs\\Python\\Python38\\lib\\site-packages\\sklearn\\base.py:445: UserWarning: X does not have valid feature names, but DecisionTreeClassifier was fitted with feature names\n",
            "  warnings.warn(\n"
          ]
        },
        {
          "name": "stdout",
          "output_type": "stream",
          "text": [
            "0.009552001953125, 0.00421142578125, -0.013671875, -0.02127412973587998, 0.007478955289269526, -2.956108809987895e-05\n",
            "mid: 594\n",
            "0.0, 0.0, 0.0, 0.006351372883729975, -0.011724034066855831, 0.0063998424155694185\n",
            "mid: 595\n"
          ]
        },
        {
          "name": "stderr",
          "output_type": "stream",
          "text": [
            "C:\\Users\\boomt\\AppData\\Local\\Programs\\Python\\Python38\\lib\\site-packages\\sklearn\\base.py:445: UserWarning: X does not have valid feature names, but DecisionTreeClassifier was fitted with feature names\n",
            "  warnings.warn(\n",
            "C:\\Users\\boomt\\AppData\\Local\\Programs\\Python\\Python38\\lib\\site-packages\\sklearn\\base.py:445: UserWarning: X does not have valid feature names, but DecisionTreeClassifier was fitted with feature names\n",
            "  warnings.warn(\n"
          ]
        },
        {
          "name": "stdout",
          "output_type": "stream",
          "text": [
            "0.01263427734375, 0.0133514404296875, -0.0211334228515625, -0.0010620686427236002, -0.0008386294272659521, -0.0074794879214875425\n",
            "mid: 596\n",
            "-0.0235137939453125, -0.0123138427734375, 0.01385498046875, -0.003285541836830756, 0.03083541068148246, 0.008482967020229399\n",
            "mid: 597\n"
          ]
        },
        {
          "name": "stderr",
          "output_type": "stream",
          "text": [
            "C:\\Users\\boomt\\AppData\\Local\\Programs\\Python\\Python38\\lib\\site-packages\\sklearn\\base.py:445: UserWarning: X does not have valid feature names, but DecisionTreeClassifier was fitted with feature names\n",
            "  warnings.warn(\n",
            "C:\\Users\\boomt\\AppData\\Local\\Programs\\Python\\Python38\\lib\\site-packages\\sklearn\\base.py:445: UserWarning: X does not have valid feature names, but DecisionTreeClassifier was fitted with feature names\n",
            "  warnings.warn(\n"
          ]
        },
        {
          "name": "stdout",
          "output_type": "stream",
          "text": [
            "0.0143280029296875, -0.010772705078125, -0.00177001953125, 0.008545018673628245, -0.00012783173232380415, -0.023411849142886583\n",
            "mid: 598\n",
            "0.0, 0.0, 0.0, 0.017018131997824346, 0.009548231456261089, 0.011729893021254004\n",
            "mid: 599\n"
          ]
        },
        {
          "name": "stderr",
          "output_type": "stream",
          "text": [
            "C:\\Users\\boomt\\AppData\\Local\\Programs\\Python\\Python38\\lib\\site-packages\\sklearn\\base.py:445: UserWarning: X does not have valid feature names, but DecisionTreeClassifier was fitted with feature names\n",
            "  warnings.warn(\n",
            "C:\\Users\\boomt\\AppData\\Local\\Programs\\Python\\Python38\\lib\\site-packages\\sklearn\\base.py:445: UserWarning: X does not have valid feature names, but DecisionTreeClassifier was fitted with feature names\n",
            "  warnings.warn(\n"
          ]
        },
        {
          "name": "stdout",
          "output_type": "stream",
          "text": [
            "-0.0067596435546875, 0.00537109375, 0.0077362060546875, 0.0034442662377994794, 0.027388481282592907, 0.02899969374209084\n",
            "mid: 600\n",
            "0.0001068115234375, -0.005279541015625, 0.0013885498046875, -0.02320305731342437, 0.0744955399083505, -0.021274928684207002\n",
            "mid: 601\n",
            "mid: 602\n"
          ]
        },
        {
          "name": "stderr",
          "output_type": "stream",
          "text": [
            "C:\\Users\\boomt\\AppData\\Local\\Programs\\Python\\Python38\\lib\\site-packages\\sklearn\\base.py:445: UserWarning: X does not have valid feature names, but DecisionTreeClassifier was fitted with feature names\n",
            "  warnings.warn(\n",
            "C:\\Users\\boomt\\AppData\\Local\\Programs\\Python\\Python38\\lib\\site-packages\\sklearn\\base.py:445: UserWarning: X does not have valid feature names, but DecisionTreeClassifier was fitted with feature names\n",
            "  warnings.warn(\n"
          ]
        },
        {
          "name": "stdout",
          "output_type": "stream",
          "text": [
            "-0.03570556640625, -0.0466156005859375, 0.181671142578125, 0.11193958483486459, 0.05666594272637901, -0.024934910970302898\n",
            "mid: 603\n",
            "0.0, 0.0, 0.0, 0.666341546865456, 2.1586638373995326, 0.6039045340568753\n",
            "mid: 604\n"
          ]
        },
        {
          "name": "stderr",
          "output_type": "stream",
          "text": [
            "C:\\Users\\boomt\\AppData\\Local\\Programs\\Python\\Python38\\lib\\site-packages\\sklearn\\base.py:445: UserWarning: X does not have valid feature names, but DecisionTreeClassifier was fitted with feature names\n",
            "  warnings.warn(\n",
            "C:\\Users\\boomt\\AppData\\Local\\Programs\\Python\\Python38\\lib\\site-packages\\sklearn\\base.py:445: UserWarning: X does not have valid feature names, but DecisionTreeClassifier was fitted with feature names\n",
            "  warnings.warn(\n"
          ]
        },
        {
          "name": "stdout",
          "output_type": "stream",
          "text": [
            "-0.6051025390625, 0.0170745849609375, 0.5753021240234375, -0.7239443896633249, -2.049348531502832, -0.3417376300272949\n",
            "mid: 605\n",
            "0.0, 0.0, 0.0, 0.015033278037388298, 0.3703351864447837, 0.11381897761613352\n",
            "mid: 606\n"
          ]
        },
        {
          "name": "stderr",
          "output_type": "stream",
          "text": [
            "C:\\Users\\boomt\\AppData\\Local\\Programs\\Python\\Python38\\lib\\site-packages\\sklearn\\base.py:445: UserWarning: X does not have valid feature names, but DecisionTreeClassifier was fitted with feature names\n",
            "  warnings.warn(\n",
            "C:\\Users\\boomt\\AppData\\Local\\Programs\\Python\\Python38\\lib\\site-packages\\sklearn\\base.py:445: UserWarning: X does not have valid feature names, but DecisionTreeClassifier was fitted with feature names\n",
            "  warnings.warn(\n"
          ]
        },
        {
          "name": "stdout",
          "output_type": "stream",
          "text": [
            "-0.3268280029296875, -0.021728515625, 0.1275634765625, 0.07893236628442252, -0.5474311378773089, -0.3416204509393314\n",
            "mid: 607\n",
            "0.03594970703125, 0.0206298828125, 0.04510498046875, 0.1867206156120716, -0.09487804331127195, 0.10501829547785765\n",
            "mid: 608\n"
          ]
        },
        {
          "name": "stderr",
          "output_type": "stream",
          "text": [
            "C:\\Users\\boomt\\AppData\\Local\\Programs\\Python\\Python38\\lib\\site-packages\\sklearn\\base.py:445: UserWarning: X does not have valid feature names, but DecisionTreeClassifier was fitted with feature names\n",
            "  warnings.warn(\n",
            "C:\\Users\\boomt\\AppData\\Local\\Programs\\Python\\Python38\\lib\\site-packages\\sklearn\\base.py:445: UserWarning: X does not have valid feature names, but DecisionTreeClassifier was fitted with feature names\n",
            "  warnings.warn(\n"
          ]
        },
        {
          "name": "stdout",
          "output_type": "stream",
          "text": [
            "-0.030364990234375, 0.0201568603515625, 0.0027313232421875, 0.0741730311003419, 0.22840121720068374, -0.11234651584942869\n",
            "mid: 609\n",
            "0.0, 0.0, 0.0, -0.20469029506738126, -0.06520776560669916, 0.060718208641043575\n",
            "mid: 610\n"
          ]
        },
        {
          "name": "stderr",
          "output_type": "stream",
          "text": [
            "C:\\Users\\boomt\\AppData\\Local\\Programs\\Python\\Python38\\lib\\site-packages\\sklearn\\base.py:445: UserWarning: X does not have valid feature names, but DecisionTreeClassifier was fitted with feature names\n",
            "  warnings.warn(\n",
            "C:\\Users\\boomt\\AppData\\Local\\Programs\\Python\\Python38\\lib\\site-packages\\sklearn\\base.py:445: UserWarning: X does not have valid feature names, but DecisionTreeClassifier was fitted with feature names\n",
            "  warnings.warn(\n"
          ]
        },
        {
          "name": "stdout",
          "output_type": "stream",
          "text": [
            "0.0616912841796875, -0.0245513916015625, -0.052703857421875, -0.14506771089879628, -0.1399605668763513, -0.05905213506309\n",
            "mid: 611\n",
            "-0.03936767578125, -0.02789306640625, -0.0105133056640625, -0.04701651114869491, -0.055232895743807374, -0.02116786960838582\n",
            "mid: 612\n"
          ]
        },
        {
          "name": "stderr",
          "output_type": "stream",
          "text": [
            "C:\\Users\\boomt\\AppData\\Local\\Programs\\Python\\Python38\\lib\\site-packages\\sklearn\\base.py:445: UserWarning: X does not have valid feature names, but DecisionTreeClassifier was fitted with feature names\n",
            "  warnings.warn(\n",
            "C:\\Users\\boomt\\AppData\\Local\\Programs\\Python\\Python38\\lib\\site-packages\\sklearn\\base.py:445: UserWarning: X does not have valid feature names, but DecisionTreeClassifier was fitted with feature names\n",
            "  warnings.warn(\n"
          ]
        },
        {
          "name": "stdout",
          "output_type": "stream",
          "text": [
            "0.0194854736328125, 0.020599365234375, 0.00042724609375, -0.006391320300081164, 0.0020905814557122017, -0.005252818934072289\n",
            "mid: 613\n",
            "0.0, 0.0, 0.0, 0.005360943274329507, 0.010655307521407031, 0.004164651312665912\n",
            "mid: 614\n"
          ]
        },
        {
          "name": "stderr",
          "output_type": "stream",
          "text": [
            "C:\\Users\\boomt\\AppData\\Local\\Programs\\Python\\Python38\\lib\\site-packages\\sklearn\\base.py:445: UserWarning: X does not have valid feature names, but DecisionTreeClassifier was fitted with feature names\n",
            "  warnings.warn(\n",
            "C:\\Users\\boomt\\AppData\\Local\\Programs\\Python\\Python38\\lib\\site-packages\\sklearn\\base.py:445: UserWarning: X does not have valid feature names, but DecisionTreeClassifier was fitted with feature names\n",
            "  warnings.warn(\n"
          ]
        },
        {
          "name": "stdout",
          "output_type": "stream",
          "text": [
            "-0.005401611328125, -0.00390625, 0.0009918212890625, -0.009570335693308752, 0.005318066380779231, -0.0031939290953320303\n",
            "mid: 615\n",
            "0.0, 0.0, 0.0, -0.001101217110747765, -0.010659568579151159, 0.0011638013963646268\n",
            "mid: 616\n"
          ]
        },
        {
          "name": "stderr",
          "output_type": "stream",
          "text": [
            "C:\\Users\\boomt\\AppData\\Local\\Programs\\Python\\Python38\\lib\\site-packages\\sklearn\\base.py:445: UserWarning: X does not have valid feature names, but DecisionTreeClassifier was fitted with feature names\n",
            "  warnings.warn(\n",
            "C:\\Users\\boomt\\AppData\\Local\\Programs\\Python\\Python38\\lib\\site-packages\\sklearn\\base.py:445: UserWarning: X does not have valid feature names, but DecisionTreeClassifier was fitted with feature names\n",
            "  warnings.warn(\n"
          ]
        },
        {
          "name": "stdout",
          "output_type": "stream",
          "text": [
            "-0.034393310546875, -0.0004730224609375, 0.009765625, 0.1583920384646807, 2.2388843747032263, 0.057630805989314714\n",
            "mid: 617\n",
            "0.393798828125, 0.0034027099609375, -0.1775054931640625, -0.04797924388275854, 1.205243378719568, 0.3989415312938699\n",
            "mid: 618\n"
          ]
        },
        {
          "name": "stderr",
          "output_type": "stream",
          "text": [
            "C:\\Users\\boomt\\AppData\\Local\\Programs\\Python\\Python38\\lib\\site-packages\\sklearn\\base.py:445: UserWarning: X does not have valid feature names, but DecisionTreeClassifier was fitted with feature names\n",
            "  warnings.warn(\n",
            "C:\\Users\\boomt\\AppData\\Local\\Programs\\Python\\Python38\\lib\\site-packages\\sklearn\\base.py:445: UserWarning: X does not have valid feature names, but DecisionTreeClassifier was fitted with feature names\n",
            "  warnings.warn(\n"
          ]
        },
        {
          "name": "stdout",
          "output_type": "stream",
          "text": [
            "-0.3822174072265625, 1.52587890625e-05, 0.571746826171875, 0.07149282577928617, -2.67663109255675, 1.1950970012824753\n",
            "mid: 619\n",
            "0.0, 0.0, 0.0, -0.12387347599561868, -0.5963094649440783, -1.6515204678607245\n",
            "mid: 620\n"
          ]
        },
        {
          "name": "stderr",
          "output_type": "stream",
          "text": [
            "C:\\Users\\boomt\\AppData\\Local\\Programs\\Python\\Python38\\lib\\site-packages\\sklearn\\base.py:445: UserWarning: X does not have valid feature names, but DecisionTreeClassifier was fitted with feature names\n",
            "  warnings.warn(\n",
            "C:\\Users\\boomt\\AppData\\Local\\Programs\\Python\\Python38\\lib\\site-packages\\sklearn\\base.py:445: UserWarning: X does not have valid feature names, but DecisionTreeClassifier was fitted with feature names\n",
            "  warnings.warn(\n"
          ]
        },
        {
          "name": "stdout",
          "output_type": "stream",
          "text": [
            "-0.0001678466796875, 0.0413360595703125, -0.415283203125, -0.06127960299883227, -0.1711765432776061, 0.004095142808214844\n",
            "mid: 621\n",
            "-0.0006103515625, 0.000885009765625, -0.0026702880859375, 0.0010580739010884813, 0.0021310615042814066, -0.0010663297004677268\n",
            "mid: 622\n"
          ]
        },
        {
          "name": "stderr",
          "output_type": "stream",
          "text": [
            "C:\\Users\\boomt\\AppData\\Local\\Programs\\Python\\Python38\\lib\\site-packages\\sklearn\\base.py:445: UserWarning: X does not have valid feature names, but DecisionTreeClassifier was fitted with feature names\n",
            "  warnings.warn(\n",
            "C:\\Users\\boomt\\AppData\\Local\\Programs\\Python\\Python38\\lib\\site-packages\\sklearn\\base.py:445: UserWarning: X does not have valid feature names, but DecisionTreeClassifier was fitted with feature names\n",
            "  warnings.warn(\n"
          ]
        },
        {
          "name": "stdout",
          "output_type": "stream",
          "text": [
            "0.0008087158203125, 0.00048828125, 0.0030364990234375, -0.001060204429960545, -0.0010729876031929254, 0.0021361215103525566\n",
            "mid: 623\n",
            "-0.0008087158203125, -0.0019989013671875, 0.0004119873046875, -0.0010655307521407033, 2.1305288720636917e-06, -0.0010657970682497117\n",
            "mid: 624\n"
          ]
        },
        {
          "name": "stderr",
          "output_type": "stream",
          "text": [
            "C:\\Users\\boomt\\AppData\\Local\\Programs\\Python\\Python38\\lib\\site-packages\\sklearn\\base.py:445: UserWarning: X does not have valid feature names, but DecisionTreeClassifier was fitted with feature names\n",
            "  warnings.warn(\n",
            "C:\\Users\\boomt\\AppData\\Local\\Programs\\Python\\Python38\\lib\\site-packages\\sklearn\\base.py:445: UserWarning: X does not have valid feature names, but DecisionTreeClassifier was fitted with feature names\n",
            "  warnings.warn(\n"
          ]
        },
        {
          "name": "stdout",
          "output_type": "stream",
          "text": [
            "0.0008697509765625, 0.000762939453125, -0.001007080078125, 0.0010618023266145927, 0.0010644654877046706, -2.663161090075278e-07\n",
            "mid: 625\n",
            "0.0, 0.0, 0.0, 3.728425526110593e-06, -0.0010665960165767343, 0.0010660633843587192\n",
            "mid: 626\n"
          ]
        },
        {
          "name": "stderr",
          "output_type": "stream",
          "text": [
            "C:\\Users\\boomt\\AppData\\Local\\Programs\\Python\\Python38\\lib\\site-packages\\sklearn\\base.py:445: UserWarning: X does not have valid feature names, but DecisionTreeClassifier was fitted with feature names\n",
            "  warnings.warn(\n",
            "C:\\Users\\boomt\\AppData\\Local\\Programs\\Python\\Python38\\lib\\site-packages\\sklearn\\base.py:445: UserWarning: X does not have valid feature names, but DecisionTreeClassifier was fitted with feature names\n",
            "  warnings.warn(\n"
          ]
        },
        {
          "name": "stdout",
          "output_type": "stream",
          "text": [
            "-0.0029144287109375, -0.0001220703125, 0.001678466796875, 0.0010580739010884813, 0.0021310615042814066, -0.0010663297004677268\n",
            "mid: 627\n",
            "0.0056304931640625, -0.0441436767578125, 0.0076446533203125, 0.6964267450678631, 0.7376341029307681, -0.009532252489720618\n",
            "mid: 628\n"
          ]
        },
        {
          "name": "stderr",
          "output_type": "stream",
          "text": [
            "C:\\Users\\boomt\\AppData\\Local\\Programs\\Python\\Python38\\lib\\site-packages\\sklearn\\base.py:445: UserWarning: X does not have valid feature names, but DecisionTreeClassifier was fitted with feature names\n",
            "  warnings.warn(\n",
            "C:\\Users\\boomt\\AppData\\Local\\Programs\\Python\\Python38\\lib\\site-packages\\sklearn\\base.py:445: UserWarning: X does not have valid feature names, but DecisionTreeClassifier was fitted with feature names\n",
            "  warnings.warn(\n"
          ]
        },
        {
          "name": "stdout",
          "output_type": "stream",
          "text": [
            "0.3819427490234375, -0.0016021728515625, -0.32354736328125, -0.13936242089551953, 2.3097753260761547, 0.13869503272634567\n",
            "mid: 629\n",
            "0.0, 0.0, 0.0, 0.8061417914441845, -0.027394073920882, 0.07949935328050037\n",
            "mid: 630\n"
          ]
        },
        {
          "name": "stderr",
          "output_type": "stream",
          "text": [
            "C:\\Users\\boomt\\AppData\\Local\\Programs\\Python\\Python38\\lib\\site-packages\\sklearn\\base.py:445: UserWarning: X does not have valid feature names, but DecisionTreeClassifier was fitted with feature names\n",
            "  warnings.warn(\n",
            "C:\\Users\\boomt\\AppData\\Local\\Programs\\Python\\Python38\\lib\\site-packages\\sklearn\\base.py:445: UserWarning: X does not have valid feature names, but DecisionTreeClassifier was fitted with feature names\n",
            "  warnings.warn(\n"
          ]
        },
        {
          "name": "stdout",
          "output_type": "stream",
          "text": [
            "-0.11376953125, 0.0745391845703125, 0.2576751708984375, -0.9995546645595161, -1.634736960354936, -0.02114683063577419\n",
            "mid: 631\n",
            "0.31524658203125, -0.067138671875, -0.2242889404296875, -0.32088933974971856, 2.372254949462177, 2.1782410008888142\n",
            "mid: 632\n"
          ]
        },
        {
          "name": "stderr",
          "output_type": "stream",
          "text": [
            "C:\\Users\\boomt\\AppData\\Local\\Programs\\Python\\Python38\\lib\\site-packages\\sklearn\\base.py:445: UserWarning: X does not have valid feature names, but DecisionTreeClassifier was fitted with feature names\n",
            "  warnings.warn(\n",
            "C:\\Users\\boomt\\AppData\\Local\\Programs\\Python\\Python38\\lib\\site-packages\\sklearn\\base.py:445: UserWarning: X does not have valid feature names, but DecisionTreeClassifier was fitted with feature names\n",
            "  warnings.warn(\n"
          ]
        },
        {
          "name": "stdout",
          "output_type": "stream",
          "text": [
            "0.3326568603515625, -0.0308990478515625, -0.3188018798828125, 0.06663974732483476, -3.7318234533457657, -2.1199830204627856\n",
            "mid: 633\n",
            "-0.0009002685546875, 0.0245513916015625, -0.1773223876953125, 0.07686468801408498, 0.4527384505779065, 0.015266837264988231\n",
            "mid: 634\n"
          ]
        },
        {
          "name": "stderr",
          "output_type": "stream",
          "text": [
            "C:\\Users\\boomt\\AppData\\Local\\Programs\\Python\\Python38\\lib\\site-packages\\sklearn\\base.py:445: UserWarning: X does not have valid feature names, but DecisionTreeClassifier was fitted with feature names\n",
            "  warnings.warn(\n",
            "C:\\Users\\boomt\\AppData\\Local\\Programs\\Python\\Python38\\lib\\site-packages\\sklearn\\base.py:445: UserWarning: X does not have valid feature names, but DecisionTreeClassifier was fitted with feature names\n",
            "  warnings.warn(\n"
          ]
        },
        {
          "name": "stdout",
          "output_type": "stream",
          "text": [
            "-0.019622802734375, 1.1321868896484375, 0.2896575927734375, 1.478046415510707, 13.220716484726585, 4.710832362727539\n",
            "mid: 635\n",
            "mid: 636\n",
            "0.0, 0.0, 0.0, -0.3131501936219483, -7.167114039323351, -2.1105929807752752\n",
            "mid: 637\n"
          ]
        },
        {
          "name": "stderr",
          "output_type": "stream",
          "text": [
            "C:\\Users\\boomt\\AppData\\Local\\Programs\\Python\\Python38\\lib\\site-packages\\sklearn\\base.py:445: UserWarning: X does not have valid feature names, but DecisionTreeClassifier was fitted with feature names\n",
            "  warnings.warn(\n",
            "C:\\Users\\boomt\\AppData\\Local\\Programs\\Python\\Python38\\lib\\site-packages\\sklearn\\base.py:445: UserWarning: X does not have valid feature names, but DecisionTreeClassifier was fitted with feature names\n",
            "  warnings.warn(\n"
          ]
        },
        {
          "name": "stdout",
          "output_type": "stream",
          "text": [
            "-0.9136505126953125, -1.1728668212890625, 0.5478363037109375, -1.2476459632797008, -6.471712877591277, -2.8652127251385693\n",
            "mid: 638\n",
            "0.055206298828125, 0.11004638671875, -0.117584228515625, 0.25856045128139504, 1.1586295375276932, 0.23535526343909863\n",
            "mid: 639\n"
          ]
        },
        {
          "name": "stderr",
          "output_type": "stream",
          "text": [
            "C:\\Users\\boomt\\AppData\\Local\\Programs\\Python\\Python38\\lib\\site-packages\\sklearn\\base.py:445: UserWarning: X does not have valid feature names, but DecisionTreeClassifier was fitted with feature names\n",
            "  warnings.warn(\n",
            "C:\\Users\\boomt\\AppData\\Local\\Programs\\Python\\Python38\\lib\\site-packages\\sklearn\\base.py:445: UserWarning: X does not have valid feature names, but DecisionTreeClassifier was fitted with feature names\n",
            "  warnings.warn(\n"
          ]
        },
        {
          "name": "stdout",
          "output_type": "stream",
          "text": [
            "1.1663360595703125, -0.1106719970703125, -0.381439208984375, 0.6075163131272407, -0.2621304187226462, -0.1112106776445099\n",
            "mid: 640\n",
            "0.0, 0.0, 0.0, 0.26787778667114626, 1.0751050825756474, 1.467463279654841\n",
            "mid: 641\n"
          ]
        },
        {
          "name": "stderr",
          "output_type": "stream",
          "text": [
            "C:\\Users\\boomt\\AppData\\Local\\Programs\\Python\\Python38\\lib\\site-packages\\sklearn\\base.py:445: UserWarning: X does not have valid feature names, but DecisionTreeClassifier was fitted with feature names\n",
            "  warnings.warn(\n",
            "C:\\Users\\boomt\\AppData\\Local\\Programs\\Python\\Python38\\lib\\site-packages\\sklearn\\base.py:445: UserWarning: X does not have valid feature names, but DecisionTreeClassifier was fitted with feature names\n",
            "  warnings.warn(\n"
          ]
        },
        {
          "name": "stdout",
          "output_type": "stream",
          "text": [
            "-0.6595001220703125, 0.0083465576171875, 0.2431182861328125, -0.49684279507459983, -1.7194140314267687, -1.0012473697483704\n",
            "mid: 642\n",
            "-0.21307373046875, 0.12762451171875, 0.048675537109375, -0.5436233501507136, 0.4895254936634981, -0.4201416251514457\n",
            "mid: 643\n"
          ]
        },
        {
          "name": "stderr",
          "output_type": "stream",
          "text": [
            "C:\\Users\\boomt\\AppData\\Local\\Programs\\Python\\Python38\\lib\\site-packages\\sklearn\\base.py:445: UserWarning: X does not have valid feature names, but DecisionTreeClassifier was fitted with feature names\n",
            "  warnings.warn(\n",
            "C:\\Users\\boomt\\AppData\\Local\\Programs\\Python\\Python38\\lib\\site-packages\\sklearn\\base.py:445: UserWarning: X does not have valid feature names, but DecisionTreeClassifier was fitted with feature names\n",
            "  warnings.warn(\n"
          ]
        },
        {
          "name": "stdout",
          "output_type": "stream",
          "text": [
            "0.0339508056640625, -0.020904541015625, 0.1170501708984375, 0.7747228821678657, 0.6173239364736754, 0.29880188061692836\n",
            "mid: 644\n",
            "-0.0106964111328125, -0.0505523681640625, -0.00994873046875, -0.9493492843215604, -1.1544398525007806, -0.09720964084563632\n",
            "mid: 645\n"
          ]
        },
        {
          "name": "stderr",
          "output_type": "stream",
          "text": [
            "C:\\Users\\boomt\\AppData\\Local\\Programs\\Python\\Python38\\lib\\site-packages\\sklearn\\base.py:445: UserWarning: X does not have valid feature names, but DecisionTreeClassifier was fitted with feature names\n",
            "  warnings.warn(\n",
            "C:\\Users\\boomt\\AppData\\Local\\Programs\\Python\\Python38\\lib\\site-packages\\sklearn\\base.py:445: UserWarning: X does not have valid feature names, but DecisionTreeClassifier was fitted with feature names\n",
            "  warnings.warn(\n"
          ]
        },
        {
          "name": "stdout",
          "output_type": "stream",
          "text": [
            "0.1255950927734375, -0.0067901611328125, -0.1305694580078125, 0.5790436589648765, 3.4684338920597297, 0.3946144271547091\n",
            "mid: 646\n",
            "mid: 647\n",
            "0.0, 0.0, 0.0, -0.28188894348216215, -2.969842465413384, -0.6908327751981517\n",
            "mid: 648\n"
          ]
        },
        {
          "name": "stderr",
          "output_type": "stream",
          "text": [
            "C:\\Users\\boomt\\AppData\\Local\\Programs\\Python\\Python38\\lib\\site-packages\\sklearn\\base.py:445: UserWarning: X does not have valid feature names, but DecisionTreeClassifier was fitted with feature names\n",
            "  warnings.warn(\n",
            "C:\\Users\\boomt\\AppData\\Local\\Programs\\Python\\Python38\\lib\\site-packages\\sklearn\\base.py:445: UserWarning: X does not have valid feature names, but DecisionTreeClassifier was fitted with feature names\n",
            "  warnings.warn(\n"
          ]
        },
        {
          "name": "stdout",
          "output_type": "stream",
          "text": [
            "-0.3275299072265625, 0.0771942138671875, 0.21502685546875, 1.1274710854059842, 0.0919688061364694, 0.9811487593176516\n",
            "mid: 649\n",
            "-0.0989532470703125, -0.086669921875, -0.8434906005859375, 2.0248991147992506, 6.958813829398367, -0.316636271488862\n",
            "mid: 650\n",
            "mid: 651\n"
          ]
        },
        {
          "name": "stderr",
          "output_type": "stream",
          "text": [
            "C:\\Users\\boomt\\AppData\\Local\\Programs\\Python\\Python38\\lib\\site-packages\\sklearn\\base.py:445: UserWarning: X does not have valid feature names, but DecisionTreeClassifier was fitted with feature names\n",
            "  warnings.warn(\n",
            "C:\\Users\\boomt\\AppData\\Local\\Programs\\Python\\Python38\\lib\\site-packages\\sklearn\\base.py:445: UserWarning: X does not have valid feature names, but DecisionTreeClassifier was fitted with feature names\n",
            "  warnings.warn(\n"
          ]
        },
        {
          "name": "stdout",
          "output_type": "stream",
          "text": [
            "0.0984954833984375, -0.0317230224609375, 0.77630615234375, -3.4442470630396302, -7.4180117772002605, -0.7333983452169971\n",
            "mid: 652\n",
            "0.0, 0.0, 0.0, -0.026463831752117393, -0.3792578413609852, -0.003925765762885806\n",
            "mid: 653\n"
          ]
        },
        {
          "name": "stderr",
          "output_type": "stream",
          "text": [
            "C:\\Users\\boomt\\AppData\\Local\\Programs\\Python\\Python38\\lib\\site-packages\\sklearn\\base.py:445: UserWarning: X does not have valid feature names, but DecisionTreeClassifier was fitted with feature names\n",
            "  warnings.warn(\n",
            "C:\\Users\\boomt\\AppData\\Local\\Programs\\Python\\Python38\\lib\\site-packages\\sklearn\\base.py:445: UserWarning: X does not have valid feature names, but DecisionTreeClassifier was fitted with feature names\n",
            "  warnings.warn(\n"
          ]
        },
        {
          "name": "stdout",
          "output_type": "stream",
          "text": [
            "-0.062774658203125, 0.0039825439453125, 0.02337646484375, -0.005462942344079541, -0.013850834513393112, -0.0020375845500196247\n",
            "mid: 654\n",
            "0.0, 0.0, 0.0, 0.22535376196530604, 0.17338430382128178, 0.1572364928676953\n",
            "mid: 655\n"
          ]
        },
        {
          "name": "stderr",
          "output_type": "stream",
          "text": [
            "C:\\Users\\boomt\\AppData\\Local\\Programs\\Python\\Python38\\lib\\site-packages\\sklearn\\base.py:445: UserWarning: X does not have valid feature names, but DecisionTreeClassifier was fitted with feature names\n",
            "  warnings.warn(\n",
            "C:\\Users\\boomt\\AppData\\Local\\Programs\\Python\\Python38\\lib\\site-packages\\sklearn\\base.py:445: UserWarning: X does not have valid feature names, but DecisionTreeClassifier was fitted with feature names\n",
            "  warnings.warn(\n"
          ]
        },
        {
          "name": "stdout",
          "output_type": "stream",
          "text": [
            "0.4422607421875, 0.2569732666015625, -0.287506103515625, -0.19663716224709063, 3.5994707387554437, 0.19606112050330649\n",
            "mid: 656\n",
            "mid: 657\n",
            "0.07061767578125, -0.15093994140625, -0.4189300537109375, 0.8898334929126877, -1.3560861544422012, -0.3108854414309449\n",
            "mid: 658\n"
          ]
        },
        {
          "name": "stderr",
          "output_type": "stream",
          "text": [
            "C:\\Users\\boomt\\AppData\\Local\\Programs\\Python\\Python38\\lib\\site-packages\\sklearn\\base.py:445: UserWarning: X does not have valid feature names, but DecisionTreeClassifier was fitted with feature names\n",
            "  warnings.warn(\n",
            "C:\\Users\\boomt\\AppData\\Local\\Programs\\Python\\Python38\\lib\\site-packages\\sklearn\\base.py:445: UserWarning: X does not have valid feature names, but DecisionTreeClassifier was fitted with feature names\n",
            "  warnings.warn(\n"
          ]
        },
        {
          "name": "stdout",
          "output_type": "stream",
          "text": [
            "-0.21466064453125, 0.10406494140625, 0.6284332275390625, -0.3674752177501477, -1.8714232717068562, 0.04624073232315482\n",
            "mid: 659\n",
            "0.0, 0.0, 0.0, -0.1514347964329577, 0.6153675783369034, 0.2576677596840005\n",
            "mid: 660\n"
          ]
        },
        {
          "name": "stderr",
          "output_type": "stream",
          "text": [
            "C:\\Users\\boomt\\AppData\\Local\\Programs\\Python\\Python38\\lib\\site-packages\\sklearn\\base.py:445: UserWarning: X does not have valid feature names, but DecisionTreeClassifier was fitted with feature names\n",
            "  warnings.warn(\n",
            "C:\\Users\\boomt\\AppData\\Local\\Programs\\Python\\Python38\\lib\\site-packages\\sklearn\\base.py:445: UserWarning: X does not have valid feature names, but DecisionTreeClassifier was fitted with feature names\n",
            "  warnings.warn(\n"
          ]
        },
        {
          "name": "stdout",
          "output_type": "stream",
          "text": [
            "-0.3662261962890625, -0.1367950439453125, 0.0826416015625, -0.1550612228893186, -1.0277338383697536, -0.27075479959675885\n",
            "mid: 661\n",
            "0.3290557861328125, 0.26727294921875, 0.280792236328125, 1.3839452162894113, 7.695823421053512, 2.5107278745536097\n",
            "mid: 662\n",
            "mid: 663\n"
          ]
        },
        {
          "name": "stderr",
          "output_type": "stream",
          "text": [
            "C:\\Users\\boomt\\AppData\\Local\\Programs\\Python\\Python38\\lib\\site-packages\\sklearn\\base.py:445: UserWarning: X does not have valid feature names, but DecisionTreeClassifier was fitted with feature names\n",
            "  warnings.warn(\n",
            "C:\\Users\\boomt\\AppData\\Local\\Programs\\Python\\Python38\\lib\\site-packages\\sklearn\\base.py:445: UserWarning: X does not have valid feature names, but DecisionTreeClassifier was fitted with feature names\n",
            "  warnings.warn(\n"
          ]
        },
        {
          "name": "stdout",
          "output_type": "stream",
          "text": [
            "0.5894317626953125, -0.36041259765625, -0.8730926513671875, -1.2685571041590031, -4.940631739500514, -1.8810130484761225\n",
            "mid: 664\n",
            "0.0, 0.0, 0.0, -0.1920176430202392, 3.5229927417316382, -0.6592269120133093\n",
            "mid: 665\n",
            "mid: 666\n"
          ]
        },
        {
          "name": "stderr",
          "output_type": "stream",
          "text": [
            "C:\\Users\\boomt\\AppData\\Local\\Programs\\Python\\Python38\\lib\\site-packages\\sklearn\\base.py:445: UserWarning: X does not have valid feature names, but DecisionTreeClassifier was fitted with feature names\n",
            "  warnings.warn(\n",
            "C:\\Users\\boomt\\AppData\\Local\\Programs\\Python\\Python38\\lib\\site-packages\\sklearn\\base.py:445: UserWarning: X does not have valid feature names, but DecisionTreeClassifier was fitted with feature names\n",
            "  warnings.warn(\n"
          ]
        },
        {
          "name": "stdout",
          "output_type": "stream",
          "text": [
            "-0.9244842529296875, 0.0333709716796875, 0.5918426513671875, -0.16367628269961593, -6.415417380572528, -0.04286597458980641\n",
            "mid: 667\n",
            "0.0, 0.0, 0.0, 2.9294771990871424e-06, -0.0010623349588326086, -1.8642127630544292e-06\n",
            "mid: 668\n"
          ]
        },
        {
          "name": "stderr",
          "output_type": "stream",
          "text": [
            "C:\\Users\\boomt\\AppData\\Local\\Programs\\Python\\Python38\\lib\\site-packages\\sklearn\\base.py:445: UserWarning: X does not have valid feature names, but DecisionTreeClassifier was fitted with feature names\n",
            "  warnings.warn(\n",
            "C:\\Users\\boomt\\AppData\\Local\\Programs\\Python\\Python38\\lib\\site-packages\\sklearn\\base.py:445: UserWarning: X does not have valid feature names, but DecisionTreeClassifier was fitted with feature names\n",
            "  warnings.warn(\n"
          ]
        },
        {
          "name": "stdout",
          "output_type": "stream",
          "text": [
            "-0.0011138916015625, -0.0012054443359375, 0.00054931640625, -0.001063133907159632, -1.0652644360316724e-05, 0.002137985723115611\n",
            "mid: 669\n",
            "0.0013580322265625, -0.0008087158203125, -0.000213623046875, -0.0010663297004677268, 6.391586616191075e-06, -0.0021337246653714854\n",
            "mid: 670\n"
          ]
        },
        {
          "name": "stderr",
          "output_type": "stream",
          "text": [
            "C:\\Users\\boomt\\AppData\\Local\\Programs\\Python\\Python38\\lib\\site-packages\\sklearn\\base.py:445: UserWarning: X does not have valid feature names, but DecisionTreeClassifier was fitted with feature names\n",
            "  warnings.warn(\n",
            "C:\\Users\\boomt\\AppData\\Local\\Programs\\Python\\Python38\\lib\\site-packages\\sklearn\\base.py:445: UserWarning: X does not have valid feature names, but DecisionTreeClassifier was fitted with feature names\n",
            "  warnings.warn(\n"
          ]
        },
        {
          "name": "stdout",
          "output_type": "stream",
          "text": [
            "0.2738189697265625, 0.076904296875, 0.1209259033203125, 0.9418583448073856, 4.249472727068828, 2.3133567451100934\n",
            "mid: 671\n",
            "mid: 672\n",
            "0.0, 0.0, 0.0, -0.15714754328728675, -1.1000237482633008, -2.08408573949739\n",
            "mid: 673\n"
          ]
        },
        {
          "name": "stderr",
          "output_type": "stream",
          "text": [
            "C:\\Users\\boomt\\AppData\\Local\\Programs\\Python\\Python38\\lib\\site-packages\\sklearn\\base.py:445: UserWarning: X does not have valid feature names, but DecisionTreeClassifier was fitted with feature names\n",
            "  warnings.warn(\n",
            "C:\\Users\\boomt\\AppData\\Local\\Programs\\Python\\Python38\\lib\\site-packages\\sklearn\\base.py:445: UserWarning: X does not have valid feature names, but DecisionTreeClassifier was fitted with feature names\n",
            "  warnings.warn(\n"
          ]
        },
        {
          "name": "stdout",
          "output_type": "stream",
          "text": [
            "0.490753173828125, 0.2741241455078125, -0.7169952392578125, -0.403012173020056, -2.0548359749289404, 0.7242871384956181\n",
            "mid: 674\n",
            "-0.0005340576171875, 0.3546295166015625, -0.0077972412109375, -0.28152568830947533, -0.3196451108884336, 0.4598275190835883\n",
            "mid: 675\n",
            "mid: 676\n"
          ]
        },
        {
          "name": "stderr",
          "output_type": "stream",
          "text": [
            "C:\\Users\\boomt\\AppData\\Local\\Programs\\Python\\Python38\\lib\\site-packages\\sklearn\\base.py:445: UserWarning: X does not have valid feature names, but DecisionTreeClassifier was fitted with feature names\n",
            "  warnings.warn(\n",
            "C:\\Users\\boomt\\AppData\\Local\\Programs\\Python\\Python38\\lib\\site-packages\\sklearn\\base.py:445: UserWarning: X does not have valid feature names, but DecisionTreeClassifier was fitted with feature names\n",
            "  warnings.warn(\n"
          ]
        },
        {
          "name": "stdout",
          "output_type": "stream",
          "text": [
            "-0.248565673828125, -0.0588226318359375, -0.03912353515625, 0.6800610875371081, -0.7670292760947357, -1.164101800935588\n",
            "mid: 677\n",
            "0.0, 0.0, 0.0, -0.6943942205239146, 0.0728891211388147, -0.022878151660434692\n",
            "mid: 678\n"
          ]
        },
        {
          "name": "stderr",
          "output_type": "stream",
          "text": [
            "C:\\Users\\boomt\\AppData\\Local\\Programs\\Python\\Python38\\lib\\site-packages\\sklearn\\base.py:445: UserWarning: X does not have valid feature names, but DecisionTreeClassifier was fitted with feature names\n",
            "  warnings.warn(\n",
            "C:\\Users\\boomt\\AppData\\Local\\Programs\\Python\\Python38\\lib\\site-packages\\sklearn\\base.py:445: UserWarning: X does not have valid feature names, but DecisionTreeClassifier was fitted with feature names\n",
            "  warnings.warn(\n"
          ]
        },
        {
          "name": "stdout",
          "output_type": "stream",
          "text": [
            "-0.5114288330078125, 0.3561248779296875, -0.28131103515625, 1.1654000919670018, 2.0161117484664253, 0.24327204241157716\n",
            "mid: 679\n",
            "0.0, 0.0, 0.0, -0.36640755646913503, 0.1386002241915385, -0.219101724990236\n",
            "mid: 680\n"
          ]
        },
        {
          "name": "stderr",
          "output_type": "stream",
          "text": [
            "C:\\Users\\boomt\\AppData\\Local\\Programs\\Python\\Python38\\lib\\site-packages\\sklearn\\base.py:445: UserWarning: X does not have valid feature names, but DecisionTreeClassifier was fitted with feature names\n",
            "  warnings.warn(\n",
            "C:\\Users\\boomt\\AppData\\Local\\Programs\\Python\\Python38\\lib\\site-packages\\sklearn\\base.py:445: UserWarning: X does not have valid feature names, but DecisionTreeClassifier was fitted with feature names\n",
            "  warnings.warn(\n"
          ]
        },
        {
          "name": "stdout",
          "output_type": "stream",
          "text": [
            "0.5247039794921875, -0.2322845458984375, 0.255523681640625, -0.7553409283864869, -1.5936579668565727, -0.10927695637700335\n",
            "mid: 681\n",
            "-0.52520751953125, 0.1487579345703125, -0.3237762451171875, 0.21872808348929793, -0.18465027418064395, 0.1930669284897304\n",
            "mid: 682\n"
          ]
        },
        {
          "name": "stderr",
          "output_type": "stream",
          "text": [
            "C:\\Users\\boomt\\AppData\\Local\\Programs\\Python\\Python38\\lib\\site-packages\\sklearn\\base.py:445: UserWarning: X does not have valid feature names, but DecisionTreeClassifier was fitted with feature names\n",
            "  warnings.warn(\n",
            "C:\\Users\\boomt\\AppData\\Local\\Programs\\Python\\Python38\\lib\\site-packages\\sklearn\\base.py:445: UserWarning: X does not have valid feature names, but DecisionTreeClassifier was fitted with feature names\n",
            "  warnings.warn(\n"
          ]
        },
        {
          "name": "stdout",
          "output_type": "stream",
          "text": [
            "0.0255584716796875, -0.3264312744140625, 0.383941650390625, 0.8182405322764146, -0.01956544558048512, 0.12318797833103229\n",
            "mid: 683\n",
            "0.0, 0.0, 0.0, 1.52496412338296, 0.18584177245234546, 0.11055580633245943\n",
            "mid: 684\n"
          ]
        },
        {
          "name": "stderr",
          "output_type": "stream",
          "text": [
            "C:\\Users\\boomt\\AppData\\Local\\Programs\\Python\\Python38\\lib\\site-packages\\sklearn\\base.py:445: UserWarning: X does not have valid feature names, but DecisionTreeClassifier was fitted with feature names\n",
            "  warnings.warn(\n",
            "C:\\Users\\boomt\\AppData\\Local\\Programs\\Python\\Python38\\lib\\site-packages\\sklearn\\base.py:445: UserWarning: X does not have valid feature names, but DecisionTreeClassifier was fitted with feature names\n",
            "  warnings.warn(\n"
          ]
        },
        {
          "name": "stdout",
          "output_type": "stream",
          "text": [
            "0.0576019287109375, 0.340118408203125, -0.28955078125, -2.1821968603720183, 0.06247802548936787, -0.5070581483839258\n",
            "mid: 685\n",
            "0.300079345703125, 0.1714935302734375, 0.436798095703125, 0.2012777204465538, 0.29055726651426106, 0.15863172296278785\n",
            "mid: 686\n"
          ]
        },
        {
          "name": "stderr",
          "output_type": "stream",
          "text": [
            "C:\\Users\\boomt\\AppData\\Local\\Programs\\Python\\Python38\\lib\\site-packages\\sklearn\\base.py:445: UserWarning: X does not have valid feature names, but DecisionTreeClassifier was fitted with feature names\n",
            "  warnings.warn(\n",
            "C:\\Users\\boomt\\AppData\\Local\\Programs\\Python\\Python38\\lib\\site-packages\\sklearn\\base.py:445: UserWarning: X does not have valid feature names, but DecisionTreeClassifier was fitted with feature names\n",
            "  warnings.warn(\n"
          ]
        },
        {
          "name": "stdout",
          "output_type": "stream",
          "text": [
            "-0.394744873046875, -0.0691680908203125, -0.4237213134765625, -0.15828178359555145, -0.33697589799823313, 1.1140351713904253\n",
            "mid: 687\n",
            "0.298583984375, -0.1970672607421875, -0.0958404541015625, -0.06893725639724613, -0.06899664488955493, -0.8188485319532796\n",
            "mid: 688\n"
          ]
        },
        {
          "name": "stderr",
          "output_type": "stream",
          "text": [
            "C:\\Users\\boomt\\AppData\\Local\\Programs\\Python\\Python38\\lib\\site-packages\\sklearn\\base.py:445: UserWarning: X does not have valid feature names, but DecisionTreeClassifier was fitted with feature names\n",
            "  warnings.warn(\n",
            "C:\\Users\\boomt\\AppData\\Local\\Programs\\Python\\Python38\\lib\\site-packages\\sklearn\\base.py:445: UserWarning: X does not have valid feature names, but DecisionTreeClassifier was fitted with feature names\n",
            "  warnings.warn(\n"
          ]
        },
        {
          "name": "stdout",
          "output_type": "stream",
          "text": [
            "0.125762939453125, -0.0771026611328125, 0.3458099365234375, -0.2193190389351865, -0.2626489361868847, -0.4380228876585647\n",
            "mid: 689\n",
            "0.0, 0.0, 0.0, 1.3237290135138475, 0.46545850689245194, 1.4969833550739335\n",
            "mid: 690\n"
          ]
        },
        {
          "name": "stderr",
          "output_type": "stream",
          "text": [
            "C:\\Users\\boomt\\AppData\\Local\\Programs\\Python\\Python38\\lib\\site-packages\\sklearn\\base.py:445: UserWarning: X does not have valid feature names, but DecisionTreeClassifier was fitted with feature names\n",
            "  warnings.warn(\n",
            "C:\\Users\\boomt\\AppData\\Local\\Programs\\Python\\Python38\\lib\\site-packages\\sklearn\\base.py:445: UserWarning: X does not have valid feature names, but DecisionTreeClassifier was fitted with feature names\n",
            "  warnings.warn(\n"
          ]
        },
        {
          "name": "stdout",
          "output_type": "stream",
          "text": [
            "-0.131439208984375, 0.1691436767578125, -0.2417755126953125, -1.0732083792472926, -0.6950365749788416, -1.501093411584253\n",
            "mid: 691\n",
            "0.0072784423828125, -0.064239501953125, 0.002288818359375, -0.08736872798557554, 0.02183179566814257, 0.16325736746014646\n",
            "mid: 692\n"
          ]
        },
        {
          "name": "stderr",
          "output_type": "stream",
          "text": [
            "C:\\Users\\boomt\\AppData\\Local\\Programs\\Python\\Python38\\lib\\site-packages\\sklearn\\base.py:445: UserWarning: X does not have valid feature names, but DecisionTreeClassifier was fitted with feature names\n",
            "  warnings.warn(\n",
            "C:\\Users\\boomt\\AppData\\Local\\Programs\\Python\\Python38\\lib\\site-packages\\sklearn\\base.py:445: UserWarning: X does not have valid feature names, but DecisionTreeClassifier was fitted with feature names\n",
            "  warnings.warn(\n"
          ]
        },
        {
          "name": "stdout",
          "output_type": "stream",
          "text": [
            "0.0579071044921875, -0.0131378173828125, 0.0706634521484375, -0.32863727430908607, 0.2521685983490959, 0.5074991678604428\n",
            "mid: 693\n",
            "0.0, 0.0, 0.0, -0.0018341190427375725, -0.17680859635090568, -0.38200835413481904\n",
            "mid: 694\n"
          ]
        },
        {
          "name": "stderr",
          "output_type": "stream",
          "text": [
            "C:\\Users\\boomt\\AppData\\Local\\Programs\\Python\\Python38\\lib\\site-packages\\sklearn\\base.py:445: UserWarning: X does not have valid feature names, but DecisionTreeClassifier was fitted with feature names\n",
            "  warnings.warn(\n",
            "C:\\Users\\boomt\\AppData\\Local\\Programs\\Python\\Python38\\lib\\site-packages\\sklearn\\base.py:445: UserWarning: X does not have valid feature names, but DecisionTreeClassifier was fitted with feature names\n",
            "  warnings.warn(\n"
          ]
        },
        {
          "name": "stdout",
          "output_type": "stream",
          "text": [
            "-0.0434417724609375, 0.1107330322265625, 0.1397857666015625, 0.9773524231837436, 0.27548910106659275, 0.30726061287123807\n",
            "mid: 695\n",
            "-0.04736328125, -0.05609130859375, -0.05303955078125, 2.463979543726686, 0.22890109253729157, 0.8223114403187095\n",
            "mid: 696\n"
          ]
        },
        {
          "name": "stderr",
          "output_type": "stream",
          "text": [
            "C:\\Users\\boomt\\AppData\\Local\\Programs\\Python\\Python38\\lib\\site-packages\\sklearn\\base.py:445: UserWarning: X does not have valid feature names, but DecisionTreeClassifier was fitted with feature names\n",
            "  warnings.warn(\n",
            "C:\\Users\\boomt\\AppData\\Local\\Programs\\Python\\Python38\\lib\\site-packages\\sklearn\\base.py:445: UserWarning: X does not have valid feature names, but DecisionTreeClassifier was fitted with feature names\n",
            "  warnings.warn(\n"
          ]
        },
        {
          "name": "stdout",
          "output_type": "stream",
          "text": [
            "-0.246551513671875, 0.26495361328125, 0.384552001953125, -1.4129401163415398, -0.5750236172994019, -0.7789594388299637\n",
            "mid: 697\n",
            "-0.0322418212890625, -0.3105621337890625, -0.61279296875, -0.45204336553339575, 0.41061576424834123, -0.16609390033718985\n",
            "mid: 698\n"
          ]
        },
        {
          "name": "stderr",
          "output_type": "stream",
          "text": [
            "C:\\Users\\boomt\\AppData\\Local\\Programs\\Python\\Python38\\lib\\site-packages\\sklearn\\base.py:445: UserWarning: X does not have valid feature names, but DecisionTreeClassifier was fitted with feature names\n",
            "  warnings.warn(\n",
            "C:\\Users\\boomt\\AppData\\Local\\Programs\\Python\\Python38\\lib\\site-packages\\sklearn\\base.py:445: UserWarning: X does not have valid feature names, but DecisionTreeClassifier was fitted with feature names\n",
            "  warnings.warn(\n"
          ]
        },
        {
          "name": "stdout",
          "output_type": "stream",
          "text": [
            "0.06195068359375, 0.1456146240234375, 0.280609130859375, -1.088646191454264, 0.17733164118899725, -0.008900018046935854\n",
            "mid: 699\n",
            "0.0, 0.0, 0.0, -0.12555020221793256, -0.5940543001329992, -0.30717645698079155\n",
            "mid: 700\n"
          ]
        },
        {
          "name": "stderr",
          "output_type": "stream",
          "text": [
            "C:\\Users\\boomt\\AppData\\Local\\Programs\\Python\\Python38\\lib\\site-packages\\sklearn\\base.py:445: UserWarning: X does not have valid feature names, but DecisionTreeClassifier was fitted with feature names\n",
            "  warnings.warn(\n",
            "C:\\Users\\boomt\\AppData\\Local\\Programs\\Python\\Python38\\lib\\site-packages\\sklearn\\base.py:445: UserWarning: X does not have valid feature names, but DecisionTreeClassifier was fitted with feature names\n",
            "  warnings.warn(\n"
          ]
        },
        {
          "name": "stdout",
          "output_type": "stream",
          "text": [
            "0.0890655517578125, -0.0849609375, -0.3279571533203125, -0.45105719698173946, 0.03430284642076563, -0.048112934569480514\n",
            "mid: 701\n",
            "0.0968017578125, -0.0167999267578125, 0.0470428466796875, -0.006367618166379458, -0.03127776173854463, -0.14530686276468538\n",
            "mid: 702\n"
          ]
        },
        {
          "name": "stderr",
          "output_type": "stream",
          "text": [
            "C:\\Users\\boomt\\AppData\\Local\\Programs\\Python\\Python38\\lib\\site-packages\\sklearn\\base.py:445: UserWarning: X does not have valid feature names, but DecisionTreeClassifier was fitted with feature names\n",
            "  warnings.warn(\n",
            "C:\\Users\\boomt\\AppData\\Local\\Programs\\Python\\Python38\\lib\\site-packages\\sklearn\\base.py:445: UserWarning: X does not have valid feature names, but DecisionTreeClassifier was fitted with feature names\n",
            "  warnings.warn(\n"
          ]
        },
        {
          "name": "stdout",
          "output_type": "stream",
          "text": [
            "0.43701171875, -0.33154296875, 0.115020751953125, 0.5270920440001559, 0.44451034807399775, 0.15668495220593992\n",
            "mid: 703\n",
            "0.0, 0.0, 0.0, -0.0038911446687148743, 0.8904753147353968, -0.05505073552524595\n",
            "mid: 704\n"
          ]
        },
        {
          "name": "stderr",
          "output_type": "stream",
          "text": [
            "C:\\Users\\boomt\\AppData\\Local\\Programs\\Python\\Python38\\lib\\site-packages\\sklearn\\base.py:445: UserWarning: X does not have valid feature names, but DecisionTreeClassifier was fitted with feature names\n",
            "  warnings.warn(\n",
            "C:\\Users\\boomt\\AppData\\Local\\Programs\\Python\\Python38\\lib\\site-packages\\sklearn\\base.py:445: UserWarning: X does not have valid feature names, but DecisionTreeClassifier was fitted with feature names\n",
            "  warnings.warn(\n"
          ]
        },
        {
          "name": "stdout",
          "output_type": "stream",
          "text": [
            "0.0196685791015625, -0.22198486328125, 0.1443023681640625, 0.43557224682347384, 2.601600523585402, 2.3962441719293923\n",
            "mid: 705\n",
            "0.0777435302734375, -0.102996826171875, 0.115875244140625, 0.7249601193030811, -0.5236533704006452, -1.8476620158289512\n",
            "mid: 706\n"
          ]
        },
        {
          "name": "stderr",
          "output_type": "stream",
          "text": [
            "C:\\Users\\boomt\\AppData\\Local\\Programs\\Python\\Python38\\lib\\site-packages\\sklearn\\base.py:445: UserWarning: X does not have valid feature names, but DecisionTreeClassifier was fitted with feature names\n",
            "  warnings.warn(\n",
            "C:\\Users\\boomt\\AppData\\Local\\Programs\\Python\\Python38\\lib\\site-packages\\sklearn\\base.py:445: UserWarning: X does not have valid feature names, but DecisionTreeClassifier was fitted with feature names\n",
            "  warnings.warn(\n"
          ]
        },
        {
          "name": "stdout",
          "output_type": "stream",
          "text": [
            "0.1097412109375, -0.20257568359375, -0.2180023193359375, -1.1637340183890483, -2.9472466088284976, -0.4795966964874646\n",
            "mid: 707\n",
            "-0.1689605712890625, 0.3111724853515625, -0.0551910400390625, 0.5284963288429546, -0.198700845775793, -0.18749479654095763\n",
            "mid: 708\n"
          ]
        },
        {
          "name": "stderr",
          "output_type": "stream",
          "text": [
            "C:\\Users\\boomt\\AppData\\Local\\Programs\\Python\\Python38\\lib\\site-packages\\sklearn\\base.py:445: UserWarning: X does not have valid feature names, but DecisionTreeClassifier was fitted with feature names\n",
            "  warnings.warn(\n",
            "C:\\Users\\boomt\\AppData\\Local\\Programs\\Python\\Python38\\lib\\site-packages\\sklearn\\base.py:445: UserWarning: X does not have valid feature names, but DecisionTreeClassifier was fitted with feature names\n",
            "  warnings.warn(\n"
          ]
        },
        {
          "name": "stdout",
          "output_type": "stream",
          "text": [
            "-0.2292938232421875, 0.207061767578125, 0.0361480712890625, -0.47642593689361634, -0.13978799403771416, 1.1590228864206977\n",
            "mid: 709\n",
            "0.0, 0.0, 0.0, -0.1368334831243802, 0.04485695382074964, -0.7624909832811316\n",
            "mid: 710\n"
          ]
        },
        {
          "name": "stderr",
          "output_type": "stream",
          "text": [
            "C:\\Users\\boomt\\AppData\\Local\\Programs\\Python\\Python38\\lib\\site-packages\\sklearn\\base.py:445: UserWarning: X does not have valid feature names, but DecisionTreeClassifier was fitted with feature names\n",
            "  warnings.warn(\n",
            "C:\\Users\\boomt\\AppData\\Local\\Programs\\Python\\Python38\\lib\\site-packages\\sklearn\\base.py:445: UserWarning: X does not have valid feature names, but DecisionTreeClassifier was fitted with feature names\n",
            "  warnings.warn(\n"
          ]
        },
        {
          "name": "stdout",
          "output_type": "stream",
          "text": [
            "-0.3304443359375, 0.0405426025390625, 0.8351593017578125, 0.751806647303843, 0.06605065609170924, -0.11055207790693328\n",
            "mid: 711\n",
            "0.02294921875, -0.5159912109375, -0.2661590576171875, -0.5302984899526113, 0.008734635743241903, -0.2956423062996584\n",
            "mid: 712\n"
          ]
        },
        {
          "name": "stderr",
          "output_type": "stream",
          "text": [
            "C:\\Users\\boomt\\AppData\\Local\\Programs\\Python\\Python38\\lib\\site-packages\\sklearn\\base.py:445: UserWarning: X does not have valid feature names, but DecisionTreeClassifier was fitted with feature names\n",
            "  warnings.warn(\n",
            "C:\\Users\\boomt\\AppData\\Local\\Programs\\Python\\Python38\\lib\\site-packages\\sklearn\\base.py:445: UserWarning: X does not have valid feature names, but DecisionTreeClassifier was fitted with feature names\n",
            "  warnings.warn(\n"
          ]
        },
        {
          "name": "stdout",
          "output_type": "stream",
          "text": [
            "-0.0872039794921875, -0.0252838134765625, 0.12835693359375, -0.15882986214788974, 0.972390155124599, 0.6285036204137192\n",
            "mid: 713\n",
            "0.0, 0.0, 0.0, -0.2531664848095485, -0.40260257884440187, 0.13796159816213782\n",
            "mid: 714\n"
          ]
        },
        {
          "name": "stderr",
          "output_type": "stream",
          "text": [
            "C:\\Users\\boomt\\AppData\\Local\\Programs\\Python\\Python38\\lib\\site-packages\\sklearn\\base.py:445: UserWarning: X does not have valid feature names, but DecisionTreeClassifier was fitted with feature names\n",
            "  warnings.warn(\n",
            "C:\\Users\\boomt\\AppData\\Local\\Programs\\Python\\Python38\\lib\\site-packages\\sklearn\\base.py:445: UserWarning: X does not have valid feature names, but DecisionTreeClassifier was fitted with feature names\n",
            "  warnings.warn(\n"
          ]
        },
        {
          "name": "stdout",
          "output_type": "stream",
          "text": [
            "0.890533447265625, -0.067108154296875, -0.6533966064453125, -0.15183533586090564, -0.8215268730615723, -0.5147988924083501\n",
            "mid: 715\n",
            "0.0, 0.0, 0.0, 0.12072854906434409, 0.45198477598941406, 0.5076182111611695\n",
            "mid: 716\n"
          ]
        },
        {
          "name": "stderr",
          "output_type": "stream",
          "text": [
            "C:\\Users\\boomt\\AppData\\Local\\Programs\\Python\\Python38\\lib\\site-packages\\sklearn\\base.py:445: UserWarning: X does not have valid feature names, but DecisionTreeClassifier was fitted with feature names\n",
            "  warnings.warn(\n",
            "C:\\Users\\boomt\\AppData\\Local\\Programs\\Python\\Python38\\lib\\site-packages\\sklearn\\base.py:445: UserWarning: X does not have valid feature names, but DecisionTreeClassifier was fitted with feature names\n",
            "  warnings.warn(\n"
          ]
        },
        {
          "name": "stdout",
          "output_type": "stream",
          "text": [
            "0.1529083251953125, 0.210205078125, -0.1684722900390625, -0.1222449529890352, -0.14917190845471734, -0.5295235100753982\n",
            "mid: 717\n",
            "-0.151397705078125, -0.152252197265625, -0.0541839599609375, 0.2162191194263343, -0.3701967020680996, -0.15287583289879958\n",
            "mid: 718\n"
          ]
        },
        {
          "name": "stderr",
          "output_type": "stream",
          "text": [
            "C:\\Users\\boomt\\AppData\\Local\\Programs\\Python\\Python38\\lib\\site-packages\\sklearn\\base.py:445: UserWarning: X does not have valid feature names, but DecisionTreeClassifier was fitted with feature names\n",
            "  warnings.warn(\n",
            "C:\\Users\\boomt\\AppData\\Local\\Programs\\Python\\Python38\\lib\\site-packages\\sklearn\\base.py:445: UserWarning: X does not have valid feature names, but DecisionTreeClassifier was fitted with feature names\n",
            "  warnings.warn(\n"
          ]
        },
        {
          "name": "stdout",
          "output_type": "stream",
          "text": [
            "-0.0260009765625, -0.0363922119140625, 0.034912109375, -0.29994304514402736, 0.13833364176642188, -0.09255123946686972\n",
            "mid: 719\n",
            "0.0, 0.0, 0.0, 0.0036956686447029586, -0.16975627946826682, 0.0398712499440123\n",
            "mid: 720\n"
          ]
        },
        {
          "name": "stderr",
          "output_type": "stream",
          "text": [
            "C:\\Users\\boomt\\AppData\\Local\\Programs\\Python\\Python38\\lib\\site-packages\\sklearn\\base.py:445: UserWarning: X does not have valid feature names, but DecisionTreeClassifier was fitted with feature names\n",
            "  warnings.warn(\n",
            "C:\\Users\\boomt\\AppData\\Local\\Programs\\Python\\Python38\\lib\\site-packages\\sklearn\\base.py:445: UserWarning: X does not have valid feature names, but DecisionTreeClassifier was fitted with feature names\n",
            "  warnings.warn(\n"
          ]
        },
        {
          "name": "stdout",
          "output_type": "stream",
          "text": [
            "0.0019073486328125, 0.0323486328125, 0.0110626220703125, -0.0062025021787945455, 0.03690901586351717, -0.03301600698203934\n",
            "mid: 721\n",
            "-0.004638671875, -0.0005645751953125, 0.014923095703125, 0.018100440664832552, -0.006316485473449936, 0.001900431753880544\n",
            "mid: 722\n"
          ]
        },
        {
          "name": "stderr",
          "output_type": "stream",
          "text": [
            "C:\\Users\\boomt\\AppData\\Local\\Programs\\Python\\Python38\\lib\\site-packages\\sklearn\\base.py:445: UserWarning: X does not have valid feature names, but DecisionTreeClassifier was fitted with feature names\n",
            "  warnings.warn(\n",
            "C:\\Users\\boomt\\AppData\\Local\\Programs\\Python\\Python38\\lib\\site-packages\\sklearn\\base.py:445: UserWarning: X does not have valid feature names, but DecisionTreeClassifier was fitted with feature names\n",
            "  warnings.warn(\n"
          ]
        },
        {
          "name": "stdout",
          "output_type": "stream",
          "text": [
            "-3.0517578125e-05, -0.0208282470703125, 0.01129150390625, -0.0140689474066706, -0.0021140172733049023, -0.006238188537401607\n",
            "mid: 723\n",
            "0.0, 0.0, 0.0, 0.003363039824552062, -0.01283111013200177, 0.004315386230364398\n",
            "mid: 724\n"
          ]
        },
        {
          "name": "stderr",
          "output_type": "stream",
          "text": [
            "C:\\Users\\boomt\\AppData\\Local\\Programs\\Python\\Python38\\lib\\site-packages\\sklearn\\base.py:445: UserWarning: X does not have valid feature names, but DecisionTreeClassifier was fitted with feature names\n",
            "  warnings.warn(\n",
            "C:\\Users\\boomt\\AppData\\Local\\Programs\\Python\\Python38\\lib\\site-packages\\sklearn\\base.py:445: UserWarning: X does not have valid feature names, but DecisionTreeClassifier was fitted with feature names\n",
            "  warnings.warn(\n"
          ]
        },
        {
          "name": "stdout",
          "output_type": "stream",
          "text": [
            "0.01934814453125, 0.0401763916015625, 0.0802459716796875, 0.749392225459577, 1.2759729425304376, 0.36909521864124284\n",
            "mid: 725\n",
            "0.0, 0.0, 0.0, -0.23460398569558727, -0.027840686035688567, -0.1652954846423841\n",
            "mid: 726\n"
          ]
        },
        {
          "name": "stderr",
          "output_type": "stream",
          "text": [
            "C:\\Users\\boomt\\AppData\\Local\\Programs\\Python\\Python38\\lib\\site-packages\\sklearn\\base.py:445: UserWarning: X does not have valid feature names, but DecisionTreeClassifier was fitted with feature names\n",
            "  warnings.warn(\n",
            "C:\\Users\\boomt\\AppData\\Local\\Programs\\Python\\Python38\\lib\\site-packages\\sklearn\\base.py:445: UserWarning: X does not have valid feature names, but DecisionTreeClassifier was fitted with feature names\n",
            "  warnings.warn(\n"
          ]
        },
        {
          "name": "stdout",
          "output_type": "stream",
          "text": [
            "0.1883392333984375, 0.132232666015625, 0.047027587890625, -0.20571960682869683, -1.0116592643461442, 0.2820766963390128\n",
            "mid: 727\n",
            "-0.2376556396484375, -0.078643798828125, 0.1676177978515625, -0.3205103719266003, 0.03717053828256295, -0.36263492246892864\n",
            "mid: 728\n"
          ]
        },
        {
          "name": "stderr",
          "output_type": "stream",
          "text": [
            "C:\\Users\\boomt\\AppData\\Local\\Programs\\Python\\Python38\\lib\\site-packages\\sklearn\\base.py:445: UserWarning: X does not have valid feature names, but DecisionTreeClassifier was fitted with feature names\n",
            "  warnings.warn(\n",
            "C:\\Users\\boomt\\AppData\\Local\\Programs\\Python\\Python38\\lib\\site-packages\\sklearn\\base.py:445: UserWarning: X does not have valid feature names, but DecisionTreeClassifier was fitted with feature names\n",
            "  warnings.warn(\n"
          ]
        },
        {
          "name": "stdout",
          "output_type": "stream",
          "text": [
            "-0.128143310546875, 0.0041046142578125, 0.0552978515625, 1.664409102272272, 0.9690761174641043, 0.9715411393690817\n",
            "mid: 729\n",
            "0.0, 0.0, 0.0, -1.041156436579862, -0.5763879547258495, -0.927928414409617\n",
            "mid: 730\n"
          ]
        },
        {
          "name": "stderr",
          "output_type": "stream",
          "text": [
            "C:\\Users\\boomt\\AppData\\Local\\Programs\\Python\\Python38\\lib\\site-packages\\sklearn\\base.py:445: UserWarning: X does not have valid feature names, but DecisionTreeClassifier was fitted with feature names\n",
            "  warnings.warn(\n",
            "C:\\Users\\boomt\\AppData\\Local\\Programs\\Python\\Python38\\lib\\site-packages\\sklearn\\base.py:445: UserWarning: X does not have valid feature names, but DecisionTreeClassifier was fitted with feature names\n",
            "  warnings.warn(\n"
          ]
        },
        {
          "name": "stdout",
          "output_type": "stream",
          "text": [
            "0.1322021484375, -0.0189056396484375, -0.2064361572265625, -0.49713254700120046, -0.07594323427691752, 0.06559578817752368\n",
            "mid: 731\n",
            "-0.1122589111328125, -0.010345458984375, 0.01220703125, 0.4793080098253001, 2.5382585686384127, 0.8489483775416822\n",
            "mid: 732\n"
          ]
        },
        {
          "name": "stderr",
          "output_type": "stream",
          "text": [
            "C:\\Users\\boomt\\AppData\\Local\\Programs\\Python\\Python38\\lib\\site-packages\\sklearn\\base.py:445: UserWarning: X does not have valid feature names, but DecisionTreeClassifier was fitted with feature names\n",
            "  warnings.warn(\n",
            "C:\\Users\\boomt\\AppData\\Local\\Programs\\Python\\Python38\\lib\\site-packages\\sklearn\\base.py:445: UserWarning: X does not have valid feature names, but DecisionTreeClassifier was fitted with feature names\n",
            "  warnings.warn(\n"
          ]
        },
        {
          "name": "stdout",
          "output_type": "stream",
          "text": [
            "-0.796722412109375, -0.0227813720703125, 0.88592529296875, -0.5846296393513177, -3.102656173188399, -0.6776541225438946\n",
            "mid: 733\n",
            "0.0, 0.0, 0.0, 0.04913132737032683, 2.715879961754011, -0.15427319352276414\n",
            "mid: 734\n"
          ]
        },
        {
          "name": "stderr",
          "output_type": "stream",
          "text": [
            "C:\\Users\\boomt\\AppData\\Local\\Programs\\Python\\Python38\\lib\\site-packages\\sklearn\\base.py:445: UserWarning: X does not have valid feature names, but DecisionTreeClassifier was fitted with feature names\n",
            "  warnings.warn(\n",
            "C:\\Users\\boomt\\AppData\\Local\\Programs\\Python\\Python38\\lib\\site-packages\\sklearn\\base.py:445: UserWarning: X does not have valid feature names, but DecisionTreeClassifier was fitted with feature names\n",
            "  warnings.warn(\n"
          ]
        },
        {
          "name": "stdout",
          "output_type": "stream",
          "text": [
            "0.99432373046875, -0.0623321533203125, -0.8578033447265625, 0.29164889624508455, -1.1491984851593955, -0.10969587161647285\n",
            "mid: 735\n",
            "0.0, 0.0, 0.0, 0.4369895811556139, 0.3056094529953888, 0.3050885386861695\n",
            "mid: 736\n"
          ]
        },
        {
          "name": "stderr",
          "output_type": "stream",
          "text": [
            "C:\\Users\\boomt\\AppData\\Local\\Programs\\Python\\Python38\\lib\\site-packages\\sklearn\\base.py:445: UserWarning: X does not have valid feature names, but DecisionTreeClassifier was fitted with feature names\n",
            "  warnings.warn(\n",
            "C:\\Users\\boomt\\AppData\\Local\\Programs\\Python\\Python38\\lib\\site-packages\\sklearn\\base.py:445: UserWarning: X does not have valid feature names, but DecisionTreeClassifier was fitted with feature names\n",
            "  warnings.warn(\n"
          ]
        },
        {
          "name": "stdout",
          "output_type": "stream",
          "text": [
            "-0.0577850341796875, 0.07293701171875, -0.2075042724609375, 0.5237353957622198, -1.5718922175834642, -0.015713449379794575\n",
            "mid: 737\n",
            "-0.1068267822265625, 0.266204833984375, 0.4348602294921875, -1.3052908840227928, -0.2455306693320734, -0.41772107803667263\n",
            "mid: 738\n"
          ]
        },
        {
          "name": "stderr",
          "output_type": "stream",
          "text": [
            "C:\\Users\\boomt\\AppData\\Local\\Programs\\Python\\Python38\\lib\\site-packages\\sklearn\\base.py:445: UserWarning: X does not have valid feature names, but DecisionTreeClassifier was fitted with feature names\n",
            "  warnings.warn(\n",
            "C:\\Users\\boomt\\AppData\\Local\\Programs\\Python\\Python38\\lib\\site-packages\\sklearn\\base.py:445: UserWarning: X does not have valid feature names, but DecisionTreeClassifier was fitted with feature names\n",
            "  warnings.warn(\n"
          ]
        },
        {
          "name": "stdout",
          "output_type": "stream",
          "text": [
            "-0.2285919189453125, 0.2186431884765625, -0.3290863037109375, 0.4443676026395695, 0.45792176100752774, 0.2343222232522569\n",
            "mid: 739\n",
            "0.0, 0.0, 0.0, -0.03137736396331359, -0.26662397042993696, -0.1792690908820299\n",
            "mid: 740\n"
          ]
        },
        {
          "name": "stderr",
          "output_type": "stream",
          "text": [
            "C:\\Users\\boomt\\AppData\\Local\\Programs\\Python\\Python38\\lib\\site-packages\\sklearn\\base.py:445: UserWarning: X does not have valid feature names, but DecisionTreeClassifier was fitted with feature names\n",
            "  warnings.warn(\n",
            "C:\\Users\\boomt\\AppData\\Local\\Programs\\Python\\Python38\\lib\\site-packages\\sklearn\\base.py:445: UserWarning: X does not have valid feature names, but DecisionTreeClassifier was fitted with feature names\n",
            "  warnings.warn(\n"
          ]
        },
        {
          "name": "stdout",
          "output_type": "stream",
          "text": [
            "0.25439453125, -0.339569091796875, -0.05279541015625, -0.33925609652355904, -0.18373707624285582, 0.2790500137601377\n",
            "mid: 741\n",
            "0.080596923828125, -0.1570587158203125, 0.0850067138671875, -0.08933946719223415, 0.16189516056257094, -0.24045681482325443\n",
            "mid: 742\n"
          ]
        },
        {
          "name": "stderr",
          "output_type": "stream",
          "text": [
            "C:\\Users\\boomt\\AppData\\Local\\Programs\\Python\\Python38\\lib\\site-packages\\sklearn\\base.py:445: UserWarning: X does not have valid feature names, but DecisionTreeClassifier was fitted with feature names\n",
            "  warnings.warn(\n",
            "C:\\Users\\boomt\\AppData\\Local\\Programs\\Python\\Python38\\lib\\site-packages\\sklearn\\base.py:445: UserWarning: X does not have valid feature names, but DecisionTreeClassifier was fitted with feature names\n",
            "  warnings.warn(\n"
          ]
        },
        {
          "name": "stdout",
          "output_type": "stream",
          "text": [
            "-0.0110321044921875, -0.0057373046875, -0.0062103271484375, 0.24237216027923938, -0.19409624025104605, -0.032117456430246605\n",
            "mid: 743\n",
            "0.0180511474609375, -0.04644775390625, -0.155120849609375, -0.2038897488437034, 0.011802863635122188, -0.04840641492160726\n",
            "mid: 744\n"
          ]
        },
        {
          "name": "stderr",
          "output_type": "stream",
          "text": [
            "C:\\Users\\boomt\\AppData\\Local\\Programs\\Python\\Python38\\lib\\site-packages\\sklearn\\base.py:445: UserWarning: X does not have valid feature names, but DecisionTreeClassifier was fitted with feature names\n",
            "  warnings.warn(\n",
            "C:\\Users\\boomt\\AppData\\Local\\Programs\\Python\\Python38\\lib\\site-packages\\sklearn\\base.py:445: UserWarning: X does not have valid feature names, but DecisionTreeClassifier was fitted with feature names\n",
            "  warnings.warn(\n"
          ]
        },
        {
          "name": "stdout",
          "output_type": "stream",
          "text": [
            "-0.0021514892578125, -0.0211334228515625, 0.0037078857421875, 0.21546624378616888, 0.30400463212250717, 0.12685808062927045\n",
            "mid: 745\n",
            "0.0, 0.0, 0.0, -0.14266687117608984, -0.05222911635030697, -0.09025373039445835\n",
            "mid: 746\n"
          ]
        },
        {
          "name": "stderr",
          "output_type": "stream",
          "text": [
            "C:\\Users\\boomt\\AppData\\Local\\Programs\\Python\\Python38\\lib\\site-packages\\sklearn\\base.py:445: UserWarning: X does not have valid feature names, but DecisionTreeClassifier was fitted with feature names\n",
            "  warnings.warn(\n",
            "C:\\Users\\boomt\\AppData\\Local\\Programs\\Python\\Python38\\lib\\site-packages\\sklearn\\base.py:445: UserWarning: X does not have valid feature names, but DecisionTreeClassifier was fitted with feature names\n",
            "  warnings.warn(\n"
          ]
        },
        {
          "name": "stdout",
          "output_type": "stream",
          "text": [
            "-0.2076873779296875, -0.0203094482421875, 0.7235107421875, 0.1665391808714511, 0.2716189953704896, 0.16887530577966864\n",
            "mid: 747\n",
            "-0.3161163330078125, 0.3114471435546875, 0.059967041015625, 0.2463328134524052, -3.9414784133162684e-05, 0.4501477274694775\n",
            "mid: 748\n"
          ]
        },
        {
          "name": "stderr",
          "output_type": "stream",
          "text": [
            "C:\\Users\\boomt\\AppData\\Local\\Programs\\Python\\Python38\\lib\\site-packages\\sklearn\\base.py:445: UserWarning: X does not have valid feature names, but DecisionTreeClassifier was fitted with feature names\n",
            "  warnings.warn(\n",
            "C:\\Users\\boomt\\AppData\\Local\\Programs\\Python\\Python38\\lib\\site-packages\\sklearn\\base.py:445: UserWarning: X does not have valid feature names, but DecisionTreeClassifier was fitted with feature names\n",
            "  warnings.warn(\n"
          ]
        },
        {
          "name": "stdout",
          "output_type": "stream",
          "text": [
            "-0.266143798828125, -0.1287994384765625, 0.1937408447265625, -0.3406374781809831, -0.1522643711125174, -0.4000320957602574\n",
            "mid: 749\n",
            "0.0, 0.0, 0.0, -0.02431545970075047, -0.32685695112036817, 0.00014780544049941557\n",
            "mid: 750\n"
          ]
        },
        {
          "name": "stderr",
          "output_type": "stream",
          "text": [
            "C:\\Users\\boomt\\AppData\\Local\\Programs\\Python\\Python38\\lib\\site-packages\\sklearn\\base.py:445: UserWarning: X does not have valid feature names, but DecisionTreeClassifier was fitted with feature names\n",
            "  warnings.warn(\n",
            "C:\\Users\\boomt\\AppData\\Local\\Programs\\Python\\Python38\\lib\\site-packages\\sklearn\\base.py:445: UserWarning: X does not have valid feature names, but DecisionTreeClassifier was fitted with feature names\n",
            "  warnings.warn(\n"
          ]
        },
        {
          "name": "stdout",
          "output_type": "stream",
          "text": [
            "-0.01397705078125, 0.382781982421875, -0.2260894775390625, 0.03181492133041361, 0.135076595753255, 0.07302973604437085\n",
            "mid: 751\n",
            "0.1319427490234375, -0.1313629150390625, 0.0507659912109375, 0.03321494511546824, -0.07431444495422512, -0.004075169100039244\n",
            "mid: 752\n"
          ]
        },
        {
          "name": "stderr",
          "output_type": "stream",
          "text": [
            "C:\\Users\\boomt\\AppData\\Local\\Programs\\Python\\Python38\\lib\\site-packages\\sklearn\\base.py:445: UserWarning: X does not have valid feature names, but DecisionTreeClassifier was fitted with feature names\n",
            "  warnings.warn(\n",
            "C:\\Users\\boomt\\AppData\\Local\\Programs\\Python\\Python38\\lib\\site-packages\\sklearn\\base.py:445: UserWarning: X does not have valid feature names, but DecisionTreeClassifier was fitted with feature names\n",
            "  warnings.warn(\n"
          ]
        },
        {
          "name": "stdout",
          "output_type": "stream",
          "text": [
            "0.0450439453125, -0.0923919677734375, 0.076171875, 0.1552242083480315, 0.12373632319947958, -0.09650550105341937\n",
            "mid: 753\n",
            "-0.129241943359375, 0.0643310546875, 0.008636474609375, -0.18425399581044022, 0.40978432535601844, -0.1626738688653101\n",
            "mid: 754\n"
          ]
        },
        {
          "name": "stderr",
          "output_type": "stream",
          "text": [
            "C:\\Users\\boomt\\AppData\\Local\\Programs\\Python\\Python38\\lib\\site-packages\\sklearn\\base.py:445: UserWarning: X does not have valid feature names, but DecisionTreeClassifier was fitted with feature names\n",
            "  warnings.warn(\n",
            "C:\\Users\\boomt\\AppData\\Local\\Programs\\Python\\Python38\\lib\\site-packages\\sklearn\\base.py:445: UserWarning: X does not have valid feature names, but DecisionTreeClassifier was fitted with feature names\n",
            "  warnings.warn(\n"
          ]
        },
        {
          "name": "stdout",
          "output_type": "stream",
          "text": [
            "-0.1922760009765625, -0.2759246826171875, 0.06982421875, -0.17218082132467497, -0.7201025134747765, 0.22266769768985217\n",
            "mid: 755\n",
            "0.0, 0.0, 0.0, 0.08070949367983238, -0.001282578380982162, -0.28102687823730355\n",
            "mid: 756\n"
          ]
        },
        {
          "name": "stderr",
          "output_type": "stream",
          "text": [
            "C:\\Users\\boomt\\AppData\\Local\\Programs\\Python\\Python38\\lib\\site-packages\\sklearn\\base.py:445: UserWarning: X does not have valid feature names, but DecisionTreeClassifier was fitted with feature names\n",
            "  warnings.warn(\n",
            "C:\\Users\\boomt\\AppData\\Local\\Programs\\Python\\Python38\\lib\\site-packages\\sklearn\\base.py:445: UserWarning: X does not have valid feature names, but DecisionTreeClassifier was fitted with feature names\n",
            "  warnings.warn(\n"
          ]
        },
        {
          "name": "stdout",
          "output_type": "stream",
          "text": [
            "0.1956634521484375, 0.3993682861328125, -0.09222412109375, -0.0908939543205134, 0.11935782005128032, 1.911580012519725\n",
            "mid: 757\n",
            "-0.1583404541015625, -0.4542388916015625, -0.0453948974609375, 0.284302033745883, 2.6975209281473314, 5.214941326520311\n",
            "mid: 758\n",
            "mid: 759\n"
          ]
        },
        {
          "name": "stderr",
          "output_type": "stream",
          "text": [
            "C:\\Users\\boomt\\AppData\\Local\\Programs\\Python\\Python38\\lib\\site-packages\\sklearn\\base.py:445: UserWarning: X does not have valid feature names, but DecisionTreeClassifier was fitted with feature names\n",
            "  warnings.warn(\n",
            "C:\\Users\\boomt\\AppData\\Local\\Programs\\Python\\Python38\\lib\\site-packages\\sklearn\\base.py:445: UserWarning: X does not have valid feature names, but DecisionTreeClassifier was fitted with feature names\n",
            "  warnings.warn(\n"
          ]
        },
        {
          "name": "stdout",
          "output_type": "stream",
          "text": [
            "0.1198577880859375, 0.06793212890625, 0.10382080078125, -0.01188542162891465, -2.6846847580092588, -6.919936737489281\n",
            "mid: 760\n",
            "0.0, 0.0, 0.0, 0.06081807718192156, 1.1193055671876921, -0.1597824748698111\n",
            "mid: 761\n"
          ]
        },
        {
          "name": "stderr",
          "output_type": "stream",
          "text": [
            "C:\\Users\\boomt\\AppData\\Local\\Programs\\Python\\Python38\\lib\\site-packages\\sklearn\\base.py:445: UserWarning: X does not have valid feature names, but DecisionTreeClassifier was fitted with feature names\n",
            "  warnings.warn(\n",
            "C:\\Users\\boomt\\AppData\\Local\\Programs\\Python\\Python38\\lib\\site-packages\\sklearn\\base.py:445: UserWarning: X does not have valid feature names, but DecisionTreeClassifier was fitted with feature names\n",
            "  warnings.warn(\n"
          ]
        },
        {
          "name": "stdout",
          "output_type": "stream",
          "text": [
            "0.00927734375, -0.0013275146484375, 0.0212554931640625, -0.16791150778116895, -0.16635622170456266, 0.1921830253239331\n",
            "mid: 762\n",
            "0.15435791015625, 0.050140380859375, -0.069305419921875, -0.12515818490547287, -0.9333444851185111, -0.26930231153822964\n",
            "mid: 763\n"
          ]
        }
      ],
      "source": [
        "mqttc = mqtt.Client()\n",
        "# Assign event callbacks\n",
        "mqttc.on_message = on_message\n",
        "mqttc.on_connect = on_connect\n",
        "mqttc.on_publish = on_publish\n",
        "mqttc.on_subscribe = on_subscribe\n",
        "\n",
        "\n",
        "# Connect\n",
        "mqttc.username_pw_set(\"watcharavit\", \"bm07739200\")\n",
        "mqttc.connect('qa18afea.ap-southeast-1.emqx.cloud', 15198)\n",
        " \n",
        "# Start subscribe, with QoS level 0\n",
        "mqttc.subscribe('sensorData', 0)\n",
        "\n",
        "# Continue the network loop, exit when an error occurs\n",
        "rc = 0\n",
        "while rc == 0:\n",
        "    rc = mqttc.loop()\n",
        "print(\"rc: \" + str(rc))"
      ]
    }
  ],
  "metadata": {
    "colab": {
      "collapsed_sections": [],
      "name": "RiverProcessing.ipynb",
      "provenance": []
    },
    "kernelspec": {
      "display_name": "Python 3",
      "name": "python3"
    },
    "language_info": {
      "codemirror_mode": {
        "name": "ipython",
        "version": 3
      },
      "file_extension": ".py",
      "mimetype": "text/x-python",
      "name": "python",
      "nbconvert_exporter": "python",
      "pygments_lexer": "ipython3",
      "version": "3.8.9"
    }
  },
  "nbformat": 4,
  "nbformat_minor": 0
}
